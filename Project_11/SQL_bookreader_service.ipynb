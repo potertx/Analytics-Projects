{
 "cells": [
  {
   "cell_type": "markdown",
   "metadata": {},
   "source": [
    "# SQL  проект сервиса для чтения книг"
   ]
  },
  {
   "cell_type": "markdown",
   "metadata": {},
   "source": [
    "Цель проекта - проанализировать базу данных сервиса для чтения книг с помощью создания SQL запросов."
   ]
  },
  {
   "cell_type": "markdown",
   "metadata": {},
   "source": [
    "Задачи проекта:\n",
    "\n",
    "- посчитать, сколько книг вышло после 1 января 2000 года\n",
    "- для каждой книги рассчитать количество обзоров и среднюю оценку\n",
    "- определить издательство, которое выпустило наибольшее число книг толще 50 страниц\n",
    "- определить автора с самой высокой средней оценкой книг\n",
    "- рассчитать среднее количество обзоров от пользователей, которые поставили больше 50 оценок."
   ]
  },
  {
   "cell_type": "markdown",
   "metadata": {},
   "source": [
    "#### Содержание проекта:\n",
    "\n",
    "1. [Изучение общей информации.](#Шаг-1.-Изучение-общей-информации.)\n",
    "2. Выясним, сколько книг вышло после 1 января 2000 года.\n",
    "3. Подсчитаем для каждой книги количество обзоров и среднюю оценку.\n",
    "4. Определим издательство, выпускающее больше всего книг толще 50 страниц.\n",
    "5. Определим автора с самой высокой средней оценкой книг.\n",
    "6. Подсчитаем среднее количество обзоров от пользователей, которые поставили больше 50 оценок.\n",
    "7. [Общий вывод](#Шаг-7.-Общий-вывод.)"
   ]
  },
  {
   "cell_type": "markdown",
   "metadata": {},
   "source": [
    "### Шаг 1. Изучение общей информации. "
   ]
  },
  {
   "cell_type": "code",
   "execution_count": 1,
   "metadata": {},
   "outputs": [],
   "source": [
    "# импортируем библиотеки\n",
    "import pandas as pd\n",
    "from sqlalchemy import create_engine"
   ]
  },
  {
   "cell_type": "code",
   "execution_count": 2,
   "metadata": {},
   "outputs": [],
   "source": [
    "# устанавливаем параметры\n",
    "db_config = {'user': 'praktikum_student', # имя пользователя\n",
    "             'pwd': 'Sdf4$2;d-d30pp', # пароль\n",
    "             'host': 'rc1b-wcoijxj3yxfsf3fs.mdb.yandexcloud.net',\n",
    "             'port': 6432, # порт подключения\n",
    "             'db': 'data-analyst-final-project-db'} # название базы данных\n",
    "connection_string = 'postgresql://{}:{}@{}:{}/{}'.format(db_config['user'],\n",
    "                     db_config['pwd'],\n",
    "                     db_config['host'],\n",
    "                     db_config['port'],\n",
    "                     db_config['db'])\n",
    "# сохраняем коннектор\n",
    "engine = create_engine(connection_string, connect_args={'sslmode':'require'}) "
   ]
  },
  {
   "cell_type": "markdown",
   "metadata": {},
   "source": [
    "Чтение данных и визуалиция таблиц"
   ]
  },
  {
   "cell_type": "code",
   "execution_count": 3,
   "metadata": {},
   "outputs": [
    {
     "data": {
      "text/html": [
       "<div>\n",
       "<style scoped>\n",
       "    .dataframe tbody tr th:only-of-type {\n",
       "        vertical-align: middle;\n",
       "    }\n",
       "\n",
       "    .dataframe tbody tr th {\n",
       "        vertical-align: top;\n",
       "    }\n",
       "\n",
       "    .dataframe thead th {\n",
       "        text-align: right;\n",
       "    }\n",
       "</style>\n",
       "<table border=\"1\" class=\"dataframe\">\n",
       "  <thead>\n",
       "    <tr style=\"text-align: right;\">\n",
       "      <th></th>\n",
       "      <th>book_id</th>\n",
       "      <th>author_id</th>\n",
       "      <th>title</th>\n",
       "      <th>num_pages</th>\n",
       "      <th>publication_date</th>\n",
       "      <th>publisher_id</th>\n",
       "    </tr>\n",
       "  </thead>\n",
       "  <tbody>\n",
       "    <tr>\n",
       "      <td>0</td>\n",
       "      <td>1</td>\n",
       "      <td>546</td>\n",
       "      <td>'Salem's Lot</td>\n",
       "      <td>594</td>\n",
       "      <td>2005-11-01</td>\n",
       "      <td>93</td>\n",
       "    </tr>\n",
       "    <tr>\n",
       "      <td>1</td>\n",
       "      <td>2</td>\n",
       "      <td>465</td>\n",
       "      <td>1 000 Places to See Before You Die</td>\n",
       "      <td>992</td>\n",
       "      <td>2003-05-22</td>\n",
       "      <td>336</td>\n",
       "    </tr>\n",
       "    <tr>\n",
       "      <td>2</td>\n",
       "      <td>3</td>\n",
       "      <td>407</td>\n",
       "      <td>13 Little Blue Envelopes (Little Blue Envelope...</td>\n",
       "      <td>322</td>\n",
       "      <td>2010-12-21</td>\n",
       "      <td>135</td>\n",
       "    </tr>\n",
       "    <tr>\n",
       "      <td>3</td>\n",
       "      <td>4</td>\n",
       "      <td>82</td>\n",
       "      <td>1491: New Revelations of the Americas Before C...</td>\n",
       "      <td>541</td>\n",
       "      <td>2006-10-10</td>\n",
       "      <td>309</td>\n",
       "    </tr>\n",
       "    <tr>\n",
       "      <td>4</td>\n",
       "      <td>5</td>\n",
       "      <td>125</td>\n",
       "      <td>1776</td>\n",
       "      <td>386</td>\n",
       "      <td>2006-07-04</td>\n",
       "      <td>268</td>\n",
       "    </tr>\n",
       "  </tbody>\n",
       "</table>\n",
       "</div>"
      ],
      "text/plain": [
       "   book_id  author_id                                              title  \\\n",
       "0        1        546                                       'Salem's Lot   \n",
       "1        2        465                 1 000 Places to See Before You Die   \n",
       "2        3        407  13 Little Blue Envelopes (Little Blue Envelope...   \n",
       "3        4         82  1491: New Revelations of the Americas Before C...   \n",
       "4        5        125                                               1776   \n",
       "\n",
       "   num_pages publication_date  publisher_id  \n",
       "0        594       2005-11-01            93  \n",
       "1        992       2003-05-22           336  \n",
       "2        322       2010-12-21           135  \n",
       "3        541       2006-10-10           309  \n",
       "4        386       2006-07-04           268  "
      ]
     },
     "execution_count": 3,
     "metadata": {},
     "output_type": "execute_result"
    }
   ],
   "source": [
    "pd.io.sql.read_sql('SELECT * FROM books LIMIT 5', con = engine)"
   ]
  },
  {
   "cell_type": "markdown",
   "metadata": {},
   "source": [
    "Таблица `books` содержит данные о книгах, имеет 6 колонок:\n",
    "- `book_id` — идентификатор книги\n",
    "- `author_id` — идентификатор автора\n",
    "- `title` — название книги\n",
    "- `num_pages` — количество страниц\n",
    "- `publication_date` — дата публикации книги\n",
    "- `publisher_id` — идентификатор издателя.\n",
    " "
   ]
  },
  {
   "cell_type": "code",
   "execution_count": 4,
   "metadata": {},
   "outputs": [
    {
     "data": {
      "text/html": [
       "<div>\n",
       "<style scoped>\n",
       "    .dataframe tbody tr th:only-of-type {\n",
       "        vertical-align: middle;\n",
       "    }\n",
       "\n",
       "    .dataframe tbody tr th {\n",
       "        vertical-align: top;\n",
       "    }\n",
       "\n",
       "    .dataframe thead th {\n",
       "        text-align: right;\n",
       "    }\n",
       "</style>\n",
       "<table border=\"1\" class=\"dataframe\">\n",
       "  <thead>\n",
       "    <tr style=\"text-align: right;\">\n",
       "      <th></th>\n",
       "      <th>author_id</th>\n",
       "      <th>author</th>\n",
       "    </tr>\n",
       "  </thead>\n",
       "  <tbody>\n",
       "    <tr>\n",
       "      <td>0</td>\n",
       "      <td>1</td>\n",
       "      <td>A.S. Byatt</td>\n",
       "    </tr>\n",
       "    <tr>\n",
       "      <td>1</td>\n",
       "      <td>2</td>\n",
       "      <td>Aesop/Laura Harris/Laura Gibbs</td>\n",
       "    </tr>\n",
       "    <tr>\n",
       "      <td>2</td>\n",
       "      <td>3</td>\n",
       "      <td>Agatha Christie</td>\n",
       "    </tr>\n",
       "    <tr>\n",
       "      <td>3</td>\n",
       "      <td>4</td>\n",
       "      <td>Alan Brennert</td>\n",
       "    </tr>\n",
       "    <tr>\n",
       "      <td>4</td>\n",
       "      <td>5</td>\n",
       "      <td>Alan Moore/David   Lloyd</td>\n",
       "    </tr>\n",
       "  </tbody>\n",
       "</table>\n",
       "</div>"
      ],
      "text/plain": [
       "   author_id                          author\n",
       "0          1                      A.S. Byatt\n",
       "1          2  Aesop/Laura Harris/Laura Gibbs\n",
       "2          3                 Agatha Christie\n",
       "3          4                   Alan Brennert\n",
       "4          5        Alan Moore/David   Lloyd"
      ]
     },
     "execution_count": 4,
     "metadata": {},
     "output_type": "execute_result"
    }
   ],
   "source": [
    "pd.io.sql.read_sql('SELECT * FROM authors LIMIT 5', con = engine)"
   ]
  },
  {
   "cell_type": "markdown",
   "metadata": {},
   "source": [
    "Таблица `authors` содержит данные об авторах, имеет 2 колонки:\n",
    "\n",
    "- `author_id` — идентификатор автора\n",
    "- `author` — имя автора."
   ]
  },
  {
   "cell_type": "code",
   "execution_count": 5,
   "metadata": {},
   "outputs": [
    {
     "data": {
      "text/html": [
       "<div>\n",
       "<style scoped>\n",
       "    .dataframe tbody tr th:only-of-type {\n",
       "        vertical-align: middle;\n",
       "    }\n",
       "\n",
       "    .dataframe tbody tr th {\n",
       "        vertical-align: top;\n",
       "    }\n",
       "\n",
       "    .dataframe thead th {\n",
       "        text-align: right;\n",
       "    }\n",
       "</style>\n",
       "<table border=\"1\" class=\"dataframe\">\n",
       "  <thead>\n",
       "    <tr style=\"text-align: right;\">\n",
       "      <th></th>\n",
       "      <th>publisher_id</th>\n",
       "      <th>publisher</th>\n",
       "    </tr>\n",
       "  </thead>\n",
       "  <tbody>\n",
       "    <tr>\n",
       "      <td>0</td>\n",
       "      <td>1</td>\n",
       "      <td>Ace</td>\n",
       "    </tr>\n",
       "    <tr>\n",
       "      <td>1</td>\n",
       "      <td>2</td>\n",
       "      <td>Ace Book</td>\n",
       "    </tr>\n",
       "    <tr>\n",
       "      <td>2</td>\n",
       "      <td>3</td>\n",
       "      <td>Ace Books</td>\n",
       "    </tr>\n",
       "    <tr>\n",
       "      <td>3</td>\n",
       "      <td>4</td>\n",
       "      <td>Ace Hardcover</td>\n",
       "    </tr>\n",
       "    <tr>\n",
       "      <td>4</td>\n",
       "      <td>5</td>\n",
       "      <td>Addison Wesley Publishing Company</td>\n",
       "    </tr>\n",
       "  </tbody>\n",
       "</table>\n",
       "</div>"
      ],
      "text/plain": [
       "   publisher_id                          publisher\n",
       "0             1                                Ace\n",
       "1             2                           Ace Book\n",
       "2             3                          Ace Books\n",
       "3             4                      Ace Hardcover\n",
       "4             5  Addison Wesley Publishing Company"
      ]
     },
     "execution_count": 5,
     "metadata": {},
     "output_type": "execute_result"
    }
   ],
   "source": [
    "pd.io.sql.read_sql('SELECT * FROM publishers LIMIT 5', con = engine)"
   ]
  },
  {
   "cell_type": "markdown",
   "metadata": {},
   "source": [
    "Таблица `publishers` содержит данные об издательствах, имеет 2 колонки:\n",
    "\n",
    "- `publisher_id` — идентификатор издательства\n",
    "- `publisher` — название издательства."
   ]
  },
  {
   "cell_type": "code",
   "execution_count": 6,
   "metadata": {},
   "outputs": [
    {
     "data": {
      "text/html": [
       "<div>\n",
       "<style scoped>\n",
       "    .dataframe tbody tr th:only-of-type {\n",
       "        vertical-align: middle;\n",
       "    }\n",
       "\n",
       "    .dataframe tbody tr th {\n",
       "        vertical-align: top;\n",
       "    }\n",
       "\n",
       "    .dataframe thead th {\n",
       "        text-align: right;\n",
       "    }\n",
       "</style>\n",
       "<table border=\"1\" class=\"dataframe\">\n",
       "  <thead>\n",
       "    <tr style=\"text-align: right;\">\n",
       "      <th></th>\n",
       "      <th>rating_id</th>\n",
       "      <th>book_id</th>\n",
       "      <th>username</th>\n",
       "      <th>rating</th>\n",
       "    </tr>\n",
       "  </thead>\n",
       "  <tbody>\n",
       "    <tr>\n",
       "      <td>0</td>\n",
       "      <td>1</td>\n",
       "      <td>1</td>\n",
       "      <td>ryanfranco</td>\n",
       "      <td>4</td>\n",
       "    </tr>\n",
       "    <tr>\n",
       "      <td>1</td>\n",
       "      <td>2</td>\n",
       "      <td>1</td>\n",
       "      <td>grantpatricia</td>\n",
       "      <td>2</td>\n",
       "    </tr>\n",
       "    <tr>\n",
       "      <td>2</td>\n",
       "      <td>3</td>\n",
       "      <td>1</td>\n",
       "      <td>brandtandrea</td>\n",
       "      <td>5</td>\n",
       "    </tr>\n",
       "    <tr>\n",
       "      <td>3</td>\n",
       "      <td>4</td>\n",
       "      <td>2</td>\n",
       "      <td>lorichen</td>\n",
       "      <td>3</td>\n",
       "    </tr>\n",
       "    <tr>\n",
       "      <td>4</td>\n",
       "      <td>5</td>\n",
       "      <td>2</td>\n",
       "      <td>mariokeller</td>\n",
       "      <td>2</td>\n",
       "    </tr>\n",
       "  </tbody>\n",
       "</table>\n",
       "</div>"
      ],
      "text/plain": [
       "   rating_id  book_id       username  rating\n",
       "0          1        1     ryanfranco       4\n",
       "1          2        1  grantpatricia       2\n",
       "2          3        1   brandtandrea       5\n",
       "3          4        2       lorichen       3\n",
       "4          5        2    mariokeller       2"
      ]
     },
     "execution_count": 6,
     "metadata": {},
     "output_type": "execute_result"
    }
   ],
   "source": [
    "pd.io.sql.read_sql('SELECT * FROM ratings LIMIT 5', con = engine)"
   ]
  },
  {
   "cell_type": "markdown",
   "metadata": {},
   "source": [
    "Таблица `reviews` содержит данные о пользовательских оценках книг, имеет 4 колонки:\n",
    "\n",
    "- `rating_id` — идентификатор оценки\n",
    "- `book_id` — идентификатор книги\n",
    "- `username` - имя пользователя, оставившего оценку\n",
    "- `rating` - оценка книги.                             "
   ]
  },
  {
   "cell_type": "code",
   "execution_count": 7,
   "metadata": {},
   "outputs": [
    {
     "data": {
      "text/html": [
       "<div>\n",
       "<style scoped>\n",
       "    .dataframe tbody tr th:only-of-type {\n",
       "        vertical-align: middle;\n",
       "    }\n",
       "\n",
       "    .dataframe tbody tr th {\n",
       "        vertical-align: top;\n",
       "    }\n",
       "\n",
       "    .dataframe thead th {\n",
       "        text-align: right;\n",
       "    }\n",
       "</style>\n",
       "<table border=\"1\" class=\"dataframe\">\n",
       "  <thead>\n",
       "    <tr style=\"text-align: right;\">\n",
       "      <th></th>\n",
       "      <th>review_id</th>\n",
       "      <th>book_id</th>\n",
       "      <th>username</th>\n",
       "      <th>text</th>\n",
       "    </tr>\n",
       "  </thead>\n",
       "  <tbody>\n",
       "    <tr>\n",
       "      <td>0</td>\n",
       "      <td>1</td>\n",
       "      <td>1</td>\n",
       "      <td>brandtandrea</td>\n",
       "      <td>Mention society tell send professor analysis. ...</td>\n",
       "    </tr>\n",
       "    <tr>\n",
       "      <td>1</td>\n",
       "      <td>2</td>\n",
       "      <td>1</td>\n",
       "      <td>ryanfranco</td>\n",
       "      <td>Foot glass pretty audience hit themselves. Amo...</td>\n",
       "    </tr>\n",
       "    <tr>\n",
       "      <td>2</td>\n",
       "      <td>3</td>\n",
       "      <td>2</td>\n",
       "      <td>lorichen</td>\n",
       "      <td>Listen treat keep worry. Miss husband tax but ...</td>\n",
       "    </tr>\n",
       "    <tr>\n",
       "      <td>3</td>\n",
       "      <td>4</td>\n",
       "      <td>3</td>\n",
       "      <td>johnsonamanda</td>\n",
       "      <td>Finally month interesting blue could nature cu...</td>\n",
       "    </tr>\n",
       "    <tr>\n",
       "      <td>4</td>\n",
       "      <td>5</td>\n",
       "      <td>3</td>\n",
       "      <td>scotttamara</td>\n",
       "      <td>Nation purpose heavy give wait song will. List...</td>\n",
       "    </tr>\n",
       "  </tbody>\n",
       "</table>\n",
       "</div>"
      ],
      "text/plain": [
       "   review_id  book_id       username  \\\n",
       "0          1        1   brandtandrea   \n",
       "1          2        1     ryanfranco   \n",
       "2          3        2       lorichen   \n",
       "3          4        3  johnsonamanda   \n",
       "4          5        3    scotttamara   \n",
       "\n",
       "                                                text  \n",
       "0  Mention society tell send professor analysis. ...  \n",
       "1  Foot glass pretty audience hit themselves. Amo...  \n",
       "2  Listen treat keep worry. Miss husband tax but ...  \n",
       "3  Finally month interesting blue could nature cu...  \n",
       "4  Nation purpose heavy give wait song will. List...  "
      ]
     },
     "execution_count": 7,
     "metadata": {},
     "output_type": "execute_result"
    }
   ],
   "source": [
    "pd.io.sql.read_sql('SELECT * FROM reviews LIMIT 5', con = engine)"
   ]
  },
  {
   "cell_type": "markdown",
   "metadata": {},
   "source": [
    "Таблица `reviews` содержит данные о пользовательских обзорах на книги, имеет 4 колонки:\n",
    "\n",
    "- `review_id` — идентификатор обзора\n",
    "- `book_id` — идентификатор книги\n",
    "- `username` - имя пользователя, написавшего обзор\n",
    "- `text` - текст обзора."
   ]
  },
  {
   "cell_type": "markdown",
   "metadata": {},
   "source": [
    "#### Вывод \n",
    "Изучили данные для анализа, представленные в 5 таблицах."
   ]
  },
  {
   "cell_type": "markdown",
   "metadata": {},
   "source": [
    "### Шаг 2. Выясним, сколько книг вышло после 1 января 2000 года."
   ]
  },
  {
   "cell_type": "code",
   "execution_count": 8,
   "metadata": {},
   "outputs": [
    {
     "name": "stdout",
     "output_type": "stream",
     "text": [
      "Количество опубликованных книг после 1 января 2020  - 819\n"
     ]
    }
   ],
   "source": [
    "query = '''\n",
    "SELECT\n",
    "    COUNT(book_id) as book_cnt\n",
    "FROM\n",
    "    books\n",
    "WHERE\n",
    "    publication_date > '2000-01-01'\n",
    "'''\n",
    "a = pd.io.sql.read_sql(query, con = engine)\n",
    "print('Количество опубликованных книг после 1 января 2020  -', a['book_cnt'][0])"
   ]
  },
  {
   "cell_type": "markdown",
   "metadata": {},
   "source": [
    "### Шаг 3. Подсчитаем для каждой книги количество обзоров и среднюю оценку."
   ]
  },
  {
   "cell_type": "code",
   "execution_count": 9,
   "metadata": {},
   "outputs": [
    {
     "name": "stdout",
     "output_type": "stream",
     "text": [
      "Количество обзоров и средний рейтинг для каждой книги\n"
     ]
    },
    {
     "data": {
      "text/html": [
       "<div>\n",
       "<style scoped>\n",
       "    .dataframe tbody tr th:only-of-type {\n",
       "        vertical-align: middle;\n",
       "    }\n",
       "\n",
       "    .dataframe tbody tr th {\n",
       "        vertical-align: top;\n",
       "    }\n",
       "\n",
       "    .dataframe thead th {\n",
       "        text-align: right;\n",
       "    }\n",
       "</style>\n",
       "<table border=\"1\" class=\"dataframe\">\n",
       "  <thead>\n",
       "    <tr style=\"text-align: right;\">\n",
       "      <th></th>\n",
       "      <th>book_id</th>\n",
       "      <th>title</th>\n",
       "      <th>review_cnt</th>\n",
       "      <th>avg_rating</th>\n",
       "    </tr>\n",
       "  </thead>\n",
       "  <tbody>\n",
       "    <tr>\n",
       "      <td>0</td>\n",
       "      <td>948</td>\n",
       "      <td>Twilight (Twilight  #1)</td>\n",
       "      <td>7</td>\n",
       "      <td>3.662500</td>\n",
       "    </tr>\n",
       "    <tr>\n",
       "      <td>1</td>\n",
       "      <td>854</td>\n",
       "      <td>The Road</td>\n",
       "      <td>6</td>\n",
       "      <td>3.772727</td>\n",
       "    </tr>\n",
       "    <tr>\n",
       "      <td>2</td>\n",
       "      <td>656</td>\n",
       "      <td>The Book Thief</td>\n",
       "      <td>6</td>\n",
       "      <td>4.264151</td>\n",
       "    </tr>\n",
       "    <tr>\n",
       "      <td>3</td>\n",
       "      <td>734</td>\n",
       "      <td>The Glass Castle</td>\n",
       "      <td>6</td>\n",
       "      <td>4.206897</td>\n",
       "    </tr>\n",
       "    <tr>\n",
       "      <td>4</td>\n",
       "      <td>963</td>\n",
       "      <td>Water for Elephants</td>\n",
       "      <td>6</td>\n",
       "      <td>3.977273</td>\n",
       "    </tr>\n",
       "    <tr>\n",
       "      <td>...</td>\n",
       "      <td>...</td>\n",
       "      <td>...</td>\n",
       "      <td>...</td>\n",
       "      <td>...</td>\n",
       "    </tr>\n",
       "    <tr>\n",
       "      <td>989</td>\n",
       "      <td>465</td>\n",
       "      <td>Naked Empire (Sword of Truth  #8)</td>\n",
       "      <td>1</td>\n",
       "      <td>3.500000</td>\n",
       "    </tr>\n",
       "    <tr>\n",
       "      <td>990</td>\n",
       "      <td>446</td>\n",
       "      <td>Moo  Baa  La La La!</td>\n",
       "      <td>1</td>\n",
       "      <td>3.000000</td>\n",
       "    </tr>\n",
       "    <tr>\n",
       "      <td>991</td>\n",
       "      <td>431</td>\n",
       "      <td>Merrick (The Vampire Chronicles #7)</td>\n",
       "      <td>1</td>\n",
       "      <td>4.000000</td>\n",
       "    </tr>\n",
       "    <tr>\n",
       "      <td>992</td>\n",
       "      <td>92</td>\n",
       "      <td>Babyville</td>\n",
       "      <td>1</td>\n",
       "      <td>3.500000</td>\n",
       "    </tr>\n",
       "    <tr>\n",
       "      <td>993</td>\n",
       "      <td>413</td>\n",
       "      <td>Lysistrata</td>\n",
       "      <td>1</td>\n",
       "      <td>4.000000</td>\n",
       "    </tr>\n",
       "  </tbody>\n",
       "</table>\n",
       "<p>994 rows × 4 columns</p>\n",
       "</div>"
      ],
      "text/plain": [
       "     book_id                                title  review_cnt  avg_rating\n",
       "0        948              Twilight (Twilight  #1)           7    3.662500\n",
       "1        854                             The Road           6    3.772727\n",
       "2        656                       The Book Thief           6    4.264151\n",
       "3        734                     The Glass Castle           6    4.206897\n",
       "4        963                  Water for Elephants           6    3.977273\n",
       "..       ...                                  ...         ...         ...\n",
       "989      465    Naked Empire (Sword of Truth  #8)           1    3.500000\n",
       "990      446                  Moo  Baa  La La La!           1    3.000000\n",
       "991      431  Merrick (The Vampire Chronicles #7)           1    4.000000\n",
       "992       92                            Babyville           1    3.500000\n",
       "993      413                           Lysistrata           1    4.000000\n",
       "\n",
       "[994 rows x 4 columns]"
      ]
     },
     "execution_count": 9,
     "metadata": {},
     "output_type": "execute_result"
    }
   ],
   "source": [
    "query = '''\n",
    "SELECT\n",
    "    books.book_id,\n",
    "    books.title,\n",
    "    COUNT(DISTINCT review_id) as review_cnt,\n",
    "    AVG(rating) as avg_rating\n",
    "FROM \n",
    "    books\n",
    "INNER JOIN reviews ON  reviews.book_id = books.book_id\n",
    "INNER JOIN ratings ON  ratings.book_id = books.book_id\n",
    "GROUP BY\n",
    "    books.book_id\n",
    "ORDER BY\n",
    "    review_cnt DESC\n",
    "'''\n",
    "print('Количество обзоров и средний рейтинг для каждой книги')\n",
    "pd.io.sql.read_sql(query, con = engine)"
   ]
  },
  {
   "cell_type": "markdown",
   "metadata": {},
   "source": [
    "Больше всего пользовательских обзоров 7 штук было написано для книги `Twilight`- Сумерки. "
   ]
  },
  {
   "cell_type": "markdown",
   "metadata": {},
   "source": [
    "### Шаг 4. Определим издательство, выпускающее больше всего книг толще 50 страниц."
   ]
  },
  {
   "cell_type": "code",
   "execution_count": 10,
   "metadata": {},
   "outputs": [
    {
     "data": {
      "text/html": [
       "<div>\n",
       "<style scoped>\n",
       "    .dataframe tbody tr th:only-of-type {\n",
       "        vertical-align: middle;\n",
       "    }\n",
       "\n",
       "    .dataframe tbody tr th {\n",
       "        vertical-align: top;\n",
       "    }\n",
       "\n",
       "    .dataframe thead th {\n",
       "        text-align: right;\n",
       "    }\n",
       "</style>\n",
       "<table border=\"1\" class=\"dataframe\">\n",
       "  <thead>\n",
       "    <tr style=\"text-align: right;\">\n",
       "      <th></th>\n",
       "      <th>publisher</th>\n",
       "      <th>book_cnt</th>\n",
       "    </tr>\n",
       "  </thead>\n",
       "  <tbody>\n",
       "    <tr>\n",
       "      <td>0</td>\n",
       "      <td>Penguin Books</td>\n",
       "      <td>42</td>\n",
       "    </tr>\n",
       "    <tr>\n",
       "      <td>1</td>\n",
       "      <td>Vintage</td>\n",
       "      <td>31</td>\n",
       "    </tr>\n",
       "    <tr>\n",
       "      <td>2</td>\n",
       "      <td>Grand Central Publishing</td>\n",
       "      <td>25</td>\n",
       "    </tr>\n",
       "  </tbody>\n",
       "</table>\n",
       "</div>"
      ],
      "text/plain": [
       "                  publisher  book_cnt\n",
       "0             Penguin Books        42\n",
       "1                   Vintage        31\n",
       "2  Grand Central Publishing        25"
      ]
     },
     "metadata": {},
     "output_type": "display_data"
    },
    {
     "name": "stdout",
     "output_type": "stream",
     "text": [
      "Издательство, выпускающее больше всего книг толщиной более 50 страниц - это  Penguin Books , число книг -  42\n"
     ]
    }
   ],
   "source": [
    "query = '''\n",
    "SELECT\n",
    "    publisher,\n",
    "    COUNT(book_id) as book_cnt\n",
    "FROM\n",
    "    publishers\n",
    "LEFT JOIN books ON  books.publisher_id = publishers.publisher_id \n",
    "WHERE \n",
    "    num_pages > 50\n",
    "GROUP BY\n",
    "    publisher\n",
    "ORDER BY\n",
    "    book_cnt DESC\n",
    "LIMIT 3\n",
    "'''\n",
    "d = pd.io.sql.read_sql(query, con = engine)\n",
    "display(d)\n",
    "print('Издательство, выпускающее больше всего книг толщиной более 50 страниц - это ', d['publisher'][0], ', число книг - ', d['book_cnt'][0])"
   ]
  },
  {
   "cell_type": "markdown",
   "metadata": {},
   "source": [
    "### Шаг 5. Определим автора с самой высокой средней оценкой книг."
   ]
  },
  {
   "cell_type": "code",
   "execution_count": 11,
   "metadata": {},
   "outputs": [
    {
     "data": {
      "text/html": [
       "<div>\n",
       "<style scoped>\n",
       "    .dataframe tbody tr th:only-of-type {\n",
       "        vertical-align: middle;\n",
       "    }\n",
       "\n",
       "    .dataframe tbody tr th {\n",
       "        vertical-align: top;\n",
       "    }\n",
       "\n",
       "    .dataframe thead th {\n",
       "        text-align: right;\n",
       "    }\n",
       "</style>\n",
       "<table border=\"1\" class=\"dataframe\">\n",
       "  <thead>\n",
       "    <tr style=\"text-align: right;\">\n",
       "      <th></th>\n",
       "      <th>author</th>\n",
       "      <th>total_avg_rating</th>\n",
       "    </tr>\n",
       "  </thead>\n",
       "  <tbody>\n",
       "    <tr>\n",
       "      <td>0</td>\n",
       "      <td>J.K. Rowling/Mary GrandPré</td>\n",
       "      <td>4.283844</td>\n",
       "    </tr>\n",
       "    <tr>\n",
       "      <td>1</td>\n",
       "      <td>Markus Zusak/Cao Xuân Việt Khương</td>\n",
       "      <td>4.264151</td>\n",
       "    </tr>\n",
       "    <tr>\n",
       "      <td>2</td>\n",
       "      <td>J.R.R. Tolkien</td>\n",
       "      <td>4.258446</td>\n",
       "    </tr>\n",
       "  </tbody>\n",
       "</table>\n",
       "</div>"
      ],
      "text/plain": [
       "                              author  total_avg_rating\n",
       "0         J.K. Rowling/Mary GrandPré          4.283844\n",
       "1  Markus Zusak/Cao Xuân Việt Khương          4.264151\n",
       "2                     J.R.R. Tolkien          4.258446"
      ]
     },
     "metadata": {},
     "output_type": "display_data"
    },
    {
     "name": "stdout",
     "output_type": "stream",
     "text": [
      "Автор с самой высокой средней оценкой 4.283844038868471 балла - это  J.K. Rowling/Mary GrandPré\n"
     ]
    }
   ],
   "source": [
    "query = '''\n",
    "SELECT\n",
    "    author,\n",
    "    AVG(sub.avg_rating) as total_avg_rating\n",
    "FROM\n",
    "    (SELECT\n",
    "        author,\n",
    "        books.book_id,\n",
    "        AVG(rating) as avg_rating\n",
    "    FROM \n",
    "        authors\n",
    "    LEFT JOIN books ON books.author_id = authors.author_id\n",
    "    LEFT JOIN ratings ON ratings.book_id = books.book_id\n",
    "    GROUP BY\n",
    "        author,\n",
    "        books.book_id\n",
    "    HAVING\n",
    "        COUNT(rating) > 50) as sub\n",
    "GROUP BY\n",
    "    author\n",
    "ORDER BY\n",
    "    total_avg_rating DESC\n",
    "LIMIT 3\n",
    "'''\n",
    "f = pd.io.sql.read_sql(query, con = engine)\n",
    "display(f)\n",
    "print('Автор с самой высокой средней оценкой', f['total_avg_rating'][0], 'балла - это ', f['author'][0])"
   ]
  },
  {
   "cell_type": "markdown",
   "metadata": {},
   "source": [
    "### Шаг 6. Подсчитаем среднее количество обзоров от пользователей, которые поставили больше 50 оценок."
   ]
  },
  {
   "cell_type": "code",
   "execution_count": 12,
   "metadata": {},
   "outputs": [
    {
     "data": {
      "text/html": [
       "<div>\n",
       "<style scoped>\n",
       "    .dataframe tbody tr th:only-of-type {\n",
       "        vertical-align: middle;\n",
       "    }\n",
       "\n",
       "    .dataframe tbody tr th {\n",
       "        vertical-align: top;\n",
       "    }\n",
       "\n",
       "    .dataframe thead th {\n",
       "        text-align: right;\n",
       "    }\n",
       "</style>\n",
       "<table border=\"1\" class=\"dataframe\">\n",
       "  <thead>\n",
       "    <tr style=\"text-align: right;\">\n",
       "      <th></th>\n",
       "      <th>avg_text_cnt</th>\n",
       "    </tr>\n",
       "  </thead>\n",
       "  <tbody>\n",
       "    <tr>\n",
       "      <td>0</td>\n",
       "      <td>24.333333</td>\n",
       "    </tr>\n",
       "  </tbody>\n",
       "</table>\n",
       "</div>"
      ],
      "text/plain": [
       "   avg_text_cnt\n",
       "0     24.333333"
      ]
     },
     "metadata": {},
     "output_type": "display_data"
    },
    {
     "name": "stdout",
     "output_type": "stream",
     "text": [
      "В среднем пользователь, который поставил больше 50 оценок, пишет 24.33 обзора\n"
     ]
    }
   ],
   "source": [
    "query = '''\n",
    "SELECT\n",
    "    AVG(sub_text_cnt.text_cnt) AS avg_text_cnt\n",
    "FROM\n",
    "    (SELECT\n",
    "        COUNT(text) as text_cnt\n",
    "    FROM \n",
    "        reviews\n",
    "    WHERE username IN\n",
    "        (SELECT username\n",
    "        FROM \n",
    "            ratings\n",
    "        GROUP BY\n",
    "            username\n",
    "        HAVING\n",
    "            COUNT(ratings) > 50)\n",
    "    GROUP BY \n",
    "            username\n",
    "    ) AS sub_text_cnt  \n",
    "'''\n",
    "b = pd.io.sql.read_sql(query, con = engine)\n",
    "display(b)\n",
    "print('В среднем пользователь, который поставил больше 50 оценок, пишет {:.2f}'.format(b['avg_text_cnt'][0]),'обзора')"
   ]
  },
  {
   "cell_type": "markdown",
   "metadata": {},
   "source": [
    "### Шаг 7. Общий вывод."
   ]
  },
  {
   "cell_type": "markdown",
   "metadata": {},
   "source": [
    "По итогам запросов для данных сервиса для чтения книг, можно сделать следующие выводы:\n",
    "\n",
    "- после 1 января 2000 года было выпущенно 819 книг\n",
    "- книга Сумерки насчитывает больше всего пользовательских обзоров (7) и имеет среднюю оценку в 3.7 балла\n",
    "- издательство Penguin Books выпустило больше всех книг (42)\n",
    "- автор с самой высокой средней оценкой книг - Джоан Роулинг (рейтинг 4,3)\n",
    "- в среднем, пользователь который поставил больше 50 оценок, пишет 24,3 текстовых обзора."
   ]
  }
 ],
 "metadata": {
  "ExecuteTimeLog": [
   {
    "duration": 98,
    "start_time": "2021-07-06T05:05:19.306Z"
   },
   {
    "duration": 802,
    "start_time": "2021-07-06T05:19:48.405Z"
   },
   {
    "duration": 85,
    "start_time": "2021-07-06T05:19:49.209Z"
   },
   {
    "duration": 47,
    "start_time": "2021-07-06T05:20:42.418Z"
   },
   {
    "duration": 53,
    "start_time": "2021-07-06T05:22:48.105Z"
   },
   {
    "duration": 379,
    "start_time": "2021-07-06T05:26:09.710Z"
   },
   {
    "duration": 15,
    "start_time": "2021-07-06T05:26:23.266Z"
   },
   {
    "duration": 18,
    "start_time": "2021-07-06T05:28:27.480Z"
   },
   {
    "duration": 16,
    "start_time": "2021-07-06T05:31:19.417Z"
   },
   {
    "duration": 17,
    "start_time": "2021-07-06T05:34:07.989Z"
   },
   {
    "duration": 104,
    "start_time": "2021-07-06T05:45:34.891Z"
   },
   {
    "duration": 81,
    "start_time": "2021-07-06T05:46:35.729Z"
   },
   {
    "duration": 5,
    "start_time": "2021-07-06T05:47:39.325Z"
   },
   {
    "duration": 83,
    "start_time": "2021-07-06T05:48:16.678Z"
   },
   {
    "duration": 96,
    "start_time": "2021-07-06T05:48:44.103Z"
   },
   {
    "duration": 86,
    "start_time": "2021-07-06T05:49:17.894Z"
   },
   {
    "duration": 107,
    "start_time": "2021-07-06T05:53:46.378Z"
   },
   {
    "duration": 85,
    "start_time": "2021-07-06T05:53:58.315Z"
   },
   {
    "duration": 97,
    "start_time": "2021-07-06T05:54:15.342Z"
   },
   {
    "duration": 15,
    "start_time": "2021-07-06T06:00:51.455Z"
   },
   {
    "duration": 14,
    "start_time": "2021-07-06T06:07:44.781Z"
   },
   {
    "duration": 6950,
    "start_time": "2021-07-06T06:07:52.890Z"
   },
   {
    "duration": 7010,
    "start_time": "2021-07-06T06:08:26.094Z"
   },
   {
    "duration": 12,
    "start_time": "2021-07-06T06:08:56.154Z"
   },
   {
    "duration": 12,
    "start_time": "2021-07-06T06:09:02.487Z"
   },
   {
    "duration": 337,
    "start_time": "2021-07-06T06:28:21.467Z"
   },
   {
    "duration": 21,
    "start_time": "2021-07-06T06:28:40.696Z"
   },
   {
    "duration": 22,
    "start_time": "2021-07-06T06:31:24.206Z"
   },
   {
    "duration": 36,
    "start_time": "2021-07-06T06:34:22.658Z"
   },
   {
    "duration": 40,
    "start_time": "2021-07-06T06:36:08.288Z"
   },
   {
    "duration": 719,
    "start_time": "2021-07-06T06:36:37.578Z"
   },
   {
    "duration": 38,
    "start_time": "2021-07-06T06:36:49.147Z"
   },
   {
    "duration": 42,
    "start_time": "2021-07-06T06:42:55.860Z"
   },
   {
    "duration": 298,
    "start_time": "2021-07-06T06:43:27.521Z"
   },
   {
    "duration": 311,
    "start_time": "2021-07-06T06:43:34.560Z"
   },
   {
    "duration": 308,
    "start_time": "2021-07-06T06:44:08.123Z"
   },
   {
    "duration": 695,
    "start_time": "2021-07-06T06:44:15.073Z"
   },
   {
    "duration": 38,
    "start_time": "2021-07-06T06:44:18.037Z"
   },
   {
    "duration": 25,
    "start_time": "2021-07-06T06:46:33.532Z"
   },
   {
    "duration": 293,
    "start_time": "2021-07-06T06:47:13.291Z"
   },
   {
    "duration": 19,
    "start_time": "2021-07-06T06:50:47.735Z"
   },
   {
    "duration": 21,
    "start_time": "2021-07-06T06:51:07.082Z"
   },
   {
    "duration": 26,
    "start_time": "2021-07-06T06:56:26.008Z"
   },
   {
    "duration": 20,
    "start_time": "2021-07-06T06:57:48.230Z"
   },
   {
    "duration": 18,
    "start_time": "2021-07-06T07:02:24.802Z"
   },
   {
    "duration": 14,
    "start_time": "2021-07-06T07:04:55.748Z"
   },
   {
    "duration": 325,
    "start_time": "2021-07-06T07:07:27.258Z"
   },
   {
    "duration": 287,
    "start_time": "2021-07-06T07:07:33.538Z"
   },
   {
    "duration": 282,
    "start_time": "2021-07-06T07:07:57.793Z"
   },
   {
    "duration": 836,
    "start_time": "2021-07-06T07:08:09.748Z"
   },
   {
    "duration": 44,
    "start_time": "2021-07-06T07:08:10.587Z"
   },
   {
    "duration": 55,
    "start_time": "2021-07-06T07:08:10.635Z"
   },
   {
    "duration": 15,
    "start_time": "2021-07-06T07:08:10.693Z"
   },
   {
    "duration": 16,
    "start_time": "2021-07-06T07:08:10.710Z"
   },
   {
    "duration": 17,
    "start_time": "2021-07-06T07:08:10.729Z"
   },
   {
    "duration": 15,
    "start_time": "2021-07-06T07:08:10.749Z"
   },
   {
    "duration": 41,
    "start_time": "2021-07-06T07:08:10.767Z"
   },
   {
    "duration": 51,
    "start_time": "2021-07-06T07:08:10.811Z"
   },
   {
    "duration": 379,
    "start_time": "2021-07-06T07:08:10.865Z"
   },
   {
    "duration": 4416,
    "start_time": "2021-07-06T07:08:06.830Z"
   },
   {
    "duration": 4413,
    "start_time": "2021-07-06T07:08:06.835Z"
   },
   {
    "duration": 276,
    "start_time": "2021-07-06T07:08:55.073Z"
   },
   {
    "duration": 12,
    "start_time": "2021-07-06T07:09:00.780Z"
   },
   {
    "duration": 15,
    "start_time": "2021-07-06T07:09:44.662Z"
   },
   {
    "duration": 14,
    "start_time": "2021-07-06T07:10:30.339Z"
   },
   {
    "duration": 14,
    "start_time": "2021-07-06T07:10:46.851Z"
   },
   {
    "duration": 13,
    "start_time": "2021-07-06T07:11:04.049Z"
   },
   {
    "duration": 18,
    "start_time": "2021-07-06T07:11:22.076Z"
   },
   {
    "duration": 20,
    "start_time": "2021-07-06T07:14:37.484Z"
   },
   {
    "duration": 24,
    "start_time": "2021-07-06T07:16:31.166Z"
   },
   {
    "duration": 20,
    "start_time": "2021-07-06T07:17:49.549Z"
   },
   {
    "duration": 40,
    "start_time": "2021-07-06T07:28:16.381Z"
   },
   {
    "duration": 42,
    "start_time": "2021-07-06T07:29:05.127Z"
   },
   {
    "duration": 37,
    "start_time": "2021-07-06T07:29:14.343Z"
   },
   {
    "duration": 1082,
    "start_time": "2021-07-06T07:30:40.978Z"
   },
   {
    "duration": 62,
    "start_time": "2021-07-06T07:30:42.064Z"
   },
   {
    "duration": 59,
    "start_time": "2021-07-06T07:30:42.129Z"
   },
   {
    "duration": 24,
    "start_time": "2021-07-06T07:30:42.192Z"
   },
   {
    "duration": 17,
    "start_time": "2021-07-06T07:30:42.220Z"
   },
   {
    "duration": 18,
    "start_time": "2021-07-06T07:30:42.240Z"
   },
   {
    "duration": 53,
    "start_time": "2021-07-06T07:30:42.261Z"
   },
   {
    "duration": 12,
    "start_time": "2021-07-06T07:30:42.321Z"
   },
   {
    "duration": 41,
    "start_time": "2021-07-06T07:30:42.336Z"
   },
   {
    "duration": 34,
    "start_time": "2021-07-06T07:30:42.380Z"
   },
   {
    "duration": 22,
    "start_time": "2021-07-06T07:30:42.417Z"
   },
   {
    "duration": 21,
    "start_time": "2021-07-06T07:30:42.442Z"
   },
   {
    "duration": 899,
    "start_time": "2021-07-07T14:21:40.187Z"
   },
   {
    "duration": 43,
    "start_time": "2021-07-07T14:21:41.089Z"
   },
   {
    "duration": 55,
    "start_time": "2021-07-07T14:21:41.135Z"
   },
   {
    "duration": 14,
    "start_time": "2021-07-07T14:21:41.193Z"
   },
   {
    "duration": 16,
    "start_time": "2021-07-07T14:21:41.209Z"
   },
   {
    "duration": 14,
    "start_time": "2021-07-07T14:21:41.227Z"
   },
   {
    "duration": 17,
    "start_time": "2021-07-07T14:21:41.255Z"
   },
   {
    "duration": 11,
    "start_time": "2021-07-07T14:21:41.277Z"
   },
   {
    "duration": 43,
    "start_time": "2021-07-07T14:21:41.292Z"
   },
   {
    "duration": 19,
    "start_time": "2021-07-07T14:21:41.357Z"
   },
   {
    "duration": 24,
    "start_time": "2021-07-07T14:21:41.379Z"
   },
   {
    "duration": 20,
    "start_time": "2021-07-07T14:21:41.406Z"
   },
   {
    "duration": 17,
    "start_time": "2021-07-07T14:29:05.915Z"
   },
   {
    "duration": 21,
    "start_time": "2021-07-07T14:29:33.632Z"
   },
   {
    "duration": 18,
    "start_time": "2021-07-07T14:30:05.159Z"
   },
   {
    "duration": 22,
    "start_time": "2021-07-07T14:33:16.586Z"
   },
   {
    "duration": 833,
    "start_time": "2021-07-07T14:33:53.717Z"
   },
   {
    "duration": 40,
    "start_time": "2021-07-07T14:33:54.553Z"
   },
   {
    "duration": 46,
    "start_time": "2021-07-07T14:33:54.595Z"
   },
   {
    "duration": 15,
    "start_time": "2021-07-07T14:33:54.655Z"
   },
   {
    "duration": 15,
    "start_time": "2021-07-07T14:33:54.672Z"
   },
   {
    "duration": 19,
    "start_time": "2021-07-07T14:33:54.689Z"
   },
   {
    "duration": 49,
    "start_time": "2021-07-07T14:33:54.711Z"
   },
   {
    "duration": 13,
    "start_time": "2021-07-07T14:33:54.763Z"
   },
   {
    "duration": 40,
    "start_time": "2021-07-07T14:33:54.779Z"
   },
   {
    "duration": 39,
    "start_time": "2021-07-07T14:33:54.821Z"
   },
   {
    "duration": 26,
    "start_time": "2021-07-07T14:33:54.863Z"
   },
   {
    "duration": 19,
    "start_time": "2021-07-07T14:33:54.892Z"
   },
   {
    "duration": 19,
    "start_time": "2021-07-07T14:38:34.684Z"
   },
   {
    "duration": 915,
    "start_time": "2021-07-07T14:38:49.541Z"
   },
   {
    "duration": 60,
    "start_time": "2021-07-07T14:38:50.459Z"
   },
   {
    "duration": 60,
    "start_time": "2021-07-07T14:38:50.523Z"
   },
   {
    "duration": 17,
    "start_time": "2021-07-07T14:38:50.587Z"
   },
   {
    "duration": 16,
    "start_time": "2021-07-07T14:38:50.607Z"
   },
   {
    "duration": 55,
    "start_time": "2021-07-07T14:38:50.625Z"
   },
   {
    "duration": 16,
    "start_time": "2021-07-07T14:38:50.683Z"
   },
   {
    "duration": 11,
    "start_time": "2021-07-07T14:38:50.703Z"
   },
   {
    "duration": 56,
    "start_time": "2021-07-07T14:38:50.716Z"
   },
   {
    "duration": 19,
    "start_time": "2021-07-07T14:38:50.775Z"
   },
   {
    "duration": 27,
    "start_time": "2021-07-07T14:38:50.796Z"
   },
   {
    "duration": 35,
    "start_time": "2021-07-07T14:38:50.826Z"
   },
   {
    "duration": 812,
    "start_time": "2021-07-08T04:55:29.062Z"
   },
   {
    "duration": 188,
    "start_time": "2021-07-08T04:55:29.877Z"
   },
   {
    "duration": 301,
    "start_time": "2021-07-08T04:55:30.067Z"
   },
   {
    "duration": 74,
    "start_time": "2021-07-08T04:55:30.371Z"
   },
   {
    "duration": 72,
    "start_time": "2021-07-08T04:55:30.447Z"
   },
   {
    "duration": 73,
    "start_time": "2021-07-08T04:55:30.521Z"
   },
   {
    "duration": 74,
    "start_time": "2021-07-08T04:55:30.597Z"
   },
   {
    "duration": 70,
    "start_time": "2021-07-08T04:55:30.674Z"
   },
   {
    "duration": 114,
    "start_time": "2021-07-08T04:55:30.747Z"
   },
   {
    "duration": 74,
    "start_time": "2021-07-08T04:55:30.864Z"
   },
   {
    "duration": 82,
    "start_time": "2021-07-08T04:55:30.941Z"
   },
   {
    "duration": 79,
    "start_time": "2021-07-08T04:55:31.025Z"
   },
   {
    "duration": 823,
    "start_time": "2021-07-12T17:19:47.440Z"
   },
   {
    "duration": 44,
    "start_time": "2021-07-12T17:19:48.266Z"
   },
   {
    "duration": 51,
    "start_time": "2021-07-12T17:19:48.312Z"
   },
   {
    "duration": 15,
    "start_time": "2021-07-12T17:19:48.366Z"
   },
   {
    "duration": 14,
    "start_time": "2021-07-12T17:19:48.384Z"
   },
   {
    "duration": 16,
    "start_time": "2021-07-12T17:19:48.401Z"
   },
   {
    "duration": 60,
    "start_time": "2021-07-12T17:19:48.419Z"
   },
   {
    "duration": 11,
    "start_time": "2021-07-12T17:19:48.482Z"
   },
   {
    "duration": 40,
    "start_time": "2021-07-12T17:19:48.495Z"
   },
   {
    "duration": 30,
    "start_time": "2021-07-12T17:19:48.538Z"
   },
   {
    "duration": 27,
    "start_time": "2021-07-12T17:19:48.570Z"
   },
   {
    "duration": 21,
    "start_time": "2021-07-12T17:19:48.600Z"
   }
  ],
  "kernelspec": {
   "display_name": "Python 3",
   "language": "python",
   "name": "python3"
  },
  "language_info": {
   "codemirror_mode": {
    "name": "ipython",
    "version": 3
   },
   "file_extension": ".py",
   "mimetype": "text/x-python",
   "name": "python",
   "nbconvert_exporter": "python",
   "pygments_lexer": "ipython3",
   "version": "3.7.8"
  },
  "toc": {
   "base_numbering": 1,
   "nav_menu": {},
   "number_sections": false,
   "sideBar": true,
   "skip_h1_title": true,
   "title_cell": "Table of Contents",
   "title_sidebar": "Contents",
   "toc_cell": false,
   "toc_position": {},
   "toc_section_display": true,
   "toc_window_display": false
  }
 },
 "nbformat": 4,
 "nbformat_minor": 2
}
