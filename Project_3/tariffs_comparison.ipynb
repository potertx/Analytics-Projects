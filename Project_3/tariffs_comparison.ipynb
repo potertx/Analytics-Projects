{
 "cells": [
  {
   "cell_type": "markdown",
   "metadata": {},
   "source": [
    "### Определение перспективного тарифа для телеком компании\n",
    "\n",
    "#### Описание проекта\n",
    "Клиентам предлагают два тарифных плана. Нужно проанализировать поведение клиентов и сделать вывод — какой тариф выгоднее для компании.\n"
   ]
  },
  {
   "cell_type": "markdown",
   "metadata": {},
   "source": [
    "1. [Изучение общей информации](#Шаг-1.-Изучение-общей-информации.)\n",
    "2. [Предобработка данных и расчет необходимых параметров.](#Шаг-2.-Предобработка-данных-и-расчет-необходимых-параметров.)\n",
    "3. [Анализ данных](#Шаг-3.-Анализ-данных.)\n",
    "4. [Проверка гипотез](#Шаг-4.-Проверка-гипотез.)\n",
    "5. [Общий вывод](#Шаг-5.-Общий-вывод.)"
   ]
  },
  {
   "cell_type": "markdown",
   "metadata": {},
   "source": [
    "### Шаг 1. Изучение общей информации."
   ]
  },
  {
   "cell_type": "markdown",
   "metadata": {},
   "source": [
    "Импортирование модулей, необходимых для работы"
   ]
  },
  {
   "cell_type": "code",
   "execution_count": 1,
   "metadata": {},
   "outputs": [],
   "source": [
    "import pandas as pd\n",
    "import matplotlib.pyplot as plt\n",
    "import numpy as np\n",
    "from scipy import stats as st\n",
    "from math import factorial\n",
    "import warnings\n",
    "warnings.filterwarnings('ignore')"
   ]
  },
  {
   "cell_type": "code",
   "execution_count": 2,
   "metadata": {},
   "outputs": [],
   "source": [
    "def df_view(df):\n",
    "    \"\"\"\n",
    "    Быстрый обзор таблицы\n",
    "    \"\"\"\n",
    "    display(df)\n",
    "    print(df.info())"
   ]
  },
  {
   "cell_type": "markdown",
   "metadata": {},
   "source": [
    "Чтение данных и визуалиция всех таблиц"
   ]
  },
  {
   "cell_type": "code",
   "execution_count": 3,
   "metadata": {
    "scrolled": true
   },
   "outputs": [
    {
     "data": {
      "text/html": [
       "<div>\n",
       "<style scoped>\n",
       "    .dataframe tbody tr th:only-of-type {\n",
       "        vertical-align: middle;\n",
       "    }\n",
       "\n",
       "    .dataframe tbody tr th {\n",
       "        vertical-align: top;\n",
       "    }\n",
       "\n",
       "    .dataframe thead th {\n",
       "        text-align: right;\n",
       "    }\n",
       "</style>\n",
       "<table border=\"1\" class=\"dataframe\">\n",
       "  <thead>\n",
       "    <tr style=\"text-align: right;\">\n",
       "      <th></th>\n",
       "      <th>id</th>\n",
       "      <th>call_date</th>\n",
       "      <th>duration</th>\n",
       "      <th>user_id</th>\n",
       "    </tr>\n",
       "  </thead>\n",
       "  <tbody>\n",
       "    <tr>\n",
       "      <td>0</td>\n",
       "      <td>1000_0</td>\n",
       "      <td>2018-07-25</td>\n",
       "      <td>0.00</td>\n",
       "      <td>1000</td>\n",
       "    </tr>\n",
       "    <tr>\n",
       "      <td>1</td>\n",
       "      <td>1000_1</td>\n",
       "      <td>2018-08-17</td>\n",
       "      <td>0.00</td>\n",
       "      <td>1000</td>\n",
       "    </tr>\n",
       "    <tr>\n",
       "      <td>2</td>\n",
       "      <td>1000_2</td>\n",
       "      <td>2018-06-11</td>\n",
       "      <td>2.85</td>\n",
       "      <td>1000</td>\n",
       "    </tr>\n",
       "    <tr>\n",
       "      <td>3</td>\n",
       "      <td>1000_3</td>\n",
       "      <td>2018-09-21</td>\n",
       "      <td>13.80</td>\n",
       "      <td>1000</td>\n",
       "    </tr>\n",
       "    <tr>\n",
       "      <td>4</td>\n",
       "      <td>1000_4</td>\n",
       "      <td>2018-12-15</td>\n",
       "      <td>5.18</td>\n",
       "      <td>1000</td>\n",
       "    </tr>\n",
       "    <tr>\n",
       "      <td>...</td>\n",
       "      <td>...</td>\n",
       "      <td>...</td>\n",
       "      <td>...</td>\n",
       "      <td>...</td>\n",
       "    </tr>\n",
       "    <tr>\n",
       "      <td>202602</td>\n",
       "      <td>1499_215</td>\n",
       "      <td>2018-12-26</td>\n",
       "      <td>0.76</td>\n",
       "      <td>1499</td>\n",
       "    </tr>\n",
       "    <tr>\n",
       "      <td>202603</td>\n",
       "      <td>1499_216</td>\n",
       "      <td>2018-10-18</td>\n",
       "      <td>18.83</td>\n",
       "      <td>1499</td>\n",
       "    </tr>\n",
       "    <tr>\n",
       "      <td>202604</td>\n",
       "      <td>1499_217</td>\n",
       "      <td>2018-11-10</td>\n",
       "      <td>10.81</td>\n",
       "      <td>1499</td>\n",
       "    </tr>\n",
       "    <tr>\n",
       "      <td>202605</td>\n",
       "      <td>1499_218</td>\n",
       "      <td>2018-10-06</td>\n",
       "      <td>4.27</td>\n",
       "      <td>1499</td>\n",
       "    </tr>\n",
       "    <tr>\n",
       "      <td>202606</td>\n",
       "      <td>1499_219</td>\n",
       "      <td>2018-12-14</td>\n",
       "      <td>19.62</td>\n",
       "      <td>1499</td>\n",
       "    </tr>\n",
       "  </tbody>\n",
       "</table>\n",
       "<p>202607 rows × 4 columns</p>\n",
       "</div>"
      ],
      "text/plain": [
       "              id   call_date  duration  user_id\n",
       "0         1000_0  2018-07-25      0.00     1000\n",
       "1         1000_1  2018-08-17      0.00     1000\n",
       "2         1000_2  2018-06-11      2.85     1000\n",
       "3         1000_3  2018-09-21     13.80     1000\n",
       "4         1000_4  2018-12-15      5.18     1000\n",
       "...          ...         ...       ...      ...\n",
       "202602  1499_215  2018-12-26      0.76     1499\n",
       "202603  1499_216  2018-10-18     18.83     1499\n",
       "202604  1499_217  2018-11-10     10.81     1499\n",
       "202605  1499_218  2018-10-06      4.27     1499\n",
       "202606  1499_219  2018-12-14     19.62     1499\n",
       "\n",
       "[202607 rows x 4 columns]"
      ]
     },
     "metadata": {},
     "output_type": "display_data"
    },
    {
     "name": "stdout",
     "output_type": "stream",
     "text": [
      "<class 'pandas.core.frame.DataFrame'>\n",
      "RangeIndex: 202607 entries, 0 to 202606\n",
      "Data columns (total 4 columns):\n",
      "id           202607 non-null object\n",
      "call_date    202607 non-null object\n",
      "duration     202607 non-null float64\n",
      "user_id      202607 non-null int64\n",
      "dtypes: float64(1), int64(1), object(2)\n",
      "memory usage: 6.2+ MB\n",
      "None\n"
     ]
    }
   ],
   "source": [
    "calls = pd.read_csv('данные предоставлены Яндекс.Практикум')\n",
    "df_view(calls)"
   ]
  },
  {
   "cell_type": "code",
   "execution_count": 4,
   "metadata": {},
   "outputs": [
    {
     "data": {
      "text/html": [
       "<div>\n",
       "<style scoped>\n",
       "    .dataframe tbody tr th:only-of-type {\n",
       "        vertical-align: middle;\n",
       "    }\n",
       "\n",
       "    .dataframe tbody tr th {\n",
       "        vertical-align: top;\n",
       "    }\n",
       "\n",
       "    .dataframe thead th {\n",
       "        text-align: right;\n",
       "    }\n",
       "</style>\n",
       "<table border=\"1\" class=\"dataframe\">\n",
       "  <thead>\n",
       "    <tr style=\"text-align: right;\">\n",
       "      <th></th>\n",
       "      <th>Unnamed: 0</th>\n",
       "      <th>id</th>\n",
       "      <th>mb_used</th>\n",
       "      <th>session_date</th>\n",
       "      <th>user_id</th>\n",
       "    </tr>\n",
       "  </thead>\n",
       "  <tbody>\n",
       "    <tr>\n",
       "      <td>0</td>\n",
       "      <td>0</td>\n",
       "      <td>1000_0</td>\n",
       "      <td>112.95</td>\n",
       "      <td>2018-11-25</td>\n",
       "      <td>1000</td>\n",
       "    </tr>\n",
       "    <tr>\n",
       "      <td>1</td>\n",
       "      <td>1</td>\n",
       "      <td>1000_1</td>\n",
       "      <td>1052.81</td>\n",
       "      <td>2018-09-07</td>\n",
       "      <td>1000</td>\n",
       "    </tr>\n",
       "    <tr>\n",
       "      <td>2</td>\n",
       "      <td>2</td>\n",
       "      <td>1000_2</td>\n",
       "      <td>1197.26</td>\n",
       "      <td>2018-06-25</td>\n",
       "      <td>1000</td>\n",
       "    </tr>\n",
       "    <tr>\n",
       "      <td>3</td>\n",
       "      <td>3</td>\n",
       "      <td>1000_3</td>\n",
       "      <td>550.27</td>\n",
       "      <td>2018-08-22</td>\n",
       "      <td>1000</td>\n",
       "    </tr>\n",
       "    <tr>\n",
       "      <td>4</td>\n",
       "      <td>4</td>\n",
       "      <td>1000_4</td>\n",
       "      <td>302.56</td>\n",
       "      <td>2018-09-24</td>\n",
       "      <td>1000</td>\n",
       "    </tr>\n",
       "    <tr>\n",
       "      <td>...</td>\n",
       "      <td>...</td>\n",
       "      <td>...</td>\n",
       "      <td>...</td>\n",
       "      <td>...</td>\n",
       "      <td>...</td>\n",
       "    </tr>\n",
       "    <tr>\n",
       "      <td>149391</td>\n",
       "      <td>149391</td>\n",
       "      <td>1499_152</td>\n",
       "      <td>318.90</td>\n",
       "      <td>2018-10-03</td>\n",
       "      <td>1499</td>\n",
       "    </tr>\n",
       "    <tr>\n",
       "      <td>149392</td>\n",
       "      <td>149392</td>\n",
       "      <td>1499_153</td>\n",
       "      <td>490.13</td>\n",
       "      <td>2018-12-14</td>\n",
       "      <td>1499</td>\n",
       "    </tr>\n",
       "    <tr>\n",
       "      <td>149393</td>\n",
       "      <td>149393</td>\n",
       "      <td>1499_154</td>\n",
       "      <td>0.00</td>\n",
       "      <td>2018-10-27</td>\n",
       "      <td>1499</td>\n",
       "    </tr>\n",
       "    <tr>\n",
       "      <td>149394</td>\n",
       "      <td>149394</td>\n",
       "      <td>1499_155</td>\n",
       "      <td>1246.32</td>\n",
       "      <td>2018-11-26</td>\n",
       "      <td>1499</td>\n",
       "    </tr>\n",
       "    <tr>\n",
       "      <td>149395</td>\n",
       "      <td>149395</td>\n",
       "      <td>1499_156</td>\n",
       "      <td>544.37</td>\n",
       "      <td>2018-10-26</td>\n",
       "      <td>1499</td>\n",
       "    </tr>\n",
       "  </tbody>\n",
       "</table>\n",
       "<p>149396 rows × 5 columns</p>\n",
       "</div>"
      ],
      "text/plain": [
       "        Unnamed: 0        id  mb_used session_date  user_id\n",
       "0                0    1000_0   112.95   2018-11-25     1000\n",
       "1                1    1000_1  1052.81   2018-09-07     1000\n",
       "2                2    1000_2  1197.26   2018-06-25     1000\n",
       "3                3    1000_3   550.27   2018-08-22     1000\n",
       "4                4    1000_4   302.56   2018-09-24     1000\n",
       "...            ...       ...      ...          ...      ...\n",
       "149391      149391  1499_152   318.90   2018-10-03     1499\n",
       "149392      149392  1499_153   490.13   2018-12-14     1499\n",
       "149393      149393  1499_154     0.00   2018-10-27     1499\n",
       "149394      149394  1499_155  1246.32   2018-11-26     1499\n",
       "149395      149395  1499_156   544.37   2018-10-26     1499\n",
       "\n",
       "[149396 rows x 5 columns]"
      ]
     },
     "metadata": {},
     "output_type": "display_data"
    },
    {
     "name": "stdout",
     "output_type": "stream",
     "text": [
      "<class 'pandas.core.frame.DataFrame'>\n",
      "RangeIndex: 149396 entries, 0 to 149395\n",
      "Data columns (total 5 columns):\n",
      "Unnamed: 0      149396 non-null int64\n",
      "id              149396 non-null object\n",
      "mb_used         149396 non-null float64\n",
      "session_date    149396 non-null object\n",
      "user_id         149396 non-null int64\n",
      "dtypes: float64(1), int64(2), object(2)\n",
      "memory usage: 5.7+ MB\n",
      "None\n"
     ]
    }
   ],
   "source": [
    "internet = pd.read_csv('данные предоставлены Яндекс.Практикум')\n",
    "df_view(internet)"
   ]
  },
  {
   "cell_type": "code",
   "execution_count": 5,
   "metadata": {},
   "outputs": [
    {
     "data": {
      "text/html": [
       "<div>\n",
       "<style scoped>\n",
       "    .dataframe tbody tr th:only-of-type {\n",
       "        vertical-align: middle;\n",
       "    }\n",
       "\n",
       "    .dataframe tbody tr th {\n",
       "        vertical-align: top;\n",
       "    }\n",
       "\n",
       "    .dataframe thead th {\n",
       "        text-align: right;\n",
       "    }\n",
       "</style>\n",
       "<table border=\"1\" class=\"dataframe\">\n",
       "  <thead>\n",
       "    <tr style=\"text-align: right;\">\n",
       "      <th></th>\n",
       "      <th>id</th>\n",
       "      <th>message_date</th>\n",
       "      <th>user_id</th>\n",
       "    </tr>\n",
       "  </thead>\n",
       "  <tbody>\n",
       "    <tr>\n",
       "      <td>0</td>\n",
       "      <td>1000_0</td>\n",
       "      <td>2018-06-27</td>\n",
       "      <td>1000</td>\n",
       "    </tr>\n",
       "    <tr>\n",
       "      <td>1</td>\n",
       "      <td>1000_1</td>\n",
       "      <td>2018-10-08</td>\n",
       "      <td>1000</td>\n",
       "    </tr>\n",
       "    <tr>\n",
       "      <td>2</td>\n",
       "      <td>1000_2</td>\n",
       "      <td>2018-08-04</td>\n",
       "      <td>1000</td>\n",
       "    </tr>\n",
       "    <tr>\n",
       "      <td>3</td>\n",
       "      <td>1000_3</td>\n",
       "      <td>2018-06-16</td>\n",
       "      <td>1000</td>\n",
       "    </tr>\n",
       "    <tr>\n",
       "      <td>4</td>\n",
       "      <td>1000_4</td>\n",
       "      <td>2018-12-05</td>\n",
       "      <td>1000</td>\n",
       "    </tr>\n",
       "    <tr>\n",
       "      <td>...</td>\n",
       "      <td>...</td>\n",
       "      <td>...</td>\n",
       "      <td>...</td>\n",
       "    </tr>\n",
       "    <tr>\n",
       "      <td>123031</td>\n",
       "      <td>1499_179</td>\n",
       "      <td>2018-12-12</td>\n",
       "      <td>1499</td>\n",
       "    </tr>\n",
       "    <tr>\n",
       "      <td>123032</td>\n",
       "      <td>1499_180</td>\n",
       "      <td>2018-09-28</td>\n",
       "      <td>1499</td>\n",
       "    </tr>\n",
       "    <tr>\n",
       "      <td>123033</td>\n",
       "      <td>1499_181</td>\n",
       "      <td>2018-09-27</td>\n",
       "      <td>1499</td>\n",
       "    </tr>\n",
       "    <tr>\n",
       "      <td>123034</td>\n",
       "      <td>1499_182</td>\n",
       "      <td>2018-11-15</td>\n",
       "      <td>1499</td>\n",
       "    </tr>\n",
       "    <tr>\n",
       "      <td>123035</td>\n",
       "      <td>1499_183</td>\n",
       "      <td>2018-11-16</td>\n",
       "      <td>1499</td>\n",
       "    </tr>\n",
       "  </tbody>\n",
       "</table>\n",
       "<p>123036 rows × 3 columns</p>\n",
       "</div>"
      ],
      "text/plain": [
       "              id message_date  user_id\n",
       "0         1000_0   2018-06-27     1000\n",
       "1         1000_1   2018-10-08     1000\n",
       "2         1000_2   2018-08-04     1000\n",
       "3         1000_3   2018-06-16     1000\n",
       "4         1000_4   2018-12-05     1000\n",
       "...          ...          ...      ...\n",
       "123031  1499_179   2018-12-12     1499\n",
       "123032  1499_180   2018-09-28     1499\n",
       "123033  1499_181   2018-09-27     1499\n",
       "123034  1499_182   2018-11-15     1499\n",
       "123035  1499_183   2018-11-16     1499\n",
       "\n",
       "[123036 rows x 3 columns]"
      ]
     },
     "metadata": {},
     "output_type": "display_data"
    },
    {
     "name": "stdout",
     "output_type": "stream",
     "text": [
      "<class 'pandas.core.frame.DataFrame'>\n",
      "RangeIndex: 123036 entries, 0 to 123035\n",
      "Data columns (total 3 columns):\n",
      "id              123036 non-null object\n",
      "message_date    123036 non-null object\n",
      "user_id         123036 non-null int64\n",
      "dtypes: int64(1), object(2)\n",
      "memory usage: 2.8+ MB\n",
      "None\n"
     ]
    }
   ],
   "source": [
    "messages = pd.read_csv('данные предоставлены Яндекс.Практикум')\n",
    "df_view(messages)"
   ]
  },
  {
   "cell_type": "code",
   "execution_count": 6,
   "metadata": {},
   "outputs": [
    {
     "data": {
      "text/html": [
       "<div>\n",
       "<style scoped>\n",
       "    .dataframe tbody tr th:only-of-type {\n",
       "        vertical-align: middle;\n",
       "    }\n",
       "\n",
       "    .dataframe tbody tr th {\n",
       "        vertical-align: top;\n",
       "    }\n",
       "\n",
       "    .dataframe thead th {\n",
       "        text-align: right;\n",
       "    }\n",
       "</style>\n",
       "<table border=\"1\" class=\"dataframe\">\n",
       "  <thead>\n",
       "    <tr style=\"text-align: right;\">\n",
       "      <th></th>\n",
       "      <th>messages_included</th>\n",
       "      <th>mb_per_month_included</th>\n",
       "      <th>minutes_included</th>\n",
       "      <th>rub_monthly_fee</th>\n",
       "      <th>rub_per_gb</th>\n",
       "      <th>rub_per_message</th>\n",
       "      <th>rub_per_minute</th>\n",
       "      <th>tariff_name</th>\n",
       "    </tr>\n",
       "  </thead>\n",
       "  <tbody>\n",
       "    <tr>\n",
       "      <td>0</td>\n",
       "      <td>50</td>\n",
       "      <td>15360</td>\n",
       "      <td>500</td>\n",
       "      <td>550</td>\n",
       "      <td>200</td>\n",
       "      <td>3</td>\n",
       "      <td>3</td>\n",
       "      <td>smart</td>\n",
       "    </tr>\n",
       "    <tr>\n",
       "      <td>1</td>\n",
       "      <td>1000</td>\n",
       "      <td>30720</td>\n",
       "      <td>3000</td>\n",
       "      <td>1950</td>\n",
       "      <td>150</td>\n",
       "      <td>1</td>\n",
       "      <td>1</td>\n",
       "      <td>ultra</td>\n",
       "    </tr>\n",
       "  </tbody>\n",
       "</table>\n",
       "</div>"
      ],
      "text/plain": [
       "   messages_included  mb_per_month_included  minutes_included  \\\n",
       "0                 50                  15360               500   \n",
       "1               1000                  30720              3000   \n",
       "\n",
       "   rub_monthly_fee  rub_per_gb  rub_per_message  rub_per_minute tariff_name  \n",
       "0              550         200                3               3       smart  \n",
       "1             1950         150                1               1       ultra  "
      ]
     },
     "metadata": {},
     "output_type": "display_data"
    },
    {
     "name": "stdout",
     "output_type": "stream",
     "text": [
      "<class 'pandas.core.frame.DataFrame'>\n",
      "RangeIndex: 2 entries, 0 to 1\n",
      "Data columns (total 8 columns):\n",
      "messages_included        2 non-null int64\n",
      "mb_per_month_included    2 non-null int64\n",
      "minutes_included         2 non-null int64\n",
      "rub_monthly_fee          2 non-null int64\n",
      "rub_per_gb               2 non-null int64\n",
      "rub_per_message          2 non-null int64\n",
      "rub_per_minute           2 non-null int64\n",
      "tariff_name              2 non-null object\n",
      "dtypes: int64(7), object(1)\n",
      "memory usage: 256.0+ bytes\n",
      "None\n"
     ]
    }
   ],
   "source": [
    "tariffs = pd.read_csv('данные предоставлены Яндекс.Практикум')\n",
    "df_view(tariffs)"
   ]
  },
  {
   "cell_type": "code",
   "execution_count": 7,
   "metadata": {},
   "outputs": [
    {
     "data": {
      "text/html": [
       "<div>\n",
       "<style scoped>\n",
       "    .dataframe tbody tr th:only-of-type {\n",
       "        vertical-align: middle;\n",
       "    }\n",
       "\n",
       "    .dataframe tbody tr th {\n",
       "        vertical-align: top;\n",
       "    }\n",
       "\n",
       "    .dataframe thead th {\n",
       "        text-align: right;\n",
       "    }\n",
       "</style>\n",
       "<table border=\"1\" class=\"dataframe\">\n",
       "  <thead>\n",
       "    <tr style=\"text-align: right;\">\n",
       "      <th></th>\n",
       "      <th>user_id</th>\n",
       "      <th>age</th>\n",
       "      <th>churn_date</th>\n",
       "      <th>city</th>\n",
       "      <th>first_name</th>\n",
       "      <th>last_name</th>\n",
       "      <th>reg_date</th>\n",
       "      <th>tariff</th>\n",
       "    </tr>\n",
       "  </thead>\n",
       "  <tbody>\n",
       "    <tr>\n",
       "      <td>0</td>\n",
       "      <td>1000</td>\n",
       "      <td>52</td>\n",
       "      <td>NaN</td>\n",
       "      <td>Краснодар</td>\n",
       "      <td>Рафаил</td>\n",
       "      <td>Верещагин</td>\n",
       "      <td>2018-05-25</td>\n",
       "      <td>ultra</td>\n",
       "    </tr>\n",
       "    <tr>\n",
       "      <td>1</td>\n",
       "      <td>1001</td>\n",
       "      <td>41</td>\n",
       "      <td>NaN</td>\n",
       "      <td>Москва</td>\n",
       "      <td>Иван</td>\n",
       "      <td>Ежов</td>\n",
       "      <td>2018-11-01</td>\n",
       "      <td>smart</td>\n",
       "    </tr>\n",
       "    <tr>\n",
       "      <td>2</td>\n",
       "      <td>1002</td>\n",
       "      <td>59</td>\n",
       "      <td>NaN</td>\n",
       "      <td>Стерлитамак</td>\n",
       "      <td>Евгений</td>\n",
       "      <td>Абрамович</td>\n",
       "      <td>2018-06-17</td>\n",
       "      <td>smart</td>\n",
       "    </tr>\n",
       "    <tr>\n",
       "      <td>3</td>\n",
       "      <td>1003</td>\n",
       "      <td>23</td>\n",
       "      <td>NaN</td>\n",
       "      <td>Москва</td>\n",
       "      <td>Белла</td>\n",
       "      <td>Белякова</td>\n",
       "      <td>2018-08-17</td>\n",
       "      <td>ultra</td>\n",
       "    </tr>\n",
       "    <tr>\n",
       "      <td>4</td>\n",
       "      <td>1004</td>\n",
       "      <td>68</td>\n",
       "      <td>NaN</td>\n",
       "      <td>Новокузнецк</td>\n",
       "      <td>Татьяна</td>\n",
       "      <td>Авдеенко</td>\n",
       "      <td>2018-05-14</td>\n",
       "      <td>ultra</td>\n",
       "    </tr>\n",
       "    <tr>\n",
       "      <td>...</td>\n",
       "      <td>...</td>\n",
       "      <td>...</td>\n",
       "      <td>...</td>\n",
       "      <td>...</td>\n",
       "      <td>...</td>\n",
       "      <td>...</td>\n",
       "      <td>...</td>\n",
       "      <td>...</td>\n",
       "    </tr>\n",
       "    <tr>\n",
       "      <td>495</td>\n",
       "      <td>1495</td>\n",
       "      <td>65</td>\n",
       "      <td>NaN</td>\n",
       "      <td>Иркутск</td>\n",
       "      <td>Авксентий</td>\n",
       "      <td>Фокин</td>\n",
       "      <td>2018-08-28</td>\n",
       "      <td>ultra</td>\n",
       "    </tr>\n",
       "    <tr>\n",
       "      <td>496</td>\n",
       "      <td>1496</td>\n",
       "      <td>36</td>\n",
       "      <td>NaN</td>\n",
       "      <td>Вологда</td>\n",
       "      <td>Трифон</td>\n",
       "      <td>Блохин</td>\n",
       "      <td>2018-01-27</td>\n",
       "      <td>smart</td>\n",
       "    </tr>\n",
       "    <tr>\n",
       "      <td>497</td>\n",
       "      <td>1497</td>\n",
       "      <td>32</td>\n",
       "      <td>NaN</td>\n",
       "      <td>Челябинск</td>\n",
       "      <td>Каролина</td>\n",
       "      <td>Агеева</td>\n",
       "      <td>2018-10-09</td>\n",
       "      <td>smart</td>\n",
       "    </tr>\n",
       "    <tr>\n",
       "      <td>498</td>\n",
       "      <td>1498</td>\n",
       "      <td>68</td>\n",
       "      <td>2018-10-25</td>\n",
       "      <td>Владикавказ</td>\n",
       "      <td>Всеволод</td>\n",
       "      <td>Акимчин</td>\n",
       "      <td>2018-07-19</td>\n",
       "      <td>smart</td>\n",
       "    </tr>\n",
       "    <tr>\n",
       "      <td>499</td>\n",
       "      <td>1499</td>\n",
       "      <td>35</td>\n",
       "      <td>NaN</td>\n",
       "      <td>Пермь</td>\n",
       "      <td>Гектор</td>\n",
       "      <td>Корнилов</td>\n",
       "      <td>2018-09-27</td>\n",
       "      <td>smart</td>\n",
       "    </tr>\n",
       "  </tbody>\n",
       "</table>\n",
       "<p>500 rows × 8 columns</p>\n",
       "</div>"
      ],
      "text/plain": [
       "     user_id  age  churn_date         city first_name  last_name    reg_date  \\\n",
       "0       1000   52         NaN    Краснодар     Рафаил  Верещагин  2018-05-25   \n",
       "1       1001   41         NaN       Москва       Иван       Ежов  2018-11-01   \n",
       "2       1002   59         NaN  Стерлитамак    Евгений  Абрамович  2018-06-17   \n",
       "3       1003   23         NaN       Москва      Белла   Белякова  2018-08-17   \n",
       "4       1004   68         NaN  Новокузнецк    Татьяна   Авдеенко  2018-05-14   \n",
       "..       ...  ...         ...          ...        ...        ...         ...   \n",
       "495     1495   65         NaN      Иркутск  Авксентий      Фокин  2018-08-28   \n",
       "496     1496   36         NaN      Вологда     Трифон     Блохин  2018-01-27   \n",
       "497     1497   32         NaN    Челябинск   Каролина     Агеева  2018-10-09   \n",
       "498     1498   68  2018-10-25  Владикавказ   Всеволод    Акимчин  2018-07-19   \n",
       "499     1499   35         NaN        Пермь     Гектор   Корнилов  2018-09-27   \n",
       "\n",
       "    tariff  \n",
       "0    ultra  \n",
       "1    smart  \n",
       "2    smart  \n",
       "3    ultra  \n",
       "4    ultra  \n",
       "..     ...  \n",
       "495  ultra  \n",
       "496  smart  \n",
       "497  smart  \n",
       "498  smart  \n",
       "499  smart  \n",
       "\n",
       "[500 rows x 8 columns]"
      ]
     },
     "metadata": {},
     "output_type": "display_data"
    },
    {
     "name": "stdout",
     "output_type": "stream",
     "text": [
      "<class 'pandas.core.frame.DataFrame'>\n",
      "RangeIndex: 500 entries, 0 to 499\n",
      "Data columns (total 8 columns):\n",
      "user_id       500 non-null int64\n",
      "age           500 non-null int64\n",
      "churn_date    38 non-null object\n",
      "city          500 non-null object\n",
      "first_name    500 non-null object\n",
      "last_name     500 non-null object\n",
      "reg_date      500 non-null object\n",
      "tariff        500 non-null object\n",
      "dtypes: int64(2), object(6)\n",
      "memory usage: 31.4+ KB\n",
      "None\n"
     ]
    }
   ],
   "source": [
    "users = pd.read_csv('данные предоставлены Яндекс.Практикум')\n",
    "df_view(users)"
   ]
  },
  {
   "cell_type": "markdown",
   "metadata": {},
   "source": [
    "#### Вывод\n",
    "Данные для анализа представлены в 5 таблицах.\n",
    "\n",
    "Таблица `tariffs` описывает 2 тарифных плана, выручку с которых и необходимо проанализировать. Остальные 4 таблицы `calls`, `internet`, `messages` и `users` имеют общий столбец `user_id`, который идентифицирует каждого конкретного пользователя и в каждой из таблиц путем изменения формата колонок `call_date`, `session_date`, `message_date` и `reg_date` из `object` в `datetime64` мы можем выделить месяц, в который который каждый пользователь совершал звонки, писал смс и пользовался интернетом. \n",
    "\n",
    "Из данных мы также видим, что в таблицах `calls` и `internet` есть данные с нулевым значением длительности звонков и интернет трафика, их необходимо обработать. Дробные значения минут разговора `duration` и интернет трафика `mb_used` нужно округлить до целых чисел вверх, как это делает наш \"жадный\" оператор и изменить тип данных на `int64`."
   ]
  },
  {
   "cell_type": "markdown",
   "metadata": {},
   "source": [
    "### Шаг 2. Предобработка данных и расчет необходимых параметров."
   ]
  },
  {
   "cell_type": "markdown",
   "metadata": {},
   "source": [
    "Используем функцию для нахождения выбросов, поскольку в таблице `calls` есть нулевые значения длительности звонков."
   ]
  },
  {
   "cell_type": "code",
   "execution_count": 8,
   "metadata": {},
   "outputs": [],
   "source": [
    "def series_analysis(data, x, w):\n",
    "    \"\"\"\n",
    "    Функция построения графиков (и нахождения выбросов) для анализа  \n",
    "    1 параметра c непрерывным распределением данных.\n",
    "    data - имя датафрейма\n",
    "    x - имя колонки\n",
    "    w - кол-во бинов\n",
    "    \"\"\"\n",
    "    display(data[x].describe())\n",
    "    print()\n",
    "    data.hist(x, bins=30)\n",
    "    plt.show()\n",
    "    "
   ]
  },
  {
   "cell_type": "code",
   "execution_count": 9,
   "metadata": {},
   "outputs": [
    {
     "data": {
      "text/plain": [
       "count    202607.000000\n",
       "mean          6.755887\n",
       "std           5.843365\n",
       "min           0.000000\n",
       "25%           1.300000\n",
       "50%           6.000000\n",
       "75%          10.700000\n",
       "max          38.000000\n",
       "Name: duration, dtype: float64"
      ]
     },
     "metadata": {},
     "output_type": "display_data"
    },
    {
     "name": "stdout",
     "output_type": "stream",
     "text": [
      "\n"
     ]
    },
    {
     "data": {
      "image/png": "[encoded data removed]",
      "text/plain": [
       "<Figure size 432x288 with 1 Axes>"
      ]
     },
     "metadata": {
      "needs_background": "light"
     },
     "output_type": "display_data"
    }
   ],
   "source": [
    "series_analysis(calls, 'duration', 30)    "
   ]
  },
  {
   "cell_type": "code",
   "execution_count": 10,
   "metadata": {},
   "outputs": [
    {
     "data": {
      "text/plain": [
       "id           39613\n",
       "call_date    39613\n",
       "duration     39613\n",
       "user_id      39613\n",
       "dtype: int64"
      ]
     },
     "execution_count": 10,
     "metadata": {},
     "output_type": "execute_result"
    }
   ],
   "source": [
    "calls.query('duration <= 0').count()"
   ]
  },
  {
   "cell_type": "markdown",
   "metadata": {},
   "source": [
    "Из графика видно, что количество нулевых звонков составляет примерно 20%. Поскольку это скорей всего неотвеченнные звонки, которые не тарифицируются (даже нашим жадным оператором), но они значительно занижают среднее значение продолжительности звонка, поэтому мы их удалим из наших данных и посмотрим на изменение среднего и медианного значения. "
   ]
  },
  {
   "cell_type": "code",
   "execution_count": 11,
   "metadata": {},
   "outputs": [
    {
     "data": {
      "text/plain": [
       "count    162994.000000\n",
       "mean          8.397794\n",
       "std           5.353022\n",
       "min           0.010000\n",
       "25%           4.170000\n",
       "50%           7.740000\n",
       "75%          11.850000\n",
       "max          38.000000\n",
       "Name: duration, dtype: float64"
      ]
     },
     "metadata": {},
     "output_type": "display_data"
    },
    {
     "name": "stdout",
     "output_type": "stream",
     "text": [
      "\n"
     ]
    },
    {
     "data": {
      "image/png": "[encoded data removed]",
      "text/plain": [
       "<Figure size 432x288 with 1 Axes>"
      ]
     },
     "metadata": {
      "needs_background": "light"
     },
     "output_type": "display_data"
    }
   ],
   "source": [
    "calls.query('duration > 0', inplace=True)\n",
    "calls.reset_index(inplace=True, drop=True)\n",
    "\n",
    "series_analysis(calls, 'duration', 30)  "
   ]
  },
  {
   "cell_type": "markdown",
   "metadata": {},
   "source": [
    "Используем функцию, которая меняет формат даты с `object` в `datetime64`, округляет продолжительность до целого и меняет типа на `int64`, группирует данные таблицы по конкретному пользователю и месяцу расхода и подсчитывает количество и длительность разговора."
   ]
  },
  {
   "cell_type": "code",
   "execution_count": 12,
   "metadata": {},
   "outputs": [],
   "source": [
    "def df_grouped(df, date_column, duration):\n",
    "    \"\"\"\n",
    "    Функция \n",
    "    \"\"\"\n",
    "    df[date_column] = pd.to_datetime(df[date_column], format='%Y-%m-%d')\n",
    "    df['month'] = pd.to_datetime(df[date_column]).dt.month\n",
    "    \n",
    "    df[duration] = np.ceil(df[duration]).astype(int)\n",
    "    df_gr = df.groupby(['user_id', 'month']).agg({duration: ['sum', 'count']}).reset_index()\n",
    "    \n",
    "    print(df_gr.info())\n",
    "    display(df_gr)\n",
    "    return df_gr\n",
    "    "
   ]
  },
  {
   "cell_type": "code",
   "execution_count": 13,
   "metadata": {},
   "outputs": [
    {
     "name": "stdout",
     "output_type": "stream",
     "text": [
      "<class 'pandas.core.frame.DataFrame'>\n",
      "RangeIndex: 3168 entries, 0 to 3167\n",
      "Data columns (total 4 columns):\n",
      "(user_id, )          3168 non-null int64\n",
      "(month, )            3168 non-null int64\n",
      "(duration, sum)      3168 non-null int64\n",
      "(duration, count)    3168 non-null int64\n",
      "dtypes: int64(4)\n",
      "memory usage: 99.1 KB\n",
      "None\n"
     ]
    },
    {
     "data": {
      "text/html": [
       "<div>\n",
       "<style scoped>\n",
       "    .dataframe tbody tr th:only-of-type {\n",
       "        vertical-align: middle;\n",
       "    }\n",
       "\n",
       "    .dataframe tbody tr th {\n",
       "        vertical-align: top;\n",
       "    }\n",
       "\n",
       "    .dataframe thead tr th {\n",
       "        text-align: left;\n",
       "    }\n",
       "</style>\n",
       "<table border=\"1\" class=\"dataframe\">\n",
       "  <thead>\n",
       "    <tr>\n",
       "      <th></th>\n",
       "      <th>user_id</th>\n",
       "      <th>month</th>\n",
       "      <th colspan=\"2\" halign=\"left\">duration</th>\n",
       "    </tr>\n",
       "    <tr>\n",
       "      <th></th>\n",
       "      <th></th>\n",
       "      <th></th>\n",
       "      <th>sum</th>\n",
       "      <th>count</th>\n",
       "    </tr>\n",
       "  </thead>\n",
       "  <tbody>\n",
       "    <tr>\n",
       "      <td>0</td>\n",
       "      <td>1000</td>\n",
       "      <td>5</td>\n",
       "      <td>159</td>\n",
       "      <td>17</td>\n",
       "    </tr>\n",
       "    <tr>\n",
       "      <td>1</td>\n",
       "      <td>1000</td>\n",
       "      <td>6</td>\n",
       "      <td>172</td>\n",
       "      <td>28</td>\n",
       "    </tr>\n",
       "    <tr>\n",
       "      <td>2</td>\n",
       "      <td>1000</td>\n",
       "      <td>7</td>\n",
       "      <td>340</td>\n",
       "      <td>41</td>\n",
       "    </tr>\n",
       "    <tr>\n",
       "      <td>3</td>\n",
       "      <td>1000</td>\n",
       "      <td>8</td>\n",
       "      <td>408</td>\n",
       "      <td>42</td>\n",
       "    </tr>\n",
       "    <tr>\n",
       "      <td>4</td>\n",
       "      <td>1000</td>\n",
       "      <td>9</td>\n",
       "      <td>466</td>\n",
       "      <td>46</td>\n",
       "    </tr>\n",
       "    <tr>\n",
       "      <td>...</td>\n",
       "      <td>...</td>\n",
       "      <td>...</td>\n",
       "      <td>...</td>\n",
       "      <td>...</td>\n",
       "    </tr>\n",
       "    <tr>\n",
       "      <td>3163</td>\n",
       "      <td>1498</td>\n",
       "      <td>10</td>\n",
       "      <td>247</td>\n",
       "      <td>30</td>\n",
       "    </tr>\n",
       "    <tr>\n",
       "      <td>3164</td>\n",
       "      <td>1499</td>\n",
       "      <td>9</td>\n",
       "      <td>70</td>\n",
       "      <td>8</td>\n",
       "    </tr>\n",
       "    <tr>\n",
       "      <td>3165</td>\n",
       "      <td>1499</td>\n",
       "      <td>10</td>\n",
       "      <td>449</td>\n",
       "      <td>44</td>\n",
       "    </tr>\n",
       "    <tr>\n",
       "      <td>3166</td>\n",
       "      <td>1499</td>\n",
       "      <td>11</td>\n",
       "      <td>612</td>\n",
       "      <td>62</td>\n",
       "    </tr>\n",
       "    <tr>\n",
       "      <td>3167</td>\n",
       "      <td>1499</td>\n",
       "      <td>12</td>\n",
       "      <td>492</td>\n",
       "      <td>56</td>\n",
       "    </tr>\n",
       "  </tbody>\n",
       "</table>\n",
       "<p>3168 rows × 4 columns</p>\n",
       "</div>"
      ],
      "text/plain": [
       "     user_id month duration      \n",
       "                        sum count\n",
       "0       1000     5      159    17\n",
       "1       1000     6      172    28\n",
       "2       1000     7      340    41\n",
       "3       1000     8      408    42\n",
       "4       1000     9      466    46\n",
       "...      ...   ...      ...   ...\n",
       "3163    1498    10      247    30\n",
       "3164    1499     9       70     8\n",
       "3165    1499    10      449    44\n",
       "3166    1499    11      612    62\n",
       "3167    1499    12      492    56\n",
       "\n",
       "[3168 rows x 4 columns]"
      ]
     },
     "metadata": {},
     "output_type": "display_data"
    },
    {
     "name": "stdout",
     "output_type": "stream",
     "text": [
      "<class 'pandas.core.frame.DataFrame'>\n",
      "RangeIndex: 3168 entries, 0 to 3167\n",
      "Data columns (total 4 columns):\n",
      "user_id           3168 non-null int64\n",
      "month             3168 non-null int64\n",
      "duration_sum      3168 non-null int64\n",
      "duration_count    3168 non-null int64\n",
      "dtypes: int64(4)\n",
      "memory usage: 99.1 KB\n"
     ]
    }
   ],
   "source": [
    "calls_grouped = df_grouped(calls, 'call_date', 'duration') \n",
    "calls_grouped.columns = ['user_id', 'month', 'duration_sum', 'duration_count']\n",
    "calls_grouped.info()                   "
   ]
  },
  {
   "cell_type": "markdown",
   "metadata": {},
   "source": [
    "Применим функцию series_analysis() к данным из таблицы `internet`"
   ]
  },
  {
   "cell_type": "code",
   "execution_count": 14,
   "metadata": {},
   "outputs": [
    {
     "data": {
      "text/plain": [
       "count    149396.000000\n",
       "mean        370.192426\n",
       "std         278.300951\n",
       "min           0.000000\n",
       "25%         138.187500\n",
       "50%         348.015000\n",
       "75%         559.552500\n",
       "max        1724.830000\n",
       "Name: mb_used, dtype: float64"
      ]
     },
     "metadata": {},
     "output_type": "display_data"
    },
    {
     "name": "stdout",
     "output_type": "stream",
     "text": [
      "\n"
     ]
    },
    {
     "data": {
      "image/png": "[encoded data removed]",
      "text/plain": [
       "<Figure size 432x288 with 1 Axes>"
      ]
     },
     "metadata": {
      "needs_background": "light"
     },
     "output_type": "display_data"
    }
   ],
   "source": [
    "series_analysis(internet, 'mb_used', 30) "
   ]
  },
  {
   "cell_type": "markdown",
   "metadata": {},
   "source": [
    "Здесь мы также видим, как и в звонках большое количество нулевого трафика, не все пользователи и не каждый месяц выходят в интернет. Эти данные также удалим, чтобы не искажать среднее значение по выборке."
   ]
  },
  {
   "cell_type": "code",
   "execution_count": 15,
   "metadata": {},
   "outputs": [
    {
     "data": {
      "text/plain": [
       "count    129798.000000\n",
       "mean        426.087210\n",
       "std         255.596447\n",
       "min           0.030000\n",
       "25%         227.460000\n",
       "50%         400.540000\n",
       "75%         592.947500\n",
       "max        1724.830000\n",
       "Name: mb_used, dtype: float64"
      ]
     },
     "metadata": {},
     "output_type": "display_data"
    },
    {
     "name": "stdout",
     "output_type": "stream",
     "text": [
      "\n"
     ]
    },
    {
     "data": {
      "image/png": "[encoded data removed]",
      "text/plain": [
       "<Figure size 432x288 with 1 Axes>"
      ]
     },
     "metadata": {
      "needs_background": "light"
     },
     "output_type": "display_data"
    }
   ],
   "source": [
    "internet.query('mb_used > 0', inplace=True)\n",
    "calls.reset_index(inplace=True, drop=True)\n",
    "\n",
    "series_analysis(internet, 'mb_used', 30)  "
   ]
  },
  {
   "cell_type": "markdown",
   "metadata": {},
   "source": [
    "Применим функцию df_grouped() к таблице `internet`, сгруппируем данные по пользователям и месяцам, подсчитаем количество Мб интернета и количество интернет-сессий для каждого пользователя в месяц."
   ]
  },
  {
   "cell_type": "code",
   "execution_count": 16,
   "metadata": {},
   "outputs": [
    {
     "name": "stdout",
     "output_type": "stream",
     "text": [
      "<class 'pandas.core.frame.DataFrame'>\n",
      "RangeIndex: 3201 entries, 0 to 3200\n",
      "Data columns (total 4 columns):\n",
      "(user_id, )         3201 non-null int64\n",
      "(month, )           3201 non-null int64\n",
      "(mb_used, sum)      3201 non-null int64\n",
      "(mb_used, count)    3201 non-null int64\n",
      "dtypes: int64(4)\n",
      "memory usage: 100.2 KB\n",
      "None\n"
     ]
    },
    {
     "data": {
      "text/html": [
       "<div>\n",
       "<style scoped>\n",
       "    .dataframe tbody tr th:only-of-type {\n",
       "        vertical-align: middle;\n",
       "    }\n",
       "\n",
       "    .dataframe tbody tr th {\n",
       "        vertical-align: top;\n",
       "    }\n",
       "\n",
       "    .dataframe thead tr th {\n",
       "        text-align: left;\n",
       "    }\n",
       "</style>\n",
       "<table border=\"1\" class=\"dataframe\">\n",
       "  <thead>\n",
       "    <tr>\n",
       "      <th></th>\n",
       "      <th>user_id</th>\n",
       "      <th>month</th>\n",
       "      <th colspan=\"2\" halign=\"left\">mb_used</th>\n",
       "    </tr>\n",
       "    <tr>\n",
       "      <th></th>\n",
       "      <th></th>\n",
       "      <th></th>\n",
       "      <th>sum</th>\n",
       "      <th>count</th>\n",
       "    </tr>\n",
       "  </thead>\n",
       "  <tbody>\n",
       "    <tr>\n",
       "      <td>0</td>\n",
       "      <td>1000</td>\n",
       "      <td>5</td>\n",
       "      <td>2256</td>\n",
       "      <td>4</td>\n",
       "    </tr>\n",
       "    <tr>\n",
       "      <td>1</td>\n",
       "      <td>1000</td>\n",
       "      <td>6</td>\n",
       "      <td>23257</td>\n",
       "      <td>44</td>\n",
       "    </tr>\n",
       "    <tr>\n",
       "      <td>2</td>\n",
       "      <td>1000</td>\n",
       "      <td>7</td>\n",
       "      <td>14016</td>\n",
       "      <td>28</td>\n",
       "    </tr>\n",
       "    <tr>\n",
       "      <td>3</td>\n",
       "      <td>1000</td>\n",
       "      <td>8</td>\n",
       "      <td>14070</td>\n",
       "      <td>27</td>\n",
       "    </tr>\n",
       "    <tr>\n",
       "      <td>4</td>\n",
       "      <td>1000</td>\n",
       "      <td>9</td>\n",
       "      <td>14581</td>\n",
       "      <td>25</td>\n",
       "    </tr>\n",
       "    <tr>\n",
       "      <td>...</td>\n",
       "      <td>...</td>\n",
       "      <td>...</td>\n",
       "      <td>...</td>\n",
       "      <td>...</td>\n",
       "    </tr>\n",
       "    <tr>\n",
       "      <td>3196</td>\n",
       "      <td>1498</td>\n",
       "      <td>10</td>\n",
       "      <td>20604</td>\n",
       "      <td>49</td>\n",
       "    </tr>\n",
       "    <tr>\n",
       "      <td>3197</td>\n",
       "      <td>1499</td>\n",
       "      <td>9</td>\n",
       "      <td>1848</td>\n",
       "      <td>4</td>\n",
       "    </tr>\n",
       "    <tr>\n",
       "      <td>3198</td>\n",
       "      <td>1499</td>\n",
       "      <td>10</td>\n",
       "      <td>17809</td>\n",
       "      <td>43</td>\n",
       "    </tr>\n",
       "    <tr>\n",
       "      <td>3199</td>\n",
       "      <td>1499</td>\n",
       "      <td>11</td>\n",
       "      <td>17984</td>\n",
       "      <td>39</td>\n",
       "    </tr>\n",
       "    <tr>\n",
       "      <td>3200</td>\n",
       "      <td>1499</td>\n",
       "      <td>12</td>\n",
       "      <td>13077</td>\n",
       "      <td>40</td>\n",
       "    </tr>\n",
       "  </tbody>\n",
       "</table>\n",
       "<p>3201 rows × 4 columns</p>\n",
       "</div>"
      ],
      "text/plain": [
       "     user_id month mb_used      \n",
       "                       sum count\n",
       "0       1000     5    2256     4\n",
       "1       1000     6   23257    44\n",
       "2       1000     7   14016    28\n",
       "3       1000     8   14070    27\n",
       "4       1000     9   14581    25\n",
       "...      ...   ...     ...   ...\n",
       "3196    1498    10   20604    49\n",
       "3197    1499     9    1848     4\n",
       "3198    1499    10   17809    43\n",
       "3199    1499    11   17984    39\n",
       "3200    1499    12   13077    40\n",
       "\n",
       "[3201 rows x 4 columns]"
      ]
     },
     "metadata": {},
     "output_type": "display_data"
    },
    {
     "name": "stdout",
     "output_type": "stream",
     "text": [
      "<class 'pandas.core.frame.DataFrame'>\n",
      "RangeIndex: 3201 entries, 0 to 3200\n",
      "Data columns (total 4 columns):\n",
      "user_id          3201 non-null int64\n",
      "month            3201 non-null int64\n",
      "mb_used_sum      3201 non-null int64\n",
      "mb_used_count    3201 non-null int64\n",
      "dtypes: int64(4)\n",
      "memory usage: 100.2 KB\n"
     ]
    }
   ],
   "source": [
    "internet_grouped = df_grouped(internet, 'session_date', 'mb_used') \n",
    "internet_grouped.columns = ['user_id', 'month', 'mb_used_sum', 'mb_used_count']\n",
    "internet_grouped.info()"
   ]
  },
  {
   "cell_type": "markdown",
   "metadata": {},
   "source": [
    "Для таблицы `message` поменяем тип данных столбца `message_date`, сгруппируем по месяцу и пользователю и подсчитаем количество смс в месяц"
   ]
  },
  {
   "cell_type": "code",
   "execution_count": 17,
   "metadata": {},
   "outputs": [
    {
     "data": {
      "text/html": [
       "<div>\n",
       "<style scoped>\n",
       "    .dataframe tbody tr th:only-of-type {\n",
       "        vertical-align: middle;\n",
       "    }\n",
       "\n",
       "    .dataframe tbody tr th {\n",
       "        vertical-align: top;\n",
       "    }\n",
       "\n",
       "    .dataframe thead th {\n",
       "        text-align: right;\n",
       "    }\n",
       "</style>\n",
       "<table border=\"1\" class=\"dataframe\">\n",
       "  <thead>\n",
       "    <tr style=\"text-align: right;\">\n",
       "      <th></th>\n",
       "      <th>id</th>\n",
       "      <th>message_date</th>\n",
       "      <th>user_id</th>\n",
       "      <th>month</th>\n",
       "    </tr>\n",
       "  </thead>\n",
       "  <tbody>\n",
       "    <tr>\n",
       "      <td>0</td>\n",
       "      <td>1000_0</td>\n",
       "      <td>2018-06-27</td>\n",
       "      <td>1000</td>\n",
       "      <td>6</td>\n",
       "    </tr>\n",
       "    <tr>\n",
       "      <td>1</td>\n",
       "      <td>1000_1</td>\n",
       "      <td>2018-10-08</td>\n",
       "      <td>1000</td>\n",
       "      <td>10</td>\n",
       "    </tr>\n",
       "    <tr>\n",
       "      <td>2</td>\n",
       "      <td>1000_2</td>\n",
       "      <td>2018-08-04</td>\n",
       "      <td>1000</td>\n",
       "      <td>8</td>\n",
       "    </tr>\n",
       "    <tr>\n",
       "      <td>3</td>\n",
       "      <td>1000_3</td>\n",
       "      <td>2018-06-16</td>\n",
       "      <td>1000</td>\n",
       "      <td>6</td>\n",
       "    </tr>\n",
       "    <tr>\n",
       "      <td>4</td>\n",
       "      <td>1000_4</td>\n",
       "      <td>2018-12-05</td>\n",
       "      <td>1000</td>\n",
       "      <td>12</td>\n",
       "    </tr>\n",
       "  </tbody>\n",
       "</table>\n",
       "</div>"
      ],
      "text/plain": [
       "       id message_date  user_id  month\n",
       "0  1000_0   2018-06-27     1000      6\n",
       "1  1000_1   2018-10-08     1000     10\n",
       "2  1000_2   2018-08-04     1000      8\n",
       "3  1000_3   2018-06-16     1000      6\n",
       "4  1000_4   2018-12-05     1000     12"
      ]
     },
     "execution_count": 17,
     "metadata": {},
     "output_type": "execute_result"
    }
   ],
   "source": [
    "messages['message_date'] = pd.to_datetime(messages['message_date'], format='%Y-%m-%d')\n",
    "messages['month'] = pd.to_datetime(messages['message_date']).dt.month\n",
    "messages.head()"
   ]
  },
  {
   "cell_type": "code",
   "execution_count": 18,
   "metadata": {},
   "outputs": [
    {
     "data": {
      "text/html": [
       "<div>\n",
       "<style scoped>\n",
       "    .dataframe tbody tr th:only-of-type {\n",
       "        vertical-align: middle;\n",
       "    }\n",
       "\n",
       "    .dataframe tbody tr th {\n",
       "        vertical-align: top;\n",
       "    }\n",
       "\n",
       "    .dataframe thead th {\n",
       "        text-align: right;\n",
       "    }\n",
       "</style>\n",
       "<table border=\"1\" class=\"dataframe\">\n",
       "  <thead>\n",
       "    <tr style=\"text-align: right;\">\n",
       "      <th></th>\n",
       "      <th>user_id</th>\n",
       "      <th>month</th>\n",
       "      <th>sms</th>\n",
       "    </tr>\n",
       "  </thead>\n",
       "  <tbody>\n",
       "    <tr>\n",
       "      <td>0</td>\n",
       "      <td>1000</td>\n",
       "      <td>5</td>\n",
       "      <td>22</td>\n",
       "    </tr>\n",
       "    <tr>\n",
       "      <td>1</td>\n",
       "      <td>1000</td>\n",
       "      <td>6</td>\n",
       "      <td>60</td>\n",
       "    </tr>\n",
       "    <tr>\n",
       "      <td>2</td>\n",
       "      <td>1000</td>\n",
       "      <td>7</td>\n",
       "      <td>75</td>\n",
       "    </tr>\n",
       "    <tr>\n",
       "      <td>3</td>\n",
       "      <td>1000</td>\n",
       "      <td>8</td>\n",
       "      <td>81</td>\n",
       "    </tr>\n",
       "    <tr>\n",
       "      <td>4</td>\n",
       "      <td>1000</td>\n",
       "      <td>9</td>\n",
       "      <td>57</td>\n",
       "    </tr>\n",
       "    <tr>\n",
       "      <td>...</td>\n",
       "      <td>...</td>\n",
       "      <td>...</td>\n",
       "      <td>...</td>\n",
       "    </tr>\n",
       "    <tr>\n",
       "      <td>2712</td>\n",
       "      <td>1498</td>\n",
       "      <td>10</td>\n",
       "      <td>42</td>\n",
       "    </tr>\n",
       "    <tr>\n",
       "      <td>2713</td>\n",
       "      <td>1499</td>\n",
       "      <td>9</td>\n",
       "      <td>11</td>\n",
       "    </tr>\n",
       "    <tr>\n",
       "      <td>2714</td>\n",
       "      <td>1499</td>\n",
       "      <td>10</td>\n",
       "      <td>48</td>\n",
       "    </tr>\n",
       "    <tr>\n",
       "      <td>2715</td>\n",
       "      <td>1499</td>\n",
       "      <td>11</td>\n",
       "      <td>59</td>\n",
       "    </tr>\n",
       "    <tr>\n",
       "      <td>2716</td>\n",
       "      <td>1499</td>\n",
       "      <td>12</td>\n",
       "      <td>66</td>\n",
       "    </tr>\n",
       "  </tbody>\n",
       "</table>\n",
       "<p>2717 rows × 3 columns</p>\n",
       "</div>"
      ],
      "text/plain": [
       "      user_id  month  sms\n",
       "0        1000      5   22\n",
       "1        1000      6   60\n",
       "2        1000      7   75\n",
       "3        1000      8   81\n",
       "4        1000      9   57\n",
       "...       ...    ...  ...\n",
       "2712     1498     10   42\n",
       "2713     1499      9   11\n",
       "2714     1499     10   48\n",
       "2715     1499     11   59\n",
       "2716     1499     12   66\n",
       "\n",
       "[2717 rows x 3 columns]"
      ]
     },
     "metadata": {},
     "output_type": "display_data"
    }
   ],
   "source": [
    "messages_grouped = messages.groupby(['user_id', 'month']).agg('count').reset_index().rename(columns={'id':'sms'}).drop(columns='message_date')\n",
    "display(messages_grouped)"
   ]
  },
  {
   "cell_type": "markdown",
   "metadata": {},
   "source": [
    "Проведем проверку на нулевые значения"
   ]
  },
  {
   "cell_type": "code",
   "execution_count": 19,
   "metadata": {},
   "outputs": [
    {
     "data": {
      "text/plain": [
       "0"
      ]
     },
     "execution_count": 19,
     "metadata": {},
     "output_type": "execute_result"
    }
   ],
   "source": [
    "messages_grouped['sms'].isnull().sum()"
   ]
  },
  {
   "cell_type": "markdown",
   "metadata": {},
   "source": [
    "Подсчитаем количество пользователей каждого тарифа, изменим тип данных в таблице `users` для колонки `reg_date` и изменим название колонки `tariff` на `tariff_name`, как в таблицу `tariffs` для последующего объединения\n"
   ]
  },
  {
   "cell_type": "code",
   "execution_count": 20,
   "metadata": {
    "scrolled": true
   },
   "outputs": [
    {
     "data": {
      "text/plain": [
       "smart    351\n",
       "ultra    149\n",
       "Name: tariff, dtype: int64"
      ]
     },
     "execution_count": 20,
     "metadata": {},
     "output_type": "execute_result"
    }
   ],
   "source": [
    "users_tariff = users['tariff'].value_counts()\n",
    "users_tariff"
   ]
  },
  {
   "cell_type": "markdown",
   "metadata": {},
   "source": [
    "Посмотрим для наглядности диаграмму соотношения пользователей 2 тарифов."
   ]
  },
  {
   "cell_type": "code",
   "execution_count": 21,
   "metadata": {},
   "outputs": [
    {
     "data": {
      "image/png": "[encoded data removed]",
      "text/plain": [
       "<Figure size 432x288 with 1 Axes>"
      ]
     },
     "metadata": {},
     "output_type": "display_data"
    }
   ],
   "source": [
    "users_tariff.plot.pie(autopct='%.1f%%')\n",
    "plt.title('Диаграмма распределения пользователей по тарифам')\n",
    "plt.show()"
   ]
  },
  {
   "cell_type": "code",
   "execution_count": 22,
   "metadata": {},
   "outputs": [
    {
     "data": {
      "text/html": [
       "<div>\n",
       "<style scoped>\n",
       "    .dataframe tbody tr th:only-of-type {\n",
       "        vertical-align: middle;\n",
       "    }\n",
       "\n",
       "    .dataframe tbody tr th {\n",
       "        vertical-align: top;\n",
       "    }\n",
       "\n",
       "    .dataframe thead th {\n",
       "        text-align: right;\n",
       "    }\n",
       "</style>\n",
       "<table border=\"1\" class=\"dataframe\">\n",
       "  <thead>\n",
       "    <tr style=\"text-align: right;\">\n",
       "      <th></th>\n",
       "      <th>user_id</th>\n",
       "      <th>age</th>\n",
       "      <th>churn_date</th>\n",
       "      <th>city</th>\n",
       "      <th>first_name</th>\n",
       "      <th>last_name</th>\n",
       "      <th>reg_date</th>\n",
       "      <th>tariff_name</th>\n",
       "      <th>month</th>\n",
       "    </tr>\n",
       "  </thead>\n",
       "  <tbody>\n",
       "    <tr>\n",
       "      <td>0</td>\n",
       "      <td>1000</td>\n",
       "      <td>52</td>\n",
       "      <td>NaN</td>\n",
       "      <td>Краснодар</td>\n",
       "      <td>Рафаил</td>\n",
       "      <td>Верещагин</td>\n",
       "      <td>2018-05-25</td>\n",
       "      <td>ultra</td>\n",
       "      <td>5</td>\n",
       "    </tr>\n",
       "    <tr>\n",
       "      <td>1</td>\n",
       "      <td>1001</td>\n",
       "      <td>41</td>\n",
       "      <td>NaN</td>\n",
       "      <td>Москва</td>\n",
       "      <td>Иван</td>\n",
       "      <td>Ежов</td>\n",
       "      <td>2018-11-01</td>\n",
       "      <td>smart</td>\n",
       "      <td>11</td>\n",
       "    </tr>\n",
       "    <tr>\n",
       "      <td>2</td>\n",
       "      <td>1002</td>\n",
       "      <td>59</td>\n",
       "      <td>NaN</td>\n",
       "      <td>Стерлитамак</td>\n",
       "      <td>Евгений</td>\n",
       "      <td>Абрамович</td>\n",
       "      <td>2018-06-17</td>\n",
       "      <td>smart</td>\n",
       "      <td>6</td>\n",
       "    </tr>\n",
       "    <tr>\n",
       "      <td>3</td>\n",
       "      <td>1003</td>\n",
       "      <td>23</td>\n",
       "      <td>NaN</td>\n",
       "      <td>Москва</td>\n",
       "      <td>Белла</td>\n",
       "      <td>Белякова</td>\n",
       "      <td>2018-08-17</td>\n",
       "      <td>ultra</td>\n",
       "      <td>8</td>\n",
       "    </tr>\n",
       "    <tr>\n",
       "      <td>4</td>\n",
       "      <td>1004</td>\n",
       "      <td>68</td>\n",
       "      <td>NaN</td>\n",
       "      <td>Новокузнецк</td>\n",
       "      <td>Татьяна</td>\n",
       "      <td>Авдеенко</td>\n",
       "      <td>2018-05-14</td>\n",
       "      <td>ultra</td>\n",
       "      <td>5</td>\n",
       "    </tr>\n",
       "  </tbody>\n",
       "</table>\n",
       "</div>"
      ],
      "text/plain": [
       "   user_id  age churn_date         city first_name  last_name   reg_date  \\\n",
       "0     1000   52        NaN    Краснодар     Рафаил  Верещагин 2018-05-25   \n",
       "1     1001   41        NaN       Москва       Иван       Ежов 2018-11-01   \n",
       "2     1002   59        NaN  Стерлитамак    Евгений  Абрамович 2018-06-17   \n",
       "3     1003   23        NaN       Москва      Белла   Белякова 2018-08-17   \n",
       "4     1004   68        NaN  Новокузнецк    Татьяна   Авдеенко 2018-05-14   \n",
       "\n",
       "  tariff_name  month  \n",
       "0       ultra      5  \n",
       "1       smart     11  \n",
       "2       smart      6  \n",
       "3       ultra      8  \n",
       "4       ultra      5  "
      ]
     },
     "execution_count": 22,
     "metadata": {},
     "output_type": "execute_result"
    }
   ],
   "source": [
    "users['reg_date'] = pd.to_datetime(users['reg_date'], format='%Y-%m-%d')\n",
    "users['month'] = pd.to_datetime(users['reg_date']).dt.month\n",
    "users = users.rename(columns={'tariff':'tariff_name'})\n",
    "users.head()"
   ]
  },
  {
   "cell_type": "markdown",
   "metadata": {},
   "source": [
    "Объединим таблицы в один датафрейм"
   ]
  },
  {
   "cell_type": "code",
   "execution_count": 23,
   "metadata": {},
   "outputs": [
    {
     "data": {
      "text/html": [
       "<div>\n",
       "<style scoped>\n",
       "    .dataframe tbody tr th:only-of-type {\n",
       "        vertical-align: middle;\n",
       "    }\n",
       "\n",
       "    .dataframe tbody tr th {\n",
       "        vertical-align: top;\n",
       "    }\n",
       "\n",
       "    .dataframe thead th {\n",
       "        text-align: right;\n",
       "    }\n",
       "</style>\n",
       "<table border=\"1\" class=\"dataframe\">\n",
       "  <thead>\n",
       "    <tr style=\"text-align: right;\">\n",
       "      <th></th>\n",
       "      <th>user_id</th>\n",
       "      <th>age</th>\n",
       "      <th>churn_date</th>\n",
       "      <th>city</th>\n",
       "      <th>first_name</th>\n",
       "      <th>last_name</th>\n",
       "      <th>reg_date</th>\n",
       "      <th>tariff_name</th>\n",
       "      <th>month</th>\n",
       "      <th>messages_included</th>\n",
       "      <th>mb_per_month_included</th>\n",
       "      <th>minutes_included</th>\n",
       "      <th>rub_monthly_fee</th>\n",
       "      <th>rub_per_gb</th>\n",
       "      <th>rub_per_message</th>\n",
       "      <th>rub_per_minute</th>\n",
       "    </tr>\n",
       "  </thead>\n",
       "  <tbody>\n",
       "    <tr>\n",
       "      <td>0</td>\n",
       "      <td>1000</td>\n",
       "      <td>52</td>\n",
       "      <td>NaN</td>\n",
       "      <td>Краснодар</td>\n",
       "      <td>Рафаил</td>\n",
       "      <td>Верещагин</td>\n",
       "      <td>2018-05-25</td>\n",
       "      <td>ultra</td>\n",
       "      <td>5</td>\n",
       "      <td>1000</td>\n",
       "      <td>30720</td>\n",
       "      <td>3000</td>\n",
       "      <td>1950</td>\n",
       "      <td>150</td>\n",
       "      <td>1</td>\n",
       "      <td>1</td>\n",
       "    </tr>\n",
       "    <tr>\n",
       "      <td>1</td>\n",
       "      <td>1003</td>\n",
       "      <td>23</td>\n",
       "      <td>NaN</td>\n",
       "      <td>Москва</td>\n",
       "      <td>Белла</td>\n",
       "      <td>Белякова</td>\n",
       "      <td>2018-08-17</td>\n",
       "      <td>ultra</td>\n",
       "      <td>8</td>\n",
       "      <td>1000</td>\n",
       "      <td>30720</td>\n",
       "      <td>3000</td>\n",
       "      <td>1950</td>\n",
       "      <td>150</td>\n",
       "      <td>1</td>\n",
       "      <td>1</td>\n",
       "    </tr>\n",
       "    <tr>\n",
       "      <td>2</td>\n",
       "      <td>1004</td>\n",
       "      <td>68</td>\n",
       "      <td>NaN</td>\n",
       "      <td>Новокузнецк</td>\n",
       "      <td>Татьяна</td>\n",
       "      <td>Авдеенко</td>\n",
       "      <td>2018-05-14</td>\n",
       "      <td>ultra</td>\n",
       "      <td>5</td>\n",
       "      <td>1000</td>\n",
       "      <td>30720</td>\n",
       "      <td>3000</td>\n",
       "      <td>1950</td>\n",
       "      <td>150</td>\n",
       "      <td>1</td>\n",
       "      <td>1</td>\n",
       "    </tr>\n",
       "    <tr>\n",
       "      <td>3</td>\n",
       "      <td>1013</td>\n",
       "      <td>36</td>\n",
       "      <td>NaN</td>\n",
       "      <td>Иваново</td>\n",
       "      <td>Борис</td>\n",
       "      <td>Андреенко</td>\n",
       "      <td>2018-11-14</td>\n",
       "      <td>ultra</td>\n",
       "      <td>11</td>\n",
       "      <td>1000</td>\n",
       "      <td>30720</td>\n",
       "      <td>3000</td>\n",
       "      <td>1950</td>\n",
       "      <td>150</td>\n",
       "      <td>1</td>\n",
       "      <td>1</td>\n",
       "    </tr>\n",
       "    <tr>\n",
       "      <td>4</td>\n",
       "      <td>1016</td>\n",
       "      <td>58</td>\n",
       "      <td>NaN</td>\n",
       "      <td>Омск</td>\n",
       "      <td>Марица</td>\n",
       "      <td>Сазонова</td>\n",
       "      <td>2018-11-21</td>\n",
       "      <td>ultra</td>\n",
       "      <td>11</td>\n",
       "      <td>1000</td>\n",
       "      <td>30720</td>\n",
       "      <td>3000</td>\n",
       "      <td>1950</td>\n",
       "      <td>150</td>\n",
       "      <td>1</td>\n",
       "      <td>1</td>\n",
       "    </tr>\n",
       "  </tbody>\n",
       "</table>\n",
       "</div>"
      ],
      "text/plain": [
       "   user_id  age churn_date         city first_name  last_name   reg_date  \\\n",
       "0     1000   52        NaN    Краснодар     Рафаил  Верещагин 2018-05-25   \n",
       "1     1003   23        NaN       Москва      Белла   Белякова 2018-08-17   \n",
       "2     1004   68        NaN  Новокузнецк    Татьяна   Авдеенко 2018-05-14   \n",
       "3     1013   36        NaN      Иваново      Борис  Андреенко 2018-11-14   \n",
       "4     1016   58        NaN         Омск     Марица   Сазонова 2018-11-21   \n",
       "\n",
       "  tariff_name  month  messages_included  mb_per_month_included  \\\n",
       "0       ultra      5               1000                  30720   \n",
       "1       ultra      8               1000                  30720   \n",
       "2       ultra      5               1000                  30720   \n",
       "3       ultra     11               1000                  30720   \n",
       "4       ultra     11               1000                  30720   \n",
       "\n",
       "   minutes_included  rub_monthly_fee  rub_per_gb  rub_per_message  \\\n",
       "0              3000             1950         150                1   \n",
       "1              3000             1950         150                1   \n",
       "2              3000             1950         150                1   \n",
       "3              3000             1950         150                1   \n",
       "4              3000             1950         150                1   \n",
       "\n",
       "   rub_per_minute  \n",
       "0               1  \n",
       "1               1  \n",
       "2               1  \n",
       "3               1  \n",
       "4               1  "
      ]
     },
     "execution_count": 23,
     "metadata": {},
     "output_type": "execute_result"
    }
   ],
   "source": [
    "data = users.merge(tariffs, on='tariff_name', how='outer')\n",
    "data.head()"
   ]
  },
  {
   "cell_type": "code",
   "execution_count": 24,
   "metadata": {
    "scrolled": true
   },
   "outputs": [
    {
     "data": {
      "text/html": [
       "<div>\n",
       "<style scoped>\n",
       "    .dataframe tbody tr th:only-of-type {\n",
       "        vertical-align: middle;\n",
       "    }\n",
       "\n",
       "    .dataframe tbody tr th {\n",
       "        vertical-align: top;\n",
       "    }\n",
       "\n",
       "    .dataframe thead th {\n",
       "        text-align: right;\n",
       "    }\n",
       "</style>\n",
       "<table border=\"1\" class=\"dataframe\">\n",
       "  <thead>\n",
       "    <tr style=\"text-align: right;\">\n",
       "      <th></th>\n",
       "      <th>user_id</th>\n",
       "      <th>month</th>\n",
       "      <th>duration_sum</th>\n",
       "      <th>duration_count</th>\n",
       "      <th>mb_used_sum</th>\n",
       "      <th>mb_used_count</th>\n",
       "      <th>sms</th>\n",
       "    </tr>\n",
       "  </thead>\n",
       "  <tbody>\n",
       "    <tr>\n",
       "      <td>0</td>\n",
       "      <td>1000</td>\n",
       "      <td>5</td>\n",
       "      <td>159.0</td>\n",
       "      <td>17.0</td>\n",
       "      <td>2256.0</td>\n",
       "      <td>4.0</td>\n",
       "      <td>22.0</td>\n",
       "    </tr>\n",
       "    <tr>\n",
       "      <td>1</td>\n",
       "      <td>1000</td>\n",
       "      <td>6</td>\n",
       "      <td>172.0</td>\n",
       "      <td>28.0</td>\n",
       "      <td>23257.0</td>\n",
       "      <td>44.0</td>\n",
       "      <td>60.0</td>\n",
       "    </tr>\n",
       "    <tr>\n",
       "      <td>2</td>\n",
       "      <td>1000</td>\n",
       "      <td>7</td>\n",
       "      <td>340.0</td>\n",
       "      <td>41.0</td>\n",
       "      <td>14016.0</td>\n",
       "      <td>28.0</td>\n",
       "      <td>75.0</td>\n",
       "    </tr>\n",
       "    <tr>\n",
       "      <td>3</td>\n",
       "      <td>1000</td>\n",
       "      <td>8</td>\n",
       "      <td>408.0</td>\n",
       "      <td>42.0</td>\n",
       "      <td>14070.0</td>\n",
       "      <td>27.0</td>\n",
       "      <td>81.0</td>\n",
       "    </tr>\n",
       "    <tr>\n",
       "      <td>4</td>\n",
       "      <td>1000</td>\n",
       "      <td>9</td>\n",
       "      <td>466.0</td>\n",
       "      <td>46.0</td>\n",
       "      <td>14581.0</td>\n",
       "      <td>25.0</td>\n",
       "      <td>57.0</td>\n",
       "    </tr>\n",
       "    <tr>\n",
       "      <td>5</td>\n",
       "      <td>1000</td>\n",
       "      <td>10</td>\n",
       "      <td>350.0</td>\n",
       "      <td>44.0</td>\n",
       "      <td>14717.0</td>\n",
       "      <td>27.0</td>\n",
       "      <td>73.0</td>\n",
       "    </tr>\n",
       "    <tr>\n",
       "      <td>6</td>\n",
       "      <td>1000</td>\n",
       "      <td>11</td>\n",
       "      <td>338.0</td>\n",
       "      <td>37.0</td>\n",
       "      <td>14768.0</td>\n",
       "      <td>23.0</td>\n",
       "      <td>58.0</td>\n",
       "    </tr>\n",
       "    <tr>\n",
       "      <td>7</td>\n",
       "      <td>1000</td>\n",
       "      <td>12</td>\n",
       "      <td>333.0</td>\n",
       "      <td>38.0</td>\n",
       "      <td>9827.0</td>\n",
       "      <td>19.0</td>\n",
       "      <td>70.0</td>\n",
       "    </tr>\n",
       "    <tr>\n",
       "      <td>8</td>\n",
       "      <td>1001</td>\n",
       "      <td>11</td>\n",
       "      <td>430.0</td>\n",
       "      <td>45.0</td>\n",
       "      <td>18452.0</td>\n",
       "      <td>47.0</td>\n",
       "      <td>NaN</td>\n",
       "    </tr>\n",
       "    <tr>\n",
       "      <td>9</td>\n",
       "      <td>1001</td>\n",
       "      <td>12</td>\n",
       "      <td>414.0</td>\n",
       "      <td>47.0</td>\n",
       "      <td>14053.0</td>\n",
       "      <td>35.0</td>\n",
       "      <td>NaN</td>\n",
       "    </tr>\n",
       "  </tbody>\n",
       "</table>\n",
       "</div>"
      ],
      "text/plain": [
       "   user_id  month  duration_sum  duration_count  mb_used_sum  mb_used_count  \\\n",
       "0     1000      5         159.0            17.0       2256.0            4.0   \n",
       "1     1000      6         172.0            28.0      23257.0           44.0   \n",
       "2     1000      7         340.0            41.0      14016.0           28.0   \n",
       "3     1000      8         408.0            42.0      14070.0           27.0   \n",
       "4     1000      9         466.0            46.0      14581.0           25.0   \n",
       "5     1000     10         350.0            44.0      14717.0           27.0   \n",
       "6     1000     11         338.0            37.0      14768.0           23.0   \n",
       "7     1000     12         333.0            38.0       9827.0           19.0   \n",
       "8     1001     11         430.0            45.0      18452.0           47.0   \n",
       "9     1001     12         414.0            47.0      14053.0           35.0   \n",
       "\n",
       "    sms  \n",
       "0  22.0  \n",
       "1  60.0  \n",
       "2  75.0  \n",
       "3  81.0  \n",
       "4  57.0  \n",
       "5  73.0  \n",
       "6  58.0  \n",
       "7  70.0  \n",
       "8   NaN  \n",
       "9   NaN  "
      ]
     },
     "execution_count": 24,
     "metadata": {},
     "output_type": "execute_result"
    }
   ],
   "source": [
    "calls_internet = calls_grouped.merge(internet_grouped, on=['user_id', 'month'], how='outer')\n",
    "calls_internet_messages = calls_internet.merge(messages_grouped, on=['user_id', 'month'], how='outer')\n",
    "calls_internet_messages.head(10)"
   ]
  },
  {
   "cell_type": "code",
   "execution_count": 25,
   "metadata": {
    "scrolled": true
   },
   "outputs": [
    {
     "data": {
      "text/html": [
       "<div>\n",
       "<style scoped>\n",
       "    .dataframe tbody tr th:only-of-type {\n",
       "        vertical-align: middle;\n",
       "    }\n",
       "\n",
       "    .dataframe tbody tr th {\n",
       "        vertical-align: top;\n",
       "    }\n",
       "\n",
       "    .dataframe thead th {\n",
       "        text-align: right;\n",
       "    }\n",
       "</style>\n",
       "<table border=\"1\" class=\"dataframe\">\n",
       "  <thead>\n",
       "    <tr style=\"text-align: right;\">\n",
       "      <th></th>\n",
       "      <th>user_id</th>\n",
       "      <th>month_x</th>\n",
       "      <th>duration_sum</th>\n",
       "      <th>duration_count</th>\n",
       "      <th>mb_used_sum</th>\n",
       "      <th>mb_used_count</th>\n",
       "      <th>sms</th>\n",
       "      <th>age</th>\n",
       "      <th>churn_date</th>\n",
       "      <th>city</th>\n",
       "      <th>...</th>\n",
       "      <th>reg_date</th>\n",
       "      <th>tariff_name</th>\n",
       "      <th>month_y</th>\n",
       "      <th>messages_included</th>\n",
       "      <th>mb_per_month_included</th>\n",
       "      <th>minutes_included</th>\n",
       "      <th>rub_monthly_fee</th>\n",
       "      <th>rub_per_gb</th>\n",
       "      <th>rub_per_message</th>\n",
       "      <th>rub_per_minute</th>\n",
       "    </tr>\n",
       "  </thead>\n",
       "  <tbody>\n",
       "    <tr>\n",
       "      <td>0</td>\n",
       "      <td>1000</td>\n",
       "      <td>5.0</td>\n",
       "      <td>159.0</td>\n",
       "      <td>17.0</td>\n",
       "      <td>2256.0</td>\n",
       "      <td>4.0</td>\n",
       "      <td>22.0</td>\n",
       "      <td>52</td>\n",
       "      <td>NaN</td>\n",
       "      <td>Краснодар</td>\n",
       "      <td>...</td>\n",
       "      <td>2018-05-25</td>\n",
       "      <td>ultra</td>\n",
       "      <td>5</td>\n",
       "      <td>1000</td>\n",
       "      <td>30720</td>\n",
       "      <td>3000</td>\n",
       "      <td>1950</td>\n",
       "      <td>150</td>\n",
       "      <td>1</td>\n",
       "      <td>1</td>\n",
       "    </tr>\n",
       "    <tr>\n",
       "      <td>1</td>\n",
       "      <td>1000</td>\n",
       "      <td>6.0</td>\n",
       "      <td>172.0</td>\n",
       "      <td>28.0</td>\n",
       "      <td>23257.0</td>\n",
       "      <td>44.0</td>\n",
       "      <td>60.0</td>\n",
       "      <td>52</td>\n",
       "      <td>NaN</td>\n",
       "      <td>Краснодар</td>\n",
       "      <td>...</td>\n",
       "      <td>2018-05-25</td>\n",
       "      <td>ultra</td>\n",
       "      <td>5</td>\n",
       "      <td>1000</td>\n",
       "      <td>30720</td>\n",
       "      <td>3000</td>\n",
       "      <td>1950</td>\n",
       "      <td>150</td>\n",
       "      <td>1</td>\n",
       "      <td>1</td>\n",
       "    </tr>\n",
       "    <tr>\n",
       "      <td>2</td>\n",
       "      <td>1000</td>\n",
       "      <td>7.0</td>\n",
       "      <td>340.0</td>\n",
       "      <td>41.0</td>\n",
       "      <td>14016.0</td>\n",
       "      <td>28.0</td>\n",
       "      <td>75.0</td>\n",
       "      <td>52</td>\n",
       "      <td>NaN</td>\n",
       "      <td>Краснодар</td>\n",
       "      <td>...</td>\n",
       "      <td>2018-05-25</td>\n",
       "      <td>ultra</td>\n",
       "      <td>5</td>\n",
       "      <td>1000</td>\n",
       "      <td>30720</td>\n",
       "      <td>3000</td>\n",
       "      <td>1950</td>\n",
       "      <td>150</td>\n",
       "      <td>1</td>\n",
       "      <td>1</td>\n",
       "    </tr>\n",
       "    <tr>\n",
       "      <td>3</td>\n",
       "      <td>1000</td>\n",
       "      <td>8.0</td>\n",
       "      <td>408.0</td>\n",
       "      <td>42.0</td>\n",
       "      <td>14070.0</td>\n",
       "      <td>27.0</td>\n",
       "      <td>81.0</td>\n",
       "      <td>52</td>\n",
       "      <td>NaN</td>\n",
       "      <td>Краснодар</td>\n",
       "      <td>...</td>\n",
       "      <td>2018-05-25</td>\n",
       "      <td>ultra</td>\n",
       "      <td>5</td>\n",
       "      <td>1000</td>\n",
       "      <td>30720</td>\n",
       "      <td>3000</td>\n",
       "      <td>1950</td>\n",
       "      <td>150</td>\n",
       "      <td>1</td>\n",
       "      <td>1</td>\n",
       "    </tr>\n",
       "    <tr>\n",
       "      <td>4</td>\n",
       "      <td>1000</td>\n",
       "      <td>9.0</td>\n",
       "      <td>466.0</td>\n",
       "      <td>46.0</td>\n",
       "      <td>14581.0</td>\n",
       "      <td>25.0</td>\n",
       "      <td>57.0</td>\n",
       "      <td>52</td>\n",
       "      <td>NaN</td>\n",
       "      <td>Краснодар</td>\n",
       "      <td>...</td>\n",
       "      <td>2018-05-25</td>\n",
       "      <td>ultra</td>\n",
       "      <td>5</td>\n",
       "      <td>1000</td>\n",
       "      <td>30720</td>\n",
       "      <td>3000</td>\n",
       "      <td>1950</td>\n",
       "      <td>150</td>\n",
       "      <td>1</td>\n",
       "      <td>1</td>\n",
       "    </tr>\n",
       "    <tr>\n",
       "      <td>5</td>\n",
       "      <td>1000</td>\n",
       "      <td>10.0</td>\n",
       "      <td>350.0</td>\n",
       "      <td>44.0</td>\n",
       "      <td>14717.0</td>\n",
       "      <td>27.0</td>\n",
       "      <td>73.0</td>\n",
       "      <td>52</td>\n",
       "      <td>NaN</td>\n",
       "      <td>Краснодар</td>\n",
       "      <td>...</td>\n",
       "      <td>2018-05-25</td>\n",
       "      <td>ultra</td>\n",
       "      <td>5</td>\n",
       "      <td>1000</td>\n",
       "      <td>30720</td>\n",
       "      <td>3000</td>\n",
       "      <td>1950</td>\n",
       "      <td>150</td>\n",
       "      <td>1</td>\n",
       "      <td>1</td>\n",
       "    </tr>\n",
       "    <tr>\n",
       "      <td>6</td>\n",
       "      <td>1000</td>\n",
       "      <td>11.0</td>\n",
       "      <td>338.0</td>\n",
       "      <td>37.0</td>\n",
       "      <td>14768.0</td>\n",
       "      <td>23.0</td>\n",
       "      <td>58.0</td>\n",
       "      <td>52</td>\n",
       "      <td>NaN</td>\n",
       "      <td>Краснодар</td>\n",
       "      <td>...</td>\n",
       "      <td>2018-05-25</td>\n",
       "      <td>ultra</td>\n",
       "      <td>5</td>\n",
       "      <td>1000</td>\n",
       "      <td>30720</td>\n",
       "      <td>3000</td>\n",
       "      <td>1950</td>\n",
       "      <td>150</td>\n",
       "      <td>1</td>\n",
       "      <td>1</td>\n",
       "    </tr>\n",
       "    <tr>\n",
       "      <td>7</td>\n",
       "      <td>1000</td>\n",
       "      <td>12.0</td>\n",
       "      <td>333.0</td>\n",
       "      <td>38.0</td>\n",
       "      <td>9827.0</td>\n",
       "      <td>19.0</td>\n",
       "      <td>70.0</td>\n",
       "      <td>52</td>\n",
       "      <td>NaN</td>\n",
       "      <td>Краснодар</td>\n",
       "      <td>...</td>\n",
       "      <td>2018-05-25</td>\n",
       "      <td>ultra</td>\n",
       "      <td>5</td>\n",
       "      <td>1000</td>\n",
       "      <td>30720</td>\n",
       "      <td>3000</td>\n",
       "      <td>1950</td>\n",
       "      <td>150</td>\n",
       "      <td>1</td>\n",
       "      <td>1</td>\n",
       "    </tr>\n",
       "    <tr>\n",
       "      <td>8</td>\n",
       "      <td>1001</td>\n",
       "      <td>11.0</td>\n",
       "      <td>430.0</td>\n",
       "      <td>45.0</td>\n",
       "      <td>18452.0</td>\n",
       "      <td>47.0</td>\n",
       "      <td>NaN</td>\n",
       "      <td>41</td>\n",
       "      <td>NaN</td>\n",
       "      <td>Москва</td>\n",
       "      <td>...</td>\n",
       "      <td>2018-11-01</td>\n",
       "      <td>smart</td>\n",
       "      <td>11</td>\n",
       "      <td>50</td>\n",
       "      <td>15360</td>\n",
       "      <td>500</td>\n",
       "      <td>550</td>\n",
       "      <td>200</td>\n",
       "      <td>3</td>\n",
       "      <td>3</td>\n",
       "    </tr>\n",
       "    <tr>\n",
       "      <td>9</td>\n",
       "      <td>1001</td>\n",
       "      <td>12.0</td>\n",
       "      <td>414.0</td>\n",
       "      <td>47.0</td>\n",
       "      <td>14053.0</td>\n",
       "      <td>35.0</td>\n",
       "      <td>NaN</td>\n",
       "      <td>41</td>\n",
       "      <td>NaN</td>\n",
       "      <td>Москва</td>\n",
       "      <td>...</td>\n",
       "      <td>2018-11-01</td>\n",
       "      <td>smart</td>\n",
       "      <td>11</td>\n",
       "      <td>50</td>\n",
       "      <td>15360</td>\n",
       "      <td>500</td>\n",
       "      <td>550</td>\n",
       "      <td>200</td>\n",
       "      <td>3</td>\n",
       "      <td>3</td>\n",
       "    </tr>\n",
       "  </tbody>\n",
       "</table>\n",
       "<p>10 rows × 22 columns</p>\n",
       "</div>"
      ],
      "text/plain": [
       "   user_id  month_x  duration_sum  duration_count  mb_used_sum  mb_used_count  \\\n",
       "0     1000      5.0         159.0            17.0       2256.0            4.0   \n",
       "1     1000      6.0         172.0            28.0      23257.0           44.0   \n",
       "2     1000      7.0         340.0            41.0      14016.0           28.0   \n",
       "3     1000      8.0         408.0            42.0      14070.0           27.0   \n",
       "4     1000      9.0         466.0            46.0      14581.0           25.0   \n",
       "5     1000     10.0         350.0            44.0      14717.0           27.0   \n",
       "6     1000     11.0         338.0            37.0      14768.0           23.0   \n",
       "7     1000     12.0         333.0            38.0       9827.0           19.0   \n",
       "8     1001     11.0         430.0            45.0      18452.0           47.0   \n",
       "9     1001     12.0         414.0            47.0      14053.0           35.0   \n",
       "\n",
       "    sms  age churn_date       city  ...   reg_date tariff_name month_y  \\\n",
       "0  22.0   52        NaN  Краснодар  ... 2018-05-25       ultra       5   \n",
       "1  60.0   52        NaN  Краснодар  ... 2018-05-25       ultra       5   \n",
       "2  75.0   52        NaN  Краснодар  ... 2018-05-25       ultra       5   \n",
       "3  81.0   52        NaN  Краснодар  ... 2018-05-25       ultra       5   \n",
       "4  57.0   52        NaN  Краснодар  ... 2018-05-25       ultra       5   \n",
       "5  73.0   52        NaN  Краснодар  ... 2018-05-25       ultra       5   \n",
       "6  58.0   52        NaN  Краснодар  ... 2018-05-25       ultra       5   \n",
       "7  70.0   52        NaN  Краснодар  ... 2018-05-25       ultra       5   \n",
       "8   NaN   41        NaN     Москва  ... 2018-11-01       smart      11   \n",
       "9   NaN   41        NaN     Москва  ... 2018-11-01       smart      11   \n",
       "\n",
       "  messages_included  mb_per_month_included  minutes_included  rub_monthly_fee  \\\n",
       "0              1000                  30720              3000             1950   \n",
       "1              1000                  30720              3000             1950   \n",
       "2              1000                  30720              3000             1950   \n",
       "3              1000                  30720              3000             1950   \n",
       "4              1000                  30720              3000             1950   \n",
       "5              1000                  30720              3000             1950   \n",
       "6              1000                  30720              3000             1950   \n",
       "7              1000                  30720              3000             1950   \n",
       "8                50                  15360               500              550   \n",
       "9                50                  15360               500              550   \n",
       "\n",
       "   rub_per_gb  rub_per_message  rub_per_minute  \n",
       "0         150                1               1  \n",
       "1         150                1               1  \n",
       "2         150                1               1  \n",
       "3         150                1               1  \n",
       "4         150                1               1  \n",
       "5         150                1               1  \n",
       "6         150                1               1  \n",
       "7         150                1               1  \n",
       "8         200                3               3  \n",
       "9         200                3               3  \n",
       "\n",
       "[10 rows x 22 columns]"
      ]
     },
     "execution_count": 25,
     "metadata": {},
     "output_type": "execute_result"
    }
   ],
   "source": [
    "df = calls_internet_messages.merge(data, on='user_id', how='outer')\n",
    "df.head(10)"
   ]
  },
  {
   "cell_type": "markdown",
   "metadata": {},
   "source": [
    "После объединения данных в итоговой таблицу у нас появились значения NaN, они появились в тех ячейках, где нет данных. Заменим их значения на 0."
   ]
  },
  {
   "cell_type": "code",
   "execution_count": 26,
   "metadata": {},
   "outputs": [
    {
     "data": {
      "text/plain": [
       "user_id                     0\n",
       "month_x                     2\n",
       "duration_sum               48\n",
       "duration_count             48\n",
       "mb_used_sum                15\n",
       "mb_used_count              15\n",
       "sms                       499\n",
       "age                         0\n",
       "churn_date               3027\n",
       "city                        0\n",
       "first_name                  0\n",
       "last_name                   0\n",
       "reg_date                    0\n",
       "tariff_name                 0\n",
       "month_y                     0\n",
       "messages_included           0\n",
       "mb_per_month_included       0\n",
       "minutes_included            0\n",
       "rub_monthly_fee             0\n",
       "rub_per_gb                  0\n",
       "rub_per_message             0\n",
       "rub_per_minute              0\n",
       "dtype: int64"
      ]
     },
     "execution_count": 26,
     "metadata": {},
     "output_type": "execute_result"
    }
   ],
   "source": [
    "df.isnull().sum()"
   ]
  },
  {
   "cell_type": "code",
   "execution_count": 27,
   "metadata": {},
   "outputs": [],
   "source": [
    "df = df.fillna(0)"
   ]
  },
  {
   "cell_type": "markdown",
   "metadata": {},
   "source": [
    "Подсчитаем помесячную выручку с каждого пользователя: выручка с звонков `call_fee`, с интернета `int_fee`, переведенного в Гб,  с смс-сообщений`sms_fee`.  `total_fee` - это общая выручка со всех услуг, включая абонентскую плану за тариф в месяц.\n",
    "Соответствующие столбцы добавлены в таблицу.\n",
    "Полученный результат по интернету округлили в большую сторону после перевода мегабайт в гигабайты.   "
   ]
  },
  {
   "cell_type": "code",
   "execution_count": 28,
   "metadata": {
    "scrolled": true
   },
   "outputs": [
    {
     "data": {
      "text/html": [
       "<div>\n",
       "<style scoped>\n",
       "    .dataframe tbody tr th:only-of-type {\n",
       "        vertical-align: middle;\n",
       "    }\n",
       "\n",
       "    .dataframe tbody tr th {\n",
       "        vertical-align: top;\n",
       "    }\n",
       "\n",
       "    .dataframe thead th {\n",
       "        text-align: right;\n",
       "    }\n",
       "</style>\n",
       "<table border=\"1\" class=\"dataframe\">\n",
       "  <thead>\n",
       "    <tr style=\"text-align: right;\">\n",
       "      <th></th>\n",
       "      <th>user_id</th>\n",
       "      <th>month_x</th>\n",
       "      <th>duration_sum</th>\n",
       "      <th>duration_count</th>\n",
       "      <th>mb_used_sum</th>\n",
       "      <th>mb_used_count</th>\n",
       "      <th>sms</th>\n",
       "      <th>age</th>\n",
       "      <th>churn_date</th>\n",
       "      <th>city</th>\n",
       "      <th>...</th>\n",
       "      <th>mb_per_month_included</th>\n",
       "      <th>minutes_included</th>\n",
       "      <th>rub_monthly_fee</th>\n",
       "      <th>rub_per_gb</th>\n",
       "      <th>rub_per_message</th>\n",
       "      <th>rub_per_minute</th>\n",
       "      <th>call_fee</th>\n",
       "      <th>int_fee</th>\n",
       "      <th>sms_fee</th>\n",
       "      <th>total_fee</th>\n",
       "    </tr>\n",
       "  </thead>\n",
       "  <tbody>\n",
       "    <tr>\n",
       "      <td>0</td>\n",
       "      <td>1000</td>\n",
       "      <td>5.0</td>\n",
       "      <td>159.0</td>\n",
       "      <td>17.0</td>\n",
       "      <td>2256.0</td>\n",
       "      <td>4.0</td>\n",
       "      <td>22.0</td>\n",
       "      <td>52</td>\n",
       "      <td>0</td>\n",
       "      <td>Краснодар</td>\n",
       "      <td>...</td>\n",
       "      <td>30720</td>\n",
       "      <td>3000</td>\n",
       "      <td>1950</td>\n",
       "      <td>150</td>\n",
       "      <td>1</td>\n",
       "      <td>1</td>\n",
       "      <td>0.0</td>\n",
       "      <td>0.0</td>\n",
       "      <td>0.0</td>\n",
       "      <td>1950.0</td>\n",
       "    </tr>\n",
       "    <tr>\n",
       "      <td>1</td>\n",
       "      <td>1000</td>\n",
       "      <td>6.0</td>\n",
       "      <td>172.0</td>\n",
       "      <td>28.0</td>\n",
       "      <td>23257.0</td>\n",
       "      <td>44.0</td>\n",
       "      <td>60.0</td>\n",
       "      <td>52</td>\n",
       "      <td>0</td>\n",
       "      <td>Краснодар</td>\n",
       "      <td>...</td>\n",
       "      <td>30720</td>\n",
       "      <td>3000</td>\n",
       "      <td>1950</td>\n",
       "      <td>150</td>\n",
       "      <td>1</td>\n",
       "      <td>1</td>\n",
       "      <td>0.0</td>\n",
       "      <td>0.0</td>\n",
       "      <td>0.0</td>\n",
       "      <td>1950.0</td>\n",
       "    </tr>\n",
       "    <tr>\n",
       "      <td>2</td>\n",
       "      <td>1000</td>\n",
       "      <td>7.0</td>\n",
       "      <td>340.0</td>\n",
       "      <td>41.0</td>\n",
       "      <td>14016.0</td>\n",
       "      <td>28.0</td>\n",
       "      <td>75.0</td>\n",
       "      <td>52</td>\n",
       "      <td>0</td>\n",
       "      <td>Краснодар</td>\n",
       "      <td>...</td>\n",
       "      <td>30720</td>\n",
       "      <td>3000</td>\n",
       "      <td>1950</td>\n",
       "      <td>150</td>\n",
       "      <td>1</td>\n",
       "      <td>1</td>\n",
       "      <td>0.0</td>\n",
       "      <td>0.0</td>\n",
       "      <td>0.0</td>\n",
       "      <td>1950.0</td>\n",
       "    </tr>\n",
       "    <tr>\n",
       "      <td>3</td>\n",
       "      <td>1000</td>\n",
       "      <td>8.0</td>\n",
       "      <td>408.0</td>\n",
       "      <td>42.0</td>\n",
       "      <td>14070.0</td>\n",
       "      <td>27.0</td>\n",
       "      <td>81.0</td>\n",
       "      <td>52</td>\n",
       "      <td>0</td>\n",
       "      <td>Краснодар</td>\n",
       "      <td>...</td>\n",
       "      <td>30720</td>\n",
       "      <td>3000</td>\n",
       "      <td>1950</td>\n",
       "      <td>150</td>\n",
       "      <td>1</td>\n",
       "      <td>1</td>\n",
       "      <td>0.0</td>\n",
       "      <td>0.0</td>\n",
       "      <td>0.0</td>\n",
       "      <td>1950.0</td>\n",
       "    </tr>\n",
       "    <tr>\n",
       "      <td>4</td>\n",
       "      <td>1000</td>\n",
       "      <td>9.0</td>\n",
       "      <td>466.0</td>\n",
       "      <td>46.0</td>\n",
       "      <td>14581.0</td>\n",
       "      <td>25.0</td>\n",
       "      <td>57.0</td>\n",
       "      <td>52</td>\n",
       "      <td>0</td>\n",
       "      <td>Краснодар</td>\n",
       "      <td>...</td>\n",
       "      <td>30720</td>\n",
       "      <td>3000</td>\n",
       "      <td>1950</td>\n",
       "      <td>150</td>\n",
       "      <td>1</td>\n",
       "      <td>1</td>\n",
       "      <td>0.0</td>\n",
       "      <td>0.0</td>\n",
       "      <td>0.0</td>\n",
       "      <td>1950.0</td>\n",
       "    </tr>\n",
       "    <tr>\n",
       "      <td>5</td>\n",
       "      <td>1000</td>\n",
       "      <td>10.0</td>\n",
       "      <td>350.0</td>\n",
       "      <td>44.0</td>\n",
       "      <td>14717.0</td>\n",
       "      <td>27.0</td>\n",
       "      <td>73.0</td>\n",
       "      <td>52</td>\n",
       "      <td>0</td>\n",
       "      <td>Краснодар</td>\n",
       "      <td>...</td>\n",
       "      <td>30720</td>\n",
       "      <td>3000</td>\n",
       "      <td>1950</td>\n",
       "      <td>150</td>\n",
       "      <td>1</td>\n",
       "      <td>1</td>\n",
       "      <td>0.0</td>\n",
       "      <td>0.0</td>\n",
       "      <td>0.0</td>\n",
       "      <td>1950.0</td>\n",
       "    </tr>\n",
       "    <tr>\n",
       "      <td>6</td>\n",
       "      <td>1000</td>\n",
       "      <td>11.0</td>\n",
       "      <td>338.0</td>\n",
       "      <td>37.0</td>\n",
       "      <td>14768.0</td>\n",
       "      <td>23.0</td>\n",
       "      <td>58.0</td>\n",
       "      <td>52</td>\n",
       "      <td>0</td>\n",
       "      <td>Краснодар</td>\n",
       "      <td>...</td>\n",
       "      <td>30720</td>\n",
       "      <td>3000</td>\n",
       "      <td>1950</td>\n",
       "      <td>150</td>\n",
       "      <td>1</td>\n",
       "      <td>1</td>\n",
       "      <td>0.0</td>\n",
       "      <td>0.0</td>\n",
       "      <td>0.0</td>\n",
       "      <td>1950.0</td>\n",
       "    </tr>\n",
       "    <tr>\n",
       "      <td>7</td>\n",
       "      <td>1000</td>\n",
       "      <td>12.0</td>\n",
       "      <td>333.0</td>\n",
       "      <td>38.0</td>\n",
       "      <td>9827.0</td>\n",
       "      <td>19.0</td>\n",
       "      <td>70.0</td>\n",
       "      <td>52</td>\n",
       "      <td>0</td>\n",
       "      <td>Краснодар</td>\n",
       "      <td>...</td>\n",
       "      <td>30720</td>\n",
       "      <td>3000</td>\n",
       "      <td>1950</td>\n",
       "      <td>150</td>\n",
       "      <td>1</td>\n",
       "      <td>1</td>\n",
       "      <td>0.0</td>\n",
       "      <td>0.0</td>\n",
       "      <td>0.0</td>\n",
       "      <td>1950.0</td>\n",
       "    </tr>\n",
       "    <tr>\n",
       "      <td>8</td>\n",
       "      <td>1001</td>\n",
       "      <td>11.0</td>\n",
       "      <td>430.0</td>\n",
       "      <td>45.0</td>\n",
       "      <td>18452.0</td>\n",
       "      <td>47.0</td>\n",
       "      <td>0.0</td>\n",
       "      <td>41</td>\n",
       "      <td>0</td>\n",
       "      <td>Москва</td>\n",
       "      <td>...</td>\n",
       "      <td>15360</td>\n",
       "      <td>500</td>\n",
       "      <td>550</td>\n",
       "      <td>200</td>\n",
       "      <td>3</td>\n",
       "      <td>3</td>\n",
       "      <td>0.0</td>\n",
       "      <td>800.0</td>\n",
       "      <td>0.0</td>\n",
       "      <td>1350.0</td>\n",
       "    </tr>\n",
       "    <tr>\n",
       "      <td>9</td>\n",
       "      <td>1001</td>\n",
       "      <td>12.0</td>\n",
       "      <td>414.0</td>\n",
       "      <td>47.0</td>\n",
       "      <td>14053.0</td>\n",
       "      <td>35.0</td>\n",
       "      <td>0.0</td>\n",
       "      <td>41</td>\n",
       "      <td>0</td>\n",
       "      <td>Москва</td>\n",
       "      <td>...</td>\n",
       "      <td>15360</td>\n",
       "      <td>500</td>\n",
       "      <td>550</td>\n",
       "      <td>200</td>\n",
       "      <td>3</td>\n",
       "      <td>3</td>\n",
       "      <td>0.0</td>\n",
       "      <td>0.0</td>\n",
       "      <td>0.0</td>\n",
       "      <td>550.0</td>\n",
       "    </tr>\n",
       "  </tbody>\n",
       "</table>\n",
       "<p>10 rows × 26 columns</p>\n",
       "</div>"
      ],
      "text/plain": [
       "   user_id  month_x  duration_sum  duration_count  mb_used_sum  mb_used_count  \\\n",
       "0     1000      5.0         159.0            17.0       2256.0            4.0   \n",
       "1     1000      6.0         172.0            28.0      23257.0           44.0   \n",
       "2     1000      7.0         340.0            41.0      14016.0           28.0   \n",
       "3     1000      8.0         408.0            42.0      14070.0           27.0   \n",
       "4     1000      9.0         466.0            46.0      14581.0           25.0   \n",
       "5     1000     10.0         350.0            44.0      14717.0           27.0   \n",
       "6     1000     11.0         338.0            37.0      14768.0           23.0   \n",
       "7     1000     12.0         333.0            38.0       9827.0           19.0   \n",
       "8     1001     11.0         430.0            45.0      18452.0           47.0   \n",
       "9     1001     12.0         414.0            47.0      14053.0           35.0   \n",
       "\n",
       "    sms  age churn_date       city  ... mb_per_month_included  \\\n",
       "0  22.0   52          0  Краснодар  ...                 30720   \n",
       "1  60.0   52          0  Краснодар  ...                 30720   \n",
       "2  75.0   52          0  Краснодар  ...                 30720   \n",
       "3  81.0   52          0  Краснодар  ...                 30720   \n",
       "4  57.0   52          0  Краснодар  ...                 30720   \n",
       "5  73.0   52          0  Краснодар  ...                 30720   \n",
       "6  58.0   52          0  Краснодар  ...                 30720   \n",
       "7  70.0   52          0  Краснодар  ...                 30720   \n",
       "8   0.0   41          0     Москва  ...                 15360   \n",
       "9   0.0   41          0     Москва  ...                 15360   \n",
       "\n",
       "  minutes_included rub_monthly_fee rub_per_gb  rub_per_message  \\\n",
       "0             3000            1950        150                1   \n",
       "1             3000            1950        150                1   \n",
       "2             3000            1950        150                1   \n",
       "3             3000            1950        150                1   \n",
       "4             3000            1950        150                1   \n",
       "5             3000            1950        150                1   \n",
       "6             3000            1950        150                1   \n",
       "7             3000            1950        150                1   \n",
       "8              500             550        200                3   \n",
       "9              500             550        200                3   \n",
       "\n",
       "   rub_per_minute  call_fee  int_fee  sms_fee  total_fee  \n",
       "0               1       0.0      0.0      0.0     1950.0  \n",
       "1               1       0.0      0.0      0.0     1950.0  \n",
       "2               1       0.0      0.0      0.0     1950.0  \n",
       "3               1       0.0      0.0      0.0     1950.0  \n",
       "4               1       0.0      0.0      0.0     1950.0  \n",
       "5               1       0.0      0.0      0.0     1950.0  \n",
       "6               1       0.0      0.0      0.0     1950.0  \n",
       "7               1       0.0      0.0      0.0     1950.0  \n",
       "8               3       0.0    800.0      0.0     1350.0  \n",
       "9               3       0.0      0.0      0.0      550.0  \n",
       "\n",
       "[10 rows x 26 columns]"
      ]
     },
     "execution_count": 28,
     "metadata": {},
     "output_type": "execute_result"
    }
   ],
   "source": [
    "df['call_fee'] =  ( df['duration_sum'] - df['minutes_included'] ) * df['rub_per_minute']\n",
    "df.loc[df['call_fee'] < 0, 'call_fee'] = 0\n",
    "\n",
    "df['int_fee'] = np.ceil(( df['mb_used_sum'] - df['mb_per_month_included'] ) / 1024) *  df['rub_per_gb']\n",
    "df.loc[df['int_fee'] < 0, 'int_fee'] = 0\n",
    "\n",
    "df['sms_fee'] = ( df['sms'] - df['messages_included'] ) *  df['rub_per_message']\n",
    "df.loc[df['sms_fee'] < 0, 'sms_fee'] = 0\n",
    "\n",
    "df['total_fee'] = df['call_fee'] + df['int_fee'] + df['sms_fee'] + df['rub_monthly_fee']\n",
    "df.head(10)"
   ]
  },
  {
   "cell_type": "markdown",
   "metadata": {},
   "source": [
    "После объединения данных в итоговой таблицу у нас появились значения NaN, они появились в тех ячейках, где нет данных. Заменим их значения на 0."
   ]
  },
  {
   "cell_type": "code",
   "execution_count": 29,
   "metadata": {},
   "outputs": [
    {
     "data": {
      "text/plain": [
       "user_id                  0\n",
       "month_x                  0\n",
       "duration_sum             0\n",
       "duration_count           0\n",
       "mb_used_sum              0\n",
       "mb_used_count            0\n",
       "sms                      0\n",
       "age                      0\n",
       "churn_date               0\n",
       "city                     0\n",
       "first_name               0\n",
       "last_name                0\n",
       "reg_date                 0\n",
       "tariff_name              0\n",
       "month_y                  0\n",
       "messages_included        0\n",
       "mb_per_month_included    0\n",
       "minutes_included         0\n",
       "rub_monthly_fee          0\n",
       "rub_per_gb               0\n",
       "rub_per_message          0\n",
       "rub_per_minute           0\n",
       "call_fee                 0\n",
       "int_fee                  0\n",
       "sms_fee                  0\n",
       "total_fee                0\n",
       "dtype: int64"
      ]
     },
     "execution_count": 29,
     "metadata": {},
     "output_type": "execute_result"
    }
   ],
   "source": [
    "df.isnull().sum()"
   ]
  },
  {
   "cell_type": "markdown",
   "metadata": {},
   "source": [
    "#### Вывод\n",
    "Обработали данные таблиц, пропущенных значений нет, убрали нулевые значения длительности разговора и интернет-трафика, которые влияли на среднее.\n",
    "\n",
    "Все начальные таблицы были сгруппированы по парам пользователь-месяц и объединены в один датафрейм. Были подсчитаны необходимые для проекта данные - количество сделанных звонков и израсходованных минут разговора, количество сообщений смс и объем израсходованного интернет-трафика по месяцам. Подсчитали помесячную выручку с каждого пользователя. "
   ]
  },
  {
   "cell_type": "markdown",
   "metadata": {},
   "source": [
    "### Шаг 3. Анализ данных."
   ]
  },
  {
   "cell_type": "markdown",
   "metadata": {},
   "source": [
    "Создадим выборку пользователей с тарифом Ультра и Смарт"
   ]
  },
  {
   "cell_type": "code",
   "execution_count": 30,
   "metadata": {},
   "outputs": [],
   "source": [
    "df_ultra = df.query('tariff_name == \"ultra\"')\n",
    "df_smart = df.query('tariff_name == \"smart\"')"
   ]
  },
  {
   "cell_type": "markdown",
   "metadata": {},
   "source": [
    "Функция для расчета среднего, дисперсии, стандартного отклонения в серии и построения гистограмм."
   ]
  },
  {
   "cell_type": "code",
   "execution_count": 31,
   "metadata": {},
   "outputs": [],
   "source": [
    "def df_stat2(df1, df2, x, label1, label2, xlim1, xlim2):\n",
    "    print('                         ', label1, '      ', label2)\n",
    "    print(50*'-')\n",
    "    print('Среднее                {: >10.2f}  {: >10.2f}'.format(df1[x].mean(), df2[x].mean()))\n",
    "    print('Дисперсия              {: >10.2f}  {: >10.2f}'.format(np.var(df1[x], ddof=1), np.var(df2[x], ddof=1)))\n",
    "    print('Стандартное отклонение {: >10.2f}  {: >10.2f}'.format(np.std(df1[x], ddof=1), np.std(df2[x], ddof=1)))\n",
    "    \n",
    "    fig, axs = plt.subplots()\n",
    "    df1[x].plot(kind='hist', alpha=0.5, ax=axs, legend=True, label=label1)\n",
    "    df2[x].plot(kind='hist', alpha=0.5, ax=axs, legend=True, label=label2)\n",
    "    \n",
    "    axs.axvline(x=xlim1, label='limit')\n",
    "    axs.axvline(x=xlim2, label='limit', color='red')\n",
    "    axs.axvline(x=df1[x].mean(), ls='--', label='mean')\n",
    "    axs.axvline(x=df2[x].mean(), ls='--', label='mean', color='red')\n",
    "    axs.legend()"
   ]
  },
  {
   "cell_type": "markdown",
   "metadata": {},
   "source": [
    "Анализ по минутам разговора"
   ]
  },
  {
   "cell_type": "code",
   "execution_count": 32,
   "metadata": {},
   "outputs": [
    {
     "name": "stdout",
     "output_type": "stream",
     "text": [
      "                          ultra        smart\n",
      "--------------------------------------------------\n",
      "Среднее                    526.09      417.75\n",
      "Дисперсия               101052.49    36281.39\n",
      "Стандартное отклонение     317.89      190.48\n"
     ]
    },
    {
     "data": {
      "image/png": "[encoded data removed]",
      "text/plain": [
       "<Figure size 432x288 with 1 Axes>"
      ]
     },
     "metadata": {
      "needs_background": "light"
     },
     "output_type": "display_data"
    }
   ],
   "source": [
    "df_stat2(df_ultra, df_smart, 'duration_sum', 'ultra', 'smart', 3000, 500)"
   ]
  },
  {
   "cell_type": "markdown",
   "metadata": {},
   "source": [
    "Из графика видно, что пользователя тарифа Смарт говорят меньше по длительности, но совершают звонки чаще, чем пользователи Ультра."
   ]
  },
  {
   "cell_type": "markdown",
   "metadata": {},
   "source": [
    "Анализ по количеству сообщений"
   ]
  },
  {
   "cell_type": "code",
   "execution_count": 33,
   "metadata": {},
   "outputs": [
    {
     "name": "stdout",
     "output_type": "stream",
     "text": [
      "                          ultra        smart\n",
      "--------------------------------------------------\n",
      "Среднее                     49.31       33.37\n",
      "Дисперсия                 2285.42      796.96\n",
      "Стандартное отклонение      47.81       28.23\n"
     ]
    },
    {
     "data": {
      "image/png": "[encoded data removed]",
      "text/plain": [
       "<Figure size 432x288 with 1 Axes>"
      ]
     },
     "metadata": {
      "needs_background": "light"
     },
     "output_type": "display_data"
    }
   ],
   "source": [
    "df_stat2(df_ultra, df_smart, 'sms', 'ultra', 'smart', 1000, 50)"
   ]
  },
  {
   "cell_type": "markdown",
   "metadata": {},
   "source": [
    "В среднем в месяц посылается 30-50 смс, это совсем немного, что связано с массовым переходом людей на мессенджеры.  Распределение не имеет никакого отношения к нормальному, о чем говорит и высокие значения дисперсии."
   ]
  },
  {
   "cell_type": "markdown",
   "metadata": {},
   "source": [
    "Анализ по объему интернет-трафика"
   ]
  },
  {
   "cell_type": "code",
   "execution_count": 34,
   "metadata": {},
   "outputs": [
    {
     "name": "stdout",
     "output_type": "stream",
     "text": [
      "                          ultra        smart\n",
      "--------------------------------------------------\n",
      "Среднее                  19467.14    16221.91\n",
      "Дисперсия              102217264.28  34648523.30\n",
      "Стандартное отклонение   10110.26     5886.30\n"
     ]
    },
    {
     "data": {
      "image/png": "[encoded data removed]",
      "text/plain": [
       "<Figure size 432x288 with 1 Axes>"
      ]
     },
     "metadata": {
      "needs_background": "light"
     },
     "output_type": "display_data"
    }
   ],
   "source": [
    "df_stat2(df_ultra, df_smart, 'mb_used_sum', 'ultra', 'smart', 30720, 15360)"
   ]
  },
  {
   "cell_type": "markdown",
   "metadata": {},
   "source": [
    "Средние значения по расходуемому трафику у пользователей двух тарифов близки, при этом те, кто пользуется тарифом Смарт выходят в интернет гораздо чаще. Распределение близко к нормальному."
   ]
  },
  {
   "cell_type": "markdown",
   "metadata": {},
   "source": [
    "Значения среднего, стандартного отклонения по нужным нам параметрам можно было также вычислить, используя функцию describe()"
   ]
  },
  {
   "cell_type": "code",
   "execution_count": 35,
   "metadata": {
    "scrolled": true
   },
   "outputs": [
    {
     "data": {
      "text/html": [
       "<style  type=\"text/css\" >\n",
       "</style><table id=\"T_14a6b63a_d28f_11eb_9751_02420a39f422\" ><thead>    <tr>        <th class=\"blank level0\" ></th>        <th class=\"col_heading level0 col0\" >duration_sum</th>        <th class=\"col_heading level0 col1\" >mb_used_sum</th>        <th class=\"col_heading level0 col2\" >sms</th>        <th class=\"col_heading level0 col3\" >total_fee</th>    </tr></thead><tbody>\n",
       "                <tr>\n",
       "                        <th id=\"T_14a6b63a_d28f_11eb_9751_02420a39f422level0_row0\" class=\"row_heading level0 row0\" >count</th>\n",
       "                        <td id=\"T_14a6b63a_d28f_11eb_9751_02420a39f422row0_col0\" class=\"data row0 col0\" >986.00</td>\n",
       "                        <td id=\"T_14a6b63a_d28f_11eb_9751_02420a39f422row0_col1\" class=\"data row0 col1\" >986.00</td>\n",
       "                        <td id=\"T_14a6b63a_d28f_11eb_9751_02420a39f422row0_col2\" class=\"data row0 col2\" >986.00</td>\n",
       "                        <td id=\"T_14a6b63a_d28f_11eb_9751_02420a39f422row0_col3\" class=\"data row0 col3\" >986.00</td>\n",
       "            </tr>\n",
       "            <tr>\n",
       "                        <th id=\"T_14a6b63a_d28f_11eb_9751_02420a39f422level0_row1\" class=\"row_heading level0 row1\" >mean</th>\n",
       "                        <td id=\"T_14a6b63a_d28f_11eb_9751_02420a39f422row1_col0\" class=\"data row1 col0\" >526.09</td>\n",
       "                        <td id=\"T_14a6b63a_d28f_11eb_9751_02420a39f422row1_col1\" class=\"data row1 col1\" >19467.14</td>\n",
       "                        <td id=\"T_14a6b63a_d28f_11eb_9751_02420a39f422row1_col2\" class=\"data row1 col2\" >49.31</td>\n",
       "                        <td id=\"T_14a6b63a_d28f_11eb_9751_02420a39f422row1_col3\" class=\"data row1 col3\" >2070.94</td>\n",
       "            </tr>\n",
       "            <tr>\n",
       "                        <th id=\"T_14a6b63a_d28f_11eb_9751_02420a39f422level0_row2\" class=\"row_heading level0 row2\" >std</th>\n",
       "                        <td id=\"T_14a6b63a_d28f_11eb_9751_02420a39f422row2_col0\" class=\"data row2 col0\" >317.89</td>\n",
       "                        <td id=\"T_14a6b63a_d28f_11eb_9751_02420a39f422row2_col1\" class=\"data row2 col1\" >10110.26</td>\n",
       "                        <td id=\"T_14a6b63a_d28f_11eb_9751_02420a39f422row2_col2\" class=\"data row2 col2\" >47.81</td>\n",
       "                        <td id=\"T_14a6b63a_d28f_11eb_9751_02420a39f422row2_col3\" class=\"data row2 col3\" >378.63</td>\n",
       "            </tr>\n",
       "            <tr>\n",
       "                        <th id=\"T_14a6b63a_d28f_11eb_9751_02420a39f422level0_row3\" class=\"row_heading level0 row3\" >min</th>\n",
       "                        <td id=\"T_14a6b63a_d28f_11eb_9751_02420a39f422row3_col0\" class=\"data row3 col0\" >0.00</td>\n",
       "                        <td id=\"T_14a6b63a_d28f_11eb_9751_02420a39f422row3_col1\" class=\"data row3 col1\" >0.00</td>\n",
       "                        <td id=\"T_14a6b63a_d28f_11eb_9751_02420a39f422row3_col2\" class=\"data row3 col2\" >0.00</td>\n",
       "                        <td id=\"T_14a6b63a_d28f_11eb_9751_02420a39f422row3_col3\" class=\"data row3 col3\" >1950.00</td>\n",
       "            </tr>\n",
       "            <tr>\n",
       "                        <th id=\"T_14a6b63a_d28f_11eb_9751_02420a39f422level0_row4\" class=\"row_heading level0 row4\" >25%</th>\n",
       "                        <td id=\"T_14a6b63a_d28f_11eb_9751_02420a39f422row4_col0\" class=\"data row4 col0\" >282.50</td>\n",
       "                        <td id=\"T_14a6b63a_d28f_11eb_9751_02420a39f422row4_col1\" class=\"data row4 col1\" >11761.00</td>\n",
       "                        <td id=\"T_14a6b63a_d28f_11eb_9751_02420a39f422row4_col2\" class=\"data row4 col2\" >6.00</td>\n",
       "                        <td id=\"T_14a6b63a_d28f_11eb_9751_02420a39f422row4_col3\" class=\"data row4 col3\" >1950.00</td>\n",
       "            </tr>\n",
       "            <tr>\n",
       "                        <th id=\"T_14a6b63a_d28f_11eb_9751_02420a39f422level0_row5\" class=\"row_heading level0 row5\" >50%</th>\n",
       "                        <td id=\"T_14a6b63a_d28f_11eb_9751_02420a39f422row5_col0\" class=\"data row5 col0\" >518.00</td>\n",
       "                        <td id=\"T_14a6b63a_d28f_11eb_9751_02420a39f422row5_col1\" class=\"data row5 col1\" >19320.00</td>\n",
       "                        <td id=\"T_14a6b63a_d28f_11eb_9751_02420a39f422row5_col2\" class=\"data row5 col2\" >38.00</td>\n",
       "                        <td id=\"T_14a6b63a_d28f_11eb_9751_02420a39f422row5_col3\" class=\"data row5 col3\" >1950.00</td>\n",
       "            </tr>\n",
       "            <tr>\n",
       "                        <th id=\"T_14a6b63a_d28f_11eb_9751_02420a39f422level0_row6\" class=\"row_heading level0 row6\" >75%</th>\n",
       "                        <td id=\"T_14a6b63a_d28f_11eb_9751_02420a39f422row6_col0\" class=\"data row6 col0\" >751.75</td>\n",
       "                        <td id=\"T_14a6b63a_d28f_11eb_9751_02420a39f422row6_col1\" class=\"data row6 col1\" >26860.25</td>\n",
       "                        <td id=\"T_14a6b63a_d28f_11eb_9751_02420a39f422row6_col2\" class=\"data row6 col2\" >78.75</td>\n",
       "                        <td id=\"T_14a6b63a_d28f_11eb_9751_02420a39f422row6_col3\" class=\"data row6 col3\" >1950.00</td>\n",
       "            </tr>\n",
       "            <tr>\n",
       "                        <th id=\"T_14a6b63a_d28f_11eb_9751_02420a39f422level0_row7\" class=\"row_heading level0 row7\" >max</th>\n",
       "                        <td id=\"T_14a6b63a_d28f_11eb_9751_02420a39f422row7_col0\" class=\"data row7 col0\" >1673.00</td>\n",
       "                        <td id=\"T_14a6b63a_d28f_11eb_9751_02420a39f422row7_col1\" class=\"data row7 col1\" >49789.00</td>\n",
       "                        <td id=\"T_14a6b63a_d28f_11eb_9751_02420a39f422row7_col2\" class=\"data row7 col2\" >224.00</td>\n",
       "                        <td id=\"T_14a6b63a_d28f_11eb_9751_02420a39f422row7_col3\" class=\"data row7 col3\" >4800.00</td>\n",
       "            </tr>\n",
       "    </tbody></table>"
      ],
      "text/plain": [
       "<pandas.io.formats.style.Styler at 0x7fa9e77297d0>"
      ]
     },
     "execution_count": 35,
     "metadata": {},
     "output_type": "execute_result"
    }
   ],
   "source": [
    "df_ultra[['duration_sum', 'mb_used_sum', 'sms', 'total_fee']].describe().style.format('{:.2f}')"
   ]
  },
  {
   "cell_type": "code",
   "execution_count": 36,
   "metadata": {},
   "outputs": [
    {
     "data": {
      "text/html": [
       "<style  type=\"text/css\" >\n",
       "</style><table id=\"T_14af1f46_d28f_11eb_9751_02420a39f422\" ><thead>    <tr>        <th class=\"blank level0\" ></th>        <th class=\"col_heading level0 col0\" >duration_sum</th>        <th class=\"col_heading level0 col1\" >mb_used_sum</th>        <th class=\"col_heading level0 col2\" >sms</th>        <th class=\"col_heading level0 col3\" >total_fee</th>    </tr></thead><tbody>\n",
       "                <tr>\n",
       "                        <th id=\"T_14af1f46_d28f_11eb_9751_02420a39f422level0_row0\" class=\"row_heading level0 row0\" >count</th>\n",
       "                        <td id=\"T_14af1f46_d28f_11eb_9751_02420a39f422row0_col0\" class=\"data row0 col0\" >2230.00</td>\n",
       "                        <td id=\"T_14af1f46_d28f_11eb_9751_02420a39f422row0_col1\" class=\"data row0 col1\" >2230.00</td>\n",
       "                        <td id=\"T_14af1f46_d28f_11eb_9751_02420a39f422row0_col2\" class=\"data row0 col2\" >2230.00</td>\n",
       "                        <td id=\"T_14af1f46_d28f_11eb_9751_02420a39f422row0_col3\" class=\"data row0 col3\" >2230.00</td>\n",
       "            </tr>\n",
       "            <tr>\n",
       "                        <th id=\"T_14af1f46_d28f_11eb_9751_02420a39f422level0_row1\" class=\"row_heading level0 row1\" >mean</th>\n",
       "                        <td id=\"T_14af1f46_d28f_11eb_9751_02420a39f422row1_col0\" class=\"data row1 col0\" >417.75</td>\n",
       "                        <td id=\"T_14af1f46_d28f_11eb_9751_02420a39f422row1_col1\" class=\"data row1 col1\" >16221.91</td>\n",
       "                        <td id=\"T_14af1f46_d28f_11eb_9751_02420a39f422row1_col2\" class=\"data row1 col2\" >33.37</td>\n",
       "                        <td id=\"T_14af1f46_d28f_11eb_9751_02420a39f422row1_col3\" class=\"data row1 col3\" >1294.31</td>\n",
       "            </tr>\n",
       "            <tr>\n",
       "                        <th id=\"T_14af1f46_d28f_11eb_9751_02420a39f422level0_row2\" class=\"row_heading level0 row2\" >std</th>\n",
       "                        <td id=\"T_14af1f46_d28f_11eb_9751_02420a39f422row2_col0\" class=\"data row2 col0\" >190.48</td>\n",
       "                        <td id=\"T_14af1f46_d28f_11eb_9751_02420a39f422row2_col1\" class=\"data row2 col1\" >5886.30</td>\n",
       "                        <td id=\"T_14af1f46_d28f_11eb_9751_02420a39f422row2_col2\" class=\"data row2 col2\" >28.23</td>\n",
       "                        <td id=\"T_14af1f46_d28f_11eb_9751_02420a39f422row2_col3\" class=\"data row2 col3\" >820.90</td>\n",
       "            </tr>\n",
       "            <tr>\n",
       "                        <th id=\"T_14af1f46_d28f_11eb_9751_02420a39f422level0_row3\" class=\"row_heading level0 row3\" >min</th>\n",
       "                        <td id=\"T_14af1f46_d28f_11eb_9751_02420a39f422row3_col0\" class=\"data row3 col0\" >0.00</td>\n",
       "                        <td id=\"T_14af1f46_d28f_11eb_9751_02420a39f422row3_col1\" class=\"data row3 col1\" >0.00</td>\n",
       "                        <td id=\"T_14af1f46_d28f_11eb_9751_02420a39f422row3_col2\" class=\"data row3 col2\" >0.00</td>\n",
       "                        <td id=\"T_14af1f46_d28f_11eb_9751_02420a39f422row3_col3\" class=\"data row3 col3\" >550.00</td>\n",
       "            </tr>\n",
       "            <tr>\n",
       "                        <th id=\"T_14af1f46_d28f_11eb_9751_02420a39f422level0_row4\" class=\"row_heading level0 row4\" >25%</th>\n",
       "                        <td id=\"T_14af1f46_d28f_11eb_9751_02420a39f422row4_col0\" class=\"data row4 col0\" >282.00</td>\n",
       "                        <td id=\"T_14af1f46_d28f_11eb_9751_02420a39f422row4_col1\" class=\"data row4 col1\" >12645.25</td>\n",
       "                        <td id=\"T_14af1f46_d28f_11eb_9751_02420a39f422row4_col2\" class=\"data row4 col2\" >10.00</td>\n",
       "                        <td id=\"T_14af1f46_d28f_11eb_9751_02420a39f422row4_col3\" class=\"data row4 col3\" >550.00</td>\n",
       "            </tr>\n",
       "            <tr>\n",
       "                        <th id=\"T_14af1f46_d28f_11eb_9751_02420a39f422level0_row5\" class=\"row_heading level0 row5\" >50%</th>\n",
       "                        <td id=\"T_14af1f46_d28f_11eb_9751_02420a39f422row5_col0\" class=\"data row5 col0\" >421.50</td>\n",
       "                        <td id=\"T_14af1f46_d28f_11eb_9751_02420a39f422row5_col1\" class=\"data row5 col1\" >16529.00</td>\n",
       "                        <td id=\"T_14af1f46_d28f_11eb_9751_02420a39f422row5_col2\" class=\"data row5 col2\" >28.00</td>\n",
       "                        <td id=\"T_14af1f46_d28f_11eb_9751_02420a39f422row5_col3\" class=\"data row5 col3\" >1037.00</td>\n",
       "            </tr>\n",
       "            <tr>\n",
       "                        <th id=\"T_14af1f46_d28f_11eb_9751_02420a39f422level0_row6\" class=\"row_heading level0 row6\" >75%</th>\n",
       "                        <td id=\"T_14af1f46_d28f_11eb_9751_02420a39f422row6_col0\" class=\"data row6 col0\" >545.00</td>\n",
       "                        <td id=\"T_14af1f46_d28f_11eb_9751_02420a39f422row6_col1\" class=\"data row6 col1\" >20068.00</td>\n",
       "                        <td id=\"T_14af1f46_d28f_11eb_9751_02420a39f422row6_col2\" class=\"data row6 col2\" >51.00</td>\n",
       "                        <td id=\"T_14af1f46_d28f_11eb_9751_02420a39f422row6_col3\" class=\"data row6 col3\" >1750.00</td>\n",
       "            </tr>\n",
       "            <tr>\n",
       "                        <th id=\"T_14af1f46_d28f_11eb_9751_02420a39f422level0_row7\" class=\"row_heading level0 row7\" >max</th>\n",
       "                        <td id=\"T_14af1f46_d28f_11eb_9751_02420a39f422row7_col0\" class=\"data row7 col0\" >1435.00</td>\n",
       "                        <td id=\"T_14af1f46_d28f_11eb_9751_02420a39f422row7_col1\" class=\"data row7 col1\" >38610.00</td>\n",
       "                        <td id=\"T_14af1f46_d28f_11eb_9751_02420a39f422row7_col2\" class=\"data row7 col2\" >143.00</td>\n",
       "                        <td id=\"T_14af1f46_d28f_11eb_9751_02420a39f422row7_col3\" class=\"data row7 col3\" >6770.00</td>\n",
       "            </tr>\n",
       "    </tbody></table>"
      ],
      "text/plain": [
       "<pandas.io.formats.style.Styler at 0x7fa9e771ef50>"
      ]
     },
     "execution_count": 36,
     "metadata": {},
     "output_type": "execute_result"
    }
   ],
   "source": [
    "df_smart[['duration_sum', 'mb_used_sum', 'sms', 'total_fee']].describe().style.format('{:.2f}')"
   ]
  },
  {
   "cell_type": "markdown",
   "metadata": {},
   "source": [
    "#### Вывод\n",
    "В целом при сравнении пользователей двух тарифов можно сделать выводы: пользователя тарифа Смарт говорят меньше по длительности, но совершают звонки чаще, чем пользователи Ультра. Такая же ситуация и с интернет-трафиком. Смс-сообщений пользователи обоих тарифов отправляют немного, но пользователи тарифа Ультра все-таки больше."
   ]
  },
  {
   "cell_type": "markdown",
   "metadata": {},
   "source": [
    "### Шаг 4. Проверка гипотез."
   ]
  },
  {
   "cell_type": "markdown",
   "metadata": {},
   "source": [
    "Проверим нулевую гипотезу - средняя выручка пользователей тарифов Ультра и Смарт одинаковая. \n",
    "\n",
    "Альтернативная гипотеза - средняя выручка пользователей одного из тарифов больше,чем другого. \n",
    "\n",
    "Используем Т-тест для проверки равенства среднего двух генеральных совокупностей по взятым из них выборкам. \n",
    "Параметр equal_var=True используется для теста 2 выборок c предположительно равными дисперсиями. В нашем случае значения дисперсий значительно отличаются (в случае сравнения средней выручки пользователей тарифов Ультра и Смарт почти в 5 раз), поэтому использовали equal_var=False."
   ]
  },
  {
   "cell_type": "code",
   "execution_count": 37,
   "metadata": {},
   "outputs": [
    {
     "name": "stdout",
     "output_type": "stream",
     "text": [
      "р-значение: 1.2414049931248708e-246\n",
      "Отвергаем нулевую гипотезу\n"
     ]
    }
   ],
   "source": [
    "alpha = 0.05\n",
    "\n",
    "result = st.ttest_ind(df_smart['total_fee'], df_ultra['total_fee'], equal_var=False)\n",
    "print('р-значение:', result.pvalue)\n",
    "\n",
    "if (result.pvalue < alpha):\n",
    "    print('Отвергаем нулевую гипотезу')\n",
    "else: \n",
    "    print('Не получилось отвергнуть нулевую гипотезу')"
   ]
  },
  {
   "cell_type": "markdown",
   "metadata": {},
   "source": [
    "Следовательно, выручка пользователей по тарифам Ультра и Смарт отличается."
   ]
  },
  {
   "cell_type": "code",
   "execution_count": 38,
   "metadata": {},
   "outputs": [
    {
     "name": "stdout",
     "output_type": "stream",
     "text": [
      "                          ultra        smart\n",
      "--------------------------------------------------\n",
      "Среднее                   2070.94     1294.31\n",
      "Дисперсия               143360.43   673877.62\n",
      "Стандартное отклонение     378.63      820.90\n"
     ]
    },
    {
     "data": {
      "image/png": "[encoded data removed]",
      "text/plain": [
       "<Figure size 432x288 with 1 Axes>"
      ]
     },
     "metadata": {
      "needs_background": "light"
     },
     "output_type": "display_data"
    }
   ],
   "source": [
    "df_stat2(df_ultra, df_smart, 'total_fee', 'ultra', 'smart', 1950, 550)"
   ]
  },
  {
   "cell_type": "markdown",
   "metadata": {},
   "source": [
    "Ультра-тариф с дорогой абоненской платой, с большим количеством включенных в нее минут разговора, Мб интернета и сообщений. Большинство пользователей этого тарифа укладываются в абоненскую плату и не переплачивают сверху. В то время, как по тарифу Смарт достаточно большее число пользователей платит сверху абоненской платы, не укладываясь в лимиты. Об этом говорит и среднее значение (абоненская плата за тариф 550 рублей, в то время, как средняя выручка составляет 1233 рубля в месяц)."
   ]
  },
  {
   "cell_type": "code",
   "execution_count": 39,
   "metadata": {},
   "outputs": [],
   "source": [
    "df_ultra_moscow = df_ultra.query('city == \"Москва\"')\n",
    "df_ultra_regions = df_ultra.query('city != \"Москва\"')\n",
    "df_smart_moscow = df_smart.query('city == \"Москва\"')\n",
    "df_smart_regions = df_smart.query('city != \"Москва\"')"
   ]
  },
  {
   "cell_type": "markdown",
   "metadata": {},
   "source": [
    "Проверим нулевую гипотезу - средняя выручка пользователей тарифов Ультра и Смарт из Москвы равна выручке пользователям в регионах. \n",
    "\n",
    "Альтернативная гипотеза - средняя выручка пользователей из Москвы больше,чем в регионах. \n",
    "\n",
    "Используем Т-тест для проверки равенства среднего двух генеральных совокупностей по взятым из них выборкам. "
   ]
  },
  {
   "cell_type": "markdown",
   "metadata": {},
   "source": [
    "Проверим для тарифа Смарт"
   ]
  },
  {
   "cell_type": "code",
   "execution_count": 40,
   "metadata": {},
   "outputs": [
    {
     "name": "stdout",
     "output_type": "stream",
     "text": [
      "р-значение: 0.1671050833966643\n",
      "Не получилось отвергнуть нулевую гипотезу\n"
     ]
    }
   ],
   "source": [
    "alpha = 0.05\n",
    "\n",
    "result = st.ttest_ind(df_smart_moscow['total_fee'], df_smart_regions['total_fee'], equal_var=False)\n",
    "print('р-значение:', result.pvalue)\n",
    "\n",
    "if (result.pvalue < alpha):\n",
    "    print('Отвергаем нулевую гипотезу')\n",
    "else: \n",
    "    print('Не получилось отвергнуть нулевую гипотезу')"
   ]
  },
  {
   "cell_type": "code",
   "execution_count": 41,
   "metadata": {},
   "outputs": [
    {
     "name": "stdout",
     "output_type": "stream",
     "text": [
      "                          Москва        регионы\n",
      "--------------------------------------------------\n",
      "Среднее                   1245.06     1304.61\n",
      "Дисперсия               570033.28   695321.88\n",
      "Стандартное отклонение     755.01      833.86\n"
     ]
    },
    {
     "data": {
      "image/png": "[encoded data removed]",
      "text/plain": [
       "<Figure size 432x288 with 1 Axes>"
      ]
     },
     "metadata": {
      "needs_background": "light"
     },
     "output_type": "display_data"
    }
   ],
   "source": [
    "df_stat2(df_smart_moscow, df_smart_regions, 'total_fee', 'Москва', 'регионы', 550, 550)"
   ]
  },
  {
   "cell_type": "markdown",
   "metadata": {},
   "source": [
    "Выручка пользователей тарифа Смарт в Москве и регионах не отличается. Пользователей в регионах на этом тарифе больше."
   ]
  },
  {
   "cell_type": "markdown",
   "metadata": {},
   "source": [
    "Проверим для тарифа Ультра"
   ]
  },
  {
   "cell_type": "code",
   "execution_count": 42,
   "metadata": {},
   "outputs": [
    {
     "name": "stdout",
     "output_type": "stream",
     "text": [
      "р-значение: 0.8355530456320814\n",
      "Не получилось отвергнуть нулевую гипотезу\n"
     ]
    }
   ],
   "source": [
    "alpha = 0.05\n",
    "\n",
    "result = st.ttest_ind(df_ultra_moscow['total_fee'], df_ultra_regions['total_fee'], equal_var=False)\n",
    "print('р-значение:', result.pvalue)\n",
    "\n",
    "if (result.pvalue < alpha):\n",
    "    print('Отвергаем нулевую гипотезу')\n",
    "else: \n",
    "    print('Не получилось отвергнуть нулевую гипотезу')"
   ]
  },
  {
   "cell_type": "code",
   "execution_count": 43,
   "metadata": {},
   "outputs": [
    {
     "name": "stdout",
     "output_type": "stream",
     "text": [
      "                          Москва        регионы\n",
      "--------------------------------------------------\n",
      "Среднее                   2075.33     2069.65\n",
      "Дисперсия               124645.54   149057.64\n",
      "Стандартное отклонение     353.05      386.08\n"
     ]
    },
    {
     "data": {
      "image/png": "[encoded data removed]",
      "text/plain": [
       "<Figure size 432x288 with 1 Axes>"
      ]
     },
     "metadata": {
      "needs_background": "light"
     },
     "output_type": "display_data"
    }
   ],
   "source": [
    "df_stat2(df_ultra_moscow, df_ultra_regions, 'total_fee', 'Москва', 'регионы', 1950, 1950)"
   ]
  },
  {
   "cell_type": "markdown",
   "metadata": {},
   "source": [
    "Выручка пользователей тарифа Ультра в Москве и регионах также не отличается. Пользователей в регионах и на этом тарифе больше."
   ]
  },
  {
   "cell_type": "markdown",
   "metadata": {},
   "source": [
    "#### Вывод\n",
    "Выручка пользователей по тарифам Ультра и Смарт отличается. \n",
    "Ультра-тариф с дорогой абоненской платой, с большим количеством включенных в нее минут разговора, Мб интернета и сообщений. Большинство пользователей этого тарифа укладываются в абоненскую плату и не переплачивают сверху. \n",
    "\n",
    "В то время, как по тарифу Смарт достаточно большее число пользователей платит сверху абоненской платы, не укладываясь в лимиты. Об этом говорит и среднее значение (абоненская плата за тариф 550 рублей, в то время, как средняя выручка составляет 1233 рубля в месяц).\n",
    "Если сравнивать Москву и остальные города России, то выручка пользователей не отличается в обоих тарифах. "
   ]
  },
  {
   "cell_type": "markdown",
   "metadata": {},
   "source": [
    "### Шаг 5. Общий вывод."
   ]
  },
  {
   "cell_type": "markdown",
   "metadata": {},
   "source": [
    "Проанализировали данные компании. Скорректировали пропущенные значения, изменили тип данных нескольких колонок для более быстрой и удобной обработки, округлили количество минут разговора и мегабайт интернета до целых чисел вверх, поскольку таким образом поступает оператор «Мегалайн». Объединили все данные в один датафрейм, сгруппировав по конкретному клиенту и месяцу расхода. Рассчитали необходимые для проекта параметры, в том числе помесячную выручку с каждого пользователя.\n",
    "Исходя из анализа нашей выборки можно сделать следующий вывод, что тариф Смарт приносит больше дохода компании, чем тариф Ультра. Большинство пользователей Ультра укладываются в абоненскую плату и не переплачивают сверху. В то время, как по тарифу Смарт достаточно большее число пользователей платит дополнительно абоненской платы, не укладываясь в лимиты. эти данные подтверждаются для обоих тарифов в Москве и регионах. Пользователя тарифа Смарт говорят меньше по длительности, но совершают звонки чаще, чем пользователи Ультра. Такая же ситуация и с интернет-трафиком. Смс-сообщений пользователи обоих тарифов отправляют немного.\n",
    "Поскольку выборка случайная, можно перенести этот анализ на всю генеральную совокупность, то есть тариф Смарт является для компании «Мегалайн» более выгодным."
   ]
  }
 ],
 "metadata": {
  "ExecuteTimeLog": [
   {
    "duration": 428,
    "start_time": "2021-06-17T10:52:41.817Z"
   },
   {
    "duration": 1531,
    "start_time": "2021-06-17T10:52:53.423Z"
   },
   {
    "duration": 5,
    "start_time": "2021-06-17T10:52:54.956Z"
   },
   {
    "duration": 265,
    "start_time": "2021-06-17T10:52:54.963Z"
   },
   {
    "duration": 212,
    "start_time": "2021-06-17T10:52:55.231Z"
   },
   {
    "duration": 153,
    "start_time": "2021-06-17T10:52:55.445Z"
   },
   {
    "duration": 39,
    "start_time": "2021-06-17T10:52:55.601Z"
   },
   {
    "duration": 62,
    "start_time": "2021-06-17T10:52:55.643Z"
   },
   {
    "duration": 6,
    "start_time": "2021-06-17T10:52:55.710Z"
   },
   {
    "duration": 435,
    "start_time": "2021-06-17T10:52:55.720Z"
   },
   {
    "duration": 44,
    "start_time": "2021-06-17T10:52:56.158Z"
   },
   {
    "duration": 416,
    "start_time": "2021-06-17T10:52:56.204Z"
   },
   {
    "duration": 6,
    "start_time": "2021-06-17T10:52:56.622Z"
   },
   {
    "duration": 133,
    "start_time": "2021-06-17T10:52:56.630Z"
   },
   {
    "duration": 411,
    "start_time": "2021-06-17T10:52:56.765Z"
   },
   {
    "duration": 432,
    "start_time": "2021-06-17T10:52:57.186Z"
   },
   {
    "duration": 130,
    "start_time": "2021-06-17T10:52:57.621Z"
   },
   {
    "duration": 83,
    "start_time": "2021-06-17T10:52:57.754Z"
   },
   {
    "duration": 64,
    "start_time": "2021-06-17T10:52:57.840Z"
   },
   {
    "duration": 8,
    "start_time": "2021-06-17T10:52:57.907Z"
   },
   {
    "duration": 15,
    "start_time": "2021-06-17T10:52:57.918Z"
   },
   {
    "duration": 205,
    "start_time": "2021-06-17T10:52:57.936Z"
   },
   {
    "duration": 47,
    "start_time": "2021-06-17T10:52:58.144Z"
   },
   {
    "duration": 42,
    "start_time": "2021-06-17T10:52:58.198Z"
   },
   {
    "duration": 58,
    "start_time": "2021-06-17T10:52:58.243Z"
   },
   {
    "duration": 44,
    "start_time": "2021-06-17T10:52:58.304Z"
   },
   {
    "duration": 9,
    "start_time": "2021-06-17T10:52:58.350Z"
   },
   {
    "duration": 8,
    "start_time": "2021-06-17T10:52:58.385Z"
   },
   {
    "duration": 54,
    "start_time": "2021-06-17T10:52:58.395Z"
   },
   {
    "duration": 42,
    "start_time": "2021-06-17T10:52:58.451Z"
   },
   {
    "duration": 13,
    "start_time": "2021-06-17T10:52:58.496Z"
   },
   {
    "duration": 11,
    "start_time": "2021-06-17T10:52:58.511Z"
   },
   {
    "duration": 573,
    "start_time": "2021-06-17T10:52:58.525Z"
   },
   {
    "duration": 561,
    "start_time": "2021-06-17T10:52:59.100Z"
   },
   {
    "duration": 527,
    "start_time": "2021-06-17T10:52:59.664Z"
   },
   {
    "duration": 980,
    "start_time": "2021-06-17T10:53:00.193Z"
   },
   {
    "duration": 37,
    "start_time": "2021-06-17T10:53:01.177Z"
   },
   {
    "duration": 8,
    "start_time": "2021-06-17T10:53:01.216Z"
   },
   {
    "duration": 637,
    "start_time": "2021-06-17T10:53:01.226Z"
   },
   {
    "duration": 25,
    "start_time": "2021-06-17T10:53:01.865Z"
   },
   {
    "duration": 11,
    "start_time": "2021-06-17T10:53:01.893Z"
   },
   {
    "duration": 561,
    "start_time": "2021-06-17T10:53:01.907Z"
   },
   {
    "duration": 19,
    "start_time": "2021-06-17T10:53:02.471Z"
   },
   {
    "duration": 570,
    "start_time": "2021-06-17T10:53:02.492Z"
   },
   {
    "duration": 1437,
    "start_time": "2021-06-21T12:49:04.332Z"
   },
   {
    "duration": 4,
    "start_time": "2021-06-21T12:49:05.771Z"
   },
   {
    "duration": 930,
    "start_time": "2021-06-21T12:49:05.778Z"
   },
   {
    "duration": 834,
    "start_time": "2021-06-21T12:49:06.712Z"
   },
   {
    "duration": 158,
    "start_time": "2021-06-21T12:49:07.548Z"
   },
   {
    "duration": 34,
    "start_time": "2021-06-21T12:49:07.709Z"
   },
   {
    "duration": 78,
    "start_time": "2021-06-21T12:49:07.745Z"
   },
   {
    "duration": 4,
    "start_time": "2021-06-21T12:49:07.827Z"
   },
   {
    "duration": 457,
    "start_time": "2021-06-21T12:49:07.834Z"
   },
   {
    "duration": 30,
    "start_time": "2021-06-21T12:49:08.295Z"
   },
   {
    "duration": 459,
    "start_time": "2021-06-21T12:49:08.327Z"
   },
   {
    "duration": 10,
    "start_time": "2021-06-21T12:49:08.790Z"
   },
   {
    "duration": 145,
    "start_time": "2021-06-21T12:49:08.803Z"
   },
   {
    "duration": 429,
    "start_time": "2021-06-21T12:49:08.950Z"
   },
   {
    "duration": 453,
    "start_time": "2021-06-21T12:49:09.381Z"
   },
   {
    "duration": 119,
    "start_time": "2021-06-21T12:49:09.836Z"
   },
   {
    "duration": 75,
    "start_time": "2021-06-21T12:49:09.957Z"
   },
   {
    "duration": 64,
    "start_time": "2021-06-21T12:49:10.035Z"
   },
   {
    "duration": 7,
    "start_time": "2021-06-21T12:49:10.102Z"
   },
   {
    "duration": 15,
    "start_time": "2021-06-21T12:49:10.112Z"
   },
   {
    "duration": 173,
    "start_time": "2021-06-21T12:49:10.129Z"
   },
   {
    "duration": 26,
    "start_time": "2021-06-21T12:49:10.306Z"
   },
   {
    "duration": 25,
    "start_time": "2021-06-21T12:49:10.338Z"
   },
   {
    "duration": 41,
    "start_time": "2021-06-21T12:49:10.390Z"
   },
   {
    "duration": 92,
    "start_time": "2021-06-21T12:49:10.434Z"
   },
   {
    "duration": 10,
    "start_time": "2021-06-21T12:49:10.528Z"
   },
   {
    "duration": 12,
    "start_time": "2021-06-21T12:49:10.541Z"
   },
   {
    "duration": 92,
    "start_time": "2021-06-21T12:49:10.555Z"
   },
   {
    "duration": 9,
    "start_time": "2021-06-21T12:49:10.650Z"
   },
   {
    "duration": 29,
    "start_time": "2021-06-21T12:49:10.661Z"
   },
   {
    "duration": 18,
    "start_time": "2021-06-21T12:49:10.694Z"
   },
   {
    "duration": 627,
    "start_time": "2021-06-21T12:49:10.715Z"
   },
   {
    "duration": 586,
    "start_time": "2021-06-21T12:49:11.345Z"
   },
   {
    "duration": 558,
    "start_time": "2021-06-21T12:49:11.933Z"
   },
   {
    "duration": 868,
    "start_time": "2021-06-21T12:49:12.496Z"
   },
   {
    "duration": 49,
    "start_time": "2021-06-21T12:49:13.367Z"
   },
   {
    "duration": 8,
    "start_time": "2021-06-21T12:49:13.419Z"
   },
   {
    "duration": 612,
    "start_time": "2021-06-21T12:49:13.429Z"
   },
   {
    "duration": 20,
    "start_time": "2021-06-21T12:49:14.043Z"
   },
   {
    "duration": 22,
    "start_time": "2021-06-21T12:49:14.066Z"
   },
   {
    "duration": 570,
    "start_time": "2021-06-21T12:49:14.092Z"
   },
   {
    "duration": 20,
    "start_time": "2021-06-21T12:49:14.665Z"
   },
   {
    "duration": 559,
    "start_time": "2021-06-21T12:49:14.689Z"
   }
  ],
  "kernelspec": {
   "display_name": "Python 3",
   "language": "python",
   "name": "python3"
  },
  "language_info": {
   "codemirror_mode": {
    "name": "ipython",
    "version": 3
   },
   "file_extension": ".py",
   "mimetype": "text/x-python",
   "name": "python",
   "nbconvert_exporter": "python",
   "pygments_lexer": "ipython3",
   "version": "3.7.8"
  },
  "toc": {
   "base_numbering": 1,
   "nav_menu": {},
   "number_sections": false,
   "sideBar": true,
   "skip_h1_title": true,
   "title_cell": "Table of Contents",
   "title_sidebar": "Contents",
   "toc_cell": false,
   "toc_position": {},
   "toc_section_display": true,
   "toc_window_display": false
  }
 },
 "nbformat": 4,
 "nbformat_minor": 2
}
