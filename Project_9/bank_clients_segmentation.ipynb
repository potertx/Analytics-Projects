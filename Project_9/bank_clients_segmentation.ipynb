{
 "cells": [
  {
   "cell_type": "markdown",
   "metadata": {},
   "source": [
    "# Сегментация клиентов банка по потреблению банковских продуктов.\n",
    "\n",
    "## Описание проекта\n",
    "Для анализа предоставлены данные о клиентах банка. Банк располагается в Ярославле и областных городах: Ростов Великий и Рыбинск. Необходимо произвести сегментацию клиентов банка, выделить основные целевые аудитории и охарактеризовать их ключевые признаки.\n",
    "\n",
    "## Структура проекта\n",
    "1. Изучение общей информации.\n",
    "2. Предобработка данных.\n",
    "- соответствие типов данных\n",
    "- корректность названий столбцов\n",
    "- пропущенные значения\n",
    "- дубликаты\n",
    "3. Исследовательский анализ данных.\n",
    "- изучение средних значений и стандартных отклонений\n",
    "- построим столбчатые диаграммы и распределения по основным признакам\n",
    "- матрица корреляций\n",
    "4. Сегментация пользователей.\n",
    "5. Проверка гипотез.\n",
    "6. Общий вывод."
   ]
  },
  {
   "cell_type": "markdown",
   "metadata": {},
   "source": [
    "### Шаг 1. Изучение общей информации."
   ]
  },
  {
   "cell_type": "markdown",
   "metadata": {},
   "source": [
    "Импортирование модулей, необходимых для работы"
   ]
  },
  {
   "cell_type": "code",
   "execution_count": 1,
   "metadata": {},
   "outputs": [],
   "source": [
    "import pandas as pd\n",
    "import seaborn as sns\n",
    "from matplotlib import pyplot as plt\n",
    "import matplotlib.pyplot as plt\n",
    "import scipy.stats as stats\n",
    "from scipy import stats as st\n",
    "import numpy as np\n",
    "import math as mth\n",
    "\n",
    "from sklearn.preprocessing import StandardScaler\n",
    "from sklearn.cluster import KMeans\n",
    "from scipy.cluster.hierarchy import dendrogram, linkage\n",
    "\n",
    "import warnings\n",
    "warnings.filterwarnings('ignore') "
   ]
  },
  {
   "cell_type": "markdown",
   "metadata": {},
   "source": [
    "Чтение данных и визуалиция таблицы "
   ]
  },
  {
   "cell_type": "code",
   "execution_count": 2,
   "metadata": {},
   "outputs": [
    {
     "data": {
      "text/html": [
       "<div>\n",
       "<style scoped>\n",
       "    .dataframe tbody tr th:only-of-type {\n",
       "        vertical-align: middle;\n",
       "    }\n",
       "\n",
       "    .dataframe tbody tr th {\n",
       "        vertical-align: top;\n",
       "    }\n",
       "\n",
       "    .dataframe thead th {\n",
       "        text-align: right;\n",
       "    }\n",
       "</style>\n",
       "<table border=\"1\" class=\"dataframe\">\n",
       "  <thead>\n",
       "    <tr style=\"text-align: right;\">\n",
       "      <th></th>\n",
       "      <th>userid</th>\n",
       "      <th>score</th>\n",
       "      <th>City</th>\n",
       "      <th>Gender</th>\n",
       "      <th>Age</th>\n",
       "      <th>Objects</th>\n",
       "      <th>Balance</th>\n",
       "      <th>Products</th>\n",
       "      <th>CreditCard</th>\n",
       "      <th>Loyalty</th>\n",
       "      <th>estimated_salary</th>\n",
       "      <th>Churn</th>\n",
       "    </tr>\n",
       "  </thead>\n",
       "  <tbody>\n",
       "    <tr>\n",
       "      <td>0</td>\n",
       "      <td>15677338</td>\n",
       "      <td>619</td>\n",
       "      <td>Ярославль</td>\n",
       "      <td>Ж</td>\n",
       "      <td>42</td>\n",
       "      <td>2</td>\n",
       "      <td>NaN</td>\n",
       "      <td>1</td>\n",
       "      <td>1</td>\n",
       "      <td>1</td>\n",
       "      <td>101348.88</td>\n",
       "      <td>1</td>\n",
       "    </tr>\n",
       "    <tr>\n",
       "      <td>1</td>\n",
       "      <td>15690047</td>\n",
       "      <td>608</td>\n",
       "      <td>Рыбинск</td>\n",
       "      <td>Ж</td>\n",
       "      <td>41</td>\n",
       "      <td>1</td>\n",
       "      <td>83807.86</td>\n",
       "      <td>1</td>\n",
       "      <td>0</td>\n",
       "      <td>1</td>\n",
       "      <td>112542.58</td>\n",
       "      <td>0</td>\n",
       "    </tr>\n",
       "    <tr>\n",
       "      <td>2</td>\n",
       "      <td>15662040</td>\n",
       "      <td>502</td>\n",
       "      <td>Ярославль</td>\n",
       "      <td>Ж</td>\n",
       "      <td>42</td>\n",
       "      <td>8</td>\n",
       "      <td>159660.80</td>\n",
       "      <td>3</td>\n",
       "      <td>1</td>\n",
       "      <td>0</td>\n",
       "      <td>113931.57</td>\n",
       "      <td>1</td>\n",
       "    </tr>\n",
       "    <tr>\n",
       "      <td>3</td>\n",
       "      <td>15744090</td>\n",
       "      <td>699</td>\n",
       "      <td>Ярославль</td>\n",
       "      <td>Ж</td>\n",
       "      <td>39</td>\n",
       "      <td>1</td>\n",
       "      <td>NaN</td>\n",
       "      <td>2</td>\n",
       "      <td>0</td>\n",
       "      <td>0</td>\n",
       "      <td>93826.63</td>\n",
       "      <td>0</td>\n",
       "    </tr>\n",
       "    <tr>\n",
       "      <td>4</td>\n",
       "      <td>15780624</td>\n",
       "      <td>850</td>\n",
       "      <td>Рыбинск</td>\n",
       "      <td>Ж</td>\n",
       "      <td>43</td>\n",
       "      <td>2</td>\n",
       "      <td>125510.82</td>\n",
       "      <td>1</td>\n",
       "      <td>1</td>\n",
       "      <td>1</td>\n",
       "      <td>79084.10</td>\n",
       "      <td>0</td>\n",
       "    </tr>\n",
       "    <tr>\n",
       "      <td>...</td>\n",
       "      <td>...</td>\n",
       "      <td>...</td>\n",
       "      <td>...</td>\n",
       "      <td>...</td>\n",
       "      <td>...</td>\n",
       "      <td>...</td>\n",
       "      <td>...</td>\n",
       "      <td>...</td>\n",
       "      <td>...</td>\n",
       "      <td>...</td>\n",
       "      <td>...</td>\n",
       "      <td>...</td>\n",
       "    </tr>\n",
       "    <tr>\n",
       "      <td>9995</td>\n",
       "      <td>15648965</td>\n",
       "      <td>771</td>\n",
       "      <td>Ярославль</td>\n",
       "      <td>М</td>\n",
       "      <td>39</td>\n",
       "      <td>5</td>\n",
       "      <td>NaN</td>\n",
       "      <td>2</td>\n",
       "      <td>1</td>\n",
       "      <td>0</td>\n",
       "      <td>96270.64</td>\n",
       "      <td>0</td>\n",
       "    </tr>\n",
       "    <tr>\n",
       "      <td>9996</td>\n",
       "      <td>15612628</td>\n",
       "      <td>516</td>\n",
       "      <td>Ярославль</td>\n",
       "      <td>М</td>\n",
       "      <td>35</td>\n",
       "      <td>10</td>\n",
       "      <td>57369.61</td>\n",
       "      <td>1</td>\n",
       "      <td>1</td>\n",
       "      <td>1</td>\n",
       "      <td>101699.77</td>\n",
       "      <td>0</td>\n",
       "    </tr>\n",
       "    <tr>\n",
       "      <td>9997</td>\n",
       "      <td>15627268</td>\n",
       "      <td>709</td>\n",
       "      <td>Ярославль</td>\n",
       "      <td>Ж</td>\n",
       "      <td>36</td>\n",
       "      <td>7</td>\n",
       "      <td>NaN</td>\n",
       "      <td>1</td>\n",
       "      <td>0</td>\n",
       "      <td>1</td>\n",
       "      <td>42085.58</td>\n",
       "      <td>1</td>\n",
       "    </tr>\n",
       "    <tr>\n",
       "      <td>9998</td>\n",
       "      <td>15725091</td>\n",
       "      <td>772</td>\n",
       "      <td>Ростов Великий</td>\n",
       "      <td>М</td>\n",
       "      <td>42</td>\n",
       "      <td>3</td>\n",
       "      <td>75075.31</td>\n",
       "      <td>2</td>\n",
       "      <td>1</td>\n",
       "      <td>0</td>\n",
       "      <td>92888.52</td>\n",
       "      <td>1</td>\n",
       "    </tr>\n",
       "    <tr>\n",
       "      <td>9999</td>\n",
       "      <td>15671055</td>\n",
       "      <td>792</td>\n",
       "      <td>Ярославль</td>\n",
       "      <td>Ж</td>\n",
       "      <td>28</td>\n",
       "      <td>4</td>\n",
       "      <td>130142.79</td>\n",
       "      <td>1</td>\n",
       "      <td>1</td>\n",
       "      <td>0</td>\n",
       "      <td>38190.78</td>\n",
       "      <td>0</td>\n",
       "    </tr>\n",
       "  </tbody>\n",
       "</table>\n",
       "<p>10000 rows × 12 columns</p>\n",
       "</div>"
      ],
      "text/plain": [
       "        userid  score            City Gender  Age  Objects    Balance  \\\n",
       "0     15677338    619       Ярославль      Ж   42        2        NaN   \n",
       "1     15690047    608         Рыбинск      Ж   41        1   83807.86   \n",
       "2     15662040    502       Ярославль      Ж   42        8  159660.80   \n",
       "3     15744090    699       Ярославль      Ж   39        1        NaN   \n",
       "4     15780624    850         Рыбинск      Ж   43        2  125510.82   \n",
       "...        ...    ...             ...    ...  ...      ...        ...   \n",
       "9995  15648965    771       Ярославль      М   39        5        NaN   \n",
       "9996  15612628    516       Ярославль      М   35       10   57369.61   \n",
       "9997  15627268    709       Ярославль      Ж   36        7        NaN   \n",
       "9998  15725091    772  Ростов Великий      М   42        3   75075.31   \n",
       "9999  15671055    792       Ярославль      Ж   28        4  130142.79   \n",
       "\n",
       "      Products  CreditCard  Loyalty  estimated_salary  Churn  \n",
       "0            1           1        1         101348.88      1  \n",
       "1            1           0        1         112542.58      0  \n",
       "2            3           1        0         113931.57      1  \n",
       "3            2           0        0          93826.63      0  \n",
       "4            1           1        1          79084.10      0  \n",
       "...        ...         ...      ...               ...    ...  \n",
       "9995         2           1        0          96270.64      0  \n",
       "9996         1           1        1         101699.77      0  \n",
       "9997         1           0        1          42085.58      1  \n",
       "9998         2           1        0          92888.52      1  \n",
       "9999         1           1        0          38190.78      0  \n",
       "\n",
       "[10000 rows x 12 columns]"
      ]
     },
     "execution_count": 2,
     "metadata": {},
     "output_type": "execute_result"
    }
   ],
   "source": [
    "data = pd.read_csv('данные предоставлены Яндекс.Практикум')\n",
    "data"
   ]
  },
  {
   "cell_type": "markdown",
   "metadata": {},
   "source": [
    "#### Вывод \n",
    "В начальной таблице  12 колонок: \n",
    "- `userid` - идентификатор пользователя\n",
    "- `score` - баллы кредитного скоринга\n",
    "- `City` - город\n",
    "- `Gender` — пол\n",
    "- `Age` — возраст\n",
    "- `Objects` — количество объектов в собственности\n",
    "- `Balance` — баланс на счете\n",
    "- `Products` — количество продуктов, которыми пользуется клиент\n",
    "- `CreditCard` — есть ли кредитная карта\n",
    "- `Loyalty` — активный клиент\n",
    "- `estimated_salary` — заработная плата клиента\n",
    "- `Churn` — данные оттока - ушел или нет\n",
    "\n",
    "Проведем обработку данных - заменим названия колонок на единый регистр, изучим тип данных, посмотрим на наличие пропущенных значений и дубликатов."
   ]
  },
  {
   "cell_type": "markdown",
   "metadata": {},
   "source": [
    "### Шаг 2. Предобработка данных."
   ]
  },
  {
   "cell_type": "markdown",
   "metadata": {},
   "source": [
    "Используем для более подробного изучения данных универсальную функцию"
   ]
  },
  {
   "cell_type": "code",
   "execution_count": 3,
   "metadata": {},
   "outputs": [],
   "source": [
    "def df_view(df):\n",
    "    \"\"\"\n",
    "    Быстрый обзор таблицы\n",
    "    \"\"\"\n",
    "    df.rename(str.lower, axis='columns', inplace=True)\n",
    "    print(df.columns)\n",
    "    display(df)\n",
    "    a = df.duplicated().sum()\n",
    "    print(df.info())\n",
    "    print()\n",
    "    print('Количество дубликатов в таблице', a)"
   ]
  },
  {
   "cell_type": "code",
   "execution_count": 4,
   "metadata": {},
   "outputs": [
    {
     "name": "stdout",
     "output_type": "stream",
     "text": [
      "Index(['userid', 'score', 'city', 'gender', 'age', 'objects', 'balance',\n",
      "       'products', 'creditcard', 'loyalty', 'estimated_salary', 'churn'],\n",
      "      dtype='object')\n"
     ]
    },
    {
     "data": {
      "text/html": [
       "<div>\n",
       "<style scoped>\n",
       "    .dataframe tbody tr th:only-of-type {\n",
       "        vertical-align: middle;\n",
       "    }\n",
       "\n",
       "    .dataframe tbody tr th {\n",
       "        vertical-align: top;\n",
       "    }\n",
       "\n",
       "    .dataframe thead th {\n",
       "        text-align: right;\n",
       "    }\n",
       "</style>\n",
       "<table border=\"1\" class=\"dataframe\">\n",
       "  <thead>\n",
       "    <tr style=\"text-align: right;\">\n",
       "      <th></th>\n",
       "      <th>userid</th>\n",
       "      <th>score</th>\n",
       "      <th>city</th>\n",
       "      <th>gender</th>\n",
       "      <th>age</th>\n",
       "      <th>objects</th>\n",
       "      <th>balance</th>\n",
       "      <th>products</th>\n",
       "      <th>creditcard</th>\n",
       "      <th>loyalty</th>\n",
       "      <th>estimated_salary</th>\n",
       "      <th>churn</th>\n",
       "    </tr>\n",
       "  </thead>\n",
       "  <tbody>\n",
       "    <tr>\n",
       "      <td>0</td>\n",
       "      <td>15677338</td>\n",
       "      <td>619</td>\n",
       "      <td>Ярославль</td>\n",
       "      <td>Ж</td>\n",
       "      <td>42</td>\n",
       "      <td>2</td>\n",
       "      <td>NaN</td>\n",
       "      <td>1</td>\n",
       "      <td>1</td>\n",
       "      <td>1</td>\n",
       "      <td>101348.88</td>\n",
       "      <td>1</td>\n",
       "    </tr>\n",
       "    <tr>\n",
       "      <td>1</td>\n",
       "      <td>15690047</td>\n",
       "      <td>608</td>\n",
       "      <td>Рыбинск</td>\n",
       "      <td>Ж</td>\n",
       "      <td>41</td>\n",
       "      <td>1</td>\n",
       "      <td>83807.86</td>\n",
       "      <td>1</td>\n",
       "      <td>0</td>\n",
       "      <td>1</td>\n",
       "      <td>112542.58</td>\n",
       "      <td>0</td>\n",
       "    </tr>\n",
       "    <tr>\n",
       "      <td>2</td>\n",
       "      <td>15662040</td>\n",
       "      <td>502</td>\n",
       "      <td>Ярославль</td>\n",
       "      <td>Ж</td>\n",
       "      <td>42</td>\n",
       "      <td>8</td>\n",
       "      <td>159660.80</td>\n",
       "      <td>3</td>\n",
       "      <td>1</td>\n",
       "      <td>0</td>\n",
       "      <td>113931.57</td>\n",
       "      <td>1</td>\n",
       "    </tr>\n",
       "    <tr>\n",
       "      <td>3</td>\n",
       "      <td>15744090</td>\n",
       "      <td>699</td>\n",
       "      <td>Ярославль</td>\n",
       "      <td>Ж</td>\n",
       "      <td>39</td>\n",
       "      <td>1</td>\n",
       "      <td>NaN</td>\n",
       "      <td>2</td>\n",
       "      <td>0</td>\n",
       "      <td>0</td>\n",
       "      <td>93826.63</td>\n",
       "      <td>0</td>\n",
       "    </tr>\n",
       "    <tr>\n",
       "      <td>4</td>\n",
       "      <td>15780624</td>\n",
       "      <td>850</td>\n",
       "      <td>Рыбинск</td>\n",
       "      <td>Ж</td>\n",
       "      <td>43</td>\n",
       "      <td>2</td>\n",
       "      <td>125510.82</td>\n",
       "      <td>1</td>\n",
       "      <td>1</td>\n",
       "      <td>1</td>\n",
       "      <td>79084.10</td>\n",
       "      <td>0</td>\n",
       "    </tr>\n",
       "    <tr>\n",
       "      <td>...</td>\n",
       "      <td>...</td>\n",
       "      <td>...</td>\n",
       "      <td>...</td>\n",
       "      <td>...</td>\n",
       "      <td>...</td>\n",
       "      <td>...</td>\n",
       "      <td>...</td>\n",
       "      <td>...</td>\n",
       "      <td>...</td>\n",
       "      <td>...</td>\n",
       "      <td>...</td>\n",
       "      <td>...</td>\n",
       "    </tr>\n",
       "    <tr>\n",
       "      <td>9995</td>\n",
       "      <td>15648965</td>\n",
       "      <td>771</td>\n",
       "      <td>Ярославль</td>\n",
       "      <td>М</td>\n",
       "      <td>39</td>\n",
       "      <td>5</td>\n",
       "      <td>NaN</td>\n",
       "      <td>2</td>\n",
       "      <td>1</td>\n",
       "      <td>0</td>\n",
       "      <td>96270.64</td>\n",
       "      <td>0</td>\n",
       "    </tr>\n",
       "    <tr>\n",
       "      <td>9996</td>\n",
       "      <td>15612628</td>\n",
       "      <td>516</td>\n",
       "      <td>Ярославль</td>\n",
       "      <td>М</td>\n",
       "      <td>35</td>\n",
       "      <td>10</td>\n",
       "      <td>57369.61</td>\n",
       "      <td>1</td>\n",
       "      <td>1</td>\n",
       "      <td>1</td>\n",
       "      <td>101699.77</td>\n",
       "      <td>0</td>\n",
       "    </tr>\n",
       "    <tr>\n",
       "      <td>9997</td>\n",
       "      <td>15627268</td>\n",
       "      <td>709</td>\n",
       "      <td>Ярославль</td>\n",
       "      <td>Ж</td>\n",
       "      <td>36</td>\n",
       "      <td>7</td>\n",
       "      <td>NaN</td>\n",
       "      <td>1</td>\n",
       "      <td>0</td>\n",
       "      <td>1</td>\n",
       "      <td>42085.58</td>\n",
       "      <td>1</td>\n",
       "    </tr>\n",
       "    <tr>\n",
       "      <td>9998</td>\n",
       "      <td>15725091</td>\n",
       "      <td>772</td>\n",
       "      <td>Ростов Великий</td>\n",
       "      <td>М</td>\n",
       "      <td>42</td>\n",
       "      <td>3</td>\n",
       "      <td>75075.31</td>\n",
       "      <td>2</td>\n",
       "      <td>1</td>\n",
       "      <td>0</td>\n",
       "      <td>92888.52</td>\n",
       "      <td>1</td>\n",
       "    </tr>\n",
       "    <tr>\n",
       "      <td>9999</td>\n",
       "      <td>15671055</td>\n",
       "      <td>792</td>\n",
       "      <td>Ярославль</td>\n",
       "      <td>Ж</td>\n",
       "      <td>28</td>\n",
       "      <td>4</td>\n",
       "      <td>130142.79</td>\n",
       "      <td>1</td>\n",
       "      <td>1</td>\n",
       "      <td>0</td>\n",
       "      <td>38190.78</td>\n",
       "      <td>0</td>\n",
       "    </tr>\n",
       "  </tbody>\n",
       "</table>\n",
       "<p>10000 rows × 12 columns</p>\n",
       "</div>"
      ],
      "text/plain": [
       "        userid  score            city gender  age  objects    balance  \\\n",
       "0     15677338    619       Ярославль      Ж   42        2        NaN   \n",
       "1     15690047    608         Рыбинск      Ж   41        1   83807.86   \n",
       "2     15662040    502       Ярославль      Ж   42        8  159660.80   \n",
       "3     15744090    699       Ярославль      Ж   39        1        NaN   \n",
       "4     15780624    850         Рыбинск      Ж   43        2  125510.82   \n",
       "...        ...    ...             ...    ...  ...      ...        ...   \n",
       "9995  15648965    771       Ярославль      М   39        5        NaN   \n",
       "9996  15612628    516       Ярославль      М   35       10   57369.61   \n",
       "9997  15627268    709       Ярославль      Ж   36        7        NaN   \n",
       "9998  15725091    772  Ростов Великий      М   42        3   75075.31   \n",
       "9999  15671055    792       Ярославль      Ж   28        4  130142.79   \n",
       "\n",
       "      products  creditcard  loyalty  estimated_salary  churn  \n",
       "0            1           1        1         101348.88      1  \n",
       "1            1           0        1         112542.58      0  \n",
       "2            3           1        0         113931.57      1  \n",
       "3            2           0        0          93826.63      0  \n",
       "4            1           1        1          79084.10      0  \n",
       "...        ...         ...      ...               ...    ...  \n",
       "9995         2           1        0          96270.64      0  \n",
       "9996         1           1        1         101699.77      0  \n",
       "9997         1           0        1          42085.58      1  \n",
       "9998         2           1        0          92888.52      1  \n",
       "9999         1           1        0          38190.78      0  \n",
       "\n",
       "[10000 rows x 12 columns]"
      ]
     },
     "metadata": {},
     "output_type": "display_data"
    },
    {
     "name": "stdout",
     "output_type": "stream",
     "text": [
      "<class 'pandas.core.frame.DataFrame'>\n",
      "RangeIndex: 10000 entries, 0 to 9999\n",
      "Data columns (total 12 columns):\n",
      "userid              10000 non-null int64\n",
      "score               10000 non-null int64\n",
      "city                10000 non-null object\n",
      "gender              10000 non-null object\n",
      "age                 10000 non-null int64\n",
      "objects             10000 non-null int64\n",
      "balance             6383 non-null float64\n",
      "products            10000 non-null int64\n",
      "creditcard          10000 non-null int64\n",
      "loyalty             10000 non-null int64\n",
      "estimated_salary    10000 non-null float64\n",
      "churn               10000 non-null int64\n",
      "dtypes: float64(2), int64(8), object(2)\n",
      "memory usage: 937.6+ KB\n",
      "None\n",
      "\n",
      "Количество дубликатов в таблице 0\n"
     ]
    }
   ],
   "source": [
    "df_view(data)"
   ]
  },
  {
   "cell_type": "markdown",
   "metadata": {},
   "source": [
    "Для анализа имеем 10000 значений в 12 столбцах. Поменяли названия столбцов, используя единый нижний регистр, дубликатов не обнаружено. Типы данных для 8 колонок `float64` и `int64` соответствуют ожидаемым и не требуют изменений. Для двух колонок тип данных `object`. Для столбца 'gender' изменим тип с `object` на числовой `int64`."
   ]
  },
  {
   "cell_type": "code",
   "execution_count": 5,
   "metadata": {},
   "outputs": [
    {
     "data": {
      "text/html": [
       "<div>\n",
       "<style scoped>\n",
       "    .dataframe tbody tr th:only-of-type {\n",
       "        vertical-align: middle;\n",
       "    }\n",
       "\n",
       "    .dataframe tbody tr th {\n",
       "        vertical-align: top;\n",
       "    }\n",
       "\n",
       "    .dataframe thead th {\n",
       "        text-align: right;\n",
       "    }\n",
       "</style>\n",
       "<table border=\"1\" class=\"dataframe\">\n",
       "  <thead>\n",
       "    <tr style=\"text-align: right;\">\n",
       "      <th></th>\n",
       "      <th>userid</th>\n",
       "      <th>score</th>\n",
       "      <th>city</th>\n",
       "      <th>gender</th>\n",
       "      <th>age</th>\n",
       "      <th>objects</th>\n",
       "      <th>balance</th>\n",
       "      <th>products</th>\n",
       "      <th>creditcard</th>\n",
       "      <th>loyalty</th>\n",
       "      <th>estimated_salary</th>\n",
       "      <th>churn</th>\n",
       "    </tr>\n",
       "  </thead>\n",
       "  <tbody>\n",
       "    <tr>\n",
       "      <td>0</td>\n",
       "      <td>15677338</td>\n",
       "      <td>619</td>\n",
       "      <td>Ярославль</td>\n",
       "      <td>0</td>\n",
       "      <td>42</td>\n",
       "      <td>2</td>\n",
       "      <td>NaN</td>\n",
       "      <td>1</td>\n",
       "      <td>1</td>\n",
       "      <td>1</td>\n",
       "      <td>101348.88</td>\n",
       "      <td>1</td>\n",
       "    </tr>\n",
       "    <tr>\n",
       "      <td>1</td>\n",
       "      <td>15690047</td>\n",
       "      <td>608</td>\n",
       "      <td>Рыбинск</td>\n",
       "      <td>0</td>\n",
       "      <td>41</td>\n",
       "      <td>1</td>\n",
       "      <td>83807.86</td>\n",
       "      <td>1</td>\n",
       "      <td>0</td>\n",
       "      <td>1</td>\n",
       "      <td>112542.58</td>\n",
       "      <td>0</td>\n",
       "    </tr>\n",
       "    <tr>\n",
       "      <td>2</td>\n",
       "      <td>15662040</td>\n",
       "      <td>502</td>\n",
       "      <td>Ярославль</td>\n",
       "      <td>0</td>\n",
       "      <td>42</td>\n",
       "      <td>8</td>\n",
       "      <td>159660.80</td>\n",
       "      <td>3</td>\n",
       "      <td>1</td>\n",
       "      <td>0</td>\n",
       "      <td>113931.57</td>\n",
       "      <td>1</td>\n",
       "    </tr>\n",
       "    <tr>\n",
       "      <td>3</td>\n",
       "      <td>15744090</td>\n",
       "      <td>699</td>\n",
       "      <td>Ярославль</td>\n",
       "      <td>0</td>\n",
       "      <td>39</td>\n",
       "      <td>1</td>\n",
       "      <td>NaN</td>\n",
       "      <td>2</td>\n",
       "      <td>0</td>\n",
       "      <td>0</td>\n",
       "      <td>93826.63</td>\n",
       "      <td>0</td>\n",
       "    </tr>\n",
       "    <tr>\n",
       "      <td>4</td>\n",
       "      <td>15780624</td>\n",
       "      <td>850</td>\n",
       "      <td>Рыбинск</td>\n",
       "      <td>0</td>\n",
       "      <td>43</td>\n",
       "      <td>2</td>\n",
       "      <td>125510.82</td>\n",
       "      <td>1</td>\n",
       "      <td>1</td>\n",
       "      <td>1</td>\n",
       "      <td>79084.10</td>\n",
       "      <td>0</td>\n",
       "    </tr>\n",
       "    <tr>\n",
       "      <td>...</td>\n",
       "      <td>...</td>\n",
       "      <td>...</td>\n",
       "      <td>...</td>\n",
       "      <td>...</td>\n",
       "      <td>...</td>\n",
       "      <td>...</td>\n",
       "      <td>...</td>\n",
       "      <td>...</td>\n",
       "      <td>...</td>\n",
       "      <td>...</td>\n",
       "      <td>...</td>\n",
       "      <td>...</td>\n",
       "    </tr>\n",
       "    <tr>\n",
       "      <td>9995</td>\n",
       "      <td>15648965</td>\n",
       "      <td>771</td>\n",
       "      <td>Ярославль</td>\n",
       "      <td>1</td>\n",
       "      <td>39</td>\n",
       "      <td>5</td>\n",
       "      <td>NaN</td>\n",
       "      <td>2</td>\n",
       "      <td>1</td>\n",
       "      <td>0</td>\n",
       "      <td>96270.64</td>\n",
       "      <td>0</td>\n",
       "    </tr>\n",
       "    <tr>\n",
       "      <td>9996</td>\n",
       "      <td>15612628</td>\n",
       "      <td>516</td>\n",
       "      <td>Ярославль</td>\n",
       "      <td>1</td>\n",
       "      <td>35</td>\n",
       "      <td>10</td>\n",
       "      <td>57369.61</td>\n",
       "      <td>1</td>\n",
       "      <td>1</td>\n",
       "      <td>1</td>\n",
       "      <td>101699.77</td>\n",
       "      <td>0</td>\n",
       "    </tr>\n",
       "    <tr>\n",
       "      <td>9997</td>\n",
       "      <td>15627268</td>\n",
       "      <td>709</td>\n",
       "      <td>Ярославль</td>\n",
       "      <td>0</td>\n",
       "      <td>36</td>\n",
       "      <td>7</td>\n",
       "      <td>NaN</td>\n",
       "      <td>1</td>\n",
       "      <td>0</td>\n",
       "      <td>1</td>\n",
       "      <td>42085.58</td>\n",
       "      <td>1</td>\n",
       "    </tr>\n",
       "    <tr>\n",
       "      <td>9998</td>\n",
       "      <td>15725091</td>\n",
       "      <td>772</td>\n",
       "      <td>Ростов Великий</td>\n",
       "      <td>1</td>\n",
       "      <td>42</td>\n",
       "      <td>3</td>\n",
       "      <td>75075.31</td>\n",
       "      <td>2</td>\n",
       "      <td>1</td>\n",
       "      <td>0</td>\n",
       "      <td>92888.52</td>\n",
       "      <td>1</td>\n",
       "    </tr>\n",
       "    <tr>\n",
       "      <td>9999</td>\n",
       "      <td>15671055</td>\n",
       "      <td>792</td>\n",
       "      <td>Ярославль</td>\n",
       "      <td>0</td>\n",
       "      <td>28</td>\n",
       "      <td>4</td>\n",
       "      <td>130142.79</td>\n",
       "      <td>1</td>\n",
       "      <td>1</td>\n",
       "      <td>0</td>\n",
       "      <td>38190.78</td>\n",
       "      <td>0</td>\n",
       "    </tr>\n",
       "  </tbody>\n",
       "</table>\n",
       "<p>10000 rows × 12 columns</p>\n",
       "</div>"
      ],
      "text/plain": [
       "        userid  score            city  gender  age  objects    balance  \\\n",
       "0     15677338    619       Ярославль       0   42        2        NaN   \n",
       "1     15690047    608         Рыбинск       0   41        1   83807.86   \n",
       "2     15662040    502       Ярославль       0   42        8  159660.80   \n",
       "3     15744090    699       Ярославль       0   39        1        NaN   \n",
       "4     15780624    850         Рыбинск       0   43        2  125510.82   \n",
       "...        ...    ...             ...     ...  ...      ...        ...   \n",
       "9995  15648965    771       Ярославль       1   39        5        NaN   \n",
       "9996  15612628    516       Ярославль       1   35       10   57369.61   \n",
       "9997  15627268    709       Ярославль       0   36        7        NaN   \n",
       "9998  15725091    772  Ростов Великий       1   42        3   75075.31   \n",
       "9999  15671055    792       Ярославль       0   28        4  130142.79   \n",
       "\n",
       "      products  creditcard  loyalty  estimated_salary  churn  \n",
       "0            1           1        1         101348.88      1  \n",
       "1            1           0        1         112542.58      0  \n",
       "2            3           1        0         113931.57      1  \n",
       "3            2           0        0          93826.63      0  \n",
       "4            1           1        1          79084.10      0  \n",
       "...        ...         ...      ...               ...    ...  \n",
       "9995         2           1        0          96270.64      0  \n",
       "9996         1           1        1         101699.77      0  \n",
       "9997         1           0        1          42085.58      1  \n",
       "9998         2           1        0          92888.52      1  \n",
       "9999         1           1        0          38190.78      0  \n",
       "\n",
       "[10000 rows x 12 columns]"
      ]
     },
     "execution_count": 5,
     "metadata": {},
     "output_type": "execute_result"
    }
   ],
   "source": [
    "data['gender'] = data['gender'].replace({'М':1, 'м':1, 'Ж':0, 'ж':0}).astype(int)\n",
    "data"
   ]
  },
  {
   "cell_type": "markdown",
   "metadata": {},
   "source": [
    "Пропуски в столбце `balance` составляют порядка 45%, это много. Нет возможности выяснить причины появления пропусков в этих данных. Возможно это остаток на дебетовой карте, а эти клиенты не имеют такой карты, т.е. эти люди пользуются другими банковскими продуктами. Заполнять пропуски не будем, потому что это может повлиять на распределение признака. \n",
    "Данные готовы к анализу."
   ]
  },
  {
   "cell_type": "markdown",
   "metadata": {},
   "source": [
    "#### Вывод \n",
    "Провели обработку данных - заменили названия колонок на единый регистр, привели данные к нужным типам, дубликатов в данных обнаружено не было. Пропущенные значения в столбце `balance` оставили без изменений, чтобы исключить искажение данных."
   ]
  },
  {
   "cell_type": "markdown",
   "metadata": {},
   "source": [
    "### Шаг 3. Исследовательский анализ данных."
   ]
  },
  {
   "cell_type": "markdown",
   "metadata": {},
   "source": [
    "Изучим средние значения данных и стандартные отклонения, используя метод `describe()`"
   ]
  },
  {
   "cell_type": "code",
   "execution_count": 6,
   "metadata": {},
   "outputs": [
    {
     "data": {
      "text/html": [
       "<div>\n",
       "<style scoped>\n",
       "    .dataframe tbody tr th:only-of-type {\n",
       "        vertical-align: middle;\n",
       "    }\n",
       "\n",
       "    .dataframe tbody tr th {\n",
       "        vertical-align: top;\n",
       "    }\n",
       "\n",
       "    .dataframe thead th {\n",
       "        text-align: right;\n",
       "    }\n",
       "</style>\n",
       "<table border=\"1\" class=\"dataframe\">\n",
       "  <thead>\n",
       "    <tr style=\"text-align: right;\">\n",
       "      <th></th>\n",
       "      <th>count</th>\n",
       "      <th>mean</th>\n",
       "      <th>std</th>\n",
       "      <th>min</th>\n",
       "      <th>25%</th>\n",
       "      <th>50%</th>\n",
       "      <th>75%</th>\n",
       "      <th>max</th>\n",
       "    </tr>\n",
       "  </thead>\n",
       "  <tbody>\n",
       "    <tr>\n",
       "      <td>userid</td>\n",
       "      <td>10000.0</td>\n",
       "      <td>1.573368e+07</td>\n",
       "      <td>71936.186123</td>\n",
       "      <td>15608437.00</td>\n",
       "      <td>1.567126e+07</td>\n",
       "      <td>1.573347e+07</td>\n",
       "      <td>1.579597e+07</td>\n",
       "      <td>15858426.00</td>\n",
       "    </tr>\n",
       "    <tr>\n",
       "      <td>score</td>\n",
       "      <td>10000.0</td>\n",
       "      <td>6.505288e+02</td>\n",
       "      <td>96.653299</td>\n",
       "      <td>350.00</td>\n",
       "      <td>5.840000e+02</td>\n",
       "      <td>6.520000e+02</td>\n",
       "      <td>7.180000e+02</td>\n",
       "      <td>850.00</td>\n",
       "    </tr>\n",
       "    <tr>\n",
       "      <td>gender</td>\n",
       "      <td>10000.0</td>\n",
       "      <td>5.457000e-01</td>\n",
       "      <td>0.497932</td>\n",
       "      <td>0.00</td>\n",
       "      <td>0.000000e+00</td>\n",
       "      <td>1.000000e+00</td>\n",
       "      <td>1.000000e+00</td>\n",
       "      <td>1.00</td>\n",
       "    </tr>\n",
       "    <tr>\n",
       "      <td>age</td>\n",
       "      <td>10000.0</td>\n",
       "      <td>3.892180e+01</td>\n",
       "      <td>10.487806</td>\n",
       "      <td>18.00</td>\n",
       "      <td>3.200000e+01</td>\n",
       "      <td>3.700000e+01</td>\n",
       "      <td>4.400000e+01</td>\n",
       "      <td>92.00</td>\n",
       "    </tr>\n",
       "    <tr>\n",
       "      <td>objects</td>\n",
       "      <td>10000.0</td>\n",
       "      <td>5.012800e+00</td>\n",
       "      <td>2.892174</td>\n",
       "      <td>0.00</td>\n",
       "      <td>3.000000e+00</td>\n",
       "      <td>5.000000e+00</td>\n",
       "      <td>7.000000e+00</td>\n",
       "      <td>10.00</td>\n",
       "    </tr>\n",
       "    <tr>\n",
       "      <td>balance</td>\n",
       "      <td>6383.0</td>\n",
       "      <td>1.198275e+05</td>\n",
       "      <td>30095.056462</td>\n",
       "      <td>3768.69</td>\n",
       "      <td>1.001820e+05</td>\n",
       "      <td>1.198397e+05</td>\n",
       "      <td>1.395123e+05</td>\n",
       "      <td>250898.09</td>\n",
       "    </tr>\n",
       "    <tr>\n",
       "      <td>products</td>\n",
       "      <td>10000.0</td>\n",
       "      <td>1.530200e+00</td>\n",
       "      <td>0.581654</td>\n",
       "      <td>1.00</td>\n",
       "      <td>1.000000e+00</td>\n",
       "      <td>1.000000e+00</td>\n",
       "      <td>2.000000e+00</td>\n",
       "      <td>4.00</td>\n",
       "    </tr>\n",
       "    <tr>\n",
       "      <td>creditcard</td>\n",
       "      <td>10000.0</td>\n",
       "      <td>7.055000e-01</td>\n",
       "      <td>0.455840</td>\n",
       "      <td>0.00</td>\n",
       "      <td>0.000000e+00</td>\n",
       "      <td>1.000000e+00</td>\n",
       "      <td>1.000000e+00</td>\n",
       "      <td>1.00</td>\n",
       "    </tr>\n",
       "    <tr>\n",
       "      <td>loyalty</td>\n",
       "      <td>10000.0</td>\n",
       "      <td>5.151000e-01</td>\n",
       "      <td>0.499797</td>\n",
       "      <td>0.00</td>\n",
       "      <td>0.000000e+00</td>\n",
       "      <td>1.000000e+00</td>\n",
       "      <td>1.000000e+00</td>\n",
       "      <td>1.00</td>\n",
       "    </tr>\n",
       "    <tr>\n",
       "      <td>estimated_salary</td>\n",
       "      <td>10000.0</td>\n",
       "      <td>1.000902e+05</td>\n",
       "      <td>57510.492818</td>\n",
       "      <td>11.58</td>\n",
       "      <td>5.100211e+04</td>\n",
       "      <td>1.001939e+05</td>\n",
       "      <td>1.493882e+05</td>\n",
       "      <td>199992.48</td>\n",
       "    </tr>\n",
       "    <tr>\n",
       "      <td>churn</td>\n",
       "      <td>10000.0</td>\n",
       "      <td>2.037000e-01</td>\n",
       "      <td>0.402769</td>\n",
       "      <td>0.00</td>\n",
       "      <td>0.000000e+00</td>\n",
       "      <td>0.000000e+00</td>\n",
       "      <td>0.000000e+00</td>\n",
       "      <td>1.00</td>\n",
       "    </tr>\n",
       "  </tbody>\n",
       "</table>\n",
       "</div>"
      ],
      "text/plain": [
       "                    count          mean           std          min  \\\n",
       "userid            10000.0  1.573368e+07  71936.186123  15608437.00   \n",
       "score             10000.0  6.505288e+02     96.653299       350.00   \n",
       "gender            10000.0  5.457000e-01      0.497932         0.00   \n",
       "age               10000.0  3.892180e+01     10.487806        18.00   \n",
       "objects           10000.0  5.012800e+00      2.892174         0.00   \n",
       "balance            6383.0  1.198275e+05  30095.056462      3768.69   \n",
       "products          10000.0  1.530200e+00      0.581654         1.00   \n",
       "creditcard        10000.0  7.055000e-01      0.455840         0.00   \n",
       "loyalty           10000.0  5.151000e-01      0.499797         0.00   \n",
       "estimated_salary  10000.0  1.000902e+05  57510.492818        11.58   \n",
       "churn             10000.0  2.037000e-01      0.402769         0.00   \n",
       "\n",
       "                           25%           50%           75%          max  \n",
       "userid            1.567126e+07  1.573347e+07  1.579597e+07  15858426.00  \n",
       "score             5.840000e+02  6.520000e+02  7.180000e+02       850.00  \n",
       "gender            0.000000e+00  1.000000e+00  1.000000e+00         1.00  \n",
       "age               3.200000e+01  3.700000e+01  4.400000e+01        92.00  \n",
       "objects           3.000000e+00  5.000000e+00  7.000000e+00        10.00  \n",
       "balance           1.001820e+05  1.198397e+05  1.395123e+05    250898.09  \n",
       "products          1.000000e+00  1.000000e+00  2.000000e+00         4.00  \n",
       "creditcard        0.000000e+00  1.000000e+00  1.000000e+00         1.00  \n",
       "loyalty           0.000000e+00  1.000000e+00  1.000000e+00         1.00  \n",
       "estimated_salary  5.100211e+04  1.001939e+05  1.493882e+05    199992.48  \n",
       "churn             0.000000e+00  0.000000e+00  0.000000e+00         1.00  "
      ]
     },
     "execution_count": 6,
     "metadata": {},
     "output_type": "execute_result"
    }
   ],
   "source": [
    "data.describe().T"
   ]
  },
  {
   "cell_type": "markdown",
   "metadata": {},
   "source": [
    "Из полученных данных видно, что в среднем:\n",
    "\n",
    "- раcпределение по полу примерно равное, мужчин чуть больше, чем женщин. \n",
    "- 39 лет - средний возраст клиента\n",
    "- 5 объектов в собственности с среднем\n",
    "- 119 000 средний баланс на карте \n",
    "- 1,5 банковских продукта приходится в среднем на 1 клиента банка\n",
    "- 70% имеют кредитную карту\n",
    "- 51% клиентов активны\n",
    "- 100 000 средняя зарплата \n",
    "- 20% клиентов в оттоке\n"
   ]
  },
  {
   "cell_type": "markdown",
   "metadata": {},
   "source": [
    "Посмотрим на распределение клиентов и отличие их по городам."
   ]
  },
  {
   "cell_type": "code",
   "execution_count": 7,
   "metadata": {},
   "outputs": [
    {
     "data": {
      "text/html": [
       "<div>\n",
       "<style scoped>\n",
       "    .dataframe tbody tr th:only-of-type {\n",
       "        vertical-align: middle;\n",
       "    }\n",
       "\n",
       "    .dataframe tbody tr th {\n",
       "        vertical-align: top;\n",
       "    }\n",
       "\n",
       "    .dataframe thead th {\n",
       "        text-align: right;\n",
       "    }\n",
       "</style>\n",
       "<table border=\"1\" class=\"dataframe\">\n",
       "  <thead>\n",
       "    <tr style=\"text-align: right;\">\n",
       "      <th></th>\n",
       "      <th>userid</th>\n",
       "      <th>products</th>\n",
       "      <th>fraction</th>\n",
       "    </tr>\n",
       "    <tr>\n",
       "      <th>city</th>\n",
       "      <th></th>\n",
       "      <th></th>\n",
       "      <th></th>\n",
       "    </tr>\n",
       "  </thead>\n",
       "  <tbody>\n",
       "    <tr>\n",
       "      <td>Ростов Великий</td>\n",
       "      <td>2509</td>\n",
       "      <td>1.519729</td>\n",
       "      <td>0.2509</td>\n",
       "    </tr>\n",
       "    <tr>\n",
       "      <td>Рыбинск</td>\n",
       "      <td>2477</td>\n",
       "      <td>1.539362</td>\n",
       "      <td>0.2477</td>\n",
       "    </tr>\n",
       "    <tr>\n",
       "      <td>Ярославль</td>\n",
       "      <td>5014</td>\n",
       "      <td>1.530913</td>\n",
       "      <td>0.5014</td>\n",
       "    </tr>\n",
       "  </tbody>\n",
       "</table>\n",
       "</div>"
      ],
      "text/plain": [
       "                userid  products  fraction\n",
       "city                                      \n",
       "Ростов Великий    2509  1.519729    0.2509\n",
       "Рыбинск           2477  1.539362    0.2477\n",
       "Ярославль         5014  1.530913    0.5014"
      ]
     },
     "metadata": {},
     "output_type": "display_data"
    }
   ],
   "source": [
    "city = data.groupby('city').agg({'userid': 'count', 'products':'mean'})\n",
    "city['fraction'] = city['userid'] / city['userid'].sum()\n",
    "display(city)"
   ]
  },
  {
   "cell_type": "code",
   "execution_count": 8,
   "metadata": {},
   "outputs": [
    {
     "data": {
      "image/png": "[encoded data removed]",
      "text/plain": [
       "<Figure size 432x288 with 2 Axes>"
      ]
     },
     "metadata": {
      "needs_background": "light"
     },
     "output_type": "display_data"
    }
   ],
   "source": [
    "fig, axs = plt.subplots()\n",
    "ax2 = axs.twinx()\n",
    "city['userid'].plot(kind='bar', alpha=0.5, ax=axs, color='red', position=1, width=0.4)\n",
    "city['fraction'].plot(kind='bar', alpha=0.5, ax=ax2, color='blue', position=0, width=0.4)\n",
    "axs.set_ylabel('Число клиентов', color='red')\n",
    "ax2.set_ylabel('Доля клиентов', color='blue') \n",
    "plt.title('Распределение клиентов банка по городам')\n",
    "plt.show()"
   ]
  },
  {
   "cell_type": "markdown",
   "metadata": {},
   "source": [
    "Из графика видно, что 50% клиентов из анализируемых данных находятся в Ярославле, где находится головной офис банка. В городах Ростов Великий и Рыбинск доля клиентов примерно равная, около 25%. Город не влияет на среднее количество использования банковских продуктов."
   ]
  },
  {
   "cell_type": "code",
   "execution_count": 9,
   "metadata": {},
   "outputs": [
    {
     "data": {
      "text/html": [
       "<div>\n",
       "<style scoped>\n",
       "    .dataframe tbody tr th:only-of-type {\n",
       "        vertical-align: middle;\n",
       "    }\n",
       "\n",
       "    .dataframe tbody tr th {\n",
       "        vertical-align: top;\n",
       "    }\n",
       "\n",
       "    .dataframe thead th {\n",
       "        text-align: right;\n",
       "    }\n",
       "</style>\n",
       "<table border=\"1\" class=\"dataframe\">\n",
       "  <thead>\n",
       "    <tr style=\"text-align: right;\">\n",
       "      <th>city</th>\n",
       "      <th>Ростов Великий</th>\n",
       "      <th>Рыбинск</th>\n",
       "      <th>Ярославль</th>\n",
       "    </tr>\n",
       "  </thead>\n",
       "  <tbody>\n",
       "    <tr>\n",
       "      <td>score</td>\n",
       "      <td>651.453567</td>\n",
       "      <td>651.333872</td>\n",
       "      <td>649.668329</td>\n",
       "    </tr>\n",
       "    <tr>\n",
       "      <td>gender</td>\n",
       "      <td>0.524512</td>\n",
       "      <td>0.560355</td>\n",
       "      <td>0.549063</td>\n",
       "    </tr>\n",
       "    <tr>\n",
       "      <td>age</td>\n",
       "      <td>39.771622</td>\n",
       "      <td>38.890997</td>\n",
       "      <td>38.511767</td>\n",
       "    </tr>\n",
       "    <tr>\n",
       "      <td>objects</td>\n",
       "      <td>5.009964</td>\n",
       "      <td>5.032297</td>\n",
       "      <td>5.004587</td>\n",
       "    </tr>\n",
       "    <tr>\n",
       "      <td>balance</td>\n",
       "      <td>119730.116134</td>\n",
       "      <td>119814.985923</td>\n",
       "      <td>119927.765597</td>\n",
       "    </tr>\n",
       "    <tr>\n",
       "      <td>products</td>\n",
       "      <td>1.519729</td>\n",
       "      <td>1.539362</td>\n",
       "      <td>1.530913</td>\n",
       "    </tr>\n",
       "    <tr>\n",
       "      <td>creditcard</td>\n",
       "      <td>0.713830</td>\n",
       "      <td>0.694792</td>\n",
       "      <td>0.706621</td>\n",
       "    </tr>\n",
       "    <tr>\n",
       "      <td>loyalty</td>\n",
       "      <td>0.497409</td>\n",
       "      <td>0.529673</td>\n",
       "      <td>0.516753</td>\n",
       "    </tr>\n",
       "    <tr>\n",
       "      <td>estimated_salary</td>\n",
       "      <td>101113.435102</td>\n",
       "      <td>99440.572281</td>\n",
       "      <td>99899.180814</td>\n",
       "    </tr>\n",
       "    <tr>\n",
       "      <td>churn</td>\n",
       "      <td>0.324432</td>\n",
       "      <td>0.166734</td>\n",
       "      <td>0.161548</td>\n",
       "    </tr>\n",
       "  </tbody>\n",
       "</table>\n",
       "</div>"
      ],
      "text/plain": [
       "city              Ростов Великий        Рыбинск      Ярославль\n",
       "score                 651.453567     651.333872     649.668329\n",
       "gender                  0.524512       0.560355       0.549063\n",
       "age                    39.771622      38.890997      38.511767\n",
       "objects                 5.009964       5.032297       5.004587\n",
       "balance            119730.116134  119814.985923  119927.765597\n",
       "products                1.519729       1.539362       1.530913\n",
       "creditcard              0.713830       0.694792       0.706621\n",
       "loyalty                 0.497409       0.529673       0.516753\n",
       "estimated_salary   101113.435102   99440.572281   99899.180814\n",
       "churn                   0.324432       0.166734       0.161548"
      ]
     },
     "execution_count": 9,
     "metadata": {},
     "output_type": "execute_result"
    }
   ],
   "source": [
    "data.drop(['userid'], axis=1).groupby('city').mean().T"
   ]
  },
  {
   "cell_type": "markdown",
   "metadata": {},
   "source": [
    "Если сравнивать признаки по городам, то большинство признаков сходны между собой. Однако, в Ростове Великом отток клиентов 32%, что гораздо выше, чем в Рыбинске и Ярославле. Соответственно в этом городе и ниже показатель активности клиентов. Поскольку Ростов Великий по численности населения уступает Ярославлю и Рыбинску необходимо понять, чем вызваны такие большие показатели оттока. Возможно есть какие-то проблемы с сотрудниками отделения банка или неточности в данных."
   ]
  },
  {
   "cell_type": "code",
   "execution_count": 10,
   "metadata": {},
   "outputs": [
    {
     "data": {
      "text/html": [
       "<div>\n",
       "<style scoped>\n",
       "    .dataframe tbody tr th:only-of-type {\n",
       "        vertical-align: middle;\n",
       "    }\n",
       "\n",
       "    .dataframe tbody tr th {\n",
       "        vertical-align: top;\n",
       "    }\n",
       "\n",
       "    .dataframe thead th {\n",
       "        text-align: right;\n",
       "    }\n",
       "</style>\n",
       "<table border=\"1\" class=\"dataframe\">\n",
       "  <thead>\n",
       "    <tr style=\"text-align: right;\">\n",
       "      <th></th>\n",
       "      <th>userid</th>\n",
       "      <th>score</th>\n",
       "      <th>gender</th>\n",
       "      <th>age</th>\n",
       "      <th>objects</th>\n",
       "      <th>balance</th>\n",
       "      <th>products</th>\n",
       "      <th>creditcard</th>\n",
       "      <th>loyalty</th>\n",
       "      <th>estimated_salary</th>\n",
       "      <th>churn</th>\n",
       "    </tr>\n",
       "    <tr>\n",
       "      <th>city</th>\n",
       "      <th></th>\n",
       "      <th></th>\n",
       "      <th></th>\n",
       "      <th></th>\n",
       "      <th></th>\n",
       "      <th></th>\n",
       "      <th></th>\n",
       "      <th></th>\n",
       "      <th></th>\n",
       "      <th></th>\n",
       "      <th></th>\n",
       "    </tr>\n",
       "  </thead>\n",
       "  <tbody>\n",
       "    <tr>\n",
       "      <td>Рыбинск</td>\n",
       "      <td>1.573551e+07</td>\n",
       "      <td>651.685571</td>\n",
       "      <td>0.545455</td>\n",
       "      <td>38.496247</td>\n",
       "      <td>5.085071</td>\n",
       "      <td>NaN</td>\n",
       "      <td>1.791493</td>\n",
       "      <td>0.710592</td>\n",
       "      <td>0.511259</td>\n",
       "      <td>98708.617389</td>\n",
       "      <td>0.135947</td>\n",
       "    </tr>\n",
       "    <tr>\n",
       "      <td>Ярославль</td>\n",
       "      <td>1.573428e+07</td>\n",
       "      <td>648.345740</td>\n",
       "      <td>0.541356</td>\n",
       "      <td>38.404467</td>\n",
       "      <td>5.064516</td>\n",
       "      <td>NaN</td>\n",
       "      <td>1.781224</td>\n",
       "      <td>0.719603</td>\n",
       "      <td>0.521092</td>\n",
       "      <td>99119.893565</td>\n",
       "      <td>0.139371</td>\n",
       "    </tr>\n",
       "  </tbody>\n",
       "</table>\n",
       "</div>"
      ],
      "text/plain": [
       "                 userid       score    gender        age   objects  balance  \\\n",
       "city                                                                          \n",
       "Рыбинск    1.573551e+07  651.685571  0.545455  38.496247  5.085071      NaN   \n",
       "Ярославль  1.573428e+07  648.345740  0.541356  38.404467  5.064516      NaN   \n",
       "\n",
       "           products  creditcard   loyalty  estimated_salary     churn  \n",
       "city                                                                   \n",
       "Рыбинск    1.791493    0.710592  0.511259      98708.617389  0.135947  \n",
       "Ярославль  1.781224    0.719603  0.521092      99119.893565  0.139371  "
      ]
     },
     "execution_count": 10,
     "metadata": {},
     "output_type": "execute_result"
    }
   ],
   "source": [
    "data[data['balance'].isna()].groupby('city').mean()"
   ]
  },
  {
   "cell_type": "markdown",
   "metadata": {},
   "source": [
    "Интересно отметить, что в Ростове Великом не обнаружены клиенты с пропусками в данных `balance`. Это может говорить о неполных данных, особенностях сбора информации и особенностях обслуживания в городах."
   ]
  },
  {
   "cell_type": "markdown",
   "metadata": {},
   "source": [
    "Посмотрим на распределение клиентов по полу."
   ]
  },
  {
   "cell_type": "code",
   "execution_count": 11,
   "metadata": {},
   "outputs": [
    {
     "data": {
      "text/html": [
       "<div>\n",
       "<style scoped>\n",
       "    .dataframe tbody tr th:only-of-type {\n",
       "        vertical-align: middle;\n",
       "    }\n",
       "\n",
       "    .dataframe tbody tr th {\n",
       "        vertical-align: top;\n",
       "    }\n",
       "\n",
       "    .dataframe thead th {\n",
       "        text-align: right;\n",
       "    }\n",
       "</style>\n",
       "<table border=\"1\" class=\"dataframe\">\n",
       "  <thead>\n",
       "    <tr style=\"text-align: right;\">\n",
       "      <th></th>\n",
       "      <th>userid</th>\n",
       "      <th>products</th>\n",
       "      <th>fraction</th>\n",
       "    </tr>\n",
       "    <tr>\n",
       "      <th>gender</th>\n",
       "      <th></th>\n",
       "      <th></th>\n",
       "      <th></th>\n",
       "    </tr>\n",
       "  </thead>\n",
       "  <tbody>\n",
       "    <tr>\n",
       "      <td>0</td>\n",
       "      <td>4543</td>\n",
       "      <td>1.544134</td>\n",
       "      <td>0.4543</td>\n",
       "    </tr>\n",
       "    <tr>\n",
       "      <td>1</td>\n",
       "      <td>5457</td>\n",
       "      <td>1.518600</td>\n",
       "      <td>0.5457</td>\n",
       "    </tr>\n",
       "  </tbody>\n",
       "</table>\n",
       "</div>"
      ],
      "text/plain": [
       "        userid  products  fraction\n",
       "gender                            \n",
       "0         4543  1.544134    0.4543\n",
       "1         5457  1.518600    0.5457"
      ]
     },
     "execution_count": 11,
     "metadata": {},
     "output_type": "execute_result"
    }
   ],
   "source": [
    "gender = data.groupby('gender').agg({'userid':'count', 'products':'mean'})\n",
    "gender['fraction'] = gender['userid'] / gender['userid'].sum()\n",
    "gender"
   ]
  },
  {
   "cell_type": "code",
   "execution_count": 12,
   "metadata": {},
   "outputs": [
    {
     "data": {
      "image/png": "[encoded data removed]",
      "text/plain": [
       "<Figure size 576x432 with 1 Axes>"
      ]
     },
     "metadata": {},
     "output_type": "display_data"
    }
   ],
   "source": [
    "gender.plot.pie(y='fraction', label='', autopct='%.1f%%', figsize=(8,6), legend=True)\n",
    "plt.title('Разделение клиентов по полу')\n",
    "plt.legend(['0 - Женщины', '1 - Мужчины'])\n",
    "plt.show()"
   ]
  },
  {
   "cell_type": "markdown",
   "metadata": {},
   "source": [
    "Мужчин среди клиентов банка почти на 10% больше, чем женщин, при этом пол практически не влияет на количество использования банковских продуктов."
   ]
  },
  {
   "cell_type": "markdown",
   "metadata": {},
   "source": [
    "Построим гистограммы и распределения для признаков пользователей по банковским продуктам."
   ]
  },
  {
   "cell_type": "code",
   "execution_count": 13,
   "metadata": {
    "scrolled": false
   },
   "outputs": [
    {
     "data": {
      "image/png": "[encoded data removed]",
      "text/plain": [
       "<Figure size 576x288 with 1 Axes>"
      ]
     },
     "metadata": {
      "needs_background": "light"
     },
     "output_type": "display_data"
    },
    {
     "data": {
      "image/png": "[encoded data removed]",
      "text/plain": [
       "<Figure size 576x288 with 1 Axes>"
      ]
     },
     "metadata": {
      "needs_background": "light"
     },
     "output_type": "display_data"
    },
    {
     "data": {
      "image/png": "[encoded data removed]",
      "text/plain": [
       "<Figure size 576x288 with 1 Axes>"
      ]
     },
     "metadata": {
      "needs_background": "light"
     },
     "output_type": "display_data"
    },
    {
     "data": {
      "image/png": "[encoded data removed]",
      "text/plain": [
       "<Figure size 576x288 with 1 Axes>"
      ]
     },
     "metadata": {
      "needs_background": "light"
     },
     "output_type": "display_data"
    }
   ],
   "source": [
    "float_feature = ['score', 'age', 'balance', 'estimated_salary']\n",
    "\n",
    "for i in float_feature:\n",
    "    fig, ax = plt.subplots(figsize=(8, 4))\n",
    "    ax.hist(data[i], bins=50)\n",
    "    ax.set_title('Гистограмма распределений '+i)\n",
    "    ax.set_xlabel(i)\n",
    "    ax.set_ylabel('Частота')\n",
    "    plt.show()"
   ]
  },
  {
   "cell_type": "markdown",
   "metadata": {},
   "source": [
    "Признаки `score`, `age`(скошены вправо, основной возраст клиентов больше 30 лет) и `balance` имеют нормальное распределение. Пик на гистограмме для `score` может быть вызван технической ошибкой.\n",
    "Для данных заработной платы `estimated_salary` распределение не похоже на нормальное( в диапазоне от 0 до 200000 клиенты распределены практически равномерно) - это может быть связано с тем, что данные представляют собой не фактическую заработную плату, а расчетную по историям трат клиента. Необходимо уточнить этот момент у заказчика.\n",
    "Большая часть клиентов пользуется 1 и 2 банковскими продуктами. Доля тех, кто использует 3 и 4 продукта незначительна."
   ]
  },
  {
   "cell_type": "markdown",
   "metadata": {},
   "source": [
    "Построим столбчатые диаграммы для дискретных признаков"
   ]
  },
  {
   "cell_type": "code",
   "execution_count": 14,
   "metadata": {},
   "outputs": [
    {
     "data": {
      "image/png": "[encoded data removed]",
      "text/plain": [
       "<Figure size 576x288 with 1 Axes>"
      ]
     },
     "metadata": {
      "needs_background": "light"
     },
     "output_type": "display_data"
    },
    {
     "data": {
      "image/png": "[encoded data removed]",
      "text/plain": [
       "<Figure size 576x288 with 1 Axes>"
      ]
     },
     "metadata": {
      "needs_background": "light"
     },
     "output_type": "display_data"
    },
    {
     "data": {
      "image/png": "[encoded data removed]",
      "text/plain": [
       "<Figure size 576x288 with 1 Axes>"
      ]
     },
     "metadata": {
      "needs_background": "light"
     },
     "output_type": "display_data"
    },
    {
     "data": {
      "image/png": "[encoded data removed]",
      "text/plain": [
       "<Figure size 576x288 with 1 Axes>"
      ]
     },
     "metadata": {
      "needs_background": "light"
     },
     "output_type": "display_data"
    },
    {
     "data": {
      "image/png": "[encoded data removed]",
      "text/plain": [
       "<Figure size 576x288 with 1 Axes>"
      ]
     },
     "metadata": {
      "needs_background": "light"
     },
     "output_type": "display_data"
    }
   ],
   "source": [
    "discrete_feature = ['gender', 'creditcard', 'loyalty', 'objects', 'products']\n",
    "\n",
    "for i in discrete_feature:\n",
    "    data[i].value_counts().plot(kind='bar', figsize=(8, 4), rot=0)\n",
    "    plt.xlabel(i, labelpad=8)\n",
    "    plt.ylabel('Количество клиентов', labelpad=8)\n",
    "    plt.title('Диаграммы для признака '+i)\n",
    "    plt.show()"
   ]
  },
  {
   "cell_type": "markdown",
   "metadata": {},
   "source": [
    "Построим матрицу корреляций, отобразим ее на тепловой карте."
   ]
  },
  {
   "cell_type": "code",
   "execution_count": 15,
   "metadata": {},
   "outputs": [
    {
     "data": {
      "image/png": "[encoded data removed]",
      "text/plain": [
       "<Figure size 864x864 with 2 Axes>"
      ]
     },
     "metadata": {
      "needs_background": "light"
     },
     "output_type": "display_data"
    }
   ],
   "source": [
    "corr_m = data.drop(['userid'], axis=1).corr()\n",
    "plt.figure(figsize=(12,12))\n",
    "sns.heatmap(corr_m, square=True, vmax=0.8, annot=True)\n",
    "plt.title('Матрица корреляций')\n",
    "plt.show()"
   ]
  },
  {
   "cell_type": "markdown",
   "metadata": {},
   "source": [
    "Судя по матрице корреляций, нет явной зависимости между какими-либо признаками.\n",
    "На использование банковских продуктов в большей степени из всех влияет наличие кредитной карты, что и логично, поскольку сама карта и яляется одним из банковских продуктов.\n",
    "И есть небольшая зависимосить оттока клиентов от возраста."
   ]
  },
  {
   "cell_type": "markdown",
   "metadata": {},
   "source": [
    "#### Вывод \n",
    "Из полученных данных видно, что в среднем:\n",
    "\n",
    "- мужчин на 10% больше, чем женщин. \n",
    "- 39 лет - средний возраст клиента\n",
    "- 5 объектов в собственности \n",
    "- 1,5 банковских продукта приходится на 1 клиента банка\n",
    "- 70% имеют кредитную карту\n",
    "- 20% клиентов в оттоке\n",
    "\n",
    "50% клиентов из анализируемых данных находятся в Ярославле, где находится головной офис банка. В городах Ростов Великий и Рыбинск доля клиентов примерно равная, около 25%. При этом в Ростове Великом отток клиентов 32%, что гораздо выше, чем в Рыбинске и Ярославле. \n",
    "Мужчин среди клиентов банка почти на 10% больше, чем женщин, при этом пол практически не влияет на количество использования банковских продуктов.\n",
    "Признаки `score`, `age`(скошены вправо, основной возраст клиентов больше 30 лет) и `balance` имеют нормальное распределение.\n",
    "Большая часть клиентов пользуется 1 и 2 банковскими продуктами. Доля тех, кто использует 3 и 4 продукта незначительна.\n",
    "\n",
    "Судя по матрице корреляций, нет явной зависимости между какими-либо признаками.\n",
    "На использование банковских продуктов в большей степени из всех влияет наличие кредитной карты, что и логично, поскольку сама карта и яляется одним из банковских продуктов."
   ]
  },
  {
   "cell_type": "markdown",
   "metadata": {},
   "source": [
    "### Шаг 4. Сегментация пользователей."
   ]
  },
  {
   "cell_type": "markdown",
   "metadata": {},
   "source": [
    "Сегментируем пользователей на основе данных о количестве используемых продуктов."
   ]
  },
  {
   "cell_type": "markdown",
   "metadata": {},
   "source": [
    "Посмотрим на средние значения признаков для групп пользователей по потреблению банковских продуктов."
   ]
  },
  {
   "cell_type": "code",
   "execution_count": 16,
   "metadata": {
    "scrolled": true
   },
   "outputs": [
    {
     "data": {
      "text/html": [
       "<div>\n",
       "<style scoped>\n",
       "    .dataframe tbody tr th:only-of-type {\n",
       "        vertical-align: middle;\n",
       "    }\n",
       "\n",
       "    .dataframe tbody tr th {\n",
       "        vertical-align: top;\n",
       "    }\n",
       "\n",
       "    .dataframe thead th {\n",
       "        text-align: right;\n",
       "    }\n",
       "</style>\n",
       "<table border=\"1\" class=\"dataframe\">\n",
       "  <thead>\n",
       "    <tr style=\"text-align: right;\">\n",
       "      <th>products</th>\n",
       "      <th>1</th>\n",
       "      <th>2</th>\n",
       "      <th>3</th>\n",
       "      <th>4</th>\n",
       "    </tr>\n",
       "  </thead>\n",
       "  <tbody>\n",
       "    <tr>\n",
       "      <td>score</td>\n",
       "      <td>649.120968</td>\n",
       "      <td>652.188671</td>\n",
       "      <td>648.105263</td>\n",
       "      <td>653.583333</td>\n",
       "    </tr>\n",
       "    <tr>\n",
       "      <td>gender</td>\n",
       "      <td>0.548387</td>\n",
       "      <td>0.551198</td>\n",
       "      <td>0.439850</td>\n",
       "      <td>0.366667</td>\n",
       "    </tr>\n",
       "    <tr>\n",
       "      <td>age</td>\n",
       "      <td>39.673092</td>\n",
       "      <td>37.753595</td>\n",
       "      <td>43.195489</td>\n",
       "      <td>45.683333</td>\n",
       "    </tr>\n",
       "    <tr>\n",
       "      <td>objects</td>\n",
       "      <td>4.974626</td>\n",
       "      <td>5.051852</td>\n",
       "      <td>5.003759</td>\n",
       "      <td>5.300000</td>\n",
       "    </tr>\n",
       "    <tr>\n",
       "      <td>balance</td>\n",
       "      <td>119894.163723</td>\n",
       "      <td>119660.944362</td>\n",
       "      <td>119475.686310</td>\n",
       "      <td>122260.610870</td>\n",
       "    </tr>\n",
       "    <tr>\n",
       "      <td>creditcard</td>\n",
       "      <td>0.703777</td>\n",
       "      <td>0.707190</td>\n",
       "      <td>0.714286</td>\n",
       "      <td>0.683333</td>\n",
       "    </tr>\n",
       "    <tr>\n",
       "      <td>loyalty</td>\n",
       "      <td>0.504131</td>\n",
       "      <td>0.532898</td>\n",
       "      <td>0.424812</td>\n",
       "      <td>0.483333</td>\n",
       "    </tr>\n",
       "    <tr>\n",
       "      <td>estimated_salary</td>\n",
       "      <td>99487.256851</td>\n",
       "      <td>100452.012821</td>\n",
       "      <td>104318.130564</td>\n",
       "      <td>104763.723333</td>\n",
       "    </tr>\n",
       "    <tr>\n",
       "      <td>churn</td>\n",
       "      <td>0.277144</td>\n",
       "      <td>0.075817</td>\n",
       "      <td>0.827068</td>\n",
       "      <td>1.000000</td>\n",
       "    </tr>\n",
       "  </tbody>\n",
       "</table>\n",
       "</div>"
      ],
      "text/plain": [
       "products                      1              2              3              4\n",
       "score                649.120968     652.188671     648.105263     653.583333\n",
       "gender                 0.548387       0.551198       0.439850       0.366667\n",
       "age                   39.673092      37.753595      43.195489      45.683333\n",
       "objects                4.974626       5.051852       5.003759       5.300000\n",
       "balance           119894.163723  119660.944362  119475.686310  122260.610870\n",
       "creditcard             0.703777       0.707190       0.714286       0.683333\n",
       "loyalty                0.504131       0.532898       0.424812       0.483333\n",
       "estimated_salary   99487.256851  100452.012821  104318.130564  104763.723333\n",
       "churn                  0.277144       0.075817       0.827068       1.000000"
      ]
     },
     "execution_count": 16,
     "metadata": {},
     "output_type": "execute_result"
    }
   ],
   "source": [
    "data.drop(['userid'], axis=1).groupby('products').mean().T"
   ]
  },
  {
   "cell_type": "markdown",
   "metadata": {},
   "source": [
    "В разбивке по продуктам можно выделить следующие отличия в группах пользователей:\n",
    "\n",
    "1 продукт:\n",
    "- преимущественно мужчины\n",
    "- меньше, чем у остальных клиентов объектов в собственности\n",
    "- показатель оттока 27%\n",
    "\n",
    "2 продукта:\n",
    "- преимущественно мужчины\n",
    "- самая высокая активность клиентов \n",
    "- самый низкий отток 7,2%\n",
    "\n",
    "3 продукта:\n",
    "- преимущественно женщины\n",
    "- самый высокий процент наличия кредитной карты\n",
    "- самая низкая активность клиентов\n",
    "- высокий отток 82%\n",
    "\n",
    "4 продукта:\n",
    "- подавляющее большиство женщины\n",
    "- самая возрастная группа клиентов\n",
    "- больше всего объектов в собственности\n",
    "- реже других имеют кредитную карту\n",
    "- 100% отток"
   ]
  },
  {
   "cell_type": "markdown",
   "metadata": {},
   "source": [
    "Можно предположить, что клиенты,  пользующиеся 1-2 продуктами - это активные клиенты банка,  имеющие кредитную и/или дебетовую карту. Поскольку в группе с 2 продуктами отток самый низкий, рекомендация для банка работать больше с этой группой клиентов и стараться переводить клиентов с 1 продукта на 2.\n",
    "Клиенты с 3-4 продуктами - люди более зрелого возраста, имеющие накопления и достаточное количество объектов в собственности используют банковские продукты, чтобы обезопасить себя и увеличить накопления (страховки, инвестиционные счета).Большая доля оттоков в этих группах может быть связана с кредитами, ипотеками после возвращения которых люди перестают быть клиентами банка."
   ]
  },
  {
   "cell_type": "code",
   "execution_count": 17,
   "metadata": {},
   "outputs": [
    {
     "data": {
      "text/html": [
       "<div>\n",
       "<style scoped>\n",
       "    .dataframe tbody tr th:only-of-type {\n",
       "        vertical-align: middle;\n",
       "    }\n",
       "\n",
       "    .dataframe tbody tr th {\n",
       "        vertical-align: top;\n",
       "    }\n",
       "\n",
       "    .dataframe thead th {\n",
       "        text-align: right;\n",
       "    }\n",
       "</style>\n",
       "<table border=\"1\" class=\"dataframe\">\n",
       "  <thead>\n",
       "    <tr style=\"text-align: right;\">\n",
       "      <th></th>\n",
       "      <th>userid</th>\n",
       "      <th>fraction</th>\n",
       "    </tr>\n",
       "    <tr>\n",
       "      <th>products</th>\n",
       "      <th></th>\n",
       "      <th></th>\n",
       "    </tr>\n",
       "  </thead>\n",
       "  <tbody>\n",
       "    <tr>\n",
       "      <td>1</td>\n",
       "      <td>5084</td>\n",
       "      <td>0.5084</td>\n",
       "    </tr>\n",
       "    <tr>\n",
       "      <td>2</td>\n",
       "      <td>4590</td>\n",
       "      <td>0.4590</td>\n",
       "    </tr>\n",
       "    <tr>\n",
       "      <td>3</td>\n",
       "      <td>266</td>\n",
       "      <td>0.0266</td>\n",
       "    </tr>\n",
       "    <tr>\n",
       "      <td>4</td>\n",
       "      <td>60</td>\n",
       "      <td>0.0060</td>\n",
       "    </tr>\n",
       "  </tbody>\n",
       "</table>\n",
       "</div>"
      ],
      "text/plain": [
       "          userid  fraction\n",
       "products                  \n",
       "1           5084    0.5084\n",
       "2           4590    0.4590\n",
       "3            266    0.0266\n",
       "4             60    0.0060"
      ]
     },
     "execution_count": 17,
     "metadata": {},
     "output_type": "execute_result"
    }
   ],
   "source": [
    "products = data.groupby('products').agg({'userid': 'nunique'})\n",
    "products['fraction'] = products['userid'] / products['userid'].sum()\n",
    "products"
   ]
  },
  {
   "cell_type": "code",
   "execution_count": 18,
   "metadata": {},
   "outputs": [
    {
     "data": {
      "image/png": "[encoded data removed]",
      "text/plain": [
       "<Figure size 432x288 with 1 Axes>"
      ]
     },
     "metadata": {
      "needs_background": "light"
     },
     "output_type": "display_data"
    }
   ],
   "source": [
    "ax = sns.barplot(x=products.index, y='fraction', data=products)\n",
    "plt.title('Разделение клиентов по продуктам банка')\n",
    "plt.xlabel('Количество продуктов')\n",
    "plt.ylabel('Доля')\n",
    "plt.show()"
   ]
  },
  {
   "cell_type": "markdown",
   "metadata": {},
   "source": [
    "Преимущественное число клиентов пользуется 1-2 продуктами. 3 продукта используют только 2,6% пользователей, а 4 - всего 0,6%."
   ]
  },
  {
   "cell_type": "markdown",
   "metadata": {},
   "source": [
    "Проведем кластеризацию пользователей"
   ]
  },
  {
   "cell_type": "markdown",
   "metadata": {},
   "source": [
    "Стандартизируем данные и построим матрицу расстояний - нарисуем дендрограмму."
   ]
  },
  {
   "cell_type": "markdown",
   "metadata": {},
   "source": [
    "Удалим оставшийся категориальный признак, подготовим датасет. Присвоим значений 0 - Ярославль, 1 - Рыбинск, 2 - Ростов Великий."
   ]
  },
  {
   "cell_type": "code",
   "execution_count": 19,
   "metadata": {},
   "outputs": [],
   "source": [
    "data['city_int'] = data['city'].replace({'Ярославль':0, 'Рыбинск':1, 'Ростов Великий':2}).astype(int)"
   ]
  },
  {
   "cell_type": "code",
   "execution_count": 20,
   "metadata": {},
   "outputs": [],
   "source": [
    "# разделим наши данные на признаки (матрица X) и целевую переменную (y)\n",
    "X = data.drop(columns=['products', 'city', 'userid'], axis=1)\n",
    "X = X[X['balance'].notna()]\n",
    "y = data['products']"
   ]
  },
  {
   "cell_type": "code",
   "execution_count": 21,
   "metadata": {},
   "outputs": [
    {
     "data": {
      "image/png": "[encoded data removed]",
      "text/plain": [
       "<Figure size 1080x720 with 1 Axes>"
      ]
     },
     "metadata": {
      "needs_background": "light"
     },
     "output_type": "display_data"
    }
   ],
   "source": [
    "scaler = StandardScaler() # создаём объект класса scaler (нормализатор)\n",
    "X_sc = scaler.fit_transform(X) \n",
    "\n",
    "linked = linkage(X_sc, method = 'ward') \n",
    "\n",
    "plt.figure(figsize=(15, 10))  \n",
    "dendrogram(linked, orientation='top')\n",
    "plt.title('Иерархическая кластеризация пользователей')\n",
    "plt.show() "
   ]
  },
  {
   "cell_type": "markdown",
   "metadata": {},
   "source": [
    " Судя по дендрограмме, предложенное оптимальное число кластеров равно 3. Самый многочисленный содержит в себе 3 группы."
   ]
  },
  {
   "cell_type": "markdown",
   "metadata": {},
   "source": [
    "Обучим модель кластеризации на основании алгоритма `K-Means`. Возьмем число кластеров n=3."
   ]
  },
  {
   "cell_type": "code",
   "execution_count": 22,
   "metadata": {},
   "outputs": [
    {
     "data": {
      "text/html": [
       "<div>\n",
       "<style scoped>\n",
       "    .dataframe tbody tr th:only-of-type {\n",
       "        vertical-align: middle;\n",
       "    }\n",
       "\n",
       "    .dataframe tbody tr th {\n",
       "        vertical-align: top;\n",
       "    }\n",
       "\n",
       "    .dataframe thead th {\n",
       "        text-align: right;\n",
       "    }\n",
       "</style>\n",
       "<table border=\"1\" class=\"dataframe\">\n",
       "  <thead>\n",
       "    <tr style=\"text-align: right;\">\n",
       "      <th></th>\n",
       "      <th>score</th>\n",
       "      <th>gender</th>\n",
       "      <th>age</th>\n",
       "      <th>objects</th>\n",
       "      <th>balance</th>\n",
       "      <th>creditcard</th>\n",
       "      <th>loyalty</th>\n",
       "      <th>estimated_salary</th>\n",
       "      <th>churn</th>\n",
       "      <th>city_int</th>\n",
       "    </tr>\n",
       "    <tr>\n",
       "      <th>cluster</th>\n",
       "      <th></th>\n",
       "      <th></th>\n",
       "      <th></th>\n",
       "      <th></th>\n",
       "      <th></th>\n",
       "      <th></th>\n",
       "      <th></th>\n",
       "      <th></th>\n",
       "      <th></th>\n",
       "      <th></th>\n",
       "    </tr>\n",
       "  </thead>\n",
       "  <tbody>\n",
       "    <tr>\n",
       "      <td>0</td>\n",
       "      <td>645.959740</td>\n",
       "      <td>0.447403</td>\n",
       "      <td>44.866883</td>\n",
       "      <td>4.977273</td>\n",
       "      <td>120731.921545</td>\n",
       "      <td>0.698052</td>\n",
       "      <td>0.36039</td>\n",
       "      <td>101310.844182</td>\n",
       "      <td>0.998052</td>\n",
       "      <td>1.223377</td>\n",
       "    </tr>\n",
       "    <tr>\n",
       "      <td>1</td>\n",
       "      <td>649.433019</td>\n",
       "      <td>0.567925</td>\n",
       "      <td>35.539151</td>\n",
       "      <td>5.125943</td>\n",
       "      <td>120385.897189</td>\n",
       "      <td>0.701887</td>\n",
       "      <td>0.00000</td>\n",
       "      <td>101337.961269</td>\n",
       "      <td>0.000000</td>\n",
       "      <td>0.895283</td>\n",
       "    </tr>\n",
       "    <tr>\n",
       "      <td>2</td>\n",
       "      <td>655.395152</td>\n",
       "      <td>0.587954</td>\n",
       "      <td>38.839882</td>\n",
       "      <td>4.867058</td>\n",
       "      <td>118881.245560</td>\n",
       "      <td>0.697760</td>\n",
       "      <td>1.00000</td>\n",
       "      <td>99898.525887</td>\n",
       "      <td>0.000000</td>\n",
       "      <td>0.923246</td>\n",
       "    </tr>\n",
       "  </tbody>\n",
       "</table>\n",
       "</div>"
      ],
      "text/plain": [
       "              score    gender        age   objects        balance  creditcard  \\\n",
       "cluster                                                                         \n",
       "0        645.959740  0.447403  44.866883  4.977273  120731.921545    0.698052   \n",
       "1        649.433019  0.567925  35.539151  5.125943  120385.897189    0.701887   \n",
       "2        655.395152  0.587954  38.839882  4.867058  118881.245560    0.697760   \n",
       "\n",
       "         loyalty  estimated_salary     churn  city_int  \n",
       "cluster                                                 \n",
       "0        0.36039     101310.844182  0.998052  1.223377  \n",
       "1        0.00000     101337.961269  0.000000  0.895283  \n",
       "2        1.00000      99898.525887  0.000000  0.923246  "
      ]
     },
     "execution_count": 22,
     "metadata": {},
     "output_type": "execute_result"
    }
   ],
   "source": [
    "km = KMeans(n_clusters = 3, random_state=0)\n",
    "X['cluster'] = km.fit_predict(X_sc)\n",
    "cluster_mean = X.groupby('cluster').agg(['mean']).droplevel(1, axis=1)\n",
    "cluster_mean"
   ]
  },
  {
   "cell_type": "markdown",
   "metadata": {},
   "source": [
    "У нас есть 3 портрета пользователей, исходя из использования ими продуктов банка.\n",
    "\n",
    "Кластер 0:\n",
    " - практически 100% отток - это покинувшие банк пользователи\n",
    " - преобладают женщины\n",
    " - средний возраст 44-45 лет\n",
    " - активны 36% пользователей\n",
    "\n",
    "Кластер 1: \n",
    "- нулевой отток - это действующие клиенты банка\n",
    "- активные пользователи продуктов\n",
    "- с бОльшим количеством собственности\n",
    "- преобладают мужчины\n",
    "- средний возраст 35 лет\n",
    "\n",
    "Кластер 2:\n",
    "- нулевой отток - это действующие клиенты банка\n",
    "- неактивные пользователи\n",
    "- преобладают мужчины\n",
    "- средний возраст 38-39 лет\n",
    "\n",
    "В принципе в основе разделения в последних двух кластерах лежит активность клиента - пользуется он продуктами банка или нет. Остальные признаки существенного влияния не оказывают."
   ]
  },
  {
   "cell_type": "markdown",
   "metadata": {},
   "source": [
    "Чтобы убедится в этом построим распределение признаков по кластерам."
   ]
  },
  {
   "cell_type": "code",
   "execution_count": 23,
   "metadata": {},
   "outputs": [
    {
     "name": "stdout",
     "output_type": "stream",
     "text": [
      "\n",
      "Диаграмма по кластерам для признака churn\n"
     ]
    },
    {
     "data": {
      "image/png": "[encoded data removed]",
      "text/plain": [
       "<Figure size 864x360 with 3 Axes>"
      ]
     },
     "metadata": {
      "needs_background": "light"
     },
     "output_type": "display_data"
    },
    {
     "name": "stdout",
     "output_type": "stream",
     "text": [
      "\n",
      "Диаграмма по кластерам для признака loyalty\n"
     ]
    },
    {
     "data": {
      "image/png": "[encoded data removed]",
      "text/plain": [
       "<Figure size 864x360 with 3 Axes>"
      ]
     },
     "metadata": {
      "needs_background": "light"
     },
     "output_type": "display_data"
    },
    {
     "name": "stdout",
     "output_type": "stream",
     "text": [
      "\n",
      "Диаграмма по кластерам для признака gender\n"
     ]
    },
    {
     "data": {
      "image/png": "[encoded data removed]",
      "text/plain": [
       "<Figure size 864x360 with 3 Axes>"
      ]
     },
     "metadata": {
      "needs_background": "light"
     },
     "output_type": "display_data"
    }
   ],
   "source": [
    "parameters = ['churn', 'loyalty', 'gender']\n",
    "\n",
    "for i in parameters:\n",
    "    print('\\nДиаграмма по кластерам для признака {}'.format(i))\n",
    "    fig, ax = plt.subplots(1, 3, figsize=(12,5), sharey=True)\n",
    "    \n",
    "    for c in range(3):\n",
    "        X.query('cluster == @c')[i].value_counts().plot(kind='bar', ax=ax[c])\n",
    "        \n",
    "        \n",
    "    ax[0].set_title('Кластер 0')\n",
    "    ax[1].set_title('Кластер 1')\n",
    "    ax[2].set_title('Кластер 2')\n",
    "        \n",
    "    ax[0].set(ylabel = 'Количество клиентов')\n",
    "    plt.show()"
   ]
  },
  {
   "cell_type": "markdown",
   "metadata": {},
   "source": [
    "#### Вывод \n",
    "\n",
    "В разбивке по продуктам можно выделить следующие отличия в группах пользователей:\n",
    "\n",
    "1 продукт:\n",
    "- преимущественно мужчины\n",
    "- меньше, чем у остальных клиентов объектов в собственности\n",
    "- показатель оттока 27%\n",
    "\n",
    "2 продукта:\n",
    "- преимущественно мужчины\n",
    "- самая высокая активность клиентов \n",
    "- самый низкий отток 7,2%\n",
    "\n",
    "3 продукта:\n",
    "- преимущественно женщины\n",
    "- самый высокий процент наличия кредитной карты\n",
    "- самая низкая активность клиентов\n",
    "- высокий отток 82%\n",
    "\n",
    "4 продукта:\n",
    "- подавляющее большиство женщины\n",
    "- самая возрастная группа клиентов\n",
    "- больше всего объектов в собственности\n",
    "- реже других имеют кредитную карту\n",
    "- 100% отток\n",
    "\n",
    "Можно предположить, что клиенты,  пользующиеся 1-2 продуктами - это активные клиенты банка,  имеющие кредитную и/или дебетовую карту. Поскольку в группе с 2 продуктами отток самый низкий, рекомендация для банка работать больше с этой группой клиентов и стараться переводить клиентов с 1 продукта на 2.\n",
    "Клиенты с 3-4 продуктами - люди более зрелого возраста, имеющие накопления и достаточное количество объектов в собственности используют банковские продукты, чтобы обезопасить себя и увеличить накопления (страховки, инвестиционные счета).Большая доля оттоков в этих группах может быть связана с кредитами, ипотеками после возвращения которых люди перестают быть клиентами банка.\n",
    "\n",
    "Преимущественное число клиентов пользуется 1-2 продуктами. 3 продукта используют только 2,6% пользователей, а 4 - всего 0,6%.\n",
    "\n",
    "Стандартизировали данные, получили 3 кластера по клиентам:\n",
    "Кластер 0:\n",
    " - практически 100% отток - это покинувшие банк пользователи\n",
    " - преобладают женщины\n",
    " - средний возраст 44-45 лет\n",
    " - активны 36% пользователей\n",
    "\n",
    "Кластер 1: \n",
    "- нулевой отток - это действующие клиенты банка\n",
    "- активные пользователи продуктов\n",
    "- с бОльшим количеством собственности\n",
    "- преобладают мужчины\n",
    "- средний возраст 35 лет\n",
    "\n",
    "Кластер 2:\n",
    "- нулевой отток - это действующие клиенты банка\n",
    "- неактивные пользователи\n",
    "- преобладают мужчины\n",
    "- средний возраст 38-39 лет\n",
    "\n",
    "В принципе в основе разделения в последних двух кластерах лежит активность клиента - пользуется он продуктами банка или нет. Остальные признаки существенного влияния не оказывают."
   ]
  },
  {
   "cell_type": "markdown",
   "metadata": {},
   "source": [
    "### Шаг 5. Проверка гипотез."
   ]
  },
  {
   "cell_type": "markdown",
   "metadata": {},
   "source": [
    "###### Гипотеза 1\n",
    "Нулевая гипотеза - нет статистически значимого различия доходов между теми клиентами, которые пользуются двумя продуктами банка, и теми, которые пользуются одним.\n",
    "Альтернативная гипотеза - доходы между клиентами, которые пользуются одним продуктом и двумя, отличаются."
   ]
  },
  {
   "cell_type": "markdown",
   "metadata": {},
   "source": [
    "Распределение `estimated_salary` ненормальное, судя по гистограмме. Но все равно проверим его на нормальность, используя критерий Шарипо-Уилка. Убедились в том, что распределение не является нормальным. Следовательно мы должны использовать непараметрический тест, основанный на структурном подходе. Используем тест Манна-Уитни к полученным выборкам.\n",
    "Приняла за статистическую значимость 0.05 поскольку считаю, что такой точности достаточно при анализа. У нас не такие большие размеры выборок, следовательно, можно взять большую вероятность ошибки первого рода. При увеличении объема выборки случайные отклонения компенсируют друг друга, и получить значимое различие в выборках при их однородности менее вероятно. Следовательно, тогда надо брать меньший уровень значимости. \n",
    "Использовала двусторонний тест."
   ]
  },
  {
   "cell_type": "code",
   "execution_count": 24,
   "metadata": {},
   "outputs": [],
   "source": [
    "product1 = data.query('products == 1')['estimated_salary']\n",
    "product2 = data.query('products == 2')['estimated_salary']"
   ]
  },
  {
   "cell_type": "code",
   "execution_count": 25,
   "metadata": {},
   "outputs": [
    {
     "name": "stdout",
     "output_type": "stream",
     "text": [
      "p-значение:  3.017243029368968e-36\n",
      "распределение не нормально\n"
     ]
    }
   ],
   "source": [
    "alpha = 0.05\n",
    "\n",
    "results = st.shapiro(product1) \n",
    "p_value = results[1] \n",
    "print('p-значение: ', p_value)\n",
    "\n",
    "if p_value < alpha:\n",
    "    print('распределение не нормально') \n",
    "   \n",
    "else:\n",
    "    print('нормальное распределение')"
   ]
  },
  {
   "cell_type": "code",
   "execution_count": 26,
   "metadata": {},
   "outputs": [
    {
     "name": "stdout",
     "output_type": "stream",
     "text": [
      "p-значение:  2.1702207154579243e-35\n",
      "распределение не нормально\n"
     ]
    }
   ],
   "source": [
    "alpha = 0.05\n",
    "\n",
    "results = st.shapiro(product2) \n",
    "p_value = results[1] \n",
    "print('p-значение: ', p_value)\n",
    "\n",
    "if p_value < alpha:\n",
    "    print('распределение не нормально') \n",
    "   \n",
    "else:\n",
    "    print('нормальное распределение')"
   ]
  },
  {
   "cell_type": "code",
   "execution_count": 27,
   "metadata": {},
   "outputs": [
    {
     "name": "stdout",
     "output_type": "stream",
     "text": [
      "p-value 0.408\n"
     ]
    }
   ],
   "source": [
    "print('p-value','{0:.3f}'.format(stats.mannwhitneyu(product1, product2, alternative = 'two-sided')[1]))"
   ]
  },
  {
   "cell_type": "markdown",
   "metadata": {},
   "source": [
    "Показатель p-value 0.408 > 0.05. Значит, нулевую гипотезу о том, что нет статистически значимого различия доходов между теми клиентами, которые пользуются двумя продуктами банка, и теми, которые пользуются одним, мы не отвергаем."
   ]
  },
  {
   "cell_type": "markdown",
   "metadata": {},
   "source": [
    "###### Гипотеза 2\n",
    "Нулевая гипотеза: Женщины и мужчины оформляют в среднем одинаковое количество продуктов.\n",
    "Альтернативная гипотеза: Женщины и мужчины оформляют в среднем разное количество продуктов."
   ]
  },
  {
   "cell_type": "code",
   "execution_count": 28,
   "metadata": {},
   "outputs": [],
   "source": [
    "women_products = data.query('gender == 0')['products']\n",
    "men_products = data.query('gender == 1')['products']"
   ]
  },
  {
   "cell_type": "code",
   "execution_count": 29,
   "metadata": {},
   "outputs": [
    {
     "name": "stdout",
     "output_type": "stream",
     "text": [
      "p-значение:  0.0\n",
      "распределение не нормально\n"
     ]
    }
   ],
   "source": [
    "alpha = 0.05\n",
    "\n",
    "results = st.shapiro(women_products) \n",
    "p_value = results[1] \n",
    "print('p-значение: ', p_value)\n",
    "\n",
    "if p_value < alpha:\n",
    "    print('распределение не нормально') \n",
    "   \n",
    "else:\n",
    "    print('нормальное распределение')"
   ]
  },
  {
   "cell_type": "code",
   "execution_count": 30,
   "metadata": {},
   "outputs": [
    {
     "name": "stdout",
     "output_type": "stream",
     "text": [
      "p-значение:  0.0\n",
      "распределение не нормально\n"
     ]
    }
   ],
   "source": [
    "alpha = 0.05\n",
    "\n",
    "results = st.shapiro(men_products) \n",
    "p_value = results[1] \n",
    "print('p-значение: ', p_value)\n",
    "\n",
    "if p_value < alpha:\n",
    "    print('распределение не нормально') \n",
    "   \n",
    "else:\n",
    "    print('нормальное распределение')"
   ]
  },
  {
   "cell_type": "code",
   "execution_count": 31,
   "metadata": {
    "scrolled": true
   },
   "outputs": [
    {
     "name": "stdout",
     "output_type": "stream",
     "text": [
      "p-value 0.199\n"
     ]
    }
   ],
   "source": [
    "print('p-value','{0:.3f}'.format(stats.mannwhitneyu(women_products, men_products, alternative = 'two-sided')[1]))"
   ]
  },
  {
   "cell_type": "markdown",
   "metadata": {},
   "source": [
    "Показатель p-value 0.199 > 0.05. Значит, нулевую гипотезу о том, что нет статистически значимой разницы между покупкой продуктов женщинами и мужчинами, мы подтверждаем."
   ]
  },
  {
   "cell_type": "markdown",
   "metadata": {},
   "source": [
    "###### Гипотеза 3\n",
    "Нулевая гипотеза: Отток клиентов в группах с 1 и 2 продуктами одинаковый. Альтернативная гипотеза: Отток в группах с 1 и 2 продуктами различается. "
   ]
  },
  {
   "cell_type": "code",
   "execution_count": 32,
   "metadata": {},
   "outputs": [],
   "source": [
    "product11 = data.query('products == 1')['churn']\n",
    "product12 = data.query('products == 2')['churn']"
   ]
  },
  {
   "cell_type": "markdown",
   "metadata": {},
   "source": [
    "В качестве критерия статистического сравнения долей между группами будем использовать z-тест."
   ]
  },
  {
   "cell_type": "code",
   "execution_count": 33,
   "metadata": {},
   "outputs": [
    {
     "name": "stdout",
     "output_type": "stream",
     "text": [
      "p-значение:  0.0\n",
      "Отвергаем нулевую гипотезу\n"
     ]
    }
   ],
   "source": [
    "trials = np.array([len(data.query('products == 1')), len(data.query('products == 2'))]) \n",
    "successes = np.array([len(data.query('products == 1 and churn == 1')), len(data.query('products == 2 and churn == 1'))])\n",
    "\n",
    "p1 = successes[0]/trials[0]\n",
    "p2 = successes[1]/trials[1]\n",
    "\n",
    "p_combined = (successes[0] + successes[1]) / (trials[0] + trials[1])\n",
    "difference = p1 - p2\n",
    "\n",
    "z_value = difference / mth.sqrt(p_combined * (1 - p_combined) * (1/trials[0] + 1/trials[1]))\n",
    "\n",
    "\n",
    "distr = st.norm(0, 1) \n",
    "\n",
    "p_value = (1 - distr.cdf(abs(z_value))) * 2\n",
    "\n",
    "print('p-значение: ', p_value)\n",
    "\n",
    "if p_value < alpha: \n",
    "    print('Отвергаем нулевую гипотезу')\n",
    "else:\n",
    "    print('Не получилось отвергнуть нулевую гипотезу') "
   ]
  },
  {
   "cell_type": "markdown",
   "metadata": {},
   "source": [
    "Отвергаем нулевую гипотезу - отток клиентов в группах с одним и двумя продуктами различается."
   ]
  },
  {
   "cell_type": "markdown",
   "metadata": {},
   "source": [
    "#### Вывод \n",
    "Провели статистическую проверку гипотез. \n",
    "Выявили, что нет разницы в доходах между теми клиентами, которые пользуются двумя банковскими продуктами и теми, кто пользуется одним. При этом есть разница в оттоке у этих клиентов. Также нет статистической разницы в количестве оформляемых продуктов между мужчинами и женщинами."
   ]
  },
  {
   "cell_type": "markdown",
   "metadata": {},
   "source": [
    "### Шаг 6. Общий вывод."
   ]
  },
  {
   "cell_type": "markdown",
   "metadata": {},
   "source": [
    "Провели обработку данных перед анализом - привели названия колонок к единому регистру, изучили типы данных колонок, они соответствуют ожидаемым и не требуют изменений. Дубликатов не обнаружено, пропущенные значения в столбце `balance` оставили без изменений, чтобы исключить искажение данных.\n",
    "\n",
    "Из полученных данных видно, что в среднем:\n",
    "\n",
    "- мужчин на 10% больше, чем женщин. \n",
    "- 39 лет - средний возраст клиента\n",
    "- 5 объектов в собственности \n",
    "- 1,5 банковских продукта приходится на 1 клиента банка\n",
    "- 70% имеют кредитную карту\n",
    "- 20% клиентов в оттоке\n",
    "\n",
    "50% клиентов из анализируемых данных находятся в Ярославле, где находится головной офис банка. В городах Ростов Великий и Рыбинск доля клиентов примерно равная, около 25%. При этом в Ростове Великом отток клиентов 32%, что гораздо выше, чем в Рыбинске и Ярославле. \n",
    "\n",
    "Судя по матрице корреляций, нет явной зависимости между какими-либо признаками.\n",
    "На использование банковских продуктов в большей степени из всех влияет наличие кредитной карты, что и логично, поскольку сама карта и яляется одним из банковских продуктов.\n",
    "\n",
    "\n",
    "В разбивке по продуктам можно выделить следующие отличия в группах пользователей:\n",
    "\n",
    "1 продукт:\n",
    "- преимущественно мужчины\n",
    "- меньше, чем у остальных клиентов объектов в собственности\n",
    "- показатель оттока 27%\n",
    "\n",
    "2 продукта:\n",
    "- преимущественно мужчины\n",
    "- самая высокая активность клиентов \n",
    "- самый низкий отток 7,2%\n",
    "\n",
    "3 продукта:\n",
    "- преимущественно женщины\n",
    "- самый высокий процент наличия кредитной карты\n",
    "- самая низкая активность клиентов\n",
    "- высокий отток 82%\n",
    "\n",
    "4 продукта:\n",
    "- подавляющее большиство женщины\n",
    "- самая возрастная группа клиентов\n",
    "- больше всего объектов в собственности\n",
    "- реже других имеют кредитную карту\n",
    "- 100% отток\n",
    "\n",
    "Можно предположить, что клиенты,  пользующиеся 1-2 продуктами - это активные клиенты банка,  имеющие кредитную и/или дебетовую карту. Поскольку в группе с 2 продуктами отток самый низкий, рекомендация для банка работать больше с этой группой клиентов и стараться переводить клиентов с 1 продукта на 2.\n",
    "Клиенты с 3-4 продуктами - люди более зрелого возраста, имеющие накопления и достаточное количество объектов в собственности используют банковские продукты, чтобы обезопасить себя и увеличить накопления (страховки, инвестиционные счета).Большая доля оттоков в этих группах может быть связана с кредитами, ипотеками после возвращения которых люди перестают быть клиентами банка.\n",
    "\n",
    "Преимущественное число клиентов пользуется 1-2 продуктами. 3 продукта используют только 2,6% пользователей, а 4 - всего 0,6%.\n",
    "\n",
    "Стандартизировали данные, получили 3 кластера по клиентам:\n",
    "Кластер 0:\n",
    " - практически 100% отток - это покинувшие банк пользователи\n",
    " - преобладают женщины\n",
    " - средний возраст 44-45 лет\n",
    " - активны 36% пользователей\n",
    "\n",
    "Кластер 1: \n",
    "- нулевой отток - это действующие клиенты банка\n",
    "- активные пользователи продуктов\n",
    "- с бОльшим количеством собственности\n",
    "- преобладают мужчины\n",
    "- средний возраст 35 лет\n",
    "\n",
    "Кластер 2:\n",
    "- нулевой отток - это действующие клиенты банка\n",
    "- неактивные пользователи\n",
    "- преобладают мужчины\n",
    "- средний возраст 38-39 лет\n",
    "\n",
    "В принципе в основе разделения в последних двух кластерах лежит активность клиента - пользуется он продуктами банка или нет. Остальные признаки существенного влияния не оказывают.\n",
    "\n",
    "Провели статистическую проверку гипотез. \n",
    "Выявили, что нет разницы в доходах между теми клиентами, которые пользуются двумя банковскими продуктами и теми, кто пользуется одним. При этом есть разница в оттоке у этих клиентов. Также нет статистической разницы в количестве оформляемых продуктов между мужчинами и женщинами.\n",
    "\n",
    "Рекомендации:\n",
    "- Увеличивать активность клиентов, привлекать их к использованию продуктов банка.\n",
    "- Предлагать дополнительные продукты клиентам с одним продуктом. Высока вероятность со стороны клиента приобрести второй продукт и доля оттока  в этой группе ниже.\n",
    "- Поддерживать активность и клиентов с двумя продуктами. Уведомлять об акциях, спецпредложениях по кредитной/дебетовой карте, рефинансированию.\n",
    "- Клиенты с тремя продуктами и 4 продуктами больше других склонны к оттоку. Взаимодействовать постоянно с такими клиентами.\n",
    "- Выяснить причины высокого оттока в городе Ростов Великий."
   ]
  },
  {
   "cell_type": "markdown",
   "metadata": {},
   "source": [
    "Презентация https://cloud.mail.ru/public/av5a/6PpGNmjLu"
   ]
  },
  {
   "cell_type": "markdown",
   "metadata": {},
   "source": [
    "Дашборд https://public.tableau.com/app/profile/tatyana.poter/viz/__16250845517020/Dashboard1"
   ]
  }
 ],
 "metadata": {
  "ExecuteTimeLog": [
   {
    "duration": 1611,
    "start_time": "2021-06-27T03:14:40.541Z"
   },
   {
    "duration": 2397,
    "start_time": "2021-06-27T03:15:19.644Z"
   },
   {
    "duration": 1553,
    "start_time": "2021-06-27T03:16:06.465Z"
   },
   {
    "duration": 2458,
    "start_time": "2021-06-27T03:16:08.021Z"
   },
   {
    "duration": 2233,
    "start_time": "2021-06-27T03:16:48.842Z"
   },
   {
    "duration": 2273,
    "start_time": "2021-06-27T03:20:27.224Z"
   },
   {
    "duration": 1609,
    "start_time": "2021-06-27T03:20:55.323Z"
   },
   {
    "duration": 2365,
    "start_time": "2021-06-27T03:20:56.934Z"
   },
   {
    "duration": 2283,
    "start_time": "2021-06-27T03:21:40.993Z"
   },
   {
    "duration": 2217,
    "start_time": "2021-06-27T03:25:12.323Z"
   },
   {
    "duration": 2591,
    "start_time": "2021-06-27T03:25:26.854Z"
   },
   {
    "duration": 5,
    "start_time": "2021-06-27T03:26:15.412Z"
   },
   {
    "duration": 2381,
    "start_time": "2021-06-27T03:26:17.612Z"
   },
   {
    "duration": 2378,
    "start_time": "2021-06-27T03:35:28.477Z"
   },
   {
    "duration": 2388,
    "start_time": "2021-06-27T03:36:12.435Z"
   },
   {
    "duration": 2220,
    "start_time": "2021-06-27T03:36:58.141Z"
   },
   {
    "duration": 2402,
    "start_time": "2021-06-27T03:38:05.448Z"
   },
   {
    "duration": 2434,
    "start_time": "2021-06-27T03:39:25.994Z"
   },
   {
    "duration": 2299,
    "start_time": "2021-06-27T03:42:06.570Z"
   },
   {
    "duration": 52,
    "start_time": "2021-06-27T03:43:16.986Z"
   },
   {
    "duration": 2314,
    "start_time": "2021-06-27T03:43:44.245Z"
   },
   {
    "duration": 47,
    "start_time": "2021-06-27T03:45:28.274Z"
   },
   {
    "duration": 2366,
    "start_time": "2021-06-27T04:06:21.644Z"
   },
   {
    "duration": 2502,
    "start_time": "2021-06-27T04:07:29.832Z"
   },
   {
    "duration": 2353,
    "start_time": "2021-06-27T04:08:04.628Z"
   },
   {
    "duration": 111,
    "start_time": "2021-06-27T04:09:46.639Z"
   },
   {
    "duration": 2236,
    "start_time": "2021-06-27T04:10:23.245Z"
   },
   {
    "duration": 2335,
    "start_time": "2021-06-27T04:10:33.759Z"
   },
   {
    "duration": 1091,
    "start_time": "2021-06-27T11:56:10.655Z"
   },
   {
    "duration": 43,
    "start_time": "2021-06-27T11:56:11.748Z"
   },
   {
    "duration": 1382,
    "start_time": "2021-06-27T11:56:11.793Z"
   },
   {
    "duration": 4,
    "start_time": "2021-06-27T12:05:51.082Z"
   },
   {
    "duration": 33,
    "start_time": "2021-06-27T12:06:03.089Z"
   },
   {
    "duration": 36,
    "start_time": "2021-06-27T12:07:20.846Z"
   },
   {
    "duration": 6,
    "start_time": "2021-06-27T12:08:44.493Z"
   },
   {
    "duration": 9,
    "start_time": "2021-06-27T12:14:49.017Z"
   },
   {
    "duration": 14,
    "start_time": "2021-06-27T12:15:09.775Z"
   },
   {
    "duration": 14,
    "start_time": "2021-06-27T12:16:25.586Z"
   },
   {
    "duration": 9,
    "start_time": "2021-06-27T12:21:21.501Z"
   },
   {
    "duration": 15,
    "start_time": "2021-06-27T12:21:37.563Z"
   },
   {
    "duration": 14,
    "start_time": "2021-06-27T12:23:28.748Z"
   },
   {
    "duration": 15,
    "start_time": "2021-06-27T12:23:37.758Z"
   },
   {
    "duration": 15,
    "start_time": "2021-06-27T12:37:23.447Z"
   },
   {
    "duration": 1115,
    "start_time": "2021-06-27T12:37:40.158Z"
   },
   {
    "duration": 44,
    "start_time": "2021-06-27T12:37:41.275Z"
   },
   {
    "duration": 4,
    "start_time": "2021-06-27T12:37:41.321Z"
   },
   {
    "duration": 34,
    "start_time": "2021-06-27T12:37:41.326Z"
   },
   {
    "duration": 23,
    "start_time": "2021-06-27T12:37:41.362Z"
   },
   {
    "duration": 7,
    "start_time": "2021-06-27T12:37:41.387Z"
   },
   {
    "duration": 1129,
    "start_time": "2021-06-27T12:39:04.115Z"
   },
   {
    "duration": 44,
    "start_time": "2021-06-27T12:39:05.246Z"
   },
   {
    "duration": 3,
    "start_time": "2021-06-27T12:39:05.292Z"
   },
   {
    "duration": 30,
    "start_time": "2021-06-27T12:39:05.297Z"
   },
   {
    "duration": 10,
    "start_time": "2021-06-27T12:39:05.329Z"
   },
   {
    "duration": 7,
    "start_time": "2021-06-27T12:39:05.341Z"
   },
   {
    "duration": 1629,
    "start_time": "2021-06-27T14:40:37.191Z"
   },
   {
    "duration": 57,
    "start_time": "2021-06-27T14:40:38.822Z"
   },
   {
    "duration": 5,
    "start_time": "2021-06-27T14:40:38.882Z"
   },
   {
    "duration": 80,
    "start_time": "2021-06-27T14:40:38.889Z"
   },
   {
    "duration": 107,
    "start_time": "2021-06-27T14:40:38.972Z"
   },
   {
    "duration": -15427,
    "start_time": "2021-06-27T14:40:54.509Z"
   },
   {
    "duration": 30,
    "start_time": "2021-06-27T14:40:52.128Z"
   },
   {
    "duration": 30,
    "start_time": "2021-06-27T14:41:11.250Z"
   },
   {
    "duration": 2136,
    "start_time": "2021-06-27T14:42:27.967Z"
   },
   {
    "duration": 54,
    "start_time": "2021-06-27T14:42:30.107Z"
   },
   {
    "duration": 4,
    "start_time": "2021-06-27T14:42:30.164Z"
   },
   {
    "duration": 53,
    "start_time": "2021-06-27T14:42:30.170Z"
   },
   {
    "duration": 50,
    "start_time": "2021-06-27T14:42:30.225Z"
   },
   {
    "duration": 9,
    "start_time": "2021-06-27T14:42:30.277Z"
   },
   {
    "duration": 31,
    "start_time": "2021-06-27T14:42:36.344Z"
   },
   {
    "duration": 1730,
    "start_time": "2021-06-27T14:44:27.290Z"
   },
   {
    "duration": 55,
    "start_time": "2021-06-27T14:44:29.023Z"
   },
   {
    "duration": 4,
    "start_time": "2021-06-27T14:44:29.081Z"
   },
   {
    "duration": 52,
    "start_time": "2021-06-27T14:44:29.087Z"
   },
   {
    "duration": 59,
    "start_time": "2021-06-27T14:44:29.141Z"
   },
   {
    "duration": 12,
    "start_time": "2021-06-27T14:44:29.203Z"
   },
   {
    "duration": 62,
    "start_time": "2021-06-27T14:53:30.936Z"
   },
   {
    "duration": 570,
    "start_time": "2021-06-27T15:05:04.072Z"
   },
   {
    "duration": 1996,
    "start_time": "2021-06-27T15:05:13.881Z"
   },
   {
    "duration": 55,
    "start_time": "2021-06-27T15:05:15.879Z"
   },
   {
    "duration": 5,
    "start_time": "2021-06-27T15:05:15.937Z"
   },
   {
    "duration": 63,
    "start_time": "2021-06-27T15:05:15.944Z"
   },
   {
    "duration": 30,
    "start_time": "2021-06-27T15:05:16.009Z"
   },
   {
    "duration": 80,
    "start_time": "2021-06-27T15:05:16.041Z"
   },
   {
    "duration": 9,
    "start_time": "2021-06-27T15:05:16.123Z"
   },
   {
    "duration": 542,
    "start_time": "2021-06-27T15:12:56.638Z"
   },
   {
    "duration": 20,
    "start_time": "2021-06-27T15:18:14.681Z"
   },
   {
    "duration": 237,
    "start_time": "2021-06-27T15:20:40.094Z"
   },
   {
    "duration": 21,
    "start_time": "2021-06-27T15:22:46.536Z"
   },
   {
    "duration": 19,
    "start_time": "2021-06-27T15:33:20.507Z"
   },
   {
    "duration": 707,
    "start_time": "2021-06-27T15:42:10.063Z"
   },
   {
    "duration": 412,
    "start_time": "2021-06-27T15:45:45.787Z"
   },
   {
    "duration": 351,
    "start_time": "2021-06-27T15:45:52.929Z"
   },
   {
    "duration": 8,
    "start_time": "2021-06-27T15:46:00.516Z"
   },
   {
    "duration": 31,
    "start_time": "2021-06-27T15:46:08.441Z"
   },
   {
    "duration": 815,
    "start_time": "2021-06-27T15:55:32.357Z"
   },
   {
    "duration": 16,
    "start_time": "2021-06-27T15:55:37.268Z"
   },
   {
    "duration": 1587,
    "start_time": "2021-06-27T15:56:02.033Z"
   },
   {
    "duration": 55,
    "start_time": "2021-06-27T15:56:03.623Z"
   },
   {
    "duration": 5,
    "start_time": "2021-06-27T15:56:03.681Z"
   },
   {
    "duration": 76,
    "start_time": "2021-06-27T15:56:03.688Z"
   },
   {
    "duration": 32,
    "start_time": "2021-06-27T15:56:03.766Z"
   },
   {
    "duration": 87,
    "start_time": "2021-06-27T15:56:03.801Z"
   },
   {
    "duration": 8,
    "start_time": "2021-06-27T15:56:03.891Z"
   },
   {
    "duration": 276,
    "start_time": "2021-06-27T15:56:03.903Z"
   },
   {
    "duration": 27,
    "start_time": "2021-06-27T15:56:04.183Z"
   },
   {
    "duration": 51,
    "start_time": "2021-06-27T15:56:04.213Z"
   },
   {
    "duration": 21,
    "start_time": "2021-06-27T15:56:04.267Z"
   },
   {
    "duration": 5386,
    "start_time": "2021-06-27T15:56:04.291Z"
   },
   {
    "duration": 4324,
    "start_time": "2021-06-27T15:57:40.541Z"
   },
   {
    "duration": 5807,
    "start_time": "2021-06-27T15:58:03.994Z"
   },
   {
    "duration": 852,
    "start_time": "2021-06-27T16:10:11.745Z"
   },
   {
    "duration": 791,
    "start_time": "2021-06-27T16:10:33.151Z"
   },
   {
    "duration": 3638,
    "start_time": "2021-06-27T16:17:22.760Z"
   },
   {
    "duration": -15483,
    "start_time": "2021-06-27T16:17:41.885Z"
   },
   {
    "duration": 805,
    "start_time": "2021-06-27T16:17:30.453Z"
   },
   {
    "duration": 669,
    "start_time": "2021-06-27T16:19:50.184Z"
   },
   {
    "duration": 4490,
    "start_time": "2021-06-27T16:20:16.138Z"
   },
   {
    "duration": 865,
    "start_time": "2021-06-27T16:20:36.144Z"
   },
   {
    "duration": 809,
    "start_time": "2021-06-27T16:20:48.441Z"
   },
   {
    "duration": 745,
    "start_time": "2021-06-27T16:21:24.576Z"
   },
   {
    "duration": 943,
    "start_time": "2021-06-27T16:21:41.290Z"
   },
   {
    "duration": 4899,
    "start_time": "2021-06-27T16:22:34.551Z"
   },
   {
    "duration": 3423,
    "start_time": "2021-06-27T16:23:17.806Z"
   },
   {
    "duration": 3755,
    "start_time": "2021-06-27T16:23:51.619Z"
   },
   {
    "duration": 919,
    "start_time": "2021-06-27T16:25:07.678Z"
   },
   {
    "duration": 3781,
    "start_time": "2021-06-27T16:26:32.500Z"
   },
   {
    "duration": 3858,
    "start_time": "2021-06-27T16:26:47.803Z"
   },
   {
    "duration": 1263,
    "start_time": "2021-06-27T16:38:24.135Z"
   },
   {
    "duration": 1263,
    "start_time": "2021-06-27T16:40:14.002Z"
   },
   {
    "duration": -16008,
    "start_time": "2021-06-28T11:38:52.200Z"
   },
   {
    "duration": -16085,
    "start_time": "2021-06-28T11:38:58.072Z"
   },
   {
    "duration": -16096,
    "start_time": "2021-06-28T11:38:58.084Z"
   },
   {
    "duration": -16105,
    "start_time": "2021-06-28T11:38:58.095Z"
   },
   {
    "duration": -16114,
    "start_time": "2021-06-28T11:38:58.105Z"
   },
   {
    "duration": -16117,
    "start_time": "2021-06-28T11:38:58.110Z"
   },
   {
    "duration": -16120,
    "start_time": "2021-06-28T11:38:58.114Z"
   },
   {
    "duration": -16141,
    "start_time": "2021-06-28T11:38:58.137Z"
   },
   {
    "duration": -16145,
    "start_time": "2021-06-28T11:38:58.143Z"
   },
   {
    "duration": -16150,
    "start_time": "2021-06-28T11:38:58.149Z"
   },
   {
    "duration": -16153,
    "start_time": "2021-06-28T11:38:58.154Z"
   },
   {
    "duration": -16157,
    "start_time": "2021-06-28T11:38:58.159Z"
   },
   {
    "duration": -16160,
    "start_time": "2021-06-28T11:38:58.164Z"
   },
   {
    "duration": -16161,
    "start_time": "2021-06-28T11:38:58.167Z"
   },
   {
    "duration": -16164,
    "start_time": "2021-06-28T11:38:58.171Z"
   },
   {
    "duration": 1519,
    "start_time": "2021-06-28T11:40:06.982Z"
   },
   {
    "duration": 57,
    "start_time": "2021-06-28T11:40:08.504Z"
   },
   {
    "duration": 6,
    "start_time": "2021-06-28T11:40:08.564Z"
   },
   {
    "duration": 52,
    "start_time": "2021-06-28T11:40:08.572Z"
   },
   {
    "duration": 58,
    "start_time": "2021-06-28T11:40:08.627Z"
   },
   {
    "duration": 76,
    "start_time": "2021-06-28T11:40:08.688Z"
   },
   {
    "duration": 9,
    "start_time": "2021-06-28T11:40:08.767Z"
   },
   {
    "duration": 256,
    "start_time": "2021-06-28T11:40:08.780Z"
   },
   {
    "duration": 27,
    "start_time": "2021-06-28T11:40:09.038Z"
   },
   {
    "duration": 18,
    "start_time": "2021-06-28T11:40:09.067Z"
   },
   {
    "duration": 15,
    "start_time": "2021-06-28T11:40:09.087Z"
   },
   {
    "duration": 3732,
    "start_time": "2021-06-28T11:40:09.105Z"
   },
   {
    "duration": -16051,
    "start_time": "2021-06-28T11:40:28.891Z"
   },
   {
    "duration": -16058,
    "start_time": "2021-06-28T11:40:28.899Z"
   },
   {
    "duration": 6732,
    "start_time": "2021-06-28T11:41:06.431Z"
   },
   {
    "duration": 13,
    "start_time": "2021-06-28T11:41:36.394Z"
   },
   {
    "duration": 14,
    "start_time": "2021-06-28T11:42:18.315Z"
   },
   {
    "duration": 231,
    "start_time": "2021-06-28T11:42:50.001Z"
   },
   {
    "duration": 307,
    "start_time": "2021-06-28T11:44:48.161Z"
   },
   {
    "duration": 292,
    "start_time": "2021-06-28T11:44:55.193Z"
   },
   {
    "duration": 24,
    "start_time": "2021-06-28T11:45:29.747Z"
   },
   {
    "duration": 9,
    "start_time": "2021-06-28T11:45:42.379Z"
   },
   {
    "duration": 24,
    "start_time": "2021-06-28T11:45:48.985Z"
   },
   {
    "duration": 3623,
    "start_time": "2021-06-28T11:48:30.320Z"
   },
   {
    "duration": 96,
    "start_time": "2021-06-28T11:53:53.546Z"
   },
   {
    "duration": 85,
    "start_time": "2021-06-28T11:54:07.750Z"
   },
   {
    "duration": 4,
    "start_time": "2021-06-28T11:54:19.368Z"
   },
   {
    "duration": 6581,
    "start_time": "2021-06-28T11:54:20.465Z"
   },
   {
    "duration": 6229,
    "start_time": "2021-06-28T11:55:01.808Z"
   },
   {
    "duration": 6792,
    "start_time": "2021-06-28T11:55:33.339Z"
   },
   {
    "duration": 262,
    "start_time": "2021-06-28T11:58:38.323Z"
   },
   {
    "duration": 1529,
    "start_time": "2021-06-28T11:58:54.066Z"
   },
   {
    "duration": 58,
    "start_time": "2021-06-28T11:58:55.598Z"
   },
   {
    "duration": 5,
    "start_time": "2021-06-28T11:58:55.659Z"
   },
   {
    "duration": 49,
    "start_time": "2021-06-28T11:58:55.666Z"
   },
   {
    "duration": 59,
    "start_time": "2021-06-28T11:58:55.717Z"
   },
   {
    "duration": 63,
    "start_time": "2021-06-28T11:58:55.779Z"
   },
   {
    "duration": 269,
    "start_time": "2021-06-28T11:58:55.854Z"
   },
   {
    "duration": 28,
    "start_time": "2021-06-28T11:58:56.127Z"
   },
   {
    "duration": 23,
    "start_time": "2021-06-28T11:58:56.158Z"
   },
   {
    "duration": 18,
    "start_time": "2021-06-28T11:58:56.183Z"
   },
   {
    "duration": 50,
    "start_time": "2021-06-28T11:58:56.204Z"
   },
   {
    "duration": 3458,
    "start_time": "2021-06-28T11:58:56.257Z"
   },
   {
    "duration": -16125,
    "start_time": "2021-06-28T11:59:15.844Z"
   },
   {
    "duration": -16126,
    "start_time": "2021-06-28T11:59:15.847Z"
   },
   {
    "duration": 1573,
    "start_time": "2021-06-28T11:59:33.443Z"
   },
   {
    "duration": 58,
    "start_time": "2021-06-28T11:59:35.019Z"
   },
   {
    "duration": 5,
    "start_time": "2021-06-28T11:59:35.080Z"
   },
   {
    "duration": 53,
    "start_time": "2021-06-28T11:59:35.087Z"
   },
   {
    "duration": 30,
    "start_time": "2021-06-28T11:59:35.154Z"
   },
   {
    "duration": 79,
    "start_time": "2021-06-28T11:59:35.186Z"
   },
   {
    "duration": 261,
    "start_time": "2021-06-28T11:59:35.267Z"
   },
   {
    "duration": 27,
    "start_time": "2021-06-28T11:59:35.531Z"
   },
   {
    "duration": 24,
    "start_time": "2021-06-28T11:59:35.560Z"
   },
   {
    "duration": 18,
    "start_time": "2021-06-28T11:59:35.587Z"
   },
   {
    "duration": 49,
    "start_time": "2021-06-28T11:59:35.608Z"
   },
   {
    "duration": 385,
    "start_time": "2021-06-28T11:59:35.660Z"
   },
   {
    "duration": -15985,
    "start_time": "2021-06-28T11:59:52.033Z"
   },
   {
    "duration": 4238,
    "start_time": "2021-06-28T12:01:02.727Z"
   },
   {
    "duration": 1192,
    "start_time": "2021-06-28T12:05:13.744Z"
   },
   {
    "duration": 251,
    "start_time": "2021-06-28T12:09:13.116Z"
   },
   {
    "duration": 14,
    "start_time": "2021-06-28T12:10:53.988Z"
   },
   {
    "duration": 1813,
    "start_time": "2021-06-28T12:13:45.600Z"
   },
   {
    "duration": 57,
    "start_time": "2021-06-28T12:13:47.416Z"
   },
   {
    "duration": 6,
    "start_time": "2021-06-28T12:13:47.476Z"
   },
   {
    "duration": 72,
    "start_time": "2021-06-28T12:13:47.485Z"
   },
   {
    "duration": 16,
    "start_time": "2021-06-28T12:13:47.559Z"
   },
   {
    "duration": 80,
    "start_time": "2021-06-28T12:13:47.578Z"
   },
   {
    "duration": 297,
    "start_time": "2021-06-28T12:13:47.660Z"
   },
   {
    "duration": 19,
    "start_time": "2021-06-28T12:13:47.960Z"
   },
   {
    "duration": 24,
    "start_time": "2021-06-28T12:13:47.981Z"
   },
   {
    "duration": 401,
    "start_time": "2021-06-28T12:13:48.007Z"
   },
   {
    "duration": -16032,
    "start_time": "2021-06-28T12:14:04.442Z"
   },
   {
    "duration": -16099,
    "start_time": "2021-06-28T12:14:04.511Z"
   },
   {
    "duration": -16129,
    "start_time": "2021-06-28T12:14:04.543Z"
   },
   {
    "duration": -16147,
    "start_time": "2021-06-28T12:14:04.563Z"
   },
   {
    "duration": 27,
    "start_time": "2021-06-28T12:14:13.253Z"
   },
   {
    "duration": 14,
    "start_time": "2021-06-28T12:21:23.882Z"
   },
   {
    "duration": 1573,
    "start_time": "2021-06-28T12:21:34.745Z"
   },
   {
    "duration": 59,
    "start_time": "2021-06-28T12:21:36.321Z"
   },
   {
    "duration": 5,
    "start_time": "2021-06-28T12:21:36.383Z"
   },
   {
    "duration": 75,
    "start_time": "2021-06-28T12:21:36.390Z"
   },
   {
    "duration": 17,
    "start_time": "2021-06-28T12:21:36.468Z"
   },
   {
    "duration": 92,
    "start_time": "2021-06-28T12:21:36.488Z"
   },
   {
    "duration": 260,
    "start_time": "2021-06-28T12:21:36.583Z"
   },
   {
    "duration": 20,
    "start_time": "2021-06-28T12:21:36.854Z"
   },
   {
    "duration": 24,
    "start_time": "2021-06-28T12:21:36.877Z"
   },
   {
    "duration": 3,
    "start_time": "2021-06-28T12:21:36.903Z"
   },
   {
    "duration": 55,
    "start_time": "2021-06-28T12:21:36.909Z"
   },
   {
    "duration": 16,
    "start_time": "2021-06-28T12:21:36.966Z"
   },
   {
    "duration": 4201,
    "start_time": "2021-06-28T12:21:36.984Z"
   },
   {
    "duration": 1346,
    "start_time": "2021-06-28T12:21:41.187Z"
   },
   {
    "duration": 412,
    "start_time": "2021-06-28T12:21:57.218Z"
   },
   {
    "duration": 263,
    "start_time": "2021-06-28T12:22:12.374Z"
   },
   {
    "duration": 1496,
    "start_time": "2021-06-28T12:22:20.960Z"
   },
   {
    "duration": 58,
    "start_time": "2021-06-28T12:22:22.459Z"
   },
   {
    "duration": 5,
    "start_time": "2021-06-28T12:22:22.520Z"
   },
   {
    "duration": 58,
    "start_time": "2021-06-28T12:22:22.527Z"
   },
   {
    "duration": 35,
    "start_time": "2021-06-28T12:22:22.587Z"
   },
   {
    "duration": 85,
    "start_time": "2021-06-28T12:22:22.624Z"
   },
   {
    "duration": 262,
    "start_time": "2021-06-28T12:22:22.712Z"
   },
   {
    "duration": 18,
    "start_time": "2021-06-28T12:22:22.977Z"
   },
   {
    "duration": 24,
    "start_time": "2021-06-28T12:22:22.998Z"
   },
   {
    "duration": 30,
    "start_time": "2021-06-28T12:22:23.025Z"
   },
   {
    "duration": 23,
    "start_time": "2021-06-28T12:22:23.058Z"
   },
   {
    "duration": 16,
    "start_time": "2021-06-28T12:22:23.083Z"
   },
   {
    "duration": 4225,
    "start_time": "2021-06-28T12:22:23.102Z"
   },
   {
    "duration": 1310,
    "start_time": "2021-06-28T12:22:27.329Z"
   },
   {
    "duration": 395,
    "start_time": "2021-06-28T12:23:04.218Z"
   },
   {
    "duration": 16,
    "start_time": "2021-06-28T12:23:37.903Z"
   },
   {
    "duration": 231,
    "start_time": "2021-06-28T12:28:37.205Z"
   },
   {
    "duration": 233,
    "start_time": "2021-06-28T12:34:51.839Z"
   },
   {
    "duration": 19,
    "start_time": "2021-06-28T12:40:51.475Z"
   },
   {
    "duration": 15,
    "start_time": "2021-06-28T12:54:39.819Z"
   },
   {
    "duration": 13,
    "start_time": "2021-06-28T12:54:52.367Z"
   },
   {
    "duration": 15,
    "start_time": "2021-06-28T12:56:15.709Z"
   },
   {
    "duration": 7677,
    "start_time": "2021-06-28T13:02:12.203Z"
   },
   {
    "duration": 6271,
    "start_time": "2021-06-28T13:02:36.124Z"
   },
   {
    "duration": 6563,
    "start_time": "2021-06-28T13:02:52.631Z"
   },
   {
    "duration": 1782,
    "start_time": "2021-06-28T13:03:06.424Z"
   },
   {
    "duration": 62,
    "start_time": "2021-06-28T13:03:08.208Z"
   },
   {
    "duration": 5,
    "start_time": "2021-06-28T13:03:08.272Z"
   },
   {
    "duration": 63,
    "start_time": "2021-06-28T13:03:08.280Z"
   },
   {
    "duration": 32,
    "start_time": "2021-06-28T13:03:08.355Z"
   },
   {
    "duration": 80,
    "start_time": "2021-06-28T13:03:08.389Z"
   },
   {
    "duration": 259,
    "start_time": "2021-06-28T13:03:08.471Z"
   },
   {
    "duration": 29,
    "start_time": "2021-06-28T13:03:08.734Z"
   },
   {
    "duration": 25,
    "start_time": "2021-06-28T13:03:08.766Z"
   },
   {
    "duration": 18,
    "start_time": "2021-06-28T13:03:08.794Z"
   },
   {
    "duration": 6436,
    "start_time": "2021-06-28T13:03:08.815Z"
   },
   {
    "duration": -20184,
    "start_time": "2021-06-28T13:03:35.438Z"
   },
   {
    "duration": -20199,
    "start_time": "2021-06-28T13:03:35.454Z"
   },
   {
    "duration": -20212,
    "start_time": "2021-06-28T13:03:35.469Z"
   },
   {
    "duration": -20218,
    "start_time": "2021-06-28T13:03:35.476Z"
   },
   {
    "duration": -20224,
    "start_time": "2021-06-28T13:03:35.483Z"
   },
   {
    "duration": -20228,
    "start_time": "2021-06-28T13:03:35.489Z"
   },
   {
    "duration": -20232,
    "start_time": "2021-06-28T13:03:35.494Z"
   },
   {
    "duration": 7243,
    "start_time": "2021-06-28T13:04:05.334Z"
   },
   {
    "duration": 17,
    "start_time": "2021-06-28T13:05:58.297Z"
   },
   {
    "duration": 237,
    "start_time": "2021-06-28T13:06:10.048Z"
   },
   {
    "duration": 231,
    "start_time": "2021-06-28T13:06:37.526Z"
   },
   {
    "duration": 144,
    "start_time": "2021-06-28T13:07:12.187Z"
   },
   {
    "duration": 170,
    "start_time": "2021-06-28T13:07:38.844Z"
   },
   {
    "duration": 6,
    "start_time": "2021-06-28T13:13:10.139Z"
   },
   {
    "duration": 253,
    "start_time": "2021-06-28T13:13:11.609Z"
   },
   {
    "duration": 5,
    "start_time": "2021-06-28T13:14:01.769Z"
   },
   {
    "duration": 272,
    "start_time": "2021-06-28T13:14:06.281Z"
   },
   {
    "duration": 11,
    "start_time": "2021-06-28T13:16:31.992Z"
   },
   {
    "duration": 7,
    "start_time": "2021-06-28T13:16:33.494Z"
   },
   {
    "duration": 1654,
    "start_time": "2021-06-28T13:16:49.052Z"
   },
   {
    "duration": 59,
    "start_time": "2021-06-28T13:16:50.709Z"
   },
   {
    "duration": 6,
    "start_time": "2021-06-28T13:16:50.773Z"
   },
   {
    "duration": 76,
    "start_time": "2021-06-28T13:16:50.782Z"
   },
   {
    "duration": 35,
    "start_time": "2021-06-28T13:16:50.861Z"
   },
   {
    "duration": 95,
    "start_time": "2021-06-28T13:16:50.899Z"
   },
   {
    "duration": 270,
    "start_time": "2021-06-28T13:16:50.997Z"
   },
   {
    "duration": 19,
    "start_time": "2021-06-28T13:16:51.273Z"
   },
   {
    "duration": 24,
    "start_time": "2021-06-28T13:16:51.295Z"
   },
   {
    "duration": 45,
    "start_time": "2021-06-28T13:16:51.322Z"
   },
   {
    "duration": 187,
    "start_time": "2021-06-28T13:16:51.370Z"
   },
   {
    "duration": 235,
    "start_time": "2021-06-28T13:16:51.560Z"
   },
   {
    "duration": 19,
    "start_time": "2021-06-28T13:16:51.798Z"
   },
   {
    "duration": 40,
    "start_time": "2021-06-28T13:16:51.819Z"
   },
   {
    "duration": 4428,
    "start_time": "2021-06-28T13:16:51.861Z"
   },
   {
    "duration": 1358,
    "start_time": "2021-06-28T13:16:56.291Z"
   },
   {
    "duration": 19,
    "start_time": "2021-06-28T13:16:57.655Z"
   },
   {
    "duration": 14,
    "start_time": "2021-06-28T13:16:57.676Z"
   },
   {
    "duration": 375,
    "start_time": "2021-06-28T13:16:57.692Z"
   },
   {
    "duration": 11,
    "start_time": "2021-06-28T13:16:58.069Z"
   },
   {
    "duration": 13,
    "start_time": "2021-06-28T13:16:58.082Z"
   },
   {
    "duration": 1604,
    "start_time": "2021-06-28T13:16:58.097Z"
   },
   {
    "duration": 28,
    "start_time": "2021-06-28T13:17:30.469Z"
   },
   {
    "duration": 6,
    "start_time": "2021-06-28T13:27:23.437Z"
   },
   {
    "duration": 1352,
    "start_time": "2021-06-28T13:27:24.848Z"
   },
   {
    "duration": 8,
    "start_time": "2021-06-28T13:29:05.079Z"
   },
   {
    "duration": 226344,
    "start_time": "2021-06-28T13:29:06.305Z"
   },
   {
    "duration": 83,
    "start_time": "2021-06-28T13:36:17.559Z"
   },
   {
    "duration": 1784,
    "start_time": "2021-06-28T13:39:40.463Z"
   },
   {
    "duration": 1665,
    "start_time": "2021-06-28T13:42:33.950Z"
   },
   {
    "duration": 1686,
    "start_time": "2021-06-28T13:44:08.236Z"
   },
   {
    "duration": 1529,
    "start_time": "2021-06-28T13:44:40.548Z"
   },
   {
    "duration": 58,
    "start_time": "2021-06-28T13:44:42.080Z"
   },
   {
    "duration": 5,
    "start_time": "2021-06-28T13:44:42.141Z"
   },
   {
    "duration": 54,
    "start_time": "2021-06-28T13:44:42.148Z"
   },
   {
    "duration": 51,
    "start_time": "2021-06-28T13:44:42.204Z"
   },
   {
    "duration": 69,
    "start_time": "2021-06-28T13:44:42.258Z"
   },
   {
    "duration": 266,
    "start_time": "2021-06-28T13:44:42.330Z"
   },
   {
    "duration": 19,
    "start_time": "2021-06-28T13:44:42.599Z"
   },
   {
    "duration": 43,
    "start_time": "2021-06-28T13:44:42.621Z"
   },
   {
    "duration": 16,
    "start_time": "2021-06-28T13:44:42.667Z"
   },
   {
    "duration": 195,
    "start_time": "2021-06-28T13:44:42.685Z"
   },
   {
    "duration": 224,
    "start_time": "2021-06-28T13:44:42.883Z"
   },
   {
    "duration": 20,
    "start_time": "2021-06-28T13:44:43.109Z"
   },
   {
    "duration": 28,
    "start_time": "2021-06-28T13:44:43.132Z"
   },
   {
    "duration": 4336,
    "start_time": "2021-06-28T13:44:43.162Z"
   },
   {
    "duration": 1560,
    "start_time": "2021-06-28T13:44:47.500Z"
   },
   {
    "duration": 20,
    "start_time": "2021-06-28T13:44:49.062Z"
   },
   {
    "duration": 16,
    "start_time": "2021-06-28T13:44:49.085Z"
   },
   {
    "duration": 380,
    "start_time": "2021-06-28T13:44:49.103Z"
   },
   {
    "duration": 11,
    "start_time": "2021-06-28T13:44:49.486Z"
   },
   {
    "duration": 16,
    "start_time": "2021-06-28T13:44:49.500Z"
   },
   {
    "duration": 234186,
    "start_time": "2021-06-28T13:44:49.519Z"
   },
   {
    "duration": 2,
    "start_time": "2021-06-28T13:48:43.709Z"
   },
   {
    "duration": 1853,
    "start_time": "2021-06-28T13:48:43.714Z"
   },
   {
    "duration": 1911,
    "start_time": "2021-06-28T13:49:42.295Z"
   },
   {
    "duration": 6445,
    "start_time": "2021-06-28T14:07:59.874Z"
   },
   {
    "duration": 8141,
    "start_time": "2021-06-28T14:08:37.765Z"
   },
   {
    "duration": 31,
    "start_time": "2021-06-28T14:27:00.317Z"
   },
   {
    "duration": 40,
    "start_time": "2021-06-28T14:28:35.648Z"
   },
   {
    "duration": 8,
    "start_time": "2021-06-28T14:46:12.289Z"
   },
   {
    "duration": 7,
    "start_time": "2021-06-28T14:46:23.838Z"
   },
   {
    "duration": 265,
    "start_time": "2021-06-28T14:47:43.743Z"
   },
   {
    "duration": 275,
    "start_time": "2021-06-28T14:48:25.125Z"
   },
   {
    "duration": 6,
    "start_time": "2021-06-28T14:48:45.969Z"
   },
   {
    "duration": 8,
    "start_time": "2021-06-28T14:48:50.343Z"
   },
   {
    "duration": 322,
    "start_time": "2021-06-28T14:50:33.761Z"
   },
   {
    "duration": 8,
    "start_time": "2021-06-28T14:50:48.180Z"
   },
   {
    "duration": 649,
    "start_time": "2021-06-28T14:58:12.534Z"
   },
   {
    "duration": 1171,
    "start_time": "2021-06-28T14:58:29.579Z"
   },
   {
    "duration": 94,
    "start_time": "2021-06-28T14:59:24.427Z"
   },
   {
    "duration": 265,
    "start_time": "2021-06-28T14:59:46.012Z"
   },
   {
    "duration": 9,
    "start_time": "2021-06-28T15:00:05.281Z"
   },
   {
    "duration": 30,
    "start_time": "2021-06-28T15:10:18.643Z"
   },
   {
    "duration": 7,
    "start_time": "2021-06-28T15:10:19.335Z"
   },
   {
    "duration": 6,
    "start_time": "2021-06-28T15:10:20.227Z"
   },
   {
    "duration": 8,
    "start_time": "2021-06-28T15:10:22.253Z"
   },
   {
    "duration": 30,
    "start_time": "2021-06-28T15:13:59.855Z"
   },
   {
    "duration": 6,
    "start_time": "2021-06-28T15:14:23.263Z"
   },
   {
    "duration": 8,
    "start_time": "2021-06-28T15:21:29.995Z"
   },
   {
    "duration": 7,
    "start_time": "2021-06-28T15:22:12.844Z"
   },
   {
    "duration": 7,
    "start_time": "2021-06-28T15:22:42.107Z"
   },
   {
    "duration": 26,
    "start_time": "2021-06-28T15:30:05.881Z"
   },
   {
    "duration": 34,
    "start_time": "2021-06-28T15:32:57.654Z"
   },
   {
    "duration": 6535,
    "start_time": "2021-06-28T15:33:40.008Z"
   },
   {
    "duration": 15,
    "start_time": "2021-06-28T15:34:48.555Z"
   },
   {
    "duration": 24,
    "start_time": "2021-06-28T15:35:21.886Z"
   },
   {
    "duration": 261,
    "start_time": "2021-06-28T15:35:50.686Z"
   },
   {
    "duration": 26,
    "start_time": "2021-06-28T15:35:58.792Z"
   },
   {
    "duration": 6,
    "start_time": "2021-06-28T15:36:01.154Z"
   },
   {
    "duration": 1617,
    "start_time": "2021-06-29T10:37:17.221Z"
   },
   {
    "duration": 56,
    "start_time": "2021-06-29T10:37:18.840Z"
   },
   {
    "duration": 5,
    "start_time": "2021-06-29T10:37:18.898Z"
   },
   {
    "duration": 66,
    "start_time": "2021-06-29T10:37:18.907Z"
   },
   {
    "duration": 33,
    "start_time": "2021-06-29T10:37:18.976Z"
   },
   {
    "duration": 91,
    "start_time": "2021-06-29T10:37:19.012Z"
   },
   {
    "duration": 272,
    "start_time": "2021-06-29T10:37:19.105Z"
   },
   {
    "duration": 17,
    "start_time": "2021-06-29T10:37:19.381Z"
   },
   {
    "duration": 23,
    "start_time": "2021-06-29T10:37:19.401Z"
   },
   {
    "duration": 40,
    "start_time": "2021-06-29T10:37:19.426Z"
   },
   {
    "duration": 195,
    "start_time": "2021-06-29T10:37:19.469Z"
   },
   {
    "duration": 234,
    "start_time": "2021-06-29T10:37:19.666Z"
   },
   {
    "duration": 19,
    "start_time": "2021-06-29T10:37:19.903Z"
   },
   {
    "duration": 37,
    "start_time": "2021-06-29T10:37:19.925Z"
   },
   {
    "duration": 4246,
    "start_time": "2021-06-29T10:37:19.964Z"
   },
   {
    "duration": 1359,
    "start_time": "2021-06-29T10:37:24.213Z"
   },
   {
    "duration": 21,
    "start_time": "2021-06-29T10:37:25.575Z"
   },
   {
    "duration": 15,
    "start_time": "2021-06-29T10:37:25.598Z"
   },
   {
    "duration": 377,
    "start_time": "2021-06-29T10:37:25.615Z"
   },
   {
    "duration": 10,
    "start_time": "2021-06-29T10:37:25.995Z"
   },
   {
    "duration": 12,
    "start_time": "2021-06-29T10:37:26.008Z"
   },
   {
    "duration": 236799,
    "start_time": "2021-06-29T10:37:26.022Z"
   },
   {
    "duration": 1583,
    "start_time": "2021-06-29T10:41:22.826Z"
   },
   {
    "duration": 8340,
    "start_time": "2021-06-29T10:41:24.412Z"
   },
   {
    "duration": 28,
    "start_time": "2021-06-29T10:41:32.762Z"
   },
   {
    "duration": 31,
    "start_time": "2021-06-29T10:41:32.792Z"
   },
   {
    "duration": 6,
    "start_time": "2021-06-29T10:41:32.825Z"
   },
   {
    "duration": 35,
    "start_time": "2021-06-29T10:41:32.833Z"
   },
   {
    "duration": 9,
    "start_time": "2021-06-29T10:41:32.870Z"
   },
   {
    "duration": 34,
    "start_time": "2021-06-29T10:41:32.881Z"
   },
   {
    "duration": 62,
    "start_time": "2021-06-29T10:41:32.918Z"
   },
   {
    "duration": 6,
    "start_time": "2021-06-29T10:41:32.982Z"
   },
   {
    "duration": 7,
    "start_time": "2021-06-29T10:41:32.990Z"
   },
   {
    "duration": 8,
    "start_time": "2021-06-29T10:41:32.999Z"
   },
   {
    "duration": 52,
    "start_time": "2021-06-29T10:41:33.010Z"
   },
   {
    "duration": 26,
    "start_time": "2021-06-29T10:41:33.064Z"
   },
   {
    "duration": 13,
    "start_time": "2021-06-29T10:42:02.906Z"
   },
   {
    "duration": 113,
    "start_time": "2021-06-29T10:43:50.073Z"
   },
   {
    "duration": 11,
    "start_time": "2021-06-29T10:46:52.506Z"
   },
   {
    "duration": 39,
    "start_time": "2021-06-29T10:47:09.718Z"
   },
   {
    "duration": 36,
    "start_time": "2021-06-29T10:47:47.395Z"
   },
   {
    "duration": 12,
    "start_time": "2021-06-29T10:47:50.474Z"
   },
   {
    "duration": 11,
    "start_time": "2021-06-29T10:48:19.598Z"
   },
   {
    "duration": 8,
    "start_time": "2021-06-29T10:48:36.167Z"
   },
   {
    "duration": 10,
    "start_time": "2021-06-29T10:49:43.029Z"
   },
   {
    "duration": 8,
    "start_time": "2021-06-29T10:50:01.370Z"
   },
   {
    "duration": 7,
    "start_time": "2021-06-29T10:50:11.180Z"
   },
   {
    "duration": 7,
    "start_time": "2021-06-29T10:50:19.195Z"
   },
   {
    "duration": 6,
    "start_time": "2021-06-29T10:50:22.166Z"
   },
   {
    "duration": 6,
    "start_time": "2021-06-29T10:50:41.257Z"
   },
   {
    "duration": 11,
    "start_time": "2021-06-29T10:51:26.414Z"
   },
   {
    "duration": 10,
    "start_time": "2021-06-29T10:51:57.127Z"
   },
   {
    "duration": 6,
    "start_time": "2021-06-29T10:52:15.575Z"
   },
   {
    "duration": 7,
    "start_time": "2021-06-29T10:52:25.611Z"
   },
   {
    "duration": 8,
    "start_time": "2021-06-29T10:55:04.035Z"
   },
   {
    "duration": 7,
    "start_time": "2021-06-29T10:55:16.869Z"
   },
   {
    "duration": 7,
    "start_time": "2021-06-29T10:55:40.911Z"
   },
   {
    "duration": 7,
    "start_time": "2021-06-29T10:56:40.986Z"
   },
   {
    "duration": 6,
    "start_time": "2021-06-29T10:56:43.963Z"
   },
   {
    "duration": 9,
    "start_time": "2021-06-29T10:56:54.696Z"
   },
   {
    "duration": 7,
    "start_time": "2021-06-29T11:11:38.656Z"
   },
   {
    "duration": 7,
    "start_time": "2021-06-29T11:11:43.041Z"
   },
   {
    "duration": 6,
    "start_time": "2021-06-29T11:12:06.998Z"
   },
   {
    "duration": 470,
    "start_time": "2021-06-29T11:12:59.459Z"
   },
   {
    "duration": 12,
    "start_time": "2021-06-29T11:13:06.853Z"
   },
   {
    "duration": 7,
    "start_time": "2021-06-29T11:13:11.790Z"
   },
   {
    "duration": 8,
    "start_time": "2021-06-29T11:16:48.326Z"
   },
   {
    "duration": 500,
    "start_time": "2021-06-29T11:17:07.655Z"
   },
   {
    "duration": 6,
    "start_time": "2021-06-29T11:20:25.193Z"
   },
   {
    "duration": 7,
    "start_time": "2021-06-29T11:21:08.035Z"
   },
   {
    "duration": 6,
    "start_time": "2021-06-29T11:27:03.973Z"
   },
   {
    "duration": 6,
    "start_time": "2021-06-29T11:27:07.409Z"
   },
   {
    "duration": 7,
    "start_time": "2021-06-29T11:27:10.498Z"
   },
   {
    "duration": 11,
    "start_time": "2021-06-29T11:37:58.847Z"
   },
   {
    "duration": 7,
    "start_time": "2021-06-29T11:38:16.081Z"
   },
   {
    "duration": 7,
    "start_time": "2021-06-29T11:38:28.938Z"
   },
   {
    "duration": 7,
    "start_time": "2021-06-29T11:38:46.855Z"
   },
   {
    "duration": 1619,
    "start_time": "2021-06-29T11:38:54.963Z"
   },
   {
    "duration": 58,
    "start_time": "2021-06-29T11:38:56.585Z"
   },
   {
    "duration": 16,
    "start_time": "2021-06-29T11:38:56.646Z"
   },
   {
    "duration": 57,
    "start_time": "2021-06-29T11:38:56.665Z"
   },
   {
    "duration": 62,
    "start_time": "2021-06-29T11:38:56.724Z"
   },
   {
    "duration": 74,
    "start_time": "2021-06-29T11:38:56.789Z"
   },
   {
    "duration": 272,
    "start_time": "2021-06-29T11:38:56.866Z"
   },
   {
    "duration": 33,
    "start_time": "2021-06-29T11:38:57.142Z"
   },
   {
    "duration": 25,
    "start_time": "2021-06-29T11:38:57.178Z"
   },
   {
    "duration": 18,
    "start_time": "2021-06-29T11:38:57.206Z"
   },
   {
    "duration": 211,
    "start_time": "2021-06-29T11:38:57.227Z"
   },
   {
    "duration": 310,
    "start_time": "2021-06-29T11:38:57.441Z"
   },
   {
    "duration": 30,
    "start_time": "2021-06-29T11:38:57.762Z"
   },
   {
    "duration": 17,
    "start_time": "2021-06-29T11:38:57.795Z"
   },
   {
    "duration": 4483,
    "start_time": "2021-06-29T11:38:57.814Z"
   },
   {
    "duration": 1390,
    "start_time": "2021-06-29T11:39:02.299Z"
   },
   {
    "duration": 20,
    "start_time": "2021-06-29T11:39:03.692Z"
   },
   {
    "duration": 46,
    "start_time": "2021-06-29T11:39:03.715Z"
   },
   {
    "duration": 359,
    "start_time": "2021-06-29T11:39:03.764Z"
   },
   {
    "duration": 10,
    "start_time": "2021-06-29T11:39:04.125Z"
   },
   {
    "duration": 26,
    "start_time": "2021-06-29T11:39:04.138Z"
   },
   {
    "duration": 239094,
    "start_time": "2021-06-29T11:39:04.167Z"
   },
   {
    "duration": 1747,
    "start_time": "2021-06-29T11:43:03.266Z"
   },
   {
    "duration": 8760,
    "start_time": "2021-06-29T11:43:05.015Z"
   },
   {
    "duration": 28,
    "start_time": "2021-06-29T11:43:13.778Z"
   },
   {
    "duration": 13,
    "start_time": "2021-06-29T11:43:13.808Z"
   },
   {
    "duration": 7,
    "start_time": "2021-06-29T11:43:13.823Z"
   },
   {
    "duration": 7,
    "start_time": "2021-06-29T11:43:13.863Z"
   },
   {
    "duration": 11,
    "start_time": "2021-06-29T11:43:13.872Z"
   },
   {
    "duration": 10,
    "start_time": "2021-06-29T11:43:13.886Z"
   },
   {
    "duration": 10,
    "start_time": "2021-06-29T11:43:13.899Z"
   },
   {
    "duration": 52,
    "start_time": "2021-06-29T11:43:13.912Z"
   },
   {
    "duration": 6,
    "start_time": "2021-06-29T11:43:13.967Z"
   },
   {
    "duration": 21,
    "start_time": "2021-06-29T11:43:13.975Z"
   },
   {
    "duration": 10,
    "start_time": "2021-06-29T11:43:13.998Z"
   },
   {
    "duration": 22,
    "start_time": "2021-06-29T11:43:14.011Z"
   },
   {
    "duration": 26,
    "start_time": "2021-06-29T11:43:14.036Z"
   },
   {
    "duration": 518,
    "start_time": "2021-06-29T11:43:14.066Z"
   },
   {
    "duration": 498,
    "start_time": "2021-06-29T11:44:40.473Z"
   },
   {
    "duration": 1234,
    "start_time": "2021-06-29T11:45:51.246Z"
   },
   {
    "duration": 17,
    "start_time": "2021-06-29T11:46:47.876Z"
   },
   {
    "duration": 7,
    "start_time": "2021-06-29T11:48:42.795Z"
   },
   {
    "duration": 10,
    "start_time": "2021-06-29T11:54:31.334Z"
   },
   {
    "duration": 7,
    "start_time": "2021-06-29T11:54:32.153Z"
   },
   {
    "duration": 7,
    "start_time": "2021-06-29T11:54:33.347Z"
   },
   {
    "duration": 7,
    "start_time": "2021-06-29T11:54:37.211Z"
   },
   {
    "duration": 10,
    "start_time": "2021-06-29T11:54:39.959Z"
   },
   {
    "duration": 12,
    "start_time": "2021-06-29T11:56:25.162Z"
   },
   {
    "duration": 7,
    "start_time": "2021-06-29T11:56:25.730Z"
   },
   {
    "duration": 7,
    "start_time": "2021-06-29T11:56:26.347Z"
   },
   {
    "duration": 6,
    "start_time": "2021-06-29T11:56:26.936Z"
   },
   {
    "duration": 7,
    "start_time": "2021-06-29T11:56:27.847Z"
   },
   {
    "duration": 8,
    "start_time": "2021-06-29T12:05:32.747Z"
   },
   {
    "duration": 9,
    "start_time": "2021-06-29T12:05:40.593Z"
   },
   {
    "duration": 10,
    "start_time": "2021-06-29T12:12:00.843Z"
   },
   {
    "duration": 6,
    "start_time": "2021-06-29T12:13:47.093Z"
   },
   {
    "duration": 7,
    "start_time": "2021-06-29T12:14:14.756Z"
   },
   {
    "duration": 322,
    "start_time": "2021-06-29T12:14:15.517Z"
   },
   {
    "duration": 678,
    "start_time": "2021-06-29T12:14:26.238Z"
   },
   {
    "duration": 7,
    "start_time": "2021-06-29T12:14:37.634Z"
   },
   {
    "duration": 4958,
    "start_time": "2021-06-29T12:14:38.169Z"
   },
   {
    "duration": 13,
    "start_time": "2021-06-29T12:18:54.645Z"
   },
   {
    "duration": 9,
    "start_time": "2021-06-29T12:19:00.283Z"
   },
   {
    "duration": 9,
    "start_time": "2021-06-29T12:19:20.272Z"
   },
   {
    "duration": 8,
    "start_time": "2021-06-29T12:19:31.949Z"
   },
   {
    "duration": 174,
    "start_time": "2021-06-29T12:26:28.693Z"
   },
   {
    "duration": 169,
    "start_time": "2021-06-29T12:27:47.996Z"
   },
   {
    "duration": 178,
    "start_time": "2021-06-29T12:27:59.699Z"
   },
   {
    "duration": 386,
    "start_time": "2021-06-29T12:35:45.965Z"
   },
   {
    "duration": 313,
    "start_time": "2021-06-29T12:35:58.898Z"
   },
   {
    "duration": 350,
    "start_time": "2021-06-29T12:36:29.647Z"
   },
   {
    "duration": 378,
    "start_time": "2021-06-29T12:36:40.377Z"
   },
   {
    "duration": 1379,
    "start_time": "2021-06-29T12:37:16.732Z"
   },
   {
    "duration": 298,
    "start_time": "2021-06-29T12:38:03.657Z"
   },
   {
    "duration": 1903,
    "start_time": "2021-06-30T03:24:44.766Z"
   },
   {
    "duration": 58,
    "start_time": "2021-06-30T03:24:46.671Z"
   },
   {
    "duration": 5,
    "start_time": "2021-06-30T03:24:46.732Z"
   },
   {
    "duration": 51,
    "start_time": "2021-06-30T03:24:46.740Z"
   },
   {
    "duration": 59,
    "start_time": "2021-06-30T03:24:46.793Z"
   },
   {
    "duration": 84,
    "start_time": "2021-06-30T03:24:46.854Z"
   },
   {
    "duration": 24,
    "start_time": "2021-06-30T03:24:46.940Z"
   },
   {
    "duration": 395,
    "start_time": "2021-06-30T03:24:46.968Z"
   },
   {
    "duration": 19,
    "start_time": "2021-06-30T03:24:47.366Z"
   },
   {
    "duration": 53,
    "start_time": "2021-06-30T03:24:47.387Z"
   },
   {
    "duration": 24,
    "start_time": "2021-06-30T03:24:47.442Z"
   },
   {
    "duration": 199,
    "start_time": "2021-06-30T03:24:47.468Z"
   },
   {
    "duration": 4302,
    "start_time": "2021-06-30T03:24:47.670Z"
   },
   {
    "duration": 1321,
    "start_time": "2021-06-30T03:24:51.974Z"
   },
   {
    "duration": 40,
    "start_time": "2021-06-30T03:24:53.298Z"
   },
   {
    "duration": 16,
    "start_time": "2021-06-30T03:24:53.340Z"
   },
   {
    "duration": 309,
    "start_time": "2021-06-30T03:24:53.359Z"
   },
   {
    "duration": 10,
    "start_time": "2021-06-30T03:24:53.670Z"
   },
   {
    "duration": 13,
    "start_time": "2021-06-30T03:24:53.682Z"
   },
   {
    "duration": 222230,
    "start_time": "2021-06-30T03:24:53.698Z"
   },
   {
    "duration": 1541,
    "start_time": "2021-06-30T03:28:35.931Z"
   },
   {
    "duration": 9072,
    "start_time": "2021-06-30T03:28:37.474Z"
   },
   {
    "duration": 28,
    "start_time": "2021-06-30T03:28:46.550Z"
   },
   {
    "duration": 48,
    "start_time": "2021-06-30T03:28:46.581Z"
   },
   {
    "duration": 6,
    "start_time": "2021-06-30T03:28:46.631Z"
   },
   {
    "duration": 8,
    "start_time": "2021-06-30T03:28:46.639Z"
   },
   {
    "duration": 8,
    "start_time": "2021-06-30T03:28:46.650Z"
   },
   {
    "duration": 11,
    "start_time": "2021-06-30T03:28:46.660Z"
   },
   {
    "duration": 56,
    "start_time": "2021-06-30T03:28:46.673Z"
   },
   {
    "duration": 10,
    "start_time": "2021-06-30T03:28:46.732Z"
   },
   {
    "duration": 7,
    "start_time": "2021-06-30T03:28:46.745Z"
   },
   {
    "duration": 312,
    "start_time": "2021-06-30T03:28:46.755Z"
   },
   {
    "duration": 237,
    "start_time": "2021-06-30T03:30:36.538Z"
   },
   {
    "duration": 21,
    "start_time": "2021-06-30T03:30:56.433Z"
   },
   {
    "duration": 1556,
    "start_time": "2021-06-30T09:33:05.277Z"
   },
   {
    "duration": 59,
    "start_time": "2021-06-30T09:33:06.835Z"
   },
   {
    "duration": 5,
    "start_time": "2021-06-30T09:33:06.896Z"
   },
   {
    "duration": 72,
    "start_time": "2021-06-30T09:33:06.904Z"
   },
   {
    "duration": 34,
    "start_time": "2021-06-30T09:33:06.979Z"
   },
   {
    "duration": 90,
    "start_time": "2021-06-30T09:33:07.017Z"
   },
   {
    "duration": 22,
    "start_time": "2021-06-30T09:33:07.110Z"
   },
   {
    "duration": 396,
    "start_time": "2021-06-30T09:33:07.136Z"
   },
   {
    "duration": 31,
    "start_time": "2021-06-30T09:33:07.535Z"
   },
   {
    "duration": 25,
    "start_time": "2021-06-30T09:33:07.568Z"
   },
   {
    "duration": 15,
    "start_time": "2021-06-30T09:33:07.595Z"
   },
   {
    "duration": 211,
    "start_time": "2021-06-30T09:33:07.612Z"
   },
   {
    "duration": 4239,
    "start_time": "2021-06-30T09:33:07.826Z"
   },
   {
    "duration": 1326,
    "start_time": "2021-06-30T09:33:12.067Z"
   },
   {
    "duration": 20,
    "start_time": "2021-06-30T09:33:13.395Z"
   },
   {
    "duration": 45,
    "start_time": "2021-06-30T09:33:13.418Z"
   },
   {
    "duration": 363,
    "start_time": "2021-06-30T09:33:13.466Z"
   },
   {
    "duration": 16,
    "start_time": "2021-06-30T09:33:13.833Z"
   },
   {
    "duration": 9,
    "start_time": "2021-06-30T09:33:13.863Z"
   },
   {
    "duration": 232319,
    "start_time": "2021-06-30T09:33:13.875Z"
   },
   {
    "duration": 1213,
    "start_time": "2021-06-30T09:37:06.198Z"
   },
   {
    "duration": 8827,
    "start_time": "2021-06-30T09:37:07.414Z"
   },
   {
    "duration": 39,
    "start_time": "2021-06-30T09:37:16.248Z"
   },
   {
    "duration": 14,
    "start_time": "2021-06-30T09:37:16.289Z"
   },
   {
    "duration": 6,
    "start_time": "2021-06-30T09:37:16.305Z"
   },
   {
    "duration": 6,
    "start_time": "2021-06-30T09:37:16.314Z"
   },
   {
    "duration": 44,
    "start_time": "2021-06-30T09:37:16.322Z"
   },
   {
    "duration": 12,
    "start_time": "2021-06-30T09:37:16.369Z"
   },
   {
    "duration": 9,
    "start_time": "2021-06-30T09:37:16.383Z"
   },
   {
    "duration": 15,
    "start_time": "2021-06-30T09:37:16.394Z"
   },
   {
    "duration": 51,
    "start_time": "2021-06-30T09:37:16.411Z"
   },
   {
    "duration": 1582,
    "start_time": "2021-06-30T14:32:14.548Z"
   },
   {
    "duration": 56,
    "start_time": "2021-06-30T14:32:16.133Z"
   },
   {
    "duration": 6,
    "start_time": "2021-06-30T14:32:16.191Z"
   },
   {
    "duration": 70,
    "start_time": "2021-06-30T14:32:16.199Z"
   },
   {
    "duration": 32,
    "start_time": "2021-06-30T14:32:16.271Z"
   },
   {
    "duration": 91,
    "start_time": "2021-06-30T14:32:16.305Z"
   },
   {
    "duration": 21,
    "start_time": "2021-06-30T14:32:16.398Z"
   },
   {
    "duration": 565,
    "start_time": "2021-06-30T14:32:16.423Z"
   },
   {
    "duration": 26,
    "start_time": "2021-06-30T14:32:16.992Z"
   },
   {
    "duration": 57,
    "start_time": "2021-06-30T14:32:17.021Z"
   },
   {
    "duration": 23,
    "start_time": "2021-06-30T14:32:17.081Z"
   },
   {
    "duration": 254,
    "start_time": "2021-06-30T14:32:17.107Z"
   },
   {
    "duration": 6663,
    "start_time": "2021-06-30T14:32:17.364Z"
   },
   {
    "duration": 1862,
    "start_time": "2021-06-30T14:32:24.030Z"
   },
   {
    "duration": 21,
    "start_time": "2021-06-30T14:32:25.895Z"
   },
   {
    "duration": 14,
    "start_time": "2021-06-30T14:32:25.918Z"
   },
   {
    "duration": 271,
    "start_time": "2021-06-30T14:32:25.962Z"
   },
   {
    "duration": 10,
    "start_time": "2021-06-30T14:32:26.235Z"
   },
   {
    "duration": 23,
    "start_time": "2021-06-30T14:32:26.249Z"
   },
   {
    "duration": 226328,
    "start_time": "2021-06-30T14:32:26.275Z"
   },
   {
    "duration": 1602,
    "start_time": "2021-06-30T14:36:12.607Z"
   },
   {
    "duration": 9234,
    "start_time": "2021-06-30T14:36:14.212Z"
   },
   {
    "duration": 29,
    "start_time": "2021-06-30T14:36:23.463Z"
   },
   {
    "duration": 13,
    "start_time": "2021-06-30T14:36:23.495Z"
   },
   {
    "duration": 6,
    "start_time": "2021-06-30T14:36:23.510Z"
   },
   {
    "duration": 44,
    "start_time": "2021-06-30T14:36:23.518Z"
   },
   {
    "duration": 7,
    "start_time": "2021-06-30T14:36:23.565Z"
   },
   {
    "duration": 10,
    "start_time": "2021-06-30T14:36:23.575Z"
   },
   {
    "duration": 9,
    "start_time": "2021-06-30T14:36:23.588Z"
   },
   {
    "duration": 13,
    "start_time": "2021-06-30T14:36:23.599Z"
   },
   {
    "duration": 49,
    "start_time": "2021-06-30T14:36:23.615Z"
   },
   {
    "duration": 1522,
    "start_time": "2021-06-30T16:16:55.415Z"
   },
   {
    "duration": 60,
    "start_time": "2021-06-30T16:16:56.940Z"
   },
   {
    "duration": 5,
    "start_time": "2021-06-30T16:16:57.005Z"
   },
   {
    "duration": 69,
    "start_time": "2021-06-30T16:16:57.014Z"
   },
   {
    "duration": 33,
    "start_time": "2021-06-30T16:16:57.085Z"
   },
   {
    "duration": 91,
    "start_time": "2021-06-30T16:16:57.120Z"
   },
   {
    "duration": 21,
    "start_time": "2021-06-30T16:16:57.213Z"
   },
   {
    "duration": 384,
    "start_time": "2021-06-30T16:16:57.237Z"
   },
   {
    "duration": 18,
    "start_time": "2021-06-30T16:16:57.624Z"
   },
   {
    "duration": 38,
    "start_time": "2021-06-30T16:16:57.644Z"
   },
   {
    "duration": 15,
    "start_time": "2021-06-30T16:16:57.685Z"
   },
   {
    "duration": 202,
    "start_time": "2021-06-30T16:16:57.703Z"
   },
   {
    "duration": 6449,
    "start_time": "2021-06-30T16:16:57.908Z"
   },
   {
    "duration": 1882,
    "start_time": "2021-06-30T16:17:04.361Z"
   },
   {
    "duration": 37,
    "start_time": "2021-06-30T16:17:06.246Z"
   },
   {
    "duration": 20,
    "start_time": "2021-06-30T16:17:06.286Z"
   },
   {
    "duration": 273,
    "start_time": "2021-06-30T16:17:06.309Z"
   },
   {
    "duration": 10,
    "start_time": "2021-06-30T16:17:06.584Z"
   },
   {
    "duration": 13,
    "start_time": "2021-06-30T16:17:06.597Z"
   },
   {
    "duration": 227076,
    "start_time": "2021-06-30T16:17:06.612Z"
   },
   {
    "duration": 1306,
    "start_time": "2021-06-30T16:20:53.690Z"
   },
   {
    "duration": 8914,
    "start_time": "2021-06-30T16:20:54.998Z"
   },
   {
    "duration": 11,
    "start_time": "2021-06-30T16:21:03.917Z"
   },
   {
    "duration": 9,
    "start_time": "2021-06-30T16:21:03.931Z"
   },
   {
    "duration": 7,
    "start_time": "2021-06-30T16:21:03.961Z"
   },
   {
    "duration": 12,
    "start_time": "2021-06-30T16:21:03.971Z"
   },
   {
    "duration": 19,
    "start_time": "2021-06-30T16:21:03.986Z"
   },
   {
    "duration": 13,
    "start_time": "2021-06-30T16:21:04.007Z"
   },
   {
    "duration": 17,
    "start_time": "2021-06-30T16:21:04.023Z"
   },
   {
    "duration": 24,
    "start_time": "2021-06-30T16:21:04.043Z"
   },
   {
    "duration": 1568,
    "start_time": "2021-07-01T11:20:00.340Z"
   },
   {
    "duration": 60,
    "start_time": "2021-07-01T11:20:01.910Z"
   },
   {
    "duration": 86,
    "start_time": "2021-07-01T11:20:25.937Z"
   },
   {
    "duration": 6,
    "start_time": "2021-07-01T12:49:51.851Z"
   },
   {
    "duration": 49,
    "start_time": "2021-07-01T12:49:52.425Z"
   },
   {
    "duration": 37,
    "start_time": "2021-07-01T12:49:53.277Z"
   },
   {
    "duration": 82,
    "start_time": "2021-07-01T14:29:43.451Z"
   },
   {
    "duration": 92,
    "start_time": "2021-07-01T14:42:17.856Z"
   },
   {
    "duration": 79,
    "start_time": "2021-07-01T14:44:42.659Z"
   },
   {
    "duration": 97,
    "start_time": "2021-07-01T14:45:20.583Z"
   },
   {
    "duration": 84,
    "start_time": "2021-07-01T14:45:53.619Z"
   },
   {
    "duration": 84,
    "start_time": "2021-07-01T14:47:39.939Z"
   },
   {
    "duration": 110,
    "start_time": "2021-07-01T14:48:25.808Z"
   },
   {
    "duration": 95,
    "start_time": "2021-07-01T14:50:14.687Z"
   },
   {
    "duration": 87,
    "start_time": "2021-07-01T14:51:22.196Z"
   },
   {
    "duration": 89,
    "start_time": "2021-07-01T14:52:00.298Z"
   },
   {
    "duration": 94,
    "start_time": "2021-07-01T14:54:52.264Z"
   },
   {
    "duration": 85,
    "start_time": "2021-07-01T14:58:45.836Z"
   },
   {
    "duration": 89,
    "start_time": "2021-07-01T14:59:56.294Z"
   },
   {
    "duration": 1525,
    "start_time": "2021-07-01T18:15:10.605Z"
   },
   {
    "duration": 59,
    "start_time": "2021-07-01T18:15:12.133Z"
   },
   {
    "duration": 5,
    "start_time": "2021-07-01T18:15:12.195Z"
   },
   {
    "duration": 63,
    "start_time": "2021-07-01T18:15:12.203Z"
   },
   {
    "duration": 31,
    "start_time": "2021-07-01T18:15:12.269Z"
   },
   {
    "duration": 84,
    "start_time": "2021-07-01T18:15:12.303Z"
   },
   {
    "duration": 17,
    "start_time": "2021-07-01T18:15:12.390Z"
   },
   {
    "duration": 392,
    "start_time": "2021-07-01T18:15:12.410Z"
   },
   {
    "duration": 19,
    "start_time": "2021-07-01T18:15:12.806Z"
   },
   {
    "duration": 48,
    "start_time": "2021-07-01T18:15:12.828Z"
   },
   {
    "duration": 17,
    "start_time": "2021-07-01T18:15:12.878Z"
   },
   {
    "duration": 207,
    "start_time": "2021-07-01T18:15:12.898Z"
   },
   {
    "duration": 4291,
    "start_time": "2021-07-01T18:15:13.107Z"
   },
   {
    "duration": 1433,
    "start_time": "2021-07-01T18:15:17.402Z"
   },
   {
    "duration": 34,
    "start_time": "2021-07-01T18:15:18.838Z"
   },
   {
    "duration": 27,
    "start_time": "2021-07-01T18:15:18.875Z"
   },
   {
    "duration": 274,
    "start_time": "2021-07-01T18:15:18.905Z"
   },
   {
    "duration": 12,
    "start_time": "2021-07-01T18:15:19.181Z"
   },
   {
    "duration": 24,
    "start_time": "2021-07-01T18:15:19.196Z"
   },
   {
    "duration": 224516,
    "start_time": "2021-07-01T18:15:19.223Z"
   },
   {
    "duration": 1656,
    "start_time": "2021-07-01T18:19:03.741Z"
   },
   {
    "duration": 8801,
    "start_time": "2021-07-01T18:19:05.400Z"
   },
   {
    "duration": 11,
    "start_time": "2021-07-01T18:19:14.203Z"
   },
   {
    "duration": 8,
    "start_time": "2021-07-01T18:19:14.217Z"
   },
   {
    "duration": 29,
    "start_time": "2021-07-01T18:19:14.227Z"
   },
   {
    "duration": 12,
    "start_time": "2021-07-01T18:19:14.258Z"
   },
   {
    "duration": 10,
    "start_time": "2021-07-01T18:19:14.275Z"
   },
   {
    "duration": 7,
    "start_time": "2021-07-01T18:19:14.288Z"
   },
   {
    "duration": 10,
    "start_time": "2021-07-01T18:19:14.297Z"
   },
   {
    "duration": 45,
    "start_time": "2021-07-01T18:19:14.310Z"
   },
   {
    "duration": 170,
    "start_time": "2021-07-01T18:21:13.331Z"
   },
   {
    "duration": 178,
    "start_time": "2021-07-01T18:21:44.593Z"
   },
   {
    "duration": 755,
    "start_time": "2021-07-01T18:23:25.737Z"
   },
   {
    "duration": 618,
    "start_time": "2021-07-01T18:23:44.569Z"
   },
   {
    "duration": 357,
    "start_time": "2021-07-01T18:23:55.347Z"
   },
   {
    "duration": 495,
    "start_time": "2021-07-01T18:24:22.396Z"
   },
   {
    "duration": 2137,
    "start_time": "2021-07-01T18:52:06.698Z"
   },
   {
    "duration": 1429,
    "start_time": "2021-07-01T18:57:49.291Z"
   },
   {
    "duration": 6708,
    "start_time": "2021-07-01T19:09:09.690Z"
   },
   {
    "duration": 1112,
    "start_time": "2021-07-01T19:09:45.610Z"
   },
   {
    "duration": 1036,
    "start_time": "2021-07-01T19:10:20.454Z"
   },
   {
    "duration": 1049,
    "start_time": "2021-07-01T19:10:30.787Z"
   },
   {
    "duration": 922,
    "start_time": "2021-07-01T19:10:55.932Z"
   },
   {
    "duration": 1003,
    "start_time": "2021-07-01T19:11:06.010Z"
   },
   {
    "duration": 1076,
    "start_time": "2021-07-01T19:11:23.373Z"
   },
   {
    "duration": 1028,
    "start_time": "2021-07-01T19:11:37.142Z"
   },
   {
    "duration": 1170,
    "start_time": "2021-07-01T19:11:49.271Z"
   },
   {
    "duration": 836,
    "start_time": "2021-07-01T19:11:57.019Z"
   },
   {
    "duration": 1044,
    "start_time": "2021-07-01T19:12:05.133Z"
   },
   {
    "duration": 1365,
    "start_time": "2021-07-01T19:13:05.205Z"
   },
   {
    "duration": 1513,
    "start_time": "2021-07-01T19:13:24.135Z"
   },
   {
    "duration": 1013,
    "start_time": "2021-07-01T19:13:50.528Z"
   },
   {
    "duration": 21,
    "start_time": "2021-07-01T19:16:57.694Z"
   },
   {
    "duration": 20,
    "start_time": "2021-07-01T19:17:25.824Z"
   },
   {
    "duration": 7,
    "start_time": "2021-07-01T19:21:31.044Z"
   },
   {
    "duration": 7,
    "start_time": "2021-07-01T19:22:00.257Z"
   },
   {
    "duration": 6,
    "start_time": "2021-07-01T19:22:38.684Z"
   },
   {
    "duration": 6,
    "start_time": "2021-07-01T19:22:56.785Z"
   },
   {
    "duration": 6,
    "start_time": "2021-07-01T19:23:37.837Z"
   },
   {
    "duration": 8,
    "start_time": "2021-07-01T19:26:09.856Z"
   },
   {
    "duration": 6,
    "start_time": "2021-07-01T19:26:10.356Z"
   },
   {
    "duration": 7,
    "start_time": "2021-07-01T19:26:10.882Z"
   },
   {
    "duration": 29,
    "start_time": "2021-07-01T19:44:56.574Z"
   },
   {
    "duration": 2951,
    "start_time": "2021-07-01T19:47:41.225Z"
   },
   {
    "duration": 2884,
    "start_time": "2021-07-01T19:49:15.113Z"
   },
   {
    "duration": 1036,
    "start_time": "2021-07-01T19:52:24.621Z"
   },
   {
    "duration": 1379,
    "start_time": "2021-07-01T19:53:19.543Z"
   },
   {
    "duration": 2376,
    "start_time": "2021-07-01T19:56:00.160Z"
   },
   {
    "duration": 281,
    "start_time": "2021-07-01T20:02:46.810Z"
   },
   {
    "duration": 293,
    "start_time": "2021-07-01T20:03:07.805Z"
   },
   {
    "duration": 24,
    "start_time": "2021-07-01T20:08:01.646Z"
   },
   {
    "duration": 267,
    "start_time": "2021-07-01T20:11:48.223Z"
   },
   {
    "duration": 1536,
    "start_time": "2021-07-01T20:14:54.396Z"
   },
   {
    "duration": 1647,
    "start_time": "2021-07-01T20:16:13.191Z"
   },
   {
    "duration": 58,
    "start_time": "2021-07-01T20:16:14.842Z"
   },
   {
    "duration": 5,
    "start_time": "2021-07-01T20:16:14.903Z"
   },
   {
    "duration": 56,
    "start_time": "2021-07-01T20:16:14.911Z"
   },
   {
    "duration": 32,
    "start_time": "2021-07-01T20:16:14.969Z"
   },
   {
    "duration": 69,
    "start_time": "2021-07-01T20:16:15.004Z"
   },
   {
    "duration": 20,
    "start_time": "2021-07-01T20:16:15.075Z"
   },
   {
    "duration": 405,
    "start_time": "2021-07-01T20:16:15.098Z"
   },
   {
    "duration": 21,
    "start_time": "2021-07-01T20:16:15.506Z"
   },
   {
    "duration": 34,
    "start_time": "2021-07-01T20:16:15.529Z"
   },
   {
    "duration": 16,
    "start_time": "2021-07-01T20:16:15.565Z"
   },
   {
    "duration": 191,
    "start_time": "2021-07-01T20:16:15.583Z"
   },
   {
    "duration": 1874,
    "start_time": "2021-07-01T20:16:15.777Z"
   },
   {
    "duration": 1237,
    "start_time": "2021-07-01T20:16:17.655Z"
   },
   {
    "duration": 1280,
    "start_time": "2021-07-01T20:16:18.894Z"
   },
   {
    "duration": 440,
    "start_time": "2021-07-01T20:16:20.176Z"
   },
   {
    "duration": 1577,
    "start_time": "2021-07-01T20:16:19.042Z"
   },
   {
    "duration": 1573,
    "start_time": "2021-07-01T20:16:19.047Z"
   },
   {
    "duration": 1569,
    "start_time": "2021-07-01T20:16:19.053Z"
   },
   {
    "duration": 1565,
    "start_time": "2021-07-01T20:16:19.058Z"
   },
   {
    "duration": 1561,
    "start_time": "2021-07-01T20:16:19.063Z"
   },
   {
    "duration": 1555,
    "start_time": "2021-07-01T20:16:19.071Z"
   },
   {
    "duration": 1551,
    "start_time": "2021-07-01T20:16:19.076Z"
   },
   {
    "duration": 1523,
    "start_time": "2021-07-01T20:16:19.105Z"
   },
   {
    "duration": 1519,
    "start_time": "2021-07-01T20:16:19.110Z"
   },
   {
    "duration": 1514,
    "start_time": "2021-07-01T20:16:19.117Z"
   },
   {
    "duration": 1511,
    "start_time": "2021-07-01T20:16:19.122Z"
   },
   {
    "duration": 1506,
    "start_time": "2021-07-01T20:16:19.128Z"
   },
   {
    "duration": 1502,
    "start_time": "2021-07-01T20:16:19.133Z"
   },
   {
    "duration": 1499,
    "start_time": "2021-07-01T20:16:19.137Z"
   },
   {
    "duration": 1496,
    "start_time": "2021-07-01T20:16:19.142Z"
   },
   {
    "duration": 1492,
    "start_time": "2021-07-01T20:16:19.147Z"
   },
   {
    "duration": 1489,
    "start_time": "2021-07-01T20:16:19.151Z"
   },
   {
    "duration": 1485,
    "start_time": "2021-07-01T20:16:19.156Z"
   },
   {
    "duration": 1483,
    "start_time": "2021-07-01T20:16:19.160Z"
   },
   {
    "duration": 21,
    "start_time": "2021-07-01T20:17:28.976Z"
   },
   {
    "duration": 1534,
    "start_time": "2021-07-01T20:17:42.913Z"
   },
   {
    "duration": 60,
    "start_time": "2021-07-01T20:17:44.449Z"
   },
   {
    "duration": 5,
    "start_time": "2021-07-01T20:17:44.512Z"
   },
   {
    "duration": 66,
    "start_time": "2021-07-01T20:17:44.519Z"
   },
   {
    "duration": 32,
    "start_time": "2021-07-01T20:17:44.588Z"
   },
   {
    "duration": 83,
    "start_time": "2021-07-01T20:17:44.623Z"
   },
   {
    "duration": 17,
    "start_time": "2021-07-01T20:17:44.708Z"
   },
   {
    "duration": 390,
    "start_time": "2021-07-01T20:17:44.728Z"
   },
   {
    "duration": 33,
    "start_time": "2021-07-01T20:17:45.121Z"
   },
   {
    "duration": 24,
    "start_time": "2021-07-01T20:17:45.156Z"
   },
   {
    "duration": 15,
    "start_time": "2021-07-01T20:17:45.182Z"
   },
   {
    "duration": 199,
    "start_time": "2021-07-01T20:17:45.200Z"
   },
   {
    "duration": 1811,
    "start_time": "2021-07-01T20:17:45.402Z"
   },
   {
    "duration": 1245,
    "start_time": "2021-07-01T20:17:47.215Z"
   },
   {
    "duration": 1188,
    "start_time": "2021-07-01T20:17:48.463Z"
   },
   {
    "duration": 22,
    "start_time": "2021-07-01T20:17:49.655Z"
   },
   {
    "duration": 15,
    "start_time": "2021-07-01T20:17:49.679Z"
   },
   {
    "duration": 266,
    "start_time": "2021-07-01T20:17:49.697Z"
   },
   {
    "duration": 10,
    "start_time": "2021-07-01T20:17:49.966Z"
   },
   {
    "duration": 30,
    "start_time": "2021-07-01T20:17:49.978Z"
   },
   {
    "duration": 2232,
    "start_time": "2021-07-01T20:17:50.010Z"
   },
   {
    "duration": 1554,
    "start_time": "2021-07-01T20:17:52.245Z"
   },
   {
    "duration": 1545,
    "start_time": "2021-07-01T20:19:10.539Z"
   },
   {
    "duration": 61,
    "start_time": "2021-07-01T20:19:13.088Z"
   },
   {
    "duration": 5,
    "start_time": "2021-07-01T20:19:18.706Z"
   },
   {
    "duration": 45,
    "start_time": "2021-07-01T20:19:19.714Z"
   },
   {
    "duration": 32,
    "start_time": "2021-07-01T20:19:23.860Z"
   },
   {
    "duration": 61,
    "start_time": "2021-07-01T20:19:28.944Z"
   },
   {
    "duration": 20,
    "start_time": "2021-07-01T20:19:39.330Z"
   },
   {
    "duration": 464,
    "start_time": "2021-07-01T20:19:40.592Z"
   },
   {
    "duration": 20,
    "start_time": "2021-07-01T20:19:44.661Z"
   },
   {
    "duration": 25,
    "start_time": "2021-07-01T20:19:47.311Z"
   },
   {
    "duration": 17,
    "start_time": "2021-07-01T20:19:52.527Z"
   },
   {
    "duration": 184,
    "start_time": "2021-07-01T20:19:53.648Z"
   },
   {
    "duration": 1778,
    "start_time": "2021-07-01T20:19:58.671Z"
   },
   {
    "duration": 1222,
    "start_time": "2021-07-01T20:20:06.995Z"
   },
   {
    "duration": 1177,
    "start_time": "2021-07-01T20:20:12.568Z"
   },
   {
    "duration": 21,
    "start_time": "2021-07-01T20:20:23.232Z"
   },
   {
    "duration": 18,
    "start_time": "2021-07-01T20:20:34.287Z"
   },
   {
    "duration": 231,
    "start_time": "2021-07-01T20:20:36.019Z"
   },
   {
    "duration": 11,
    "start_time": "2021-07-01T20:20:42.154Z"
   },
   {
    "duration": 10,
    "start_time": "2021-07-01T20:20:43.650Z"
   },
   {
    "duration": 2240,
    "start_time": "2021-07-01T20:20:52.067Z"
   },
   {
    "duration": 1584,
    "start_time": "2021-07-01T20:21:05.513Z"
   },
   {
    "duration": 27,
    "start_time": "2021-07-01T20:21:11.255Z"
   },
   {
    "duration": 248,
    "start_time": "2021-07-01T20:25:42.930Z"
   },
   {
    "duration": 30,
    "start_time": "2021-07-01T20:28:16.087Z"
   },
   {
    "duration": 218,
    "start_time": "2021-07-01T20:28:21.245Z"
   },
   {
    "duration": 430,
    "start_time": "2021-07-01T20:31:22.355Z"
   },
   {
    "duration": 2629,
    "start_time": "2021-07-01T20:31:35.244Z"
   },
   {
    "duration": 987,
    "start_time": "2021-07-01T20:32:11.343Z"
   },
   {
    "duration": 3522,
    "start_time": "2021-07-01T20:33:21.251Z"
   },
   {
    "duration": 8211,
    "start_time": "2021-07-01T20:34:05.862Z"
   },
   {
    "duration": 1988,
    "start_time": "2021-07-01T20:39:12.248Z"
   },
   {
    "duration": 269,
    "start_time": "2021-07-01T20:41:51.070Z"
   },
   {
    "duration": 2083,
    "start_time": "2021-07-01T20:42:11.982Z"
   },
   {
    "duration": 2006,
    "start_time": "2021-07-01T20:43:02.220Z"
   },
   {
    "duration": 3191,
    "start_time": "2021-07-01T20:43:21.747Z"
   },
   {
    "duration": 2457,
    "start_time": "2021-07-01T20:43:33.318Z"
   },
   {
    "duration": 2295,
    "start_time": "2021-07-01T20:43:58.867Z"
   },
   {
    "duration": 2475,
    "start_time": "2021-07-01T20:44:12.163Z"
   },
   {
    "duration": 2565,
    "start_time": "2021-07-01T20:45:38.149Z"
   },
   {
    "duration": 2594,
    "start_time": "2021-07-01T20:47:39.900Z"
   },
   {
    "duration": 844,
    "start_time": "2021-07-01T20:48:55.873Z"
   },
   {
    "duration": 2422,
    "start_time": "2021-07-01T20:52:02.884Z"
   },
   {
    "duration": 2521,
    "start_time": "2021-07-01T20:52:59.458Z"
   },
   {
    "duration": 3178,
    "start_time": "2021-07-01T20:54:06.908Z"
   },
   {
    "duration": 2500,
    "start_time": "2021-07-01T20:58:32.392Z"
   },
   {
    "duration": 93,
    "start_time": "2021-07-01T21:00:00.942Z"
   },
   {
    "duration": 1005,
    "start_time": "2021-07-01T21:00:08.199Z"
   },
   {
    "duration": 929,
    "start_time": "2021-07-01T21:00:48.407Z"
   },
   {
    "duration": 1549,
    "start_time": "2021-07-01T21:01:09.559Z"
   },
   {
    "duration": 61,
    "start_time": "2021-07-01T21:01:11.111Z"
   },
   {
    "duration": 5,
    "start_time": "2021-07-01T21:01:11.175Z"
   },
   {
    "duration": 67,
    "start_time": "2021-07-01T21:01:11.183Z"
   },
   {
    "duration": 38,
    "start_time": "2021-07-01T21:01:11.253Z"
   },
   {
    "duration": 84,
    "start_time": "2021-07-01T21:01:11.293Z"
   },
   {
    "duration": 16,
    "start_time": "2021-07-01T21:01:11.380Z"
   },
   {
    "duration": 394,
    "start_time": "2021-07-01T21:01:11.400Z"
   },
   {
    "duration": 20,
    "start_time": "2021-07-01T21:01:11.797Z"
   },
   {
    "duration": 45,
    "start_time": "2021-07-01T21:01:11.820Z"
   },
   {
    "duration": 15,
    "start_time": "2021-07-01T21:01:11.867Z"
   },
   {
    "duration": 191,
    "start_time": "2021-07-01T21:01:11.885Z"
   },
   {
    "duration": 1817,
    "start_time": "2021-07-01T21:01:12.079Z"
   },
   {
    "duration": 1276,
    "start_time": "2021-07-01T21:01:13.898Z"
   },
   {
    "duration": 1279,
    "start_time": "2021-07-01T21:01:15.176Z"
   },
   {
    "duration": 21,
    "start_time": "2021-07-01T21:01:16.458Z"
   },
   {
    "duration": 15,
    "start_time": "2021-07-01T21:01:16.482Z"
   },
   {
    "duration": 264,
    "start_time": "2021-07-01T21:01:16.499Z"
   },
   {
    "duration": 10,
    "start_time": "2021-07-01T21:01:16.766Z"
   },
   {
    "duration": 17,
    "start_time": "2021-07-01T21:01:16.779Z"
   },
   {
    "duration": 2276,
    "start_time": "2021-07-01T21:01:16.798Z"
   },
   {
    "duration": 1438,
    "start_time": "2021-07-01T21:01:19.077Z"
   },
   {
    "duration": 1599,
    "start_time": "2021-07-01T21:01:20.522Z"
   },
   {
    "duration": 1661,
    "start_time": "2021-07-01T21:01:20.464Z"
   },
   {
    "duration": 1655,
    "start_time": "2021-07-01T21:01:20.472Z"
   },
   {
    "duration": 1651,
    "start_time": "2021-07-01T21:01:20.477Z"
   },
   {
    "duration": 1649,
    "start_time": "2021-07-01T21:01:20.481Z"
   },
   {
    "duration": 1646,
    "start_time": "2021-07-01T21:01:20.486Z"
   },
   {
    "duration": 1643,
    "start_time": "2021-07-01T21:01:20.491Z"
   },
   {
    "duration": 1640,
    "start_time": "2021-07-01T21:01:20.496Z"
   },
   {
    "duration": 1653,
    "start_time": "2021-07-01T21:01:20.500Z"
   },
   {
    "duration": 1642,
    "start_time": "2021-07-01T21:01:20.513Z"
   },
   {
    "duration": 1637,
    "start_time": "2021-07-01T21:01:20.520Z"
   },
   {
    "duration": 1625,
    "start_time": "2021-07-01T21:01:20.534Z"
   },
   {
    "duration": 2510,
    "start_time": "2021-07-01T21:02:43.855Z"
   },
   {
    "duration": 268,
    "start_time": "2021-07-01T21:03:25.139Z"
   },
   {
    "duration": 2710,
    "start_time": "2021-07-01T21:03:37.771Z"
   },
   {
    "duration": 2537,
    "start_time": "2021-07-01T21:03:54.663Z"
   },
   {
    "duration": 2460,
    "start_time": "2021-07-01T21:06:05.405Z"
   },
   {
    "duration": 11,
    "start_time": "2021-07-01T21:07:24.952Z"
   },
   {
    "duration": 6,
    "start_time": "2021-07-01T21:07:25.634Z"
   },
   {
    "duration": 6,
    "start_time": "2021-07-01T21:07:26.486Z"
   },
   {
    "duration": 8,
    "start_time": "2021-07-01T21:07:28.160Z"
   },
   {
    "duration": 11,
    "start_time": "2021-07-01T21:07:33.838Z"
   },
   {
    "duration": 7,
    "start_time": "2021-07-01T21:07:34.350Z"
   },
   {
    "duration": 6,
    "start_time": "2021-07-01T21:08:27.672Z"
   },
   {
    "duration": 6,
    "start_time": "2021-07-01T21:08:28.563Z"
   },
   {
    "duration": 6,
    "start_time": "2021-07-01T21:08:30.173Z"
   },
   {
    "duration": 1545,
    "start_time": "2021-07-02T04:49:14.843Z"
   },
   {
    "duration": 60,
    "start_time": "2021-07-02T04:49:16.390Z"
   },
   {
    "duration": 5,
    "start_time": "2021-07-02T04:49:16.456Z"
   },
   {
    "duration": 53,
    "start_time": "2021-07-02T04:49:16.464Z"
   },
   {
    "duration": 49,
    "start_time": "2021-07-02T04:49:16.519Z"
   },
   {
    "duration": 56,
    "start_time": "2021-07-02T04:49:16.571Z"
   },
   {
    "duration": 32,
    "start_time": "2021-07-02T04:49:16.629Z"
   },
   {
    "duration": 376,
    "start_time": "2021-07-02T04:49:16.664Z"
   },
   {
    "duration": 24,
    "start_time": "2021-07-02T04:49:17.042Z"
   },
   {
    "duration": 23,
    "start_time": "2021-07-02T04:49:17.068Z"
   },
   {
    "duration": 15,
    "start_time": "2021-07-02T04:49:17.094Z"
   },
   {
    "duration": 215,
    "start_time": "2021-07-02T04:49:17.112Z"
   },
   {
    "duration": 1645,
    "start_time": "2021-07-02T04:49:17.330Z"
   },
   {
    "duration": 1168,
    "start_time": "2021-07-02T04:49:18.978Z"
   },
   {
    "duration": 1158,
    "start_time": "2021-07-02T04:49:20.148Z"
   },
   {
    "duration": 21,
    "start_time": "2021-07-02T04:49:21.308Z"
   },
   {
    "duration": 33,
    "start_time": "2021-07-02T04:49:21.331Z"
   },
   {
    "duration": 248,
    "start_time": "2021-07-02T04:49:21.367Z"
   },
   {
    "duration": 10,
    "start_time": "2021-07-02T04:49:21.617Z"
   },
   {
    "duration": 28,
    "start_time": "2021-07-02T04:49:21.630Z"
   },
   {
    "duration": 2152,
    "start_time": "2021-07-02T04:49:21.660Z"
   },
   {
    "duration": 1383,
    "start_time": "2021-07-02T04:49:23.814Z"
   },
   {
    "duration": 2733,
    "start_time": "2021-07-02T04:49:25.201Z"
   },
   {
    "duration": 20,
    "start_time": "2021-07-02T04:49:27.936Z"
   },
   {
    "duration": 16,
    "start_time": "2021-07-02T04:49:27.958Z"
   },
   {
    "duration": 6,
    "start_time": "2021-07-02T04:49:27.977Z"
   },
   {
    "duration": 9,
    "start_time": "2021-07-02T04:49:27.985Z"
   },
   {
    "duration": 10,
    "start_time": "2021-07-02T04:49:27.997Z"
   },
   {
    "duration": 7,
    "start_time": "2021-07-02T04:49:28.009Z"
   },
   {
    "duration": 6,
    "start_time": "2021-07-02T04:49:28.057Z"
   },
   {
    "duration": 8,
    "start_time": "2021-07-02T04:49:28.066Z"
   },
   {
    "duration": 9,
    "start_time": "2021-07-02T04:49:28.077Z"
   },
   {
    "duration": 12,
    "start_time": "2021-07-02T04:49:28.088Z"
   },
   {
    "duration": 53,
    "start_time": "2021-07-02T04:49:28.103Z"
   },
   {
    "duration": 1959,
    "start_time": "2021-07-02T04:49:55.499Z"
   },
   {
    "duration": 432,
    "start_time": "2021-07-02T05:29:19.517Z"
   },
   {
    "duration": 7,
    "start_time": "2021-07-02T05:40:57.083Z"
   },
   {
    "duration": 11,
    "start_time": "2021-07-02T05:46:18.849Z"
   },
   {
    "duration": 585,
    "start_time": "2021-07-02T05:47:11.176Z"
   },
   {
    "duration": 88,
    "start_time": "2021-07-02T06:01:28.746Z"
   },
   {
    "duration": 4451,
    "start_time": "2021-07-02T06:01:47.387Z"
   },
   {
    "duration": 5,
    "start_time": "2021-07-02T06:05:34.990Z"
   },
   {
    "duration": 6,
    "start_time": "2021-07-02T06:06:00.233Z"
   },
   {
    "duration": 284,
    "start_time": "2021-07-02T06:09:08.438Z"
   },
   {
    "duration": 15,
    "start_time": "2021-07-02T06:09:23.541Z"
   },
   {
    "duration": 8,
    "start_time": "2021-07-02T06:34:30.906Z"
   },
   {
    "duration": 6,
    "start_time": "2021-07-02T06:34:49.438Z"
   },
   {
    "duration": 32,
    "start_time": "2021-07-02T06:44:07.329Z"
   },
   {
    "duration": 10,
    "start_time": "2021-07-02T06:44:34.504Z"
   },
   {
    "duration": 9,
    "start_time": "2021-07-02T06:45:19.845Z"
   },
   {
    "duration": 10,
    "start_time": "2021-07-02T06:47:30.952Z"
   },
   {
    "duration": 377,
    "start_time": "2021-07-02T06:48:00.559Z"
   },
   {
    "duration": 271,
    "start_time": "2021-07-02T06:49:50.442Z"
   },
   {
    "duration": 10,
    "start_time": "2021-07-02T06:50:11.240Z"
   },
   {
    "duration": 11,
    "start_time": "2021-07-02T06:50:26.070Z"
   },
   {
    "duration": 23,
    "start_time": "2021-07-02T06:51:24.956Z"
   },
   {
    "duration": 25,
    "start_time": "2021-07-02T06:52:54.626Z"
   },
   {
    "duration": 27,
    "start_time": "2021-07-02T06:53:58.400Z"
   },
   {
    "duration": 25,
    "start_time": "2021-07-02T06:55:15.656Z"
   },
   {
    "duration": 1460,
    "start_time": "2021-07-02T06:59:26.242Z"
   },
   {
    "duration": 81,
    "start_time": "2021-07-02T06:59:27.704Z"
   },
   {
    "duration": 7,
    "start_time": "2021-07-02T06:59:27.789Z"
   },
   {
    "duration": 81,
    "start_time": "2021-07-02T06:59:27.800Z"
   },
   {
    "duration": 33,
    "start_time": "2021-07-02T06:59:27.883Z"
   },
   {
    "duration": 91,
    "start_time": "2021-07-02T06:59:27.918Z"
   },
   {
    "duration": 17,
    "start_time": "2021-07-02T06:59:28.011Z"
   },
   {
    "duration": 380,
    "start_time": "2021-07-02T06:59:28.032Z"
   },
   {
    "duration": 22,
    "start_time": "2021-07-02T06:59:28.415Z"
   },
   {
    "duration": 26,
    "start_time": "2021-07-02T06:59:28.455Z"
   },
   {
    "duration": 17,
    "start_time": "2021-07-02T06:59:28.483Z"
   },
   {
    "duration": 198,
    "start_time": "2021-07-02T06:59:28.502Z"
   },
   {
    "duration": 1661,
    "start_time": "2021-07-02T06:59:28.702Z"
   },
   {
    "duration": 1192,
    "start_time": "2021-07-02T06:59:30.366Z"
   },
   {
    "duration": 1171,
    "start_time": "2021-07-02T06:59:31.561Z"
   },
   {
    "duration": 30,
    "start_time": "2021-07-02T06:59:32.734Z"
   },
   {
    "duration": 15,
    "start_time": "2021-07-02T06:59:32.766Z"
   },
   {
    "duration": 249,
    "start_time": "2021-07-02T06:59:32.783Z"
   },
   {
    "duration": 10,
    "start_time": "2021-07-02T06:59:33.035Z"
   },
   {
    "duration": 8,
    "start_time": "2021-07-02T06:59:33.056Z"
   },
   {
    "duration": 219473,
    "start_time": "2021-07-02T06:59:33.066Z"
   },
   {
    "duration": 1660,
    "start_time": "2021-07-02T07:03:12.542Z"
   },
   {
    "duration": 2244,
    "start_time": "2021-07-02T07:03:14.207Z"
   },
   {
    "duration": 12,
    "start_time": "2021-07-02T07:03:16.454Z"
   },
   {
    "duration": 6,
    "start_time": "2021-07-02T07:03:16.468Z"
   },
   {
    "duration": 7,
    "start_time": "2021-07-02T07:03:16.476Z"
   },
   {
    "duration": 10,
    "start_time": "2021-07-02T07:03:16.486Z"
   },
   {
    "duration": 18,
    "start_time": "2021-07-02T07:03:16.498Z"
   },
   {
    "duration": 42,
    "start_time": "2021-07-02T07:03:16.518Z"
   },
   {
    "duration": 9,
    "start_time": "2021-07-02T07:03:16.562Z"
   },
   {
    "duration": 6,
    "start_time": "2021-07-02T07:03:16.573Z"
   },
   {
    "duration": 7,
    "start_time": "2021-07-02T07:03:16.582Z"
   },
   {
    "duration": 12,
    "start_time": "2021-07-02T07:03:16.591Z"
   },
   {
    "duration": 6,
    "start_time": "2021-07-02T07:03:16.605Z"
   },
   {
    "duration": 24,
    "start_time": "2021-07-02T07:03:16.657Z"
   },
   {
    "duration": 113,
    "start_time": "2021-07-02T13:42:52.225Z"
   },
   {
    "duration": 103,
    "start_time": "2021-07-02T13:43:20.606Z"
   },
   {
    "duration": 106,
    "start_time": "2021-07-02T13:44:42.694Z"
   },
   {
    "duration": 116,
    "start_time": "2021-07-02T13:45:51.271Z"
   },
   {
    "duration": 119,
    "start_time": "2021-07-02T13:56:11.735Z"
   },
   {
    "duration": 109,
    "start_time": "2021-07-02T14:02:03.851Z"
   },
   {
    "duration": 95,
    "start_time": "2021-07-02T14:03:12.138Z"
   },
   {
    "duration": 115,
    "start_time": "2021-07-02T14:03:26.876Z"
   },
   {
    "duration": 114,
    "start_time": "2021-07-02T14:04:58.517Z"
   },
   {
    "duration": 119,
    "start_time": "2021-07-02T14:06:07.032Z"
   },
   {
    "duration": 422,
    "start_time": "2021-07-02T15:24:17.653Z"
   },
   {
    "duration": 1552,
    "start_time": "2021-07-02T15:24:39.086Z"
   },
   {
    "duration": 170,
    "start_time": "2021-07-02T15:24:40.641Z"
   },
   {
    "duration": 4,
    "start_time": "2021-07-02T15:24:40.815Z"
   },
   {
    "duration": 66,
    "start_time": "2021-07-02T15:24:40.822Z"
   },
   {
    "duration": 39,
    "start_time": "2021-07-02T15:24:40.890Z"
   },
   {
    "duration": 97,
    "start_time": "2021-07-02T15:24:40.931Z"
   },
   {
    "duration": 41,
    "start_time": "2021-07-02T15:24:41.031Z"
   },
   {
    "duration": 559,
    "start_time": "2021-07-02T15:24:41.075Z"
   },
   {
    "duration": 33,
    "start_time": "2021-07-02T15:24:41.638Z"
   },
   {
    "duration": 25,
    "start_time": "2021-07-02T15:24:41.675Z"
   },
   {
    "duration": 17,
    "start_time": "2021-07-02T15:24:41.703Z"
   },
   {
    "duration": 212,
    "start_time": "2021-07-02T15:24:41.723Z"
   },
   {
    "duration": 1729,
    "start_time": "2021-07-02T15:24:41.937Z"
   },
   {
    "duration": 1244,
    "start_time": "2021-07-02T15:24:43.668Z"
   },
   {
    "duration": 1222,
    "start_time": "2021-07-02T15:24:44.915Z"
   },
   {
    "duration": 33,
    "start_time": "2021-07-02T15:24:46.139Z"
   },
   {
    "duration": 15,
    "start_time": "2021-07-02T15:24:46.174Z"
   },
   {
    "duration": 277,
    "start_time": "2021-07-02T15:24:46.192Z"
   },
   {
    "duration": 11,
    "start_time": "2021-07-02T15:24:46.471Z"
   },
   {
    "duration": 16,
    "start_time": "2021-07-02T15:24:46.484Z"
   },
   {
    "duration": 3466,
    "start_time": "2021-07-02T15:24:46.503Z"
   },
   {
    "duration": 1568,
    "start_time": "2021-07-02T15:24:49.972Z"
   },
   {
    "duration": 2979,
    "start_time": "2021-07-02T15:24:51.543Z"
   },
   {
    "duration": 15,
    "start_time": "2021-07-02T15:24:54.526Z"
   },
   {
    "duration": 21,
    "start_time": "2021-07-02T15:24:54.544Z"
   },
   {
    "duration": 9,
    "start_time": "2021-07-02T15:24:54.568Z"
   },
   {
    "duration": 10,
    "start_time": "2021-07-02T15:24:54.584Z"
   },
   {
    "duration": 15,
    "start_time": "2021-07-02T15:24:54.597Z"
   },
   {
    "duration": 50,
    "start_time": "2021-07-02T15:24:54.615Z"
   },
   {
    "duration": 12,
    "start_time": "2021-07-02T15:24:54.668Z"
   },
   {
    "duration": 12,
    "start_time": "2021-07-02T15:24:54.683Z"
   },
   {
    "duration": 8,
    "start_time": "2021-07-02T15:24:54.698Z"
   },
   {
    "duration": 9,
    "start_time": "2021-07-02T15:24:54.709Z"
   },
   {
    "duration": 14,
    "start_time": "2021-07-02T15:24:54.763Z"
   },
   {
    "duration": 9,
    "start_time": "2021-07-02T15:24:54.780Z"
   },
   {
    "duration": 35,
    "start_time": "2021-07-02T15:24:54.793Z"
   },
   {
    "duration": 6,
    "start_time": "2021-07-02T15:25:42.561Z"
   },
   {
    "duration": 7,
    "start_time": "2021-07-02T15:36:57.868Z"
   },
   {
    "duration": 1615,
    "start_time": "2021-07-02T15:40:22.631Z"
   },
   {
    "duration": 57,
    "start_time": "2021-07-02T15:40:24.249Z"
   },
   {
    "duration": 5,
    "start_time": "2021-07-02T15:40:24.308Z"
   },
   {
    "duration": 65,
    "start_time": "2021-07-02T15:40:24.317Z"
   },
   {
    "duration": 33,
    "start_time": "2021-07-02T15:40:24.385Z"
   },
   {
    "duration": 92,
    "start_time": "2021-07-02T15:40:24.420Z"
   },
   {
    "duration": 21,
    "start_time": "2021-07-02T15:40:24.514Z"
   },
   {
    "duration": 407,
    "start_time": "2021-07-02T15:40:24.539Z"
   },
   {
    "duration": 27,
    "start_time": "2021-07-02T15:40:24.949Z"
   },
   {
    "duration": 25,
    "start_time": "2021-07-02T15:40:24.979Z"
   },
   {
    "duration": 16,
    "start_time": "2021-07-02T15:40:25.006Z"
   },
   {
    "duration": 216,
    "start_time": "2021-07-02T15:40:25.024Z"
   },
   {
    "duration": 1795,
    "start_time": "2021-07-02T15:40:25.242Z"
   },
   {
    "duration": 1322,
    "start_time": "2021-07-02T15:40:27.039Z"
   },
   {
    "duration": 1237,
    "start_time": "2021-07-02T15:40:28.363Z"
   },
   {
    "duration": 21,
    "start_time": "2021-07-02T15:40:29.602Z"
   },
   {
    "duration": 44,
    "start_time": "2021-07-02T15:40:29.626Z"
   },
   {
    "duration": 274,
    "start_time": "2021-07-02T15:40:29.673Z"
   },
   {
    "duration": 19,
    "start_time": "2021-07-02T15:40:29.949Z"
   },
   {
    "duration": 10,
    "start_time": "2021-07-02T15:40:29.970Z"
   },
   {
    "duration": 233014,
    "start_time": "2021-07-02T15:40:29.983Z"
   },
   {
    "duration": 2014,
    "start_time": "2021-07-02T15:44:23.000Z"
   },
   {
    "duration": 2457,
    "start_time": "2021-07-02T15:44:25.019Z"
   },
   {
    "duration": 15,
    "start_time": "2021-07-02T15:44:27.480Z"
   },
   {
    "duration": 8,
    "start_time": "2021-07-02T15:44:27.498Z"
   },
   {
    "duration": 8,
    "start_time": "2021-07-02T15:44:27.509Z"
   },
   {
    "duration": 50,
    "start_time": "2021-07-02T15:44:27.519Z"
   },
   {
    "duration": 12,
    "start_time": "2021-07-02T15:44:27.572Z"
   },
   {
    "duration": 8,
    "start_time": "2021-07-02T15:44:27.587Z"
   },
   {
    "duration": 22,
    "start_time": "2021-07-02T15:44:27.598Z"
   },
   {
    "duration": 9,
    "start_time": "2021-07-02T15:44:27.623Z"
   },
   {
    "duration": 12,
    "start_time": "2021-07-02T15:44:27.663Z"
   },
   {
    "duration": 17,
    "start_time": "2021-07-02T15:44:27.678Z"
   },
   {
    "duration": 7,
    "start_time": "2021-07-02T15:44:27.698Z"
   },
   {
    "duration": 26,
    "start_time": "2021-07-02T15:44:27.708Z"
   },
   {
    "duration": 1505,
    "start_time": "2021-07-03T12:26:18.214Z"
   },
   {
    "duration": 55,
    "start_time": "2021-07-03T12:26:19.722Z"
   },
   {
    "duration": 5,
    "start_time": "2021-07-03T12:26:19.780Z"
   },
   {
    "duration": 87,
    "start_time": "2021-07-03T12:26:19.789Z"
   },
   {
    "duration": 46,
    "start_time": "2021-07-03T12:26:19.880Z"
   },
   {
    "duration": 114,
    "start_time": "2021-07-03T12:26:19.930Z"
   },
   {
    "duration": 25,
    "start_time": "2021-07-03T12:26:20.063Z"
   },
   {
    "duration": 573,
    "start_time": "2021-07-03T12:26:20.093Z"
   },
   {
    "duration": 23,
    "start_time": "2021-07-03T12:26:20.670Z"
   },
   {
    "duration": 27,
    "start_time": "2021-07-03T12:26:20.695Z"
   },
   {
    "duration": 50,
    "start_time": "2021-07-03T12:26:20.724Z"
   },
   {
    "duration": 199,
    "start_time": "2021-07-03T12:26:20.776Z"
   },
   {
    "duration": 1869,
    "start_time": "2021-07-03T12:26:20.978Z"
   },
   {
    "duration": 1248,
    "start_time": "2021-07-03T12:26:22.849Z"
   },
   {
    "duration": 1236,
    "start_time": "2021-07-03T12:26:24.100Z"
   },
   {
    "duration": 32,
    "start_time": "2021-07-03T12:26:25.339Z"
   },
   {
    "duration": 14,
    "start_time": "2021-07-03T12:26:25.373Z"
   },
   {
    "duration": 264,
    "start_time": "2021-07-03T12:26:25.390Z"
   },
   {
    "duration": 11,
    "start_time": "2021-07-03T12:26:25.661Z"
   },
   {
    "duration": 25,
    "start_time": "2021-07-03T12:26:25.674Z"
   },
   {
    "duration": 229421,
    "start_time": "2021-07-03T12:26:25.701Z"
   },
   {
    "duration": 1584,
    "start_time": "2021-07-03T12:30:15.125Z"
   },
   {
    "duration": 2339,
    "start_time": "2021-07-03T12:30:16.713Z"
   },
   {
    "duration": 12,
    "start_time": "2021-07-03T12:30:19.062Z"
   },
   {
    "duration": 8,
    "start_time": "2021-07-03T12:30:19.077Z"
   },
   {
    "duration": 6,
    "start_time": "2021-07-03T12:30:19.088Z"
   },
   {
    "duration": 14,
    "start_time": "2021-07-03T12:30:19.107Z"
   },
   {
    "duration": 44,
    "start_time": "2021-07-03T12:30:19.124Z"
   },
   {
    "duration": 7,
    "start_time": "2021-07-03T12:30:19.171Z"
   },
   {
    "duration": 10,
    "start_time": "2021-07-03T12:30:19.182Z"
   },
   {
    "duration": 8,
    "start_time": "2021-07-03T12:30:19.195Z"
   },
   {
    "duration": 22,
    "start_time": "2021-07-03T12:30:19.207Z"
   },
   {
    "duration": 39,
    "start_time": "2021-07-03T12:30:19.232Z"
   },
   {
    "duration": 8,
    "start_time": "2021-07-03T12:30:19.274Z"
   },
   {
    "duration": 35,
    "start_time": "2021-07-03T12:30:19.285Z"
   },
   {
    "duration": 1543,
    "start_time": "2021-07-03T12:50:32.995Z"
   },
   {
    "duration": 56,
    "start_time": "2021-07-03T12:50:34.541Z"
   },
   {
    "duration": 5,
    "start_time": "2021-07-03T12:50:34.600Z"
   },
   {
    "duration": 77,
    "start_time": "2021-07-03T12:50:34.608Z"
   },
   {
    "duration": 40,
    "start_time": "2021-07-03T12:50:34.688Z"
   },
   {
    "duration": 90,
    "start_time": "2021-07-03T12:50:34.731Z"
   },
   {
    "duration": 40,
    "start_time": "2021-07-03T12:50:34.823Z"
   },
   {
    "duration": 406,
    "start_time": "2021-07-03T12:50:34.867Z"
   },
   {
    "duration": 21,
    "start_time": "2021-07-03T12:50:35.276Z"
   },
   {
    "duration": 26,
    "start_time": "2021-07-03T12:50:35.300Z"
   },
   {
    "duration": 46,
    "start_time": "2021-07-03T12:50:35.328Z"
   },
   {
    "duration": 202,
    "start_time": "2021-07-03T12:50:35.377Z"
   },
   {
    "duration": 1793,
    "start_time": "2021-07-03T12:50:35.581Z"
   },
   {
    "duration": 1368,
    "start_time": "2021-07-03T12:50:37.376Z"
   },
   {
    "duration": 1436,
    "start_time": "2021-07-03T12:50:38.746Z"
   },
   {
    "duration": 21,
    "start_time": "2021-07-03T12:50:40.184Z"
   },
   {
    "duration": 15,
    "start_time": "2021-07-03T12:50:40.208Z"
   },
   {
    "duration": 288,
    "start_time": "2021-07-03T12:50:40.225Z"
   },
   {
    "duration": 10,
    "start_time": "2021-07-03T12:50:40.515Z"
   },
   {
    "duration": 12,
    "start_time": "2021-07-03T12:50:40.528Z"
   },
   {
    "duration": 231375,
    "start_time": "2021-07-03T12:50:40.543Z"
   },
   {
    "duration": 1608,
    "start_time": "2021-07-03T12:54:31.920Z"
   },
   {
    "duration": 3515,
    "start_time": "2021-07-03T12:54:33.535Z"
   },
   {
    "duration": 19,
    "start_time": "2021-07-03T12:54:37.054Z"
   },
   {
    "duration": 8,
    "start_time": "2021-07-03T12:54:37.076Z"
   },
   {
    "duration": 9,
    "start_time": "2021-07-03T12:54:37.087Z"
   },
   {
    "duration": 10,
    "start_time": "2021-07-03T12:54:37.099Z"
   },
   {
    "duration": 58,
    "start_time": "2021-07-03T12:54:37.112Z"
   },
   {
    "duration": 8,
    "start_time": "2021-07-03T12:54:37.173Z"
   },
   {
    "duration": 7,
    "start_time": "2021-07-03T12:54:37.185Z"
   },
   {
    "duration": 9,
    "start_time": "2021-07-03T12:54:37.196Z"
   },
   {
    "duration": 60,
    "start_time": "2021-07-03T12:54:37.208Z"
   },
   {
    "duration": 8,
    "start_time": "2021-07-03T12:54:37.272Z"
   },
   {
    "duration": 27,
    "start_time": "2021-07-03T12:54:37.283Z"
   },
   {
    "duration": 971,
    "start_time": "2021-07-04T12:11:00.171Z"
   },
   {
    "duration": 1609,
    "start_time": "2021-07-12T16:45:00.031Z"
   },
   {
    "duration": 57,
    "start_time": "2021-07-12T16:45:01.643Z"
   },
   {
    "duration": 5,
    "start_time": "2021-07-12T16:45:01.703Z"
   },
   {
    "duration": 67,
    "start_time": "2021-07-12T16:45:01.711Z"
   },
   {
    "duration": 34,
    "start_time": "2021-07-12T16:45:01.781Z"
   },
   {
    "duration": 88,
    "start_time": "2021-07-12T16:45:01.818Z"
   },
   {
    "duration": 18,
    "start_time": "2021-07-12T16:45:01.909Z"
   },
   {
    "duration": 395,
    "start_time": "2021-07-12T16:45:01.933Z"
   },
   {
    "duration": 30,
    "start_time": "2021-07-12T16:45:02.332Z"
   },
   {
    "duration": 27,
    "start_time": "2021-07-12T16:45:02.364Z"
   },
   {
    "duration": 21,
    "start_time": "2021-07-12T16:45:02.394Z"
   },
   {
    "duration": 221,
    "start_time": "2021-07-12T16:45:02.417Z"
   },
   {
    "duration": 1699,
    "start_time": "2021-07-12T16:45:02.641Z"
   },
   {
    "duration": 1323,
    "start_time": "2021-07-12T16:45:04.343Z"
   },
   {
    "duration": 1170,
    "start_time": "2021-07-12T16:45:05.669Z"
   },
   {
    "duration": 21,
    "start_time": "2021-07-12T16:45:06.855Z"
   },
   {
    "duration": 15,
    "start_time": "2021-07-12T16:45:06.878Z"
   },
   {
    "duration": 279,
    "start_time": "2021-07-12T16:45:06.896Z"
   },
   {
    "duration": 11,
    "start_time": "2021-07-12T16:45:07.178Z"
   },
   {
    "duration": 21,
    "start_time": "2021-07-12T16:45:07.191Z"
   },
   {
    "duration": 237735,
    "start_time": "2021-07-12T16:45:07.215Z"
   },
   {
    "duration": 1952,
    "start_time": "2021-07-12T16:49:04.956Z"
   },
   {
    "duration": 2215,
    "start_time": "2021-07-12T16:49:06.912Z"
   },
   {
    "duration": 27,
    "start_time": "2021-07-12T16:49:09.131Z"
   },
   {
    "duration": 11,
    "start_time": "2021-07-12T16:49:09.161Z"
   },
   {
    "duration": 9,
    "start_time": "2021-07-12T16:49:09.174Z"
   },
   {
    "duration": 10,
    "start_time": "2021-07-12T16:49:09.186Z"
   },
   {
    "duration": 58,
    "start_time": "2021-07-12T16:49:09.199Z"
   },
   {
    "duration": 8,
    "start_time": "2021-07-12T16:49:09.260Z"
   },
   {
    "duration": 10,
    "start_time": "2021-07-12T16:49:09.271Z"
   },
   {
    "duration": 8,
    "start_time": "2021-07-12T16:49:09.284Z"
   },
   {
    "duration": 13,
    "start_time": "2021-07-12T16:49:09.295Z"
   },
   {
    "duration": 27,
    "start_time": "2021-07-12T16:49:09.357Z"
   }
  ],
  "kernelspec": {
   "display_name": "Python 3",
   "language": "python",
   "name": "python3"
  },
  "language_info": {
   "codemirror_mode": {
    "name": "ipython",
    "version": 3
   },
   "file_extension": ".py",
   "mimetype": "text/x-python",
   "name": "python",
   "nbconvert_exporter": "python",
   "pygments_lexer": "ipython3",
   "version": "3.7.8"
  },
  "toc": {
   "base_numbering": 1,
   "nav_menu": {},
   "number_sections": false,
   "sideBar": true,
   "skip_h1_title": true,
   "title_cell": "Table of Contents",
   "title_sidebar": "Contents",
   "toc_cell": false,
   "toc_position": {},
   "toc_section_display": true,
   "toc_window_display": false
  }
 },
 "nbformat": 4,
 "nbformat_minor": 2
}
